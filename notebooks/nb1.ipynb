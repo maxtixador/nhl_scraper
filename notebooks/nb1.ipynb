{
 "cells": [
  {
   "cell_type": "code",
   "execution_count": 85,
   "metadata": {},
   "outputs": [
    {
     "name": "stdout",
     "output_type": "stream",
     "text": [
      "The autoreload extension is already loaded. To reload it, use:\n",
      "  %reload_ext autoreload\n"
     ]
    }
   ],
   "source": [
    "# Enable auto-reloading of modules\n",
    "%load_ext autoreload\n",
    "%autoreload 2"
   ]
  },
  {
   "cell_type": "code",
   "execution_count": 165,
   "metadata": {},
   "outputs": [],
   "source": [
    "from nhl_scraper import scraper\n",
    "import polars as pl\n",
    "from tqdm import tqdm\n",
    "\n",
    "!playwright install\n",
    "\n",
    "scraper = scraper.Scraper()\n"
   ]
  },
  {
   "cell_type": "code",
   "execution_count": 67,
   "metadata": {},
   "outputs": [
    {
     "name": "stderr",
     "output_type": "stream",
     "text": [
      "Scraping NHL TOI Data:   0%|          | 0/2 [00:00<?, ?it/s]"
     ]
    },
    {
     "name": "stderr",
     "output_type": "stream",
     "text": [
      "Scraping NHL TOI Data: 100%|██████████| 2/2 [00:02<00:00,  1.21s/it]\n"
     ]
    },
    {
     "data": {
      "text/plain": [
       "{'TOI_combined': shape: (1_604, 14)\n",
       " ┌─────────┬──────┬──────────┬───────┬───┬───────────┬─────────────────────┬─────┬────────────┐\n",
       " │ Shift # ┆ Per  ┆ Duration ┆ Event ┆ … ┆ Duration  ┆ Team                ┆ H/V ┆ gameId     │\n",
       " │ ---     ┆ ---  ┆ ---      ┆ ---   ┆   ┆ (Seconds) ┆ ---                 ┆ --- ┆ ---        │\n",
       " │ i32     ┆ i32  ┆ str      ┆ str   ┆   ┆ ---       ┆ str                 ┆ str ┆ str        │\n",
       " │         ┆      ┆          ┆       ┆   ┆ i32       ┆                     ┆     ┆            │\n",
       " ╞═════════╪══════╪══════════╪═══════╪═══╪═══════════╪═════════════════════╪═════╪════════════╡\n",
       " │ 1       ┆ 1    ┆ 00:47    ┆       ┆ … ┆ 47        ┆ ST. LOUIS BLUES     ┆ V   ┆ 2024021044 │\n",
       " │ 2       ┆ 1    ┆ 00:32    ┆       ┆ … ┆ 32        ┆ ST. LOUIS BLUES     ┆ V   ┆ 2024021044 │\n",
       " │ 3       ┆ 1    ┆ 00:56    ┆       ┆ … ┆ 56        ┆ ST. LOUIS BLUES     ┆ V   ┆ 2024021044 │\n",
       " │ 4       ┆ 1    ┆ 00:40    ┆       ┆ … ┆ 40        ┆ ST. LOUIS BLUES     ┆ V   ┆ 2024021044 │\n",
       " │ 5       ┆ 1    ┆ 01:21    ┆       ┆ … ┆ 81        ┆ ST. LOUIS BLUES     ┆ V   ┆ 2024021044 │\n",
       " │ …       ┆ …    ┆ …        ┆ …     ┆ … ┆ …         ┆ …                   ┆ …   ┆ …          │\n",
       " │ 19      ┆ 3    ┆ 00:14    ┆ P     ┆ … ┆ 14        ┆ PHILADELPHIA FLYERS ┆ H   ┆ 2024021043 │\n",
       " │ 20      ┆ 3    ┆ 00:41    ┆       ┆ … ┆ 41        ┆ PHILADELPHIA FLYERS ┆ H   ┆ 2024021043 │\n",
       " │ 21      ┆ 3    ┆ 00:44    ┆       ┆ … ┆ 44        ┆ PHILADELPHIA FLYERS ┆ H   ┆ 2024021043 │\n",
       " │ 22      ┆ 3    ┆ 00:42    ┆       ┆ … ┆ 42        ┆ PHILADELPHIA FLYERS ┆ H   ┆ 2024021043 │\n",
       " │ 23      ┆ null ┆ 01:13    ┆       ┆ … ┆ 73        ┆ PHILADELPHIA FLYERS ┆ H   ┆ 2024021043 │\n",
       " └─────────┴──────┴──────────┴───────┴───┴───────────┴─────────────────────┴─────┴────────────┘,\n",
       " 'Summary_combined': shape: (251, 17)\n",
       " ┌──────┬─────┬───────┬───────┬───┬──────────────────┬─────────────────────┬─────┬────────────┐\n",
       " │ Per  ┆ SHF ┆ AVG   ┆ TOI   ┆ … ┆ SH TOT (Seconds) ┆ Team                ┆ H/V ┆ gameId     │\n",
       " │ ---  ┆ --- ┆ ---   ┆ ---   ┆   ┆ ---              ┆ ---                 ┆ --- ┆ ---        │\n",
       " │ i32  ┆ i32 ┆ str   ┆ str   ┆   ┆ i32              ┆ str                 ┆ str ┆ str        │\n",
       " ╞══════╪═════╪═══════╪═══════╪═══╪══════════════════╪═════════════════════╪═════╪════════════╡\n",
       " │ 1    ┆ 8   ┆ 00:42 ┆ 05:43 ┆ … ┆ 0                ┆ ST. LOUIS BLUES     ┆ V   ┆ 2024021044 │\n",
       " │ 2    ┆ 7   ┆ 01:01 ┆ 07:12 ┆ … ┆ 0                ┆ ST. LOUIS BLUES     ┆ V   ┆ 2024021044 │\n",
       " │ 3    ┆ 7   ┆ 00:51 ┆ 05:58 ┆ … ┆ 0                ┆ ST. LOUIS BLUES     ┆ V   ┆ 2024021044 │\n",
       " │ 1    ┆ 7   ┆ 01:08 ┆ 08:01 ┆ … ┆ 0                ┆ ST. LOUIS BLUES     ┆ V   ┆ 2024021044 │\n",
       " │ 2    ┆ 9   ┆ 00:44 ┆ 06:38 ┆ … ┆ 0                ┆ ST. LOUIS BLUES     ┆ V   ┆ 2024021044 │\n",
       " │ …    ┆ …   ┆ …     ┆ …     ┆ … ┆ …                ┆ …                   ┆ …   ┆ …          │\n",
       " │ null ┆ 1   ┆ 00:46 ┆ 00:46 ┆ … ┆ 0                ┆ PHILADELPHIA FLYERS ┆ H   ┆ 2024021043 │\n",
       " │ 1    ┆ 7   ┆ 00:47 ┆ 05:31 ┆ … ┆ 0                ┆ PHILADELPHIA FLYERS ┆ H   ┆ 2024021043 │\n",
       " │ 2    ┆ 7   ┆ 01:00 ┆ 07:01 ┆ … ┆ 0                ┆ PHILADELPHIA FLYERS ┆ H   ┆ 2024021043 │\n",
       " │ 3    ┆ 8   ┆ 00:44 ┆ 05:53 ┆ … ┆ 0                ┆ PHILADELPHIA FLYERS ┆ H   ┆ 2024021043 │\n",
       " │ null ┆ 1   ┆ 01:13 ┆ 01:13 ┆ … ┆ 0                ┆ PHILADELPHIA FLYERS ┆ H   ┆ 2024021043 │\n",
       " └──────┴─────┴───────┴───────┴───┴──────────────────┴─────────────────────┴─────┴────────────┘,\n",
       " 'game_details': {'2024021044': {'GameId': '2024021044',\n",
       "   'FirstYear': '2024',\n",
       "   'SecondYear': '2025',\n",
       "   'ShortId': '021044',\n",
       "   'season': '2024-2025',\n",
       "   'Away': 'ST. LOUIS BLUES',\n",
       "   'Home': 'PITTSBURGH PENGUINS',\n",
       "   'homeTOI': shape: (384, 13)\n",
       "   ┌─────────┬─────┬──────────┬───────┬───┬────────────────────────┬───────────┬────────────┬─────┐\n",
       "   │ Shift # ┆ Per ┆ Duration ┆ Event ┆ … ┆ End Game Time - Legacy ┆ Duration  ┆ Team       ┆ H/V │\n",
       "   │ ---     ┆ --- ┆ ---      ┆ ---   ┆   ┆ ---                    ┆ (Seconds) ┆ ---        ┆ --- │\n",
       "   │ i32     ┆ i32 ┆ str      ┆ str   ┆   ┆ str                    ┆ ---       ┆ str        ┆ str │\n",
       "   │         ┆     ┆          ┆       ┆   ┆                        ┆ i32       ┆            ┆     │\n",
       "   ╞═════════╪═════╪══════════╪═══════╪═══╪════════════════════════╪═══════════╪════════════╪═════╡\n",
       "   │ 1       ┆ 1   ┆ 00:46    ┆       ┆ … ┆ 16:57                  ┆ 46        ┆ PITTSBURGH ┆ H   │\n",
       "   │         ┆     ┆          ┆       ┆   ┆                        ┆           ┆ PENGUINS   ┆     │\n",
       "   │ 2       ┆ 1   ┆ 00:46    ┆       ┆ … ┆ 12:48                  ┆ 46        ┆ PITTSBURGH ┆ H   │\n",
       "   │         ┆     ┆          ┆       ┆   ┆                        ┆           ┆ PENGUINS   ┆     │\n",
       "   │ 3       ┆ 1   ┆ 00:41    ┆       ┆ … ┆ 5:11                   ┆ 41        ┆ PITTSBURGH ┆ H   │\n",
       "   │         ┆     ┆          ┆       ┆   ┆                        ┆           ┆ PENGUINS   ┆     │\n",
       "   │ 4       ┆ 1   ┆ 00:17    ┆       ┆ … ┆ 2:24                   ┆ 17        ┆ PITTSBURGH ┆ H   │\n",
       "   │         ┆     ┆          ┆       ┆   ┆                        ┆           ┆ PENGUINS   ┆     │\n",
       "   │ 5       ┆ 2   ┆ 00:36    ┆       ┆ … ┆ 17:04                  ┆ 36        ┆ PITTSBURGH ┆ H   │\n",
       "   │         ┆     ┆          ┆       ┆   ┆                        ┆           ┆ PENGUINS   ┆     │\n",
       "   │ …       ┆ …   ┆ …        ┆ …     ┆ … ┆ …                      ┆ …         ┆ …          ┆ …   │\n",
       "   │ 19      ┆ 3   ┆ 00:43    ┆       ┆ … ┆ 8:46                   ┆ 43        ┆ PITTSBURGH ┆ H   │\n",
       "   │         ┆     ┆          ┆       ┆   ┆                        ┆           ┆ PENGUINS   ┆     │\n",
       "   │ 20      ┆ 3   ┆ 00:21    ┆       ┆ … ┆ 7:55                   ┆ 21        ┆ PITTSBURGH ┆ H   │\n",
       "   │         ┆     ┆          ┆       ┆   ┆                        ┆           ┆ PENGUINS   ┆     │\n",
       "   │ 21      ┆ 3   ┆ 00:56    ┆       ┆ … ┆ 6:13                   ┆ 56        ┆ PITTSBURGH ┆ H   │\n",
       "   │         ┆     ┆          ┆       ┆   ┆                        ┆           ┆ PENGUINS   ┆     │\n",
       "   │ 22      ┆ 3   ┆ 00:58    ┆       ┆ … ┆ 3:57                   ┆ 58        ┆ PITTSBURGH ┆ H   │\n",
       "   │         ┆     ┆          ┆       ┆   ┆                        ┆           ┆ PENGUINS   ┆     │\n",
       "   │ 23      ┆ 3   ┆ 00:55    ┆ G     ┆ … ┆ 0:08                   ┆ 55        ┆ PITTSBURGH ┆ H   │\n",
       "   │         ┆     ┆          ┆       ┆   ┆                        ┆           ┆ PENGUINS   ┆     │\n",
       "   └─────────┴─────┴──────────┴───────┴───┴────────────────────────┴───────────┴────────────┴─────┘,\n",
       "   'awayTOI': shape: (396, 13)\n",
       "   ┌─────────┬─────┬──────────┬───────┬───┬─────────────────┬───────────┬─────────────────┬─────┐\n",
       "   │ Shift # ┆ Per ┆ Duration ┆ Event ┆ … ┆ End Game Time - ┆ Duration  ┆ Team            ┆ H/V │\n",
       "   │ ---     ┆ --- ┆ ---      ┆ ---   ┆   ┆ Legacy          ┆ (Seconds) ┆ ---             ┆ --- │\n",
       "   │ i32     ┆ i32 ┆ str      ┆ str   ┆   ┆ ---             ┆ ---       ┆ str             ┆ str │\n",
       "   │         ┆     ┆          ┆       ┆   ┆ str             ┆ i32       ┆                 ┆     │\n",
       "   ╞═════════╪═════╪══════════╪═══════╪═══╪═════════════════╪═══════════╪═════════════════╪═════╡\n",
       "   │ 1       ┆ 1   ┆ 00:47    ┆       ┆ … ┆ 18:19           ┆ 47        ┆ ST. LOUIS BLUES ┆ V   │\n",
       "   │ 2       ┆ 1   ┆ 00:32    ┆       ┆ … ┆ 17:11           ┆ 32        ┆ ST. LOUIS BLUES ┆ V   │\n",
       "   │ 3       ┆ 1   ┆ 00:56    ┆       ┆ … ┆ 13:35           ┆ 56        ┆ ST. LOUIS BLUES ┆ V   │\n",
       "   │ 4       ┆ 1   ┆ 00:40    ┆       ┆ … ┆ 11:17           ┆ 40        ┆ ST. LOUIS BLUES ┆ V   │\n",
       "   │ 5       ┆ 1   ┆ 01:21    ┆       ┆ … ┆ 7:06            ┆ 81        ┆ ST. LOUIS BLUES ┆ V   │\n",
       "   │ …       ┆ …   ┆ …        ┆ …     ┆ … ┆ …               ┆ …         ┆ …               ┆ …   │\n",
       "   │ 22      ┆ 3   ┆ 00:50    ┆       ┆ … ┆ 9:27            ┆ 50        ┆ ST. LOUIS BLUES ┆ V   │\n",
       "   │ 23      ┆ 3   ┆ 01:08    ┆       ┆ … ┆ 7:08            ┆ 68        ┆ ST. LOUIS BLUES ┆ V   │\n",
       "   │ 24      ┆ 3   ┆ 00:39    ┆       ┆ … ┆ 4:51            ┆ 39        ┆ ST. LOUIS BLUES ┆ V   │\n",
       "   │ 25      ┆ 3   ┆ 02:13    ┆       ┆ … ┆ 0:56            ┆ 133       ┆ ST. LOUIS BLUES ┆ V   │\n",
       "   │ 26      ┆ 3   ┆ 00:15    ┆ G     ┆ … ┆ 0:08            ┆ 15        ┆ ST. LOUIS BLUES ┆ V   │\n",
       "   └─────────┴─────┴──────────┴───────┴───┴─────────────────┴───────────┴─────────────────┴─────┘,\n",
       "   'homeSummary': shape: (57, 16)\n",
       "   ┌─────┬─────┬───────┬───────┬───┬──────────────────┬──────────────────┬─────────────────────┬─────┐\n",
       "   │ Per ┆ SHF ┆ AVG   ┆ TOI   ┆ … ┆ PP TOT (Seconds) ┆ SH TOT (Seconds) ┆ Team                ┆ H/V │\n",
       "   │ --- ┆ --- ┆ ---   ┆ ---   ┆   ┆ ---              ┆ ---              ┆ ---                 ┆ --- │\n",
       "   │ i32 ┆ i32 ┆ str   ┆ str   ┆   ┆ i32              ┆ i32              ┆ str                 ┆ str │\n",
       "   ╞═════╪═════╪═══════╪═══════╪═══╪══════════════════╪══════════════════╪═════════════════════╪═════╡\n",
       "   │ 1   ┆ 4   ┆ 00:37 ┆ 02:30 ┆ … ┆ 0                ┆ 0                ┆ PITTSBURGH PENGUINS ┆ H   │\n",
       "   │ 2   ┆ 5   ┆ 00:39 ┆ 03:17 ┆ … ┆ 0                ┆ 28               ┆ PITTSBURGH PENGUINS ┆ H   │\n",
       "   │ 3   ┆ 2   ┆ 00:43 ┆ 01:27 ┆ … ┆ 0                ┆ 0                ┆ PITTSBURGH PENGUINS ┆ H   │\n",
       "   │ 1   ┆ 4   ┆ 00:44 ┆ 02:58 ┆ … ┆ 0                ┆ 0                ┆ PITTSBURGH PENGUINS ┆ H   │\n",
       "   │ 2   ┆ 5   ┆ 00:45 ┆ 03:47 ┆ … ┆ 0                ┆ 0                ┆ PITTSBURGH PENGUINS ┆ H   │\n",
       "   │ …   ┆ …   ┆ …     ┆ …     ┆ … ┆ …                ┆ …                ┆ …                   ┆ …   │\n",
       "   │ 2   ┆ 7   ┆ 00:57 ┆ 06:40 ┆ … ┆ 0                ┆ 0                ┆ PITTSBURGH PENGUINS ┆ H   │\n",
       "   │ 3   ┆ 6   ┆ 00:48 ┆ 04:51 ┆ … ┆ 0                ┆ 0                ┆ PITTSBURGH PENGUINS ┆ H   │\n",
       "   │ 1   ┆ 7   ┆ 00:55 ┆ 06:28 ┆ … ┆ 0                ┆ 0                ┆ PITTSBURGH PENGUINS ┆ H   │\n",
       "   │ 2   ┆ 8   ┆ 00:41 ┆ 05:34 ┆ … ┆ 0                ┆ 0                ┆ PITTSBURGH PENGUINS ┆ H   │\n",
       "   │ 3   ┆ 8   ┆ 00:47 ┆ 06:23 ┆ … ┆ 0                ┆ 0                ┆ PITTSBURGH PENGUINS ┆ H   │\n",
       "   └─────┴─────┴───────┴───────┴───┴──────────────────┴──────────────────┴─────────────────────┴─────┘,\n",
       "   'awaySummary': shape: (58, 16)\n",
       "   ┌─────┬─────┬───────┬───────┬───┬──────────────────┬──────────────────┬─────────────────┬─────┐\n",
       "   │ Per ┆ SHF ┆ AVG   ┆ TOI   ┆ … ┆ PP TOT (Seconds) ┆ SH TOT (Seconds) ┆ Team            ┆ H/V │\n",
       "   │ --- ┆ --- ┆ ---   ┆ ---   ┆   ┆ ---              ┆ ---              ┆ ---             ┆ --- │\n",
       "   │ i32 ┆ i32 ┆ str   ┆ str   ┆   ┆ i32              ┆ i32              ┆ str             ┆ str │\n",
       "   ╞═════╪═════╪═══════╪═══════╪═══╪══════════════════╪══════════════════╪═════════════════╪═════╡\n",
       "   │ 1   ┆ 8   ┆ 00:42 ┆ 05:43 ┆ … ┆ 0                ┆ 0                ┆ ST. LOUIS BLUES ┆ V   │\n",
       "   │ 2   ┆ 7   ┆ 01:01 ┆ 07:12 ┆ … ┆ 0                ┆ 0                ┆ ST. LOUIS BLUES ┆ V   │\n",
       "   │ 3   ┆ 7   ┆ 00:51 ┆ 05:58 ┆ … ┆ 0                ┆ 0                ┆ ST. LOUIS BLUES ┆ V   │\n",
       "   │ 1   ┆ 7   ┆ 01:08 ┆ 08:01 ┆ … ┆ 0                ┆ 0                ┆ ST. LOUIS BLUES ┆ V   │\n",
       "   │ 2   ┆ 9   ┆ 00:44 ┆ 06:38 ┆ … ┆ 0                ┆ 0                ┆ ST. LOUIS BLUES ┆ V   │\n",
       "   │ …   ┆ …   ┆ …     ┆ …     ┆ … ┆ …                ┆ …                ┆ …               ┆ …   │\n",
       "   │ 2   ┆ 8   ┆ 00:44 ┆ 05:56 ┆ … ┆ 0                ┆ 0                ┆ ST. LOUIS BLUES ┆ V   │\n",
       "   │ 3   ┆ 8   ┆ 00:47 ┆ 06:19 ┆ … ┆ 45               ┆ 0                ┆ ST. LOUIS BLUES ┆ V   │\n",
       "   │ 1   ┆ 7   ┆ 00:50 ┆ 05:51 ┆ … ┆ 0                ┆ 0                ┆ ST. LOUIS BLUES ┆ V   │\n",
       "   │ 2   ┆ 10  ┆ 00:41 ┆ 06:50 ┆ … ┆ 36               ┆ 0                ┆ ST. LOUIS BLUES ┆ V   │\n",
       "   │ 3   ┆ 9   ┆ 00:54 ┆ 08:11 ┆ … ┆ 41               ┆ 0                ┆ ST. LOUIS BLUES ┆ V   │\n",
       "   └─────┴─────┴───────┴───────┴───┴──────────────────┴──────────────────┴─────────────────┴─────┘},\n",
       "  '2024021043': {'GameId': '2024021043',\n",
       "   'FirstYear': '2024',\n",
       "   'SecondYear': '2025',\n",
       "   'ShortId': '021043',\n",
       "   'season': '2024-2025',\n",
       "   'Away': 'TAMPA BAY LIGHTNING',\n",
       "   'Home': 'PHILADELPHIA FLYERS',\n",
       "   'homeTOI': shape: (412, 13)\n",
       "   ┌─────────┬──────┬──────────┬───────┬───┬─────────────────────────┬───────────┬──────────────┬─────┐\n",
       "   │ Shift # ┆ Per  ┆ Duration ┆ Event ┆ … ┆ End Game Time - Legacy  ┆ Duration  ┆ Team         ┆ H/V │\n",
       "   │ ---     ┆ ---  ┆ ---      ┆ ---   ┆   ┆ ---                     ┆ (Seconds) ┆ ---          ┆ --- │\n",
       "   │ i32     ┆ i32  ┆ str      ┆ str   ┆   ┆ str                     ┆ ---       ┆ str          ┆ str │\n",
       "   │         ┆      ┆          ┆       ┆   ┆                         ┆ i32       ┆              ┆     │\n",
       "   ╞═════════╪══════╪══════════╪═══════╪═══╪═════════════════════════╪═══════════╪══════════════╪═════╡\n",
       "   │ 1       ┆ 1    ┆ 00:39    ┆       ┆ … ┆ 18:26                   ┆ 39        ┆ PHILADELPHIA ┆ H   │\n",
       "   │         ┆      ┆          ┆       ┆   ┆                         ┆           ┆ FLYERS       ┆     │\n",
       "   │ 2       ┆ 1    ┆ 01:02    ┆       ┆ … ┆ 15:14                   ┆ 62        ┆ PHILADELPHIA ┆ H   │\n",
       "   │         ┆      ┆          ┆       ┆   ┆                         ┆           ┆ FLYERS       ┆     │\n",
       "   │ 3       ┆ 1    ┆ 00:36    ┆ P     ┆ … ┆ 13:13                   ┆ 36        ┆ PHILADELPHIA ┆ H   │\n",
       "   │         ┆      ┆          ┆       ┆   ┆                         ┆           ┆ FLYERS       ┆     │\n",
       "   │ 4       ┆ 1    ┆ 00:42    ┆       ┆ … ┆ 11:48                   ┆ 42        ┆ PHILADELPHIA ┆ H   │\n",
       "   │         ┆      ┆          ┆       ┆   ┆                         ┆           ┆ FLYERS       ┆     │\n",
       "   │ 5       ┆ 1    ┆ 01:09    ┆       ┆ … ┆ 9:52                    ┆ 69        ┆ PHILADELPHIA ┆ H   │\n",
       "   │         ┆      ┆          ┆       ┆   ┆                         ┆           ┆ FLYERS       ┆     │\n",
       "   │ …       ┆ …    ┆ …        ┆ …     ┆ … ┆ …                       ┆ …         ┆ …            ┆ …   │\n",
       "   │ 19      ┆ 3    ┆ 00:14    ┆ P     ┆ … ┆ 9:06                    ┆ 14        ┆ PHILADELPHIA ┆ H   │\n",
       "   │         ┆      ┆          ┆       ┆   ┆                         ┆           ┆ FLYERS       ┆     │\n",
       "   │ 20      ┆ 3    ┆ 00:41    ┆       ┆ … ┆ 6:16                    ┆ 41        ┆ PHILADELPHIA ┆ H   │\n",
       "   │         ┆      ┆          ┆       ┆   ┆                         ┆           ┆ FLYERS       ┆     │\n",
       "   │ 21      ┆ 3    ┆ 00:44    ┆       ┆ … ┆ 3:12                    ┆ 44        ┆ PHILADELPHIA ┆ H   │\n",
       "   │         ┆      ┆          ┆       ┆   ┆                         ┆           ┆ FLYERS       ┆     │\n",
       "   │ 22      ┆ 3    ┆ 00:42    ┆       ┆ … ┆ 1:04                    ┆ 42        ┆ PHILADELPHIA ┆ H   │\n",
       "   │         ┆      ┆          ┆       ┆   ┆                         ┆           ┆ FLYERS       ┆     │\n",
       "   │ 23      ┆ null ┆ 01:13    ┆       ┆ … ┆ 0:00                    ┆ 73        ┆ PHILADELPHIA ┆ H   │\n",
       "   │         ┆      ┆          ┆       ┆   ┆                         ┆           ┆ FLYERS       ┆     │\n",
       "   └─────────┴──────┴──────────┴───────┴───┴─────────────────────────┴───────────┴──────────────┴─────┘,\n",
       "   'awayTOI': shape: (412, 13)\n",
       "   ┌─────────┬──────┬──────────┬───────┬───┬────────────────────────┬───────────┬───────────┬─────┐\n",
       "   │ Shift # ┆ Per  ┆ Duration ┆ Event ┆ … ┆ End Game Time - Legacy ┆ Duration  ┆ Team      ┆ H/V │\n",
       "   │ ---     ┆ ---  ┆ ---      ┆ ---   ┆   ┆ ---                    ┆ (Seconds) ┆ ---       ┆ --- │\n",
       "   │ i32     ┆ i32  ┆ str      ┆ str   ┆   ┆ str                    ┆ ---       ┆ str       ┆ str │\n",
       "   │         ┆      ┆          ┆       ┆   ┆                        ┆ i32       ┆           ┆     │\n",
       "   ╞═════════╪══════╪══════════╪═══════╪═══╪════════════════════════╪═══════════╪═══════════╪═════╡\n",
       "   │ 1       ┆ 1    ┆ 00:08    ┆       ┆ … ┆ 18:06                  ┆ 8         ┆ TAMPA BAY ┆ V   │\n",
       "   │         ┆      ┆          ┆       ┆   ┆                        ┆           ┆ LIGHTNING ┆     │\n",
       "   │ 2       ┆ 1    ┆ 01:05    ┆       ┆ … ┆ 16:13                  ┆ 65        ┆ TAMPA BAY ┆ V   │\n",
       "   │         ┆      ┆          ┆       ┆   ┆                        ┆           ┆ LIGHTNING ┆     │\n",
       "   │ 3       ┆ 1    ┆ 00:23    ┆ P     ┆ … ┆ 13:13                  ┆ 23        ┆ TAMPA BAY ┆ V   │\n",
       "   │         ┆      ┆          ┆       ┆   ┆                        ┆           ┆ LIGHTNING ┆     │\n",
       "   │ 4       ┆ 1    ┆ 01:00    ┆       ┆ … ┆ 8:51                   ┆ 60        ┆ TAMPA BAY ┆ V   │\n",
       "   │         ┆      ┆          ┆       ┆   ┆                        ┆           ┆ LIGHTNING ┆     │\n",
       "   │ 5       ┆ 1    ┆ 00:23    ┆       ┆ … ┆ 8:00                   ┆ 23        ┆ TAMPA BAY ┆ V   │\n",
       "   │         ┆      ┆          ┆       ┆   ┆                        ┆           ┆ LIGHTNING ┆     │\n",
       "   │ …       ┆ …    ┆ …        ┆ …     ┆ … ┆ …                      ┆ …         ┆ …         ┆ …   │\n",
       "   │ 15      ┆ 3    ┆ 01:03    ┆       ┆ … ┆ 13:06                  ┆ 63        ┆ TAMPA BAY ┆ V   │\n",
       "   │         ┆      ┆          ┆       ┆   ┆                        ┆           ┆ LIGHTNING ┆     │\n",
       "   │ 16      ┆ 3    ┆ 00:11    ┆       ┆ … ┆ 11:11                  ┆ 11        ┆ TAMPA BAY ┆ V   │\n",
       "   │         ┆      ┆          ┆       ┆   ┆                        ┆           ┆ LIGHTNING ┆     │\n",
       "   │ 17      ┆ 3    ┆ 00:38    ┆       ┆ … ┆ 5:08                   ┆ 38        ┆ TAMPA BAY ┆ V   │\n",
       "   │         ┆      ┆          ┆       ┆   ┆                        ┆           ┆ LIGHTNING ┆     │\n",
       "   │ 18      ┆ 3    ┆ 00:40    ┆       ┆ … ┆ 2:32                   ┆ 40        ┆ TAMPA BAY ┆ V   │\n",
       "   │         ┆      ┆          ┆       ┆   ┆                        ┆           ┆ LIGHTNING ┆     │\n",
       "   │ 19      ┆ null ┆ 00:44    ┆       ┆ … ┆ 1:55                   ┆ 44        ┆ TAMPA BAY ┆ V   │\n",
       "   │         ┆      ┆          ┆       ┆   ┆                        ┆           ┆ LIGHTNING ┆     │\n",
       "   └─────────┴──────┴──────────┴───────┴───┴────────────────────────┴───────────┴───────────┴─────┘,\n",
       "   'homeSummary': shape: (68, 16)\n",
       "   ┌──────┬─────┬───────┬───────┬───┬──────────────────┬──────────────────┬─────────────────────┬─────┐\n",
       "   │ Per  ┆ SHF ┆ AVG   ┆ TOI   ┆ … ┆ PP TOT (Seconds) ┆ SH TOT (Seconds) ┆ Team                ┆ H/V │\n",
       "   │ ---  ┆ --- ┆ ---   ┆ ---   ┆   ┆ ---              ┆ ---              ┆ ---                 ┆ --- │\n",
       "   │ i32  ┆ i32 ┆ str   ┆ str   ┆   ┆ i32              ┆ i32              ┆ str                 ┆ str │\n",
       "   ╞══════╪═════╪═══════╪═══════╪═══╪══════════════════╪══════════════════╪═════════════════════╪═════╡\n",
       "   │ 1    ┆ 9   ┆ 00:47 ┆ 07:06 ┆ … ┆ 0                ┆ 42               ┆ PHILADELPHIA FLYERS ┆ H   │\n",
       "   │ 2    ┆ 6   ┆ 00:53 ┆ 05:21 ┆ … ┆ 0                ┆ 39               ┆ PHILADELPHIA FLYERS ┆ H   │\n",
       "   │ 3    ┆ 7   ┆ 00:39 ┆ 04:36 ┆ … ┆ 0                ┆ 0                ┆ PHILADELPHIA FLYERS ┆ H   │\n",
       "   │ 1    ┆ 10  ┆ 00:49 ┆ 08:15 ┆ … ┆ 0                ┆ 58               ┆ PHILADELPHIA FLYERS ┆ H   │\n",
       "   │ 2    ┆ 9   ┆ 01:08 ┆ 10:12 ┆ … ┆ 56               ┆ 196              ┆ PHILADELPHIA FLYERS ┆ H   │\n",
       "   │ …    ┆ …   ┆ …     ┆ …     ┆ … ┆ …                ┆ …                ┆ …                   ┆ …   │\n",
       "   │ null ┆ 1   ┆ 00:46 ┆ 00:46 ┆ … ┆ 0                ┆ 0                ┆ PHILADELPHIA FLYERS ┆ H   │\n",
       "   │ 1    ┆ 7   ┆ 00:47 ┆ 05:31 ┆ … ┆ 0                ┆ 0                ┆ PHILADELPHIA FLYERS ┆ H   │\n",
       "   │ 2    ┆ 7   ┆ 01:00 ┆ 07:01 ┆ … ┆ 36               ┆ 0                ┆ PHILADELPHIA FLYERS ┆ H   │\n",
       "   │ 3    ┆ 8   ┆ 00:44 ┆ 05:53 ┆ … ┆ 0                ┆ 0                ┆ PHILADELPHIA FLYERS ┆ H   │\n",
       "   │ null ┆ 1   ┆ 01:13 ┆ 01:13 ┆ … ┆ 0                ┆ 0                ┆ PHILADELPHIA FLYERS ┆ H   │\n",
       "   └──────┴─────┴───────┴───────┴───┴──────────────────┴──────────────────┴─────────────────────┴─────┘,\n",
       "   'awaySummary': shape: (68, 16)\n",
       "   ┌──────┬─────┬───────┬───────┬───┬──────────────────┬──────────────────┬─────────────────────┬─────┐\n",
       "   │ Per  ┆ SHF ┆ AVG   ┆ TOI   ┆ … ┆ PP TOT (Seconds) ┆ SH TOT (Seconds) ┆ Team                ┆ H/V │\n",
       "   │ ---  ┆ --- ┆ ---   ┆ ---   ┆   ┆ ---              ┆ ---              ┆ ---                 ┆ --- │\n",
       "   │ i32  ┆ i32 ┆ str   ┆ str   ┆   ┆ i32              ┆ i32              ┆ str                 ┆ str │\n",
       "   ╞══════╪═════╪═══════╪═══════╪═══╪══════════════════╪══════════════════╪═════════════════════╪═════╡\n",
       "   │ 1    ┆ 8   ┆ 00:31 ┆ 04:08 ┆ … ┆ 0                ┆ 0                ┆ TAMPA BAY LIGHTNING ┆ V   │\n",
       "   │ 2    ┆ 5   ┆ 00:43 ┆ 03:35 ┆ … ┆ 0                ┆ 66               ┆ TAMPA BAY LIGHTNING ┆ V   │\n",
       "   │ 3    ┆ 6   ┆ 00:31 ┆ 03:07 ┆ … ┆ 0                ┆ 79               ┆ TAMPA BAY LIGHTNING ┆ V   │\n",
       "   │ 1    ┆ 7   ┆ 00:27 ┆ 03:12 ┆ … ┆ 0                ┆ 0                ┆ TAMPA BAY LIGHTNING ┆ V   │\n",
       "   │ 2    ┆ 4   ┆ 00:30 ┆ 02:00 ┆ … ┆ 0                ┆ 0                ┆ TAMPA BAY LIGHTNING ┆ V   │\n",
       "   │ …    ┆ …   ┆ …     ┆ …     ┆ … ┆ …                ┆ …                ┆ …                   ┆ …   │\n",
       "   │ 3    ┆ 8   ┆ 00:34 ┆ 04:37 ┆ … ┆ 0                ┆ 20               ┆ TAMPA BAY LIGHTNING ┆ V   │\n",
       "   │ 1    ┆ 6   ┆ 00:32 ┆ 03:16 ┆ … ┆ 16               ┆ 0                ┆ TAMPA BAY LIGHTNING ┆ V   │\n",
       "   │ 2    ┆ 7   ┆ 00:46 ┆ 05:27 ┆ … ┆ 108              ┆ 0                ┆ TAMPA BAY LIGHTNING ┆ V   │\n",
       "   │ 3    ┆ 5   ┆ 00:41 ┆ 03:27 ┆ … ┆ 0                ┆ 0                ┆ TAMPA BAY LIGHTNING ┆ V   │\n",
       "   │ null ┆ 1   ┆ 00:44 ┆ 00:44 ┆ … ┆ 0                ┆ 0                ┆ TAMPA BAY LIGHTNING ┆ V   │\n",
       "   └──────┴─────┴───────┴───────┴───┴──────────────────┴──────────────────┴─────────────────────┴─────┘}}}"
      ]
     },
     "execution_count": 67,
     "metadata": {},
     "output_type": "execute_result"
    }
   ],
   "source": [
    "data = await scraper.scrape_toi(game_ids=[2024021043, 2024021044],)\n",
    "data"
   ]
  },
  {
   "cell_type": "code",
   "execution_count": 68,
   "metadata": {},
   "outputs": [
    {
     "data": {
      "text/html": [
       "<div><style>\n",
       ".dataframe > thead > tr,\n",
       ".dataframe > tbody > tr {\n",
       "  text-align: right;\n",
       "  white-space: pre-wrap;\n",
       "}\n",
       "</style>\n",
       "<small>shape: (1_604, 14)</small><table border=\"1\" class=\"dataframe\"><thead><tr><th>Shift #</th><th>Per</th><th>Duration</th><th>Event</th><th>Player</th><th>#</th><th>Start Elapsed Time - Legacy</th><th>Start Game Time - Legacy</th><th>End Elapsed Time - Legacy</th><th>End Game Time - Legacy</th><th>Duration (Seconds)</th><th>Team</th><th>H/V</th><th>gameId</th></tr><tr><td>i32</td><td>i32</td><td>str</td><td>str</td><td>str</td><td>i32</td><td>str</td><td>str</td><td>str</td><td>str</td><td>i32</td><td>str</td><td>str</td><td>str</td></tr></thead><tbody><tr><td>1</td><td>1</td><td>&quot;00:47&quot;</td><td>&quot;&quot;</td><td>&quot;4 LEDDY, NICK&quot;</td><td>4</td><td>&quot;0:54&quot;</td><td>&quot;19:06&quot;</td><td>&quot;1:41&quot;</td><td>&quot;18:19&quot;</td><td>47</td><td>&quot;ST. LOUIS BLUES&quot;</td><td>&quot;V&quot;</td><td>&quot;2024021044&quot;</td></tr><tr><td>2</td><td>1</td><td>&quot;00:32&quot;</td><td>&quot;&quot;</td><td>&quot;4 LEDDY, NICK&quot;</td><td>4</td><td>&quot;2:17&quot;</td><td>&quot;17:43&quot;</td><td>&quot;2:49&quot;</td><td>&quot;17:11&quot;</td><td>32</td><td>&quot;ST. LOUIS BLUES&quot;</td><td>&quot;V&quot;</td><td>&quot;2024021044&quot;</td></tr><tr><td>3</td><td>1</td><td>&quot;00:56&quot;</td><td>&quot;&quot;</td><td>&quot;4 LEDDY, NICK&quot;</td><td>4</td><td>&quot;5:29&quot;</td><td>&quot;14:31&quot;</td><td>&quot;6:25&quot;</td><td>&quot;13:35&quot;</td><td>56</td><td>&quot;ST. LOUIS BLUES&quot;</td><td>&quot;V&quot;</td><td>&quot;2024021044&quot;</td></tr><tr><td>4</td><td>1</td><td>&quot;00:40&quot;</td><td>&quot;&quot;</td><td>&quot;4 LEDDY, NICK&quot;</td><td>4</td><td>&quot;8:03&quot;</td><td>&quot;11:57&quot;</td><td>&quot;8:43&quot;</td><td>&quot;11:17&quot;</td><td>40</td><td>&quot;ST. LOUIS BLUES&quot;</td><td>&quot;V&quot;</td><td>&quot;2024021044&quot;</td></tr><tr><td>5</td><td>1</td><td>&quot;01:21&quot;</td><td>&quot;&quot;</td><td>&quot;4 LEDDY, NICK&quot;</td><td>4</td><td>&quot;11:33&quot;</td><td>&quot;8:27&quot;</td><td>&quot;12:54&quot;</td><td>&quot;7:06&quot;</td><td>81</td><td>&quot;ST. LOUIS BLUES&quot;</td><td>&quot;V&quot;</td><td>&quot;2024021044&quot;</td></tr><tr><td>&hellip;</td><td>&hellip;</td><td>&hellip;</td><td>&hellip;</td><td>&hellip;</td><td>&hellip;</td><td>&hellip;</td><td>&hellip;</td><td>&hellip;</td><td>&hellip;</td><td>&hellip;</td><td>&hellip;</td><td>&hellip;</td><td>&hellip;</td></tr><tr><td>19</td><td>3</td><td>&quot;00:14&quot;</td><td>&quot;P&quot;</td><td>&quot;74 TIPPETT, OWEN&quot;</td><td>74</td><td>&quot;10:40&quot;</td><td>&quot;9:20&quot;</td><td>&quot;10:54&quot;</td><td>&quot;9:06&quot;</td><td>14</td><td>&quot;PHILADELPHIA FLYERS&quot;</td><td>&quot;H&quot;</td><td>&quot;2024021043&quot;</td></tr><tr><td>20</td><td>3</td><td>&quot;00:41&quot;</td><td>&quot;&quot;</td><td>&quot;74 TIPPETT, OWEN&quot;</td><td>74</td><td>&quot;13:03&quot;</td><td>&quot;6:57&quot;</td><td>&quot;13:44&quot;</td><td>&quot;6:16&quot;</td><td>41</td><td>&quot;PHILADELPHIA FLYERS&quot;</td><td>&quot;H&quot;</td><td>&quot;2024021043&quot;</td></tr><tr><td>21</td><td>3</td><td>&quot;00:44&quot;</td><td>&quot;&quot;</td><td>&quot;74 TIPPETT, OWEN&quot;</td><td>74</td><td>&quot;16:04&quot;</td><td>&quot;3:56&quot;</td><td>&quot;16:48&quot;</td><td>&quot;3:12&quot;</td><td>44</td><td>&quot;PHILADELPHIA FLYERS&quot;</td><td>&quot;H&quot;</td><td>&quot;2024021043&quot;</td></tr><tr><td>22</td><td>3</td><td>&quot;00:42&quot;</td><td>&quot;&quot;</td><td>&quot;74 TIPPETT, OWEN&quot;</td><td>74</td><td>&quot;18:14&quot;</td><td>&quot;1:46&quot;</td><td>&quot;18:56&quot;</td><td>&quot;1:04&quot;</td><td>42</td><td>&quot;PHILADELPHIA FLYERS&quot;</td><td>&quot;H&quot;</td><td>&quot;2024021043&quot;</td></tr><tr><td>23</td><td>null</td><td>&quot;01:13&quot;</td><td>&quot;&quot;</td><td>&quot;74 TIPPETT, OWEN&quot;</td><td>74</td><td>&quot;3:47&quot;</td><td>&quot;1:13&quot;</td><td>&quot;5:00&quot;</td><td>&quot;0:00&quot;</td><td>73</td><td>&quot;PHILADELPHIA FLYERS&quot;</td><td>&quot;H&quot;</td><td>&quot;2024021043&quot;</td></tr></tbody></table></div>"
      ],
      "text/plain": [
       "shape: (1_604, 14)\n",
       "┌─────────┬──────┬──────────┬───────┬───┬───────────┬─────────────────────┬─────┬────────────┐\n",
       "│ Shift # ┆ Per  ┆ Duration ┆ Event ┆ … ┆ Duration  ┆ Team                ┆ H/V ┆ gameId     │\n",
       "│ ---     ┆ ---  ┆ ---      ┆ ---   ┆   ┆ (Seconds) ┆ ---                 ┆ --- ┆ ---        │\n",
       "│ i32     ┆ i32  ┆ str      ┆ str   ┆   ┆ ---       ┆ str                 ┆ str ┆ str        │\n",
       "│         ┆      ┆          ┆       ┆   ┆ i32       ┆                     ┆     ┆            │\n",
       "╞═════════╪══════╪══════════╪═══════╪═══╪═══════════╪═════════════════════╪═════╪════════════╡\n",
       "│ 1       ┆ 1    ┆ 00:47    ┆       ┆ … ┆ 47        ┆ ST. LOUIS BLUES     ┆ V   ┆ 2024021044 │\n",
       "│ 2       ┆ 1    ┆ 00:32    ┆       ┆ … ┆ 32        ┆ ST. LOUIS BLUES     ┆ V   ┆ 2024021044 │\n",
       "│ 3       ┆ 1    ┆ 00:56    ┆       ┆ … ┆ 56        ┆ ST. LOUIS BLUES     ┆ V   ┆ 2024021044 │\n",
       "│ 4       ┆ 1    ┆ 00:40    ┆       ┆ … ┆ 40        ┆ ST. LOUIS BLUES     ┆ V   ┆ 2024021044 │\n",
       "│ 5       ┆ 1    ┆ 01:21    ┆       ┆ … ┆ 81        ┆ ST. LOUIS BLUES     ┆ V   ┆ 2024021044 │\n",
       "│ …       ┆ …    ┆ …        ┆ …     ┆ … ┆ …         ┆ …                   ┆ …   ┆ …          │\n",
       "│ 19      ┆ 3    ┆ 00:14    ┆ P     ┆ … ┆ 14        ┆ PHILADELPHIA FLYERS ┆ H   ┆ 2024021043 │\n",
       "│ 20      ┆ 3    ┆ 00:41    ┆       ┆ … ┆ 41        ┆ PHILADELPHIA FLYERS ┆ H   ┆ 2024021043 │\n",
       "│ 21      ┆ 3    ┆ 00:44    ┆       ┆ … ┆ 44        ┆ PHILADELPHIA FLYERS ┆ H   ┆ 2024021043 │\n",
       "│ 22      ┆ 3    ┆ 00:42    ┆       ┆ … ┆ 42        ┆ PHILADELPHIA FLYERS ┆ H   ┆ 2024021043 │\n",
       "│ 23      ┆ null ┆ 01:13    ┆       ┆ … ┆ 73        ┆ PHILADELPHIA FLYERS ┆ H   ┆ 2024021043 │\n",
       "└─────────┴──────┴──────────┴───────┴───┴───────────┴─────────────────────┴─────┴────────────┘"
      ]
     },
     "execution_count": 68,
     "metadata": {},
     "output_type": "execute_result"
    }
   ],
   "source": [
    "data['TOI_combined']"
   ]
  },
  {
   "cell_type": "code",
   "execution_count": 64,
   "metadata": {},
   "outputs": [
    {
     "data": {
      "text/html": [
       "<div><style>\n",
       ".dataframe > thead > tr,\n",
       ".dataframe > tbody > tr {\n",
       "  text-align: right;\n",
       "  white-space: pre-wrap;\n",
       "}\n",
       "</style>\n",
       "<small>shape: (47, 20)</small><table border=\"1\" class=\"dataframe\"><thead><tr><th>id</th><th>headshot</th><th>firstName</th><th>lastName</th><th>sweaterNumber</th><th>positionCode</th><th>shootsCatches</th><th>heightInInches</th><th>weightInPounds</th><th>heightInCentimeters</th><th>weightInKilograms</th><th>birthDate</th><th>birthCity</th><th>birthCountry</th><th>birthStateProvince</th><th>team</th><th>season</th><th>fullName</th><th>position</th><th>meta_datetime</th></tr><tr><td>i64</td><td>str</td><td>str</td><td>str</td><td>i64</td><td>str</td><td>str</td><td>i64</td><td>i64</td><td>i64</td><td>i64</td><td>str</td><td>str</td><td>str</td><td>str</td><td>str</td><td>i64</td><td>str</td><td>str</td><td>datetime[μs]</td></tr></thead><tbody><tr><td>8476981</td><td>&quot;https://assets.nhle.com/mugs/n…</td><td>&quot;Josh&quot;</td><td>&quot;Anderson&quot;</td><td>17</td><td>&quot;R&quot;</td><td>&quot;R&quot;</td><td>75</td><td>226</td><td>191</td><td>103</td><td>&quot;1994-05-07&quot;</td><td>&quot;Burlington&quot;</td><td>&quot;CAN&quot;</td><td>&quot;ON&quot;</td><td>&quot;MTL&quot;</td><td>20242025</td><td>&quot;Josh Anderson&quot;</td><td>&quot;F&quot;</td><td>2025-03-20 06:42:23.140496</td></tr><tr><td>8476469</td><td>&quot;https://assets.nhle.com/mugs/n…</td><td>&quot;Joel&quot;</td><td>&quot;Armia&quot;</td><td>40</td><td>&quot;R&quot;</td><td>&quot;R&quot;</td><td>75</td><td>216</td><td>191</td><td>98</td><td>&quot;1993-05-31&quot;</td><td>&quot;Pori&quot;</td><td>&quot;FIN&quot;</td><td>null</td><td>&quot;MTL&quot;</td><td>20242025</td><td>&quot;Joel Armia&quot;</td><td>&quot;F&quot;</td><td>2025-03-20 06:42:23.140496</td></tr><tr><td>8481540</td><td>&quot;https://assets.nhle.com/mugs/n…</td><td>&quot;Cole&quot;</td><td>&quot;Caufield&quot;</td><td>13</td><td>&quot;R&quot;</td><td>&quot;R&quot;</td><td>68</td><td>175</td><td>173</td><td>79</td><td>&quot;2001-01-02&quot;</td><td>&quot;Mosinee&quot;</td><td>&quot;USA&quot;</td><td>&quot;WI&quot;</td><td>&quot;MTL&quot;</td><td>20242025</td><td>&quot;Cole Caufield&quot;</td><td>&quot;F&quot;</td><td>2025-03-20 06:42:23.140496</td></tr><tr><td>8481523</td><td>&quot;https://assets.nhle.com/mugs/n…</td><td>&quot;Kirby&quot;</td><td>&quot;Dach&quot;</td><td>77</td><td>&quot;C&quot;</td><td>&quot;R&quot;</td><td>76</td><td>221</td><td>193</td><td>100</td><td>&quot;2001-01-21&quot;</td><td>&quot;Fort Saskatchewan&quot;</td><td>&quot;CAN&quot;</td><td>&quot;AB&quot;</td><td>&quot;MTL&quot;</td><td>20242025</td><td>&quot;Kirby Dach&quot;</td><td>&quot;F&quot;</td><td>2025-03-20 06:42:23.140496</td></tr><tr><td>8477989</td><td>&quot;https://assets.nhle.com/mugs/n…</td><td>&quot;Christian&quot;</td><td>&quot;Dvorak&quot;</td><td>28</td><td>&quot;C&quot;</td><td>&quot;L&quot;</td><td>73</td><td>190</td><td>185</td><td>86</td><td>&quot;1996-02-02&quot;</td><td>&quot;Palos&quot;</td><td>&quot;USA&quot;</td><td>&quot;IL&quot;</td><td>&quot;MTL&quot;</td><td>20242025</td><td>&quot;Christian Dvorak&quot;</td><td>&quot;F&quot;</td><td>2025-03-20 06:42:23.140496</td></tr><tr><td>&hellip;</td><td>&hellip;</td><td>&hellip;</td><td>&hellip;</td><td>&hellip;</td><td>&hellip;</td><td>&hellip;</td><td>&hellip;</td><td>&hellip;</td><td>&hellip;</td><td>&hellip;</td><td>&hellip;</td><td>&hellip;</td><td>&hellip;</td><td>&hellip;</td><td>&hellip;</td><td>&hellip;</td><td>&hellip;</td><td>&hellip;</td><td>&hellip;</td></tr><tr><td>8479026</td><td>&quot;https://assets.nhle.com/mugs/n…</td><td>&quot;Philippe&quot;</td><td>&quot;Myers&quot;</td><td>51</td><td>&quot;D&quot;</td><td>&quot;R&quot;</td><td>77</td><td>219</td><td>196</td><td>99</td><td>&quot;1997-01-25&quot;</td><td>&quot;Moncton&quot;</td><td>&quot;CAN&quot;</td><td>&quot;NB&quot;</td><td>&quot;TOR&quot;</td><td>20242025</td><td>&quot;Philippe Myers&quot;</td><td>&quot;D&quot;</td><td>2025-03-20 06:42:23.140496</td></tr><tr><td>8476853</td><td>&quot;https://assets.nhle.com/mugs/n…</td><td>&quot;Morgan&quot;</td><td>&quot;Rielly&quot;</td><td>44</td><td>&quot;D&quot;</td><td>&quot;L&quot;</td><td>73</td><td>225</td><td>185</td><td>102</td><td>&quot;1994-03-09&quot;</td><td>&quot;Vancouver&quot;</td><td>&quot;CAN&quot;</td><td>&quot;BC&quot;</td><td>&quot;TOR&quot;</td><td>20242025</td><td>&quot;Morgan Rielly&quot;</td><td>&quot;D&quot;</td><td>2025-03-20 06:42:23.140496</td></tr><tr><td>8475690</td><td>&quot;https://assets.nhle.com/mugs/n…</td><td>&quot;Chris&quot;</td><td>&quot;Tanev&quot;</td><td>8</td><td>&quot;D&quot;</td><td>&quot;R&quot;</td><td>75</td><td>199</td><td>191</td><td>90</td><td>&quot;1989-12-20&quot;</td><td>&quot;Toronto&quot;</td><td>&quot;CAN&quot;</td><td>&quot;ON&quot;</td><td>&quot;TOR&quot;</td><td>20242025</td><td>&quot;Chris Tanev&quot;</td><td>&quot;D&quot;</td><td>2025-03-20 06:42:23.140496</td></tr><tr><td>8476932</td><td>&quot;https://assets.nhle.com/mugs/n…</td><td>&quot;Anthony&quot;</td><td>&quot;Stolarz&quot;</td><td>41</td><td>&quot;G&quot;</td><td>&quot;L&quot;</td><td>78</td><td>243</td><td>198</td><td>110</td><td>&quot;1994-01-20&quot;</td><td>&quot;Edison&quot;</td><td>&quot;USA&quot;</td><td>&quot;NJ&quot;</td><td>&quot;TOR&quot;</td><td>20242025</td><td>&quot;Anthony Stolarz&quot;</td><td>&quot;G&quot;</td><td>2025-03-20 06:42:23.140496</td></tr><tr><td>8479361</td><td>&quot;https://assets.nhle.com/mugs/n…</td><td>&quot;Joseph&quot;</td><td>&quot;Woll&quot;</td><td>60</td><td>&quot;G&quot;</td><td>&quot;L&quot;</td><td>75</td><td>206</td><td>191</td><td>93</td><td>&quot;1998-07-12&quot;</td><td>&quot;Dardenne Prairie&quot;</td><td>&quot;USA&quot;</td><td>&quot;MO&quot;</td><td>&quot;TOR&quot;</td><td>20242025</td><td>&quot;Joseph Woll&quot;</td><td>&quot;G&quot;</td><td>2025-03-20 06:42:23.140496</td></tr></tbody></table></div>"
      ],
      "text/plain": [
       "shape: (47, 20)\n",
       "┌─────────┬─────────────┬───────────┬──────────┬───┬──────────┬────────────┬──────────┬────────────┐\n",
       "│ id      ┆ headshot    ┆ firstName ┆ lastName ┆ … ┆ season   ┆ fullName   ┆ position ┆ meta_datet │\n",
       "│ ---     ┆ ---         ┆ ---       ┆ ---      ┆   ┆ ---      ┆ ---        ┆ ---      ┆ ime        │\n",
       "│ i64     ┆ str         ┆ str       ┆ str      ┆   ┆ i64      ┆ str        ┆ str      ┆ ---        │\n",
       "│         ┆             ┆           ┆          ┆   ┆          ┆            ┆          ┆ datetime[μ │\n",
       "│         ┆             ┆           ┆          ┆   ┆          ┆            ┆          ┆ s]         │\n",
       "╞═════════╪═════════════╪═══════════╪══════════╪═══╪══════════╪════════════╪══════════╪════════════╡\n",
       "│ 8476981 ┆ https://ass ┆ Josh      ┆ Anderson ┆ … ┆ 20242025 ┆ Josh       ┆ F        ┆ 2025-03-20 │\n",
       "│         ┆ ets.nhle.co ┆           ┆          ┆   ┆          ┆ Anderson   ┆          ┆ 06:42:23.1 │\n",
       "│         ┆ m/mugs/n…   ┆           ┆          ┆   ┆          ┆            ┆          ┆ 40496      │\n",
       "│ 8476469 ┆ https://ass ┆ Joel      ┆ Armia    ┆ … ┆ 20242025 ┆ Joel Armia ┆ F        ┆ 2025-03-20 │\n",
       "│         ┆ ets.nhle.co ┆           ┆          ┆   ┆          ┆            ┆          ┆ 06:42:23.1 │\n",
       "│         ┆ m/mugs/n…   ┆           ┆          ┆   ┆          ┆            ┆          ┆ 40496      │\n",
       "│ 8481540 ┆ https://ass ┆ Cole      ┆ Caufield ┆ … ┆ 20242025 ┆ Cole       ┆ F        ┆ 2025-03-20 │\n",
       "│         ┆ ets.nhle.co ┆           ┆          ┆   ┆          ┆ Caufield   ┆          ┆ 06:42:23.1 │\n",
       "│         ┆ m/mugs/n…   ┆           ┆          ┆   ┆          ┆            ┆          ┆ 40496      │\n",
       "│ 8481523 ┆ https://ass ┆ Kirby     ┆ Dach     ┆ … ┆ 20242025 ┆ Kirby Dach ┆ F        ┆ 2025-03-20 │\n",
       "│         ┆ ets.nhle.co ┆           ┆          ┆   ┆          ┆            ┆          ┆ 06:42:23.1 │\n",
       "│         ┆ m/mugs/n…   ┆           ┆          ┆   ┆          ┆            ┆          ┆ 40496      │\n",
       "│ 8477989 ┆ https://ass ┆ Christian ┆ Dvorak   ┆ … ┆ 20242025 ┆ Christian  ┆ F        ┆ 2025-03-20 │\n",
       "│         ┆ ets.nhle.co ┆           ┆          ┆   ┆          ┆ Dvorak     ┆          ┆ 06:42:23.1 │\n",
       "│         ┆ m/mugs/n…   ┆           ┆          ┆   ┆          ┆            ┆          ┆ 40496      │\n",
       "│ …       ┆ …           ┆ …         ┆ …        ┆ … ┆ …        ┆ …          ┆ …        ┆ …          │\n",
       "│ 8479026 ┆ https://ass ┆ Philippe  ┆ Myers    ┆ … ┆ 20242025 ┆ Philippe   ┆ D        ┆ 2025-03-20 │\n",
       "│         ┆ ets.nhle.co ┆           ┆          ┆   ┆          ┆ Myers      ┆          ┆ 06:42:23.1 │\n",
       "│         ┆ m/mugs/n…   ┆           ┆          ┆   ┆          ┆            ┆          ┆ 40496      │\n",
       "│ 8476853 ┆ https://ass ┆ Morgan    ┆ Rielly   ┆ … ┆ 20242025 ┆ Morgan     ┆ D        ┆ 2025-03-20 │\n",
       "│         ┆ ets.nhle.co ┆           ┆          ┆   ┆          ┆ Rielly     ┆          ┆ 06:42:23.1 │\n",
       "│         ┆ m/mugs/n…   ┆           ┆          ┆   ┆          ┆            ┆          ┆ 40496      │\n",
       "│ 8475690 ┆ https://ass ┆ Chris     ┆ Tanev    ┆ … ┆ 20242025 ┆ Chris      ┆ D        ┆ 2025-03-20 │\n",
       "│         ┆ ets.nhle.co ┆           ┆          ┆   ┆          ┆ Tanev      ┆          ┆ 06:42:23.1 │\n",
       "│         ┆ m/mugs/n…   ┆           ┆          ┆   ┆          ┆            ┆          ┆ 40496      │\n",
       "│ 8476932 ┆ https://ass ┆ Anthony   ┆ Stolarz  ┆ … ┆ 20242025 ┆ Anthony    ┆ G        ┆ 2025-03-20 │\n",
       "│         ┆ ets.nhle.co ┆           ┆          ┆   ┆          ┆ Stolarz    ┆          ┆ 06:42:23.1 │\n",
       "│         ┆ m/mugs/n…   ┆           ┆          ┆   ┆          ┆            ┆          ┆ 40496      │\n",
       "│ 8479361 ┆ https://ass ┆ Joseph    ┆ Woll     ┆ … ┆ 20242025 ┆ Joseph     ┆ G        ┆ 2025-03-20 │\n",
       "│         ┆ ets.nhle.co ┆           ┆          ┆   ┆          ┆ Woll       ┆          ┆ 06:42:23.1 │\n",
       "│         ┆ m/mugs/n…   ┆           ┆          ┆   ┆          ┆            ┆          ┆ 40496      │\n",
       "└─────────┴─────────────┴───────────┴──────────┴───┴──────────┴────────────┴──────────┴────────────┘"
      ]
     },
     "execution_count": 64,
     "metadata": {},
     "output_type": "execute_result"
    }
   ],
   "source": [
    "await scraper.scrape_team_rosters(teams=[\"MTL\", \"TOR\"], seasons=[20242025], progress=False)"
   ]
  },
  {
   "cell_type": "code",
   "execution_count": 69,
   "metadata": {},
   "outputs": [
    {
     "data": {
      "text/html": [
       "<div><style>\n",
       ".dataframe > thead > tr,\n",
       ".dataframe > tbody > tr {\n",
       "  text-align: right;\n",
       "  white-space: pre-wrap;\n",
       "}\n",
       "</style>\n",
       "<small>shape: (55, 26)</small><table border=\"1\" class=\"dataframe\"><thead><tr><th>playerId</th><th>headshot</th><th>firstName</th><th>lastName</th><th>positionCode</th><th>gamesPlayed</th><th>goals</th><th>assists</th><th>points</th><th>plusMinus</th><th>penaltyMinutes</th><th>powerPlayGoals</th><th>shorthandedGoals</th><th>gameWinningGoals</th><th>overtimeGoals</th><th>shots</th><th>shootingPctg</th><th>avgTimeOnIcePerGame</th><th>avgShiftsPerGame</th><th>faceoffWinPctg</th><th>team</th><th>season</th><th>session</th><th>fullName</th><th>position</th><th>meta_datetime</th></tr><tr><td>i64</td><td>str</td><td>str</td><td>str</td><td>str</td><td>i64</td><td>i64</td><td>i64</td><td>i64</td><td>i64</td><td>i64</td><td>i64</td><td>i64</td><td>i64</td><td>i64</td><td>i64</td><td>f64</td><td>f64</td><td>f64</td><td>f64</td><td>str</td><td>i64</td><td>i64</td><td>str</td><td>str</td><td>datetime[μs]</td></tr></thead><tbody><tr><td>8475233</td><td>&quot;https://assets.nhle.com/mugs/n…</td><td>&quot;David&quot;</td><td>&quot;Savard&quot;</td><td>&quot;D&quot;</td><td>61</td><td>1</td><td>13</td><td>14</td><td>-5</td><td>30</td><td>0</td><td>0</td><td>0</td><td>0</td><td>40</td><td>0.025</td><td>1053.9836</td><td>20.623</td><td>0.0</td><td>&quot;MTL&quot;</td><td>20242025</td><td>2</td><td>&quot;David Savard&quot;</td><td>&quot;D&quot;</td><td>2025-03-20 12:10:04.222546</td></tr><tr><td>8475848</td><td>&quot;https://assets.nhle.com/mugs/n…</td><td>&quot;Brendan&quot;</td><td>&quot;Gallagher&quot;</td><td>&quot;R&quot;</td><td>67</td><td>16</td><td>12</td><td>28</td><td>-10</td><td>27</td><td>5</td><td>0</td><td>1</td><td>0</td><td>123</td><td>0.130081</td><td>826.806</td><td>17.7463</td><td>0.0</td><td>&quot;MTL&quot;</td><td>20242025</td><td>2</td><td>&quot;Brendan Gallagher&quot;</td><td>&quot;F&quot;</td><td>2025-03-20 12:10:04.222546</td></tr><tr><td>8476469</td><td>&quot;https://assets.nhle.com/mugs/n…</td><td>&quot;Joel&quot;</td><td>&quot;Armia&quot;</td><td>&quot;R&quot;</td><td>66</td><td>11</td><td>14</td><td>25</td><td>-2</td><td>16</td><td>0</td><td>3</td><td>1</td><td>0</td><td>96</td><td>0.114583</td><td>879.8333</td><td>18.0152</td><td>0.214286</td><td>&quot;MTL&quot;</td><td>20242025</td><td>2</td><td>&quot;Joel Armia&quot;</td><td>&quot;F&quot;</td><td>2025-03-20 12:10:04.222546</td></tr><tr><td>8476875</td><td>&quot;https://assets.nhle.com/mugs/n…</td><td>&quot;Mike&quot;</td><td>&quot;Matheson&quot;</td><td>&quot;D&quot;</td><td>65</td><td>6</td><td>23</td><td>29</td><td>-6</td><td>43</td><td>1</td><td>0</td><td>1</td><td>1</td><td>125</td><td>0.048</td><td>1499.0769</td><td>25.5077</td><td>0.0</td><td>&quot;MTL&quot;</td><td>20242025</td><td>2</td><td>&quot;Mike Matheson&quot;</td><td>&quot;D&quot;</td><td>2025-03-20 12:10:04.222546</td></tr><tr><td>8476981</td><td>&quot;https://assets.nhle.com/mugs/n…</td><td>&quot;Josh&quot;</td><td>&quot;Anderson&quot;</td><td>&quot;R&quot;</td><td>67</td><td>12</td><td>10</td><td>22</td><td>-3</td><td>60</td><td>0</td><td>1</td><td>0</td><td>0</td><td>92</td><td>0.130435</td><td>847.8657</td><td>18.7463</td><td>0.634146</td><td>&quot;MTL&quot;</td><td>20242025</td><td>2</td><td>&quot;Josh Anderson&quot;</td><td>&quot;F&quot;</td><td>2025-03-20 12:10:04.222546</td></tr><tr><td>&hellip;</td><td>&hellip;</td><td>&hellip;</td><td>&hellip;</td><td>&hellip;</td><td>&hellip;</td><td>&hellip;</td><td>&hellip;</td><td>&hellip;</td><td>&hellip;</td><td>&hellip;</td><td>&hellip;</td><td>&hellip;</td><td>&hellip;</td><td>&hellip;</td><td>&hellip;</td><td>&hellip;</td><td>&hellip;</td><td>&hellip;</td><td>&hellip;</td><td>&hellip;</td><td>&hellip;</td><td>&hellip;</td><td>&hellip;</td><td>&hellip;</td><td>&hellip;</td></tr><tr><td>8481582</td><td>&quot;https://assets.nhle.com/mugs/n…</td><td>&quot;Nicholas&quot;</td><td>&quot;Robertson&quot;</td><td>&quot;L&quot;</td><td>58</td><td>12</td><td>7</td><td>19</td><td>-3</td><td>10</td><td>2</td><td>0</td><td>2</td><td>0</td><td>92</td><td>0.130435</td><td>721.3621</td><td>16.569</td><td>0.4</td><td>&quot;TOR&quot;</td><td>20242025</td><td>2</td><td>&quot;Nicholas Robertson&quot;</td><td>&quot;F&quot;</td><td>2025-03-20 12:10:04.222546</td></tr><tr><td>8482259</td><td>&quot;https://assets.nhle.com/mugs/n…</td><td>&quot;Bobby&quot;</td><td>&quot;McMann&quot;</td><td>&quot;C&quot;</td><td>60</td><td>18</td><td>11</td><td>29</td><td>6</td><td>18</td><td>3</td><td>0</td><td>4</td><td>0</td><td>132</td><td>0.136364</td><td>868.8</td><td>18.35</td><td>0.190476</td><td>&quot;TOR&quot;</td><td>20242025</td><td>2</td><td>&quot;Bobby McMann&quot;</td><td>&quot;F&quot;</td><td>2025-03-20 12:10:04.222546</td></tr><tr><td>8482634</td><td>&quot;https://assets.nhle.com/mugs/n…</td><td>&quot;Alex&quot;</td><td>&quot;Steeves&quot;</td><td>&quot;C&quot;</td><td>7</td><td>1</td><td>1</td><td>2</td><td>3</td><td>0</td><td>0</td><td>0</td><td>0</td><td>0</td><td>7</td><td>0.142857</td><td>593.4286</td><td>14.1429</td><td>0.0</td><td>&quot;TOR&quot;</td><td>20242025</td><td>2</td><td>&quot;Alex Steeves&quot;</td><td>&quot;F&quot;</td><td>2025-03-20 12:10:04.222546</td></tr><tr><td>8482720</td><td>&quot;https://assets.nhle.com/mugs/n…</td><td>&quot;Matthew&quot;</td><td>&quot;Knies&quot;</td><td>&quot;L&quot;</td><td>64</td><td>24</td><td>20</td><td>44</td><td>-2</td><td>33</td><td>4</td><td>0</td><td>3</td><td>0</td><td>115</td><td>0.208696</td><td>1112.7344</td><td>23.0625</td><td>0.0</td><td>&quot;TOR&quot;</td><td>20242025</td><td>2</td><td>&quot;Matthew Knies&quot;</td><td>&quot;F&quot;</td><td>2025-03-20 12:10:04.222546</td></tr><tr><td>8484901</td><td>&quot;https://assets.nhle.com/mugs/n…</td><td>&quot;Jacob&quot;</td><td>&quot;Quillan&quot;</td><td>&quot;C&quot;</td><td>1</td><td>0</td><td>0</td><td>0</td><td>0</td><td>0</td><td>0</td><td>0</td><td>0</td><td>0</td><td>0</td><td>0.0</td><td>321.0</td><td>7.0</td><td>0.0</td><td>&quot;TOR&quot;</td><td>20242025</td><td>2</td><td>&quot;Jacob Quillan&quot;</td><td>&quot;F&quot;</td><td>2025-03-20 12:10:04.222546</td></tr></tbody></table></div>"
      ],
      "text/plain": [
       "shape: (55, 26)\n",
       "┌──────────┬────────────┬───────────┬───────────┬───┬─────────┬────────────┬──────────┬────────────┐\n",
       "│ playerId ┆ headshot   ┆ firstName ┆ lastName  ┆ … ┆ session ┆ fullName   ┆ position ┆ meta_datet │\n",
       "│ ---      ┆ ---        ┆ ---       ┆ ---       ┆   ┆ ---     ┆ ---        ┆ ---      ┆ ime        │\n",
       "│ i64      ┆ str        ┆ str       ┆ str       ┆   ┆ i64     ┆ str        ┆ str      ┆ ---        │\n",
       "│          ┆            ┆           ┆           ┆   ┆         ┆            ┆          ┆ datetime[μ │\n",
       "│          ┆            ┆           ┆           ┆   ┆         ┆            ┆          ┆ s]         │\n",
       "╞══════════╪════════════╪═══════════╪═══════════╪═══╪═════════╪════════════╪══════════╪════════════╡\n",
       "│ 8475233  ┆ https://as ┆ David     ┆ Savard    ┆ … ┆ 2       ┆ David      ┆ D        ┆ 2025-03-20 │\n",
       "│          ┆ sets.nhle. ┆           ┆           ┆   ┆         ┆ Savard     ┆          ┆ 12:10:04.2 │\n",
       "│          ┆ com/mugs/n ┆           ┆           ┆   ┆         ┆            ┆          ┆ 22546      │\n",
       "│          ┆ …          ┆           ┆           ┆   ┆         ┆            ┆          ┆            │\n",
       "│ 8475848  ┆ https://as ┆ Brendan   ┆ Gallagher ┆ … ┆ 2       ┆ Brendan    ┆ F        ┆ 2025-03-20 │\n",
       "│          ┆ sets.nhle. ┆           ┆           ┆   ┆         ┆ Gallagher  ┆          ┆ 12:10:04.2 │\n",
       "│          ┆ com/mugs/n ┆           ┆           ┆   ┆         ┆            ┆          ┆ 22546      │\n",
       "│          ┆ …          ┆           ┆           ┆   ┆         ┆            ┆          ┆            │\n",
       "│ 8476469  ┆ https://as ┆ Joel      ┆ Armia     ┆ … ┆ 2       ┆ Joel Armia ┆ F        ┆ 2025-03-20 │\n",
       "│          ┆ sets.nhle. ┆           ┆           ┆   ┆         ┆            ┆          ┆ 12:10:04.2 │\n",
       "│          ┆ com/mugs/n ┆           ┆           ┆   ┆         ┆            ┆          ┆ 22546      │\n",
       "│          ┆ …          ┆           ┆           ┆   ┆         ┆            ┆          ┆            │\n",
       "│ 8476875  ┆ https://as ┆ Mike      ┆ Matheson  ┆ … ┆ 2       ┆ Mike       ┆ D        ┆ 2025-03-20 │\n",
       "│          ┆ sets.nhle. ┆           ┆           ┆   ┆         ┆ Matheson   ┆          ┆ 12:10:04.2 │\n",
       "│          ┆ com/mugs/n ┆           ┆           ┆   ┆         ┆            ┆          ┆ 22546      │\n",
       "│          ┆ …          ┆           ┆           ┆   ┆         ┆            ┆          ┆            │\n",
       "│ 8476981  ┆ https://as ┆ Josh      ┆ Anderson  ┆ … ┆ 2       ┆ Josh       ┆ F        ┆ 2025-03-20 │\n",
       "│          ┆ sets.nhle. ┆           ┆           ┆   ┆         ┆ Anderson   ┆          ┆ 12:10:04.2 │\n",
       "│          ┆ com/mugs/n ┆           ┆           ┆   ┆         ┆            ┆          ┆ 22546      │\n",
       "│          ┆ …          ┆           ┆           ┆   ┆         ┆            ┆          ┆            │\n",
       "│ …        ┆ …          ┆ …         ┆ …         ┆ … ┆ …       ┆ …          ┆ …        ┆ …          │\n",
       "│ 8481582  ┆ https://as ┆ Nicholas  ┆ Robertson ┆ … ┆ 2       ┆ Nicholas   ┆ F        ┆ 2025-03-20 │\n",
       "│          ┆ sets.nhle. ┆           ┆           ┆   ┆         ┆ Robertson  ┆          ┆ 12:10:04.2 │\n",
       "│          ┆ com/mugs/n ┆           ┆           ┆   ┆         ┆            ┆          ┆ 22546      │\n",
       "│          ┆ …          ┆           ┆           ┆   ┆         ┆            ┆          ┆            │\n",
       "│ 8482259  ┆ https://as ┆ Bobby     ┆ McMann    ┆ … ┆ 2       ┆ Bobby      ┆ F        ┆ 2025-03-20 │\n",
       "│          ┆ sets.nhle. ┆           ┆           ┆   ┆         ┆ McMann     ┆          ┆ 12:10:04.2 │\n",
       "│          ┆ com/mugs/n ┆           ┆           ┆   ┆         ┆            ┆          ┆ 22546      │\n",
       "│          ┆ …          ┆           ┆           ┆   ┆         ┆            ┆          ┆            │\n",
       "│ 8482634  ┆ https://as ┆ Alex      ┆ Steeves   ┆ … ┆ 2       ┆ Alex       ┆ F        ┆ 2025-03-20 │\n",
       "│          ┆ sets.nhle. ┆           ┆           ┆   ┆         ┆ Steeves    ┆          ┆ 12:10:04.2 │\n",
       "│          ┆ com/mugs/n ┆           ┆           ┆   ┆         ┆            ┆          ┆ 22546      │\n",
       "│          ┆ …          ┆           ┆           ┆   ┆         ┆            ┆          ┆            │\n",
       "│ 8482720  ┆ https://as ┆ Matthew   ┆ Knies     ┆ … ┆ 2       ┆ Matthew    ┆ F        ┆ 2025-03-20 │\n",
       "│          ┆ sets.nhle. ┆           ┆           ┆   ┆         ┆ Knies      ┆          ┆ 12:10:04.2 │\n",
       "│          ┆ com/mugs/n ┆           ┆           ┆   ┆         ┆            ┆          ┆ 22546      │\n",
       "│          ┆ …          ┆           ┆           ┆   ┆         ┆            ┆          ┆            │\n",
       "│ 8484901  ┆ https://as ┆ Jacob     ┆ Quillan   ┆ … ┆ 2       ┆ Jacob      ┆ F        ┆ 2025-03-20 │\n",
       "│          ┆ sets.nhle. ┆           ┆           ┆   ┆         ┆ Quillan    ┆          ┆ 12:10:04.2 │\n",
       "│          ┆ com/mugs/n ┆           ┆           ┆   ┆         ┆            ┆          ┆ 22546      │\n",
       "│          ┆ …          ┆           ┆           ┆   ┆         ┆            ┆          ┆            │\n",
       "└──────────┴────────────┴───────────┴───────────┴───┴─────────┴────────────┴──────────┴────────────┘"
      ]
     },
     "execution_count": 69,
     "metadata": {},
     "output_type": "execute_result"
    }
   ],
   "source": [
    "await scraper.scrape_team_stats(teams=[\"MTL\", \"TOR\"], seasons=[20242025], sessions=[2], progress=False)"
   ]
  },
  {
   "cell_type": "code",
   "execution_count": 70,
   "metadata": {},
   "outputs": [
    {
     "name": "stderr",
     "output_type": "stream",
     "text": [
      "Scraping NHL Standings:   0%|          | 0/1 [00:00<?, ?it/s]"
     ]
    },
    {
     "name": "stderr",
     "output_type": "stream",
     "text": [
      "Scraping NHL Standings: 100%|██████████| 1/1 [00:00<00:00,  2.46it/s]\n"
     ]
    },
    {
     "data": {
      "text/html": [
       "<div><style>\n",
       ".dataframe > thead > tr,\n",
       ".dataframe > tbody > tr {\n",
       "  text-align: right;\n",
       "  white-space: pre-wrap;\n",
       "}\n",
       "</style>\n",
       "<small>shape: (32, 83)</small><table border=\"1\" class=\"dataframe\"><thead><tr><th>conferenceAbbrev</th><th>conferenceHomeSequence</th><th>conferenceL10Sequence</th><th>conferenceName</th><th>conferenceRoadSequence</th><th>conferenceSequence</th><th>date</th><th>divisionAbbrev</th><th>divisionHomeSequence</th><th>divisionL10Sequence</th><th>divisionName</th><th>divisionRoadSequence</th><th>divisionSequence</th><th>gameTypeId</th><th>gamesPlayed</th><th>goalDifferential</th><th>goalDifferentialPctg</th><th>goalAgainst</th><th>goalFor</th><th>goalsForPctg</th><th>homeGamesPlayed</th><th>homeGoalDifferential</th><th>homeGoalsAgainst</th><th>homeGoalsFor</th><th>homeLosses</th><th>homeOtLosses</th><th>homePoints</th><th>homeRegulationPlusOtWins</th><th>homeRegulationWins</th><th>homeTies</th><th>homeWins</th><th>l10GamesPlayed</th><th>l10GoalDifferential</th><th>l10GoalsAgainst</th><th>l10GoalsFor</th><th>l10Losses</th><th>l10OtLosses</th><th>&hellip;</th><th>losses</th><th>otLosses</th><th>placeName</th><th>pointPctg</th><th>points</th><th>regulationPlusOtWinPctg</th><th>regulationPlusOtWins</th><th>regulationWinPctg</th><th>regulationWins</th><th>roadGamesPlayed</th><th>roadGoalDifferential</th><th>roadGoalsAgainst</th><th>roadGoalsFor</th><th>roadLosses</th><th>roadOtLosses</th><th>roadPoints</th><th>roadRegulationPlusOtWins</th><th>roadRegulationWins</th><th>roadTies</th><th>roadWins</th><th>seasonId</th><th>shootoutLosses</th><th>shootoutWins</th><th>streakCode</th><th>streakCount</th><th>teamName</th><th>teamCommonName</th><th>teamAbbrev</th><th>teamLogo</th><th>ties</th><th>waiversSequence</th><th>wildcardSequence</th><th>winPctg</th><th>wins</th><th>abbreviation</th><th>division</th><th>conference</th></tr><tr><td>str</td><td>i64</td><td>i64</td><td>str</td><td>i64</td><td>i64</td><td>str</td><td>str</td><td>i64</td><td>i64</td><td>str</td><td>i64</td><td>i64</td><td>i64</td><td>i32</td><td>i64</td><td>f64</td><td>i32</td><td>i32</td><td>f64</td><td>i64</td><td>i64</td><td>i64</td><td>i64</td><td>i64</td><td>i64</td><td>i64</td><td>i64</td><td>i64</td><td>i64</td><td>i64</td><td>i64</td><td>i64</td><td>i64</td><td>i64</td><td>i64</td><td>i64</td><td>&hellip;</td><td>i32</td><td>i32</td><td>struct[2]</td><td>f64</td><td>i32</td><td>f64</td><td>i64</td><td>f64</td><td>i64</td><td>i64</td><td>i64</td><td>i64</td><td>i64</td><td>i64</td><td>i64</td><td>i64</td><td>i64</td><td>i64</td><td>i64</td><td>i64</td><td>i64</td><td>i64</td><td>i64</td><td>str</td><td>i64</td><td>str</td><td>struct[2]</td><td>struct[1]</td><td>str</td><td>i64</td><td>i64</td><td>i64</td><td>f64</td><td>i32</td><td>str</td><td>str</td><td>str</td></tr></thead><tbody><tr><td>&quot;E&quot;</td><td>3</td><td>3</td><td>&quot;Eastern&quot;</td><td>1</td><td>1</td><td>&quot;2025-03-10&quot;</td><td>&quot;M&quot;</td><td>2</td><td>1</td><td>&quot;Metropolitan&quot;</td><td>1</td><td>1</td><td>2</td><td>64</td><td>65</td><td>1.015625</td><td>167</td><td>232</td><td>3.625</td><td>34</td><td>30</td><td>94</td><td>124</td><td>7</td><td>6</td><td>48</td><td>20</td><td>18</td><td>0</td><td>21</td><td>10</td><td>8</td><td>32</td><td>40</td><td>3</td><td>1</td><td>&hellip;</td><td>14</td><td>8</td><td>{&quot;Washington&quot;,null}</td><td>0.71875</td><td>92</td><td>0.640625</td><td>41</td><td>0.546875</td><td>35</td><td>30</td><td>35</td><td>73</td><td>108</td><td>7</td><td>2</td><td>44</td><td>21</td><td>17</td><td>0</td><td>21</td><td>20242025</td><td>3</td><td>1</td><td>&quot;W&quot;</td><td>4</td><td>&quot;Washington Capitals&quot;</td><td>{&quot;Capitals&quot;,null}</td><td>{&quot;WSH&quot;}</td><td>&quot;https://assets.nhle.com/logos/…</td><td>0</td><td>32</td><td>0</td><td>0.65625</td><td>42</td><td>&quot;WSH&quot;</td><td>&quot;Metropolitan&quot;</td><td>&quot;Eastern&quot;</td></tr><tr><td>&quot;W&quot;</td><td>2</td><td>5</td><td>&quot;Western&quot;</td><td>2</td><td>1</td><td>&quot;2025-03-10&quot;</td><td>&quot;C&quot;</td><td>1</td><td>4</td><td>&quot;Central&quot;</td><td>2</td><td>1</td><td>2</td><td>65</td><td>76</td><td>1.169231</td><td>152</td><td>228</td><td>3.507692</td><td>32</td><td>49</td><td>65</td><td>114</td><td>5</td><td>4</td><td>50</td><td>23</td><td>20</td><td>0</td><td>23</td><td>10</td><td>9</td><td>21</td><td>30</td><td>3</td><td>1</td><td>&hellip;</td><td>17</td><td>4</td><td>{&quot;Winnipeg&quot;,null}</td><td>0.707692</td><td>92</td><td>0.661538</td><td>43</td><td>0.553846</td><td>36</td><td>33</td><td>27</td><td>87</td><td>114</td><td>12</td><td>0</td><td>42</td><td>20</td><td>16</td><td>0</td><td>21</td><td>20242025</td><td>1</td><td>1</td><td>&quot;L&quot;</td><td>1</td><td>&quot;Winnipeg Jets&quot;</td><td>{&quot;Jets&quot;,null}</td><td>{&quot;WPG&quot;}</td><td>&quot;https://assets.nhle.com/logos/…</td><td>0</td><td>31</td><td>0</td><td>0.676923</td><td>44</td><td>&quot;WPG&quot;</td><td>&quot;Central&quot;</td><td>&quot;Western&quot;</td></tr><tr><td>&quot;W&quot;</td><td>3</td><td>2</td><td>&quot;Western&quot;</td><td>3</td><td>2</td><td>&quot;2025-03-10&quot;</td><td>&quot;C&quot;</td><td>2</td><td>2</td><td>&quot;Central&quot;</td><td>3</td><td>2</td><td>2</td><td>64</td><td>55</td><td>0.859375</td><td>166</td><td>221</td><td>3.453125</td><td>32</td><td>39</td><td>74</td><td>113</td><td>7</td><td>1</td><td>49</td><td>23</td><td>20</td><td>0</td><td>24</td><td>10</td><td>17</td><td>30</td><td>47</td><td>2</td><td>0</td><td>&hellip;</td><td>20</td><td>2</td><td>{&quot;Dallas&quot;,null}</td><td>0.671875</td><td>86</td><td>0.625</td><td>40</td><td>0.546875</td><td>35</td><td>32</td><td>16</td><td>92</td><td>108</td><td>13</td><td>1</td><td>37</td><td>17</td><td>15</td><td>0</td><td>18</td><td>20242025</td><td>1</td><td>2</td><td>&quot;W&quot;</td><td>1</td><td>&quot;Dallas Stars&quot;</td><td>{&quot;Stars&quot;,null}</td><td>{&quot;DAL&quot;}</td><td>&quot;https://assets.nhle.com/logos/…</td><td>0</td><td>30</td><td>0</td><td>0.65625</td><td>42</td><td>&quot;DAL&quot;</td><td>&quot;Central&quot;</td><td>&quot;Western&quot;</td></tr><tr><td>&quot;E&quot;</td><td>4</td><td>2</td><td>&quot;Eastern&quot;</td><td>4</td><td>2</td><td>&quot;2025-03-10&quot;</td><td>&quot;A&quot;</td><td>2</td><td>2</td><td>&quot;Atlantic&quot;</td><td>2</td><td>1</td><td>2</td><td>64</td><td>41</td><td>0.640625</td><td>172</td><td>213</td><td>3.328125</td><td>34</td><td>27</td><td>82</td><td>109</td><td>10</td><td>2</td><td>46</td><td>20</td><td>18</td><td>0</td><td>22</td><td>10</td><td>16</td><td>16</td><td>32</td><td>2</td><td>0</td><td>&hellip;</td><td>21</td><td>3</td><td>{&quot;Florida&quot;,&quot;Floride&quot;}</td><td>0.648438</td><td>83</td><td>0.5625</td><td>36</td><td>0.53125</td><td>34</td><td>30</td><td>14</td><td>90</td><td>104</td><td>11</td><td>1</td><td>37</td><td>16</td><td>16</td><td>0</td><td>18</td><td>20242025</td><td>0</td><td>4</td><td>&quot;W&quot;</td><td>6</td><td>&quot;Florida Panthers&quot;</td><td>{&quot;Panthers&quot;,null}</td><td>{&quot;FLA&quot;}</td><td>&quot;https://assets.nhle.com/logos/…</td><td>0</td><td>28</td><td>0</td><td>0.625</td><td>40</td><td>&quot;FLA&quot;</td><td>&quot;Atlantic&quot;</td><td>&quot;Eastern&quot;</td></tr><tr><td>&quot;W&quot;</td><td>1</td><td>4</td><td>&quot;Western&quot;</td><td>9</td><td>3</td><td>&quot;2025-03-10&quot;</td><td>&quot;P&quot;</td><td>1</td><td>1</td><td>&quot;Pacific&quot;</td><td>3</td><td>1</td><td>2</td><td>63</td><td>39</td><td>0.619048</td><td>174</td><td>213</td><td>3.380952</td><td>34</td><td>40</td><td>83</td><td>123</td><td>7</td><td>3</td><td>51</td><td>24</td><td>23</td><td>0</td><td>24</td><td>10</td><td>11</td><td>25</td><td>36</td><td>3</td><td>0</td><td>&hellip;</td><td>19</td><td>6</td><td>{&quot;Vegas&quot;,null}</td><td>0.650794</td><td>82</td><td>0.587302</td><td>37</td><td>0.555556</td><td>35</td><td>29</td><td>-1</td><td>91</td><td>90</td><td>12</td><td>3</td><td>31</td><td>13</td><td>12</td><td>0</td><td>14</td><td>20242025</td><td>2</td><td>1</td><td>&quot;L&quot;</td><td>1</td><td>&quot;Vegas Golden Knights&quot;</td><td>{&quot;Golden Knights&quot;,null}</td><td>{&quot;VGK&quot;}</td><td>&quot;https://assets.nhle.com/logos/…</td><td>0</td><td>29</td><td>0</td><td>0.603175</td><td>38</td><td>&quot;VGK&quot;</td><td>&quot;Pacific&quot;</td><td>&quot;Western&quot;</td></tr><tr><td>&hellip;</td><td>&hellip;</td><td>&hellip;</td><td>&hellip;</td><td>&hellip;</td><td>&hellip;</td><td>&hellip;</td><td>&hellip;</td><td>&hellip;</td><td>&hellip;</td><td>&hellip;</td><td>&hellip;</td><td>&hellip;</td><td>&hellip;</td><td>&hellip;</td><td>&hellip;</td><td>&hellip;</td><td>&hellip;</td><td>&hellip;</td><td>&hellip;</td><td>&hellip;</td><td>&hellip;</td><td>&hellip;</td><td>&hellip;</td><td>&hellip;</td><td>&hellip;</td><td>&hellip;</td><td>&hellip;</td><td>&hellip;</td><td>&hellip;</td><td>&hellip;</td><td>&hellip;</td><td>&hellip;</td><td>&hellip;</td><td>&hellip;</td><td>&hellip;</td><td>&hellip;</td><td>&hellip;</td><td>&hellip;</td><td>&hellip;</td><td>&hellip;</td><td>&hellip;</td><td>&hellip;</td><td>&hellip;</td><td>&hellip;</td><td>&hellip;</td><td>&hellip;</td><td>&hellip;</td><td>&hellip;</td><td>&hellip;</td><td>&hellip;</td><td>&hellip;</td><td>&hellip;</td><td>&hellip;</td><td>&hellip;</td><td>&hellip;</td><td>&hellip;</td><td>&hellip;</td><td>&hellip;</td><td>&hellip;</td><td>&hellip;</td><td>&hellip;</td><td>&hellip;</td><td>&hellip;</td><td>&hellip;</td><td>&hellip;</td><td>&hellip;</td><td>&hellip;</td><td>&hellip;</td><td>&hellip;</td><td>&hellip;</td><td>&hellip;</td><td>&hellip;</td><td>&hellip;</td><td>&hellip;</td></tr><tr><td>&quot;W&quot;</td><td>12</td><td>13</td><td>&quot;Western&quot;</td><td>13</td><td>13</td><td>&quot;2025-03-10&quot;</td><td>&quot;P&quot;</td><td>7</td><td>6</td><td>&quot;Pacific&quot;</td><td>7</td><td>7</td><td>2</td><td>65</td><td>-20</td><td>-0.307692</td><td>212</td><td>192</td><td>2.953846</td><td>33</td><td>-1</td><td>98</td><td>97</td><td>15</td><td>4</td><td>32</td><td>14</td><td>12</td><td>0</td><td>14</td><td>10</td><td>-7</td><td>34</td><td>27</td><td>6</td><td>0</td><td>&hellip;</td><td>34</td><td>4</td><td>{&quot;Seattle&quot;,null}</td><td>0.446154</td><td>58</td><td>0.4</td><td>26</td><td>0.338462</td><td>22</td><td>32</td><td>-19</td><td>114</td><td>95</td><td>19</td><td>0</td><td>26</td><td>12</td><td>10</td><td>0</td><td>13</td><td>20242025</td><td>3</td><td>1</td><td>&quot;L&quot;</td><td>1</td><td>&quot;Seattle Kraken&quot;</td><td>{&quot;Kraken&quot;,null}</td><td>{&quot;SEA&quot;}</td><td>&quot;https://assets.nhle.com/logos/…</td><td>0</td><td>5</td><td>7</td><td>0.415385</td><td>27</td><td>&quot;SEA&quot;</td><td>&quot;Pacific&quot;</td><td>&quot;Western&quot;</td></tr><tr><td>&quot;E&quot;</td><td>11</td><td>13</td><td>&quot;Eastern&quot;</td><td>16</td><td>16</td><td>&quot;2025-03-10&quot;</td><td>&quot;A&quot;</td><td>7</td><td>6</td><td>&quot;Atlantic&quot;</td><td>8</td><td>8</td><td>2</td><td>63</td><td>-21</td><td>-0.333333</td><td>220</td><td>199</td><td>3.15873</td><td>33</td><td>0</td><td>113</td><td>113</td><td>14</td><td>3</td><td>35</td><td>14</td><td>13</td><td>0</td><td>16</td><td>10</td><td>-9</td><td>41</td><td>32</td><td>6</td><td>1</td><td>&hellip;</td><td>32</td><td>6</td><td>{&quot;Buffalo&quot;,null}</td><td>0.444444</td><td>56</td><td>0.365079</td><td>23</td><td>0.333333</td><td>21</td><td>30</td><td>-21</td><td>107</td><td>86</td><td>18</td><td>3</td><td>21</td><td>9</td><td>8</td><td>0</td><td>9</td><td>20242025</td><td>1</td><td>2</td><td>&quot;W&quot;</td><td>1</td><td>&quot;Buffalo Sabres&quot;</td><td>{&quot;Sabres&quot;,null}</td><td>{&quot;BUF&quot;}</td><td>&quot;https://assets.nhle.com/logos/…</td><td>0</td><td>4</td><td>10</td><td>0.396825</td><td>25</td><td>&quot;BUF&quot;</td><td>&quot;Atlantic&quot;</td><td>&quot;Eastern&quot;</td></tr><tr><td>&quot;W&quot;</td><td>8</td><td>6</td><td>&quot;Western&quot;</td><td>16</td><td>14</td><td>&quot;2025-03-10&quot;</td><td>&quot;C&quot;</td><td>4</td><td>5</td><td>&quot;Central&quot;</td><td>8</td><td>7</td><td>2</td><td>63</td><td>-42</td><td>-0.666667</td><td>209</td><td>167</td><td>2.650794</td><td>32</td><td>0</td><td>97</td><td>97</td><td>12</td><td>3</td><td>37</td><td>16</td><td>13</td><td>0</td><td>17</td><td>10</td><td>-5</td><td>34</td><td>29</td><td>4</td><td>0</td><td>&hellip;</td><td>32</td><td>7</td><td>{&quot;Nashville&quot;,null}</td><td>0.436508</td><td>55</td><td>0.365079</td><td>23</td><td>0.31746</td><td>20</td><td>31</td><td>-42</td><td>112</td><td>70</td><td>20</td><td>4</td><td>18</td><td>7</td><td>7</td><td>0</td><td>7</td><td>20242025</td><td>0</td><td>1</td><td>&quot;W&quot;</td><td>3</td><td>&quot;Nashville Predators&quot;</td><td>{&quot;Predators&quot;,null}</td><td>{&quot;NSH&quot;}</td><td>&quot;https://assets.nhle.com/logos/…</td><td>0</td><td>3</td><td>8</td><td>0.380952</td><td>24</td><td>&quot;NSH&quot;</td><td>&quot;Central&quot;</td><td>&quot;Western&quot;</td></tr><tr><td>&quot;W&quot;</td><td>14</td><td>14</td><td>&quot;Western&quot;</td><td>15</td><td>15</td><td>&quot;2025-03-10&quot;</td><td>&quot;C&quot;</td><td>7</td><td>8</td><td>&quot;Central&quot;</td><td>7</td><td>8</td><td>2</td><td>65</td><td>-49</td><td>-0.753846</td><td>227</td><td>178</td><td>2.738462</td><td>32</td><td>-13</td><td>109</td><td>96</td><td>15</td><td>4</td><td>30</td><td>13</td><td>11</td><td>0</td><td>13</td><td>10</td><td>-7</td><td>36</td><td>29</td><td>5</td><td>2</td><td>&hellip;</td><td>36</td><td>9</td><td>{&quot;Chicago&quot;,null}</td><td>0.376923</td><td>49</td><td>0.292308</td><td>19</td><td>0.261538</td><td>17</td><td>33</td><td>-36</td><td>118</td><td>82</td><td>21</td><td>5</td><td>19</td><td>6</td><td>6</td><td>0</td><td>7</td><td>20242025</td><td>2</td><td>1</td><td>&quot;L&quot;</td><td>1</td><td>&quot;Chicago Blackhawks&quot;</td><td>{&quot;Blackhawks&quot;,null}</td><td>{&quot;CHI&quot;}</td><td>&quot;https://assets.nhle.com/logos/…</td><td>0</td><td>2</td><td>9</td><td>0.307692</td><td>20</td><td>&quot;CHI&quot;</td><td>&quot;Central&quot;</td><td>&quot;Western&quot;</td></tr><tr><td>&quot;W&quot;</td><td>16</td><td>15</td><td>&quot;Western&quot;</td><td>14</td><td>16</td><td>&quot;2025-03-10&quot;</td><td>&quot;P&quot;</td><td>8</td><td>7</td><td>&quot;Pacific&quot;</td><td>8</td><td>8</td><td>2</td><td>65</td><td>-74</td><td>-1.138462</td><td>245</td><td>171</td><td>2.630769</td><td>30</td><td>-29</td><td>110</td><td>81</td><td>19</td><td>2</td><td>20</td><td>9</td><td>7</td><td>0</td><td>9</td><td>10</td><td>-12</td><td>39</td><td>27</td><td>5</td><td>3</td><td>&hellip;</td><td>39</td><td>9</td><td>{&quot;San Jose&quot;,null}</td><td>0.330769</td><td>43</td><td>0.246154</td><td>16</td><td>0.184615</td><td>12</td><td>35</td><td>-45</td><td>135</td><td>90</td><td>20</td><td>7</td><td>23</td><td>7</td><td>5</td><td>0</td><td>8</td><td>20242025</td><td>4</td><td>1</td><td>&quot;L&quot;</td><td>2</td><td>&quot;San Jose Sharks&quot;</td><td>{&quot;Sharks&quot;,null}</td><td>{&quot;SJS&quot;}</td><td>&quot;https://assets.nhle.com/logos/…</td><td>0</td><td>1</td><td>10</td><td>0.261538</td><td>17</td><td>&quot;SJS&quot;</td><td>&quot;Pacific&quot;</td><td>&quot;Western&quot;</td></tr></tbody></table></div>"
      ],
      "text/plain": [
       "shape: (32, 83)\n",
       "┌────────────┬────────────┬────────────┬────────────┬───┬──────┬───────────┬───────────┬───────────┐\n",
       "│ conference ┆ conference ┆ conference ┆ conference ┆ … ┆ wins ┆ abbreviat ┆ division  ┆ conferenc │\n",
       "│ Abbrev     ┆ HomeSequen ┆ L10Sequenc ┆ Name       ┆   ┆ ---  ┆ ion       ┆ ---       ┆ e         │\n",
       "│ ---        ┆ ce         ┆ e          ┆ ---        ┆   ┆ i32  ┆ ---       ┆ str       ┆ ---       │\n",
       "│ str        ┆ ---        ┆ ---        ┆ str        ┆   ┆      ┆ str       ┆           ┆ str       │\n",
       "│            ┆ i64        ┆ i64        ┆            ┆   ┆      ┆           ┆           ┆           │\n",
       "╞════════════╪════════════╪════════════╪════════════╪═══╪══════╪═══════════╪═══════════╪═══════════╡\n",
       "│ E          ┆ 3          ┆ 3          ┆ Eastern    ┆ … ┆ 42   ┆ WSH       ┆ Metropoli ┆ Eastern   │\n",
       "│            ┆            ┆            ┆            ┆   ┆      ┆           ┆ tan       ┆           │\n",
       "│ W          ┆ 2          ┆ 5          ┆ Western    ┆ … ┆ 44   ┆ WPG       ┆ Central   ┆ Western   │\n",
       "│ W          ┆ 3          ┆ 2          ┆ Western    ┆ … ┆ 42   ┆ DAL       ┆ Central   ┆ Western   │\n",
       "│ E          ┆ 4          ┆ 2          ┆ Eastern    ┆ … ┆ 40   ┆ FLA       ┆ Atlantic  ┆ Eastern   │\n",
       "│ W          ┆ 1          ┆ 4          ┆ Western    ┆ … ┆ 38   ┆ VGK       ┆ Pacific   ┆ Western   │\n",
       "│ …          ┆ …          ┆ …          ┆ …          ┆ … ┆ …    ┆ …         ┆ …         ┆ …         │\n",
       "│ W          ┆ 12         ┆ 13         ┆ Western    ┆ … ┆ 27   ┆ SEA       ┆ Pacific   ┆ Western   │\n",
       "│ E          ┆ 11         ┆ 13         ┆ Eastern    ┆ … ┆ 25   ┆ BUF       ┆ Atlantic  ┆ Eastern   │\n",
       "│ W          ┆ 8          ┆ 6          ┆ Western    ┆ … ┆ 24   ┆ NSH       ┆ Central   ┆ Western   │\n",
       "│ W          ┆ 14         ┆ 14         ┆ Western    ┆ … ┆ 20   ┆ CHI       ┆ Central   ┆ Western   │\n",
       "│ W          ┆ 16         ┆ 15         ┆ Western    ┆ … ┆ 17   ┆ SJS       ┆ Pacific   ┆ Western   │\n",
       "└────────────┴────────────┴────────────┴────────────┴───┴──────┴───────────┴───────────┴───────────┘"
      ]
     },
     "execution_count": 70,
     "metadata": {},
     "output_type": "execute_result"
    }
   ],
   "source": [
    "await scraper.scrape_standings(date=\"2025-03-10\")"
   ]
  },
  {
   "cell_type": "code",
   "execution_count": 71,
   "metadata": {},
   "outputs": [
    {
     "name": "stderr",
     "output_type": "stream",
     "text": [
      "Scraping NHL Draft Data:   0%|          | 0/15 [00:00<?, ?it/s]"
     ]
    },
    {
     "name": "stderr",
     "output_type": "stream",
     "text": [
      "Scraping NHL Draft Data: 100%|██████████| 15/15 [00:00<00:00, 48.80it/s]\n"
     ]
    },
    {
     "data": {
      "text/html": [
       "<div><style>\n",
       ".dataframe > thead > tr,\n",
       ".dataframe > tbody > tr {\n",
       "  text-align: right;\n",
       "  white-space: pre-wrap;\n",
       "}\n",
       "</style>\n",
       "<small>shape: (3_235, 23)</small><table border=\"1\" class=\"dataframe\"><thead><tr><th>round</th><th>pickInRound</th><th>overallPick</th><th>teamId</th><th>teamAbbrev</th><th>teamName</th><th>teamCommonName</th><th>teamPlaceNameWithPreposition</th><th>displayAbbrev</th><th>teamLogoLight</th><th>teamLogoDark</th><th>teamPickHistory</th><th>firstName</th><th>lastName</th><th>positionCode</th><th>countryCode</th><th>height</th><th>weight</th><th>amateurLeague</th><th>amateurClubName</th><th>draftYear</th><th>fullName</th><th>meta_datetime</th></tr><tr><td>i64</td><td>i64</td><td>i64</td><td>i64</td><td>str</td><td>str</td><td>str</td><td>str</td><td>str</td><td>str</td><td>str</td><td>str</td><td>str</td><td>str</td><td>str</td><td>str</td><td>i64</td><td>i64</td><td>str</td><td>str</td><td>i64</td><td>str</td><td>datetime[μs]</td></tr></thead><tbody><tr><td>1</td><td>1</td><td>1</td><td>16</td><td>&quot;CHI&quot;</td><td>&quot;Chicago Blackhawks&quot;</td><td>&quot;Blackhawks&quot;</td><td>&quot;Chicago&quot;</td><td>&quot;CHI&quot;</td><td>&quot;https://assets.nhle.com/logos/…</td><td>&quot;https://assets.nhle.com/logos/…</td><td>&quot;CHI&quot;</td><td>&quot;Connor&quot;</td><td>&quot;Bedard&quot;</td><td>&quot;C&quot;</td><td>&quot;CAN&quot;</td><td>70</td><td>185</td><td>&quot;WHL&quot;</td><td>&quot;Regina&quot;</td><td>2023</td><td>&quot;Connor Bedard&quot;</td><td>2025-03-20 12:11:02.902382</td></tr><tr><td>1</td><td>2</td><td>2</td><td>24</td><td>&quot;ANA&quot;</td><td>&quot;Anaheim Ducks&quot;</td><td>&quot;Ducks&quot;</td><td>&quot;Anaheim&quot;</td><td>&quot;ANA&quot;</td><td>&quot;https://assets.nhle.com/logos/…</td><td>&quot;https://assets.nhle.com/logos/…</td><td>&quot;ANA&quot;</td><td>&quot;Leo&quot;</td><td>&quot;Carlsson&quot;</td><td>&quot;C&quot;</td><td>&quot;SWE&quot;</td><td>74</td><td>194</td><td>&quot;SWEDEN&quot;</td><td>&quot;Orebro&quot;</td><td>2023</td><td>&quot;Leo Carlsson&quot;</td><td>2025-03-20 12:11:02.902382</td></tr><tr><td>1</td><td>3</td><td>3</td><td>29</td><td>&quot;CBJ&quot;</td><td>&quot;Columbus Blue Jackets&quot;</td><td>&quot;Blue Jackets&quot;</td><td>&quot;Columbus&quot;</td><td>&quot;CBJ&quot;</td><td>&quot;https://assets.nhle.com/logos/…</td><td>&quot;https://assets.nhle.com/logos/…</td><td>&quot;CBJ&quot;</td><td>&quot;Adam&quot;</td><td>&quot;Fantilli&quot;</td><td>&quot;C&quot;</td><td>&quot;CAN&quot;</td><td>74</td><td>195</td><td>&quot;BIG10&quot;</td><td>&quot;Michigan&quot;</td><td>2023</td><td>&quot;Adam Fantilli&quot;</td><td>2025-03-20 12:11:02.902382</td></tr><tr><td>1</td><td>4</td><td>4</td><td>28</td><td>&quot;SJS&quot;</td><td>&quot;San Jose Sharks&quot;</td><td>&quot;Sharks&quot;</td><td>&quot;San Jose&quot;</td><td>&quot;SJS&quot;</td><td>&quot;https://assets.nhle.com/logos/…</td><td>&quot;https://assets.nhle.com/logos/…</td><td>&quot;SJS&quot;</td><td>&quot;Will&quot;</td><td>&quot;Smith&quot;</td><td>&quot;C&quot;</td><td>&quot;USA&quot;</td><td>72</td><td>180</td><td>&quot;NTDP&quot;</td><td>&quot;USA U-18&quot;</td><td>2023</td><td>&quot;Will Smith&quot;</td><td>2025-03-20 12:11:02.902382</td></tr><tr><td>1</td><td>5</td><td>5</td><td>8</td><td>&quot;MTL&quot;</td><td>&quot;Montréal Canadiens&quot;</td><td>&quot;Canadiens&quot;</td><td>&quot;Montréal&quot;</td><td>&quot;MTL&quot;</td><td>&quot;https://assets.nhle.com/logos/…</td><td>&quot;https://assets.nhle.com/logos/…</td><td>&quot;MTL&quot;</td><td>&quot;David&quot;</td><td>&quot;Reinbacher&quot;</td><td>&quot;D&quot;</td><td>&quot;AUT&quot;</td><td>74</td><td>194</td><td>&quot;SWISS&quot;</td><td>&quot;Kloten&quot;</td><td>2023</td><td>&quot;David Reinbacher&quot;</td><td>2025-03-20 12:11:02.902382</td></tr><tr><td>&hellip;</td><td>&hellip;</td><td>&hellip;</td><td>&hellip;</td><td>&hellip;</td><td>&hellip;</td><td>&hellip;</td><td>&hellip;</td><td>&hellip;</td><td>&hellip;</td><td>&hellip;</td><td>&hellip;</td><td>&hellip;</td><td>&hellip;</td><td>&hellip;</td><td>&hellip;</td><td>&hellip;</td><td>&hellip;</td><td>&hellip;</td><td>&hellip;</td><td>&hellip;</td><td>&hellip;</td><td>&hellip;</td></tr><tr><td>7</td><td>27</td><td>213</td><td>18</td><td>&quot;NSH&quot;</td><td>&quot;Nashville Predators&quot;</td><td>&quot;Predators&quot;</td><td>&quot;Nashville&quot;</td><td>&quot;NSH&quot;</td><td>&quot;https://assets.nhle.com/logos/…</td><td>&quot;https://assets.nhle.com/logos/…</td><td>&quot;NSH&quot;</td><td>&quot;Milan&quot;</td><td>&quot;Kloucek&quot;</td><td>&quot;G&quot;</td><td>&quot;CZE&quot;</td><td>75</td><td>196</td><td>&quot;CZREP&quot;</td><td>&quot;Pardubice&quot;</td><td>2018</td><td>&quot;Milan Kloucek&quot;</td><td>2025-03-20 12:11:02.902382</td></tr><tr><td>7</td><td>28</td><td>214</td><td>14</td><td>&quot;TBL&quot;</td><td>&quot;Tampa Bay Lightning&quot;</td><td>&quot;Lightning&quot;</td><td>&quot;Tampa Bay&quot;</td><td>&quot;TBL&quot;</td><td>&quot;https://assets.nhle.com/logos/…</td><td>&quot;https://assets.nhle.com/logos/…</td><td>&quot;TBL&quot;</td><td>&quot;Ty&quot;</td><td>&quot;Taylor&quot;</td><td>&quot;G&quot;</td><td>&quot;CAN&quot;</td><td>75</td><td>196</td><td>&quot;BCHL&quot;</td><td>&quot;Vernon&quot;</td><td>2018</td><td>&quot;Ty Taylor&quot;</td><td>2025-03-20 12:11:02.902382</td></tr><tr><td>7</td><td>29</td><td>215</td><td>52</td><td>&quot;WPG&quot;</td><td>&quot;Winnipeg Jets&quot;</td><td>&quot;Jets&quot;</td><td>&quot;Winnipeg&quot;</td><td>&quot;WPG&quot;</td><td>&quot;https://assets.nhle.com/logos/…</td><td>&quot;https://assets.nhle.com/logos/…</td><td>&quot;WPG&quot;</td><td>&quot;Austin&quot;</td><td>&quot;Wong&quot;</td><td>&quot;C&quot;</td><td>&quot;CAN&quot;</td><td>70</td><td>189</td><td>&quot;AJHL&quot;</td><td>&quot;Okotoks&quot;</td><td>2018</td><td>&quot;Austin Wong&quot;</td><td>2025-03-20 12:11:02.902382</td></tr><tr><td>7</td><td>30</td><td>216</td><td>3</td><td>&quot;NYR&quot;</td><td>&quot;New York Rangers&quot;</td><td>&quot;Rangers&quot;</td><td>&quot;New York&quot;</td><td>&quot;NYR&quot;</td><td>&quot;https://assets.nhle.com/logos/…</td><td>&quot;https://assets.nhle.com/logos/…</td><td>&quot;VGK-CAR-NYR&quot;</td><td>&quot;Riley&quot;</td><td>&quot;Hughes&quot;</td><td>&quot;RW&quot;</td><td>&quot;USA&quot;</td><td>73</td><td>174</td><td>&quot;HIGH-MA&quot;</td><td>&quot;St. Sebastian&#x27;s School&quot;</td><td>2018</td><td>&quot;Riley Hughes&quot;</td><td>2025-03-20 12:11:02.902382</td></tr><tr><td>7</td><td>31</td><td>217</td><td>15</td><td>&quot;WSH&quot;</td><td>&quot;Washington Capitals&quot;</td><td>&quot;Capitals&quot;</td><td>&quot;Washington&quot;</td><td>&quot;WSH&quot;</td><td>&quot;https://assets.nhle.com/logos/…</td><td>&quot;https://assets.nhle.com/logos/…</td><td>&quot;WSH&quot;</td><td>&quot;Eric&quot;</td><td>&quot;Florchuk&quot;</td><td>&quot;C&quot;</td><td>&quot;CAN&quot;</td><td>73</td><td>175</td><td>&quot;WHL&quot;</td><td>&quot;Saskatoon&quot;</td><td>2018</td><td>&quot;Eric Florchuk&quot;</td><td>2025-03-20 12:11:02.902382</td></tr></tbody></table></div>"
      ],
      "text/plain": [
       "shape: (3_235, 23)\n",
       "┌───────┬─────────────┬────────────┬────────┬───┬────────────┬───────────┬────────────┬────────────┐\n",
       "│ round ┆ pickInRound ┆ overallPic ┆ teamId ┆ … ┆ amateurClu ┆ draftYear ┆ fullName   ┆ meta_datet │\n",
       "│ ---   ┆ ---         ┆ k          ┆ ---    ┆   ┆ bName      ┆ ---       ┆ ---        ┆ ime        │\n",
       "│ i64   ┆ i64         ┆ ---        ┆ i64    ┆   ┆ ---        ┆ i64       ┆ str        ┆ ---        │\n",
       "│       ┆             ┆ i64        ┆        ┆   ┆ str        ┆           ┆            ┆ datetime[μ │\n",
       "│       ┆             ┆            ┆        ┆   ┆            ┆           ┆            ┆ s]         │\n",
       "╞═══════╪═════════════╪════════════╪════════╪═══╪════════════╪═══════════╪════════════╪════════════╡\n",
       "│ 1     ┆ 1           ┆ 1          ┆ 16     ┆ … ┆ Regina     ┆ 2023      ┆ Connor     ┆ 2025-03-20 │\n",
       "│       ┆             ┆            ┆        ┆   ┆            ┆           ┆ Bedard     ┆ 12:11:02.9 │\n",
       "│       ┆             ┆            ┆        ┆   ┆            ┆           ┆            ┆ 02382      │\n",
       "│ 1     ┆ 2           ┆ 2          ┆ 24     ┆ … ┆ Orebro     ┆ 2023      ┆ Leo        ┆ 2025-03-20 │\n",
       "│       ┆             ┆            ┆        ┆   ┆            ┆           ┆ Carlsson   ┆ 12:11:02.9 │\n",
       "│       ┆             ┆            ┆        ┆   ┆            ┆           ┆            ┆ 02382      │\n",
       "│ 1     ┆ 3           ┆ 3          ┆ 29     ┆ … ┆ Michigan   ┆ 2023      ┆ Adam       ┆ 2025-03-20 │\n",
       "│       ┆             ┆            ┆        ┆   ┆            ┆           ┆ Fantilli   ┆ 12:11:02.9 │\n",
       "│       ┆             ┆            ┆        ┆   ┆            ┆           ┆            ┆ 02382      │\n",
       "│ 1     ┆ 4           ┆ 4          ┆ 28     ┆ … ┆ USA U-18   ┆ 2023      ┆ Will Smith ┆ 2025-03-20 │\n",
       "│       ┆             ┆            ┆        ┆   ┆            ┆           ┆            ┆ 12:11:02.9 │\n",
       "│       ┆             ┆            ┆        ┆   ┆            ┆           ┆            ┆ 02382      │\n",
       "│ 1     ┆ 5           ┆ 5          ┆ 8      ┆ … ┆ Kloten     ┆ 2023      ┆ David      ┆ 2025-03-20 │\n",
       "│       ┆             ┆            ┆        ┆   ┆            ┆           ┆ Reinbacher ┆ 12:11:02.9 │\n",
       "│       ┆             ┆            ┆        ┆   ┆            ┆           ┆            ┆ 02382      │\n",
       "│ …     ┆ …           ┆ …          ┆ …      ┆ … ┆ …          ┆ …         ┆ …          ┆ …          │\n",
       "│ 7     ┆ 27          ┆ 213        ┆ 18     ┆ … ┆ Pardubice  ┆ 2018      ┆ Milan      ┆ 2025-03-20 │\n",
       "│       ┆             ┆            ┆        ┆   ┆            ┆           ┆ Kloucek    ┆ 12:11:02.9 │\n",
       "│       ┆             ┆            ┆        ┆   ┆            ┆           ┆            ┆ 02382      │\n",
       "│ 7     ┆ 28          ┆ 214        ┆ 14     ┆ … ┆ Vernon     ┆ 2018      ┆ Ty Taylor  ┆ 2025-03-20 │\n",
       "│       ┆             ┆            ┆        ┆   ┆            ┆           ┆            ┆ 12:11:02.9 │\n",
       "│       ┆             ┆            ┆        ┆   ┆            ┆           ┆            ┆ 02382      │\n",
       "│ 7     ┆ 29          ┆ 215        ┆ 52     ┆ … ┆ Okotoks    ┆ 2018      ┆ Austin     ┆ 2025-03-20 │\n",
       "│       ┆             ┆            ┆        ┆   ┆            ┆           ┆ Wong       ┆ 12:11:02.9 │\n",
       "│       ┆             ┆            ┆        ┆   ┆            ┆           ┆            ┆ 02382      │\n",
       "│ 7     ┆ 30          ┆ 216        ┆ 3      ┆ … ┆ St. Sebast ┆ 2018      ┆ Riley      ┆ 2025-03-20 │\n",
       "│       ┆             ┆            ┆        ┆   ┆ ian's      ┆           ┆ Hughes     ┆ 12:11:02.9 │\n",
       "│       ┆             ┆            ┆        ┆   ┆ School     ┆           ┆            ┆ 02382      │\n",
       "│ 7     ┆ 31          ┆ 217        ┆ 15     ┆ … ┆ Saskatoon  ┆ 2018      ┆ Eric       ┆ 2025-03-20 │\n",
       "│       ┆             ┆            ┆        ┆   ┆            ┆           ┆ Florchuk   ┆ 12:11:02.9 │\n",
       "│       ┆             ┆            ┆        ┆   ┆            ┆           ┆            ┆ 02382      │\n",
       "└───────┴─────────────┴────────────┴────────┴───┴────────────┴───────────┴────────────┴────────────┘"
      ]
     },
     "execution_count": 71,
     "metadata": {},
     "output_type": "execute_result"
    }
   ],
   "source": [
    "await scraper.scrape_draft(years=[i for i in range(2010, 2025)])"
   ]
  },
  {
   "cell_type": "code",
   "execution_count": 62,
   "metadata": {},
   "outputs": [
    {
     "name": "stderr",
     "output_type": "stream",
     "text": [
      "Scraping NHL Team Schedule: 100%|██████████| 1/1 [00:01<00:00,  1.44s/it]\n"
     ]
    },
    {
     "data": {
      "text/html": [
       "<div><style>\n",
       ".dataframe > thead > tr,\n",
       ".dataframe > tbody > tr {\n",
       "  text-align: right;\n",
       "  white-space: pre-wrap;\n",
       "}\n",
       "</style>\n",
       "<small>shape: (88, 36)</small><table border=\"1\" class=\"dataframe\"><thead><tr><th>id</th><th>season</th><th>gameType</th><th>gameDate</th><th>venue</th><th>neutralSite</th><th>startTimeUTC</th><th>easternUTCOffset</th><th>venueUTCOffset</th><th>venueTimezone</th><th>gameState</th><th>gameScheduleState</th><th>gameOutcome</th><th>team_key</th><th>season_key</th><th>awayTeamId</th><th>homeTeamId</th><th>awayTeamScore</th><th>homeTeamScore</th><th>awayTeamCommonName</th><th>homeTeamCommonName</th><th>placeNameHome</th><th>placeNameAway</th><th>awayTeamAbbrev</th><th>homeTeamAbbrev</th><th>awayTeamLogo</th><th>homeTeamLogo</th><th>awayTeamDarkLogo</th><th>homeTeamDarkLogo</th><th>winningGoalieId</th><th>winningGoalieFirstInitial</th><th>winningGoalieLastName</th><th>winningGoalScorerId</th><th>winningGoalScorerFirstInitial</th><th>winningGoalScorerLastName</th><th>meta_datetime</th></tr><tr><td>i64</td><td>i64</td><td>i64</td><td>date</td><td>str</td><td>bool</td><td>str</td><td>str</td><td>str</td><td>str</td><td>str</td><td>str</td><td>str</td><td>str</td><td>i64</td><td>i64</td><td>i64</td><td>i64</td><td>i64</td><td>str</td><td>str</td><td>str</td><td>str</td><td>str</td><td>str</td><td>str</td><td>str</td><td>str</td><td>str</td><td>i64</td><td>str</td><td>str</td><td>i64</td><td>str</td><td>str</td><td>datetime[μs]</td></tr></thead><tbody><tr><td>2024010015</td><td>20242025</td><td>1</td><td>2024-09-23</td><td>&quot;Centre Bell&quot;</td><td>false</td><td>&quot;2024-09-23T23:00:00Z&quot;</td><td>&quot;-04:00&quot;</td><td>&quot;-04:00&quot;</td><td>&quot;America/Montreal&quot;</td><td>&quot;FINAL&quot;</td><td>&quot;OK&quot;</td><td>&quot;REG&quot;</td><td>&quot;MTL&quot;</td><td>20242025</td><td>4</td><td>8</td><td>0</td><td>5</td><td>&quot;Flyers&quot;</td><td>&quot;Canadiens&quot;</td><td>&quot;Philadelphia&quot;</td><td>&quot;Montréal&quot;</td><td>&quot;PHI&quot;</td><td>&quot;MTL&quot;</td><td>&quot;https://assets.nhle.com/logos/…</td><td>&quot;https://assets.nhle.com/logos/…</td><td>&quot;https://assets.nhle.com/logos/…</td><td>&quot;https://assets.nhle.com/logos/…</td><td>8480051</td><td>&quot;C.&quot;</td><td>&quot;Primeau&quot;</td><td>8482134</td><td>&quot;L.&quot;</td><td>&quot;Tuch&quot;</td><td>2025-03-20 06:39:38.996575</td></tr><tr><td>2024010022</td><td>20242025</td><td>1</td><td>2024-09-24</td><td>&quot;Centre Bell&quot;</td><td>false</td><td>&quot;2024-09-24T23:00:00Z&quot;</td><td>&quot;-04:00&quot;</td><td>&quot;-04:00&quot;</td><td>&quot;America/Montreal&quot;</td><td>&quot;FINAL&quot;</td><td>&quot;OK&quot;</td><td>&quot;REG&quot;</td><td>&quot;MTL&quot;</td><td>20242025</td><td>1</td><td>8</td><td>0</td><td>3</td><td>&quot;Devils&quot;</td><td>&quot;Canadiens&quot;</td><td>&quot;New Jersey&quot;</td><td>&quot;Montréal&quot;</td><td>&quot;NJD&quot;</td><td>&quot;MTL&quot;</td><td>&quot;https://assets.nhle.com/logos/…</td><td>&quot;https://assets.nhle.com/logos/…</td><td>&quot;https://assets.nhle.com/logos/…</td><td>&quot;https://assets.nhle.com/logos/…</td><td>8478470</td><td>&quot;S.&quot;</td><td>&quot;Montembeault&quot;</td><td>8479543</td><td>&quot;M.&quot;</td><td>&quot;Pezzetta&quot;</td><td>2025-03-20 06:39:38.996575</td></tr><tr><td>2024010038</td><td>20242025</td><td>1</td><td>2024-09-26</td><td>&quot;Scotiabank Arena&quot;</td><td>false</td><td>&quot;2024-09-26T23:00:00Z&quot;</td><td>&quot;-04:00&quot;</td><td>&quot;-04:00&quot;</td><td>&quot;America/Toronto&quot;</td><td>&quot;FINAL&quot;</td><td>&quot;OK&quot;</td><td>&quot;REG&quot;</td><td>&quot;MTL&quot;</td><td>20242025</td><td>8</td><td>10</td><td>1</td><td>2</td><td>&quot;Canadiens&quot;</td><td>&quot;Maple Leafs&quot;</td><td>&quot;Montréal&quot;</td><td>&quot;Toronto&quot;</td><td>&quot;MTL&quot;</td><td>&quot;TOR&quot;</td><td>&quot;https://assets.nhle.com/logos/…</td><td>&quot;https://assets.nhle.com/logos/…</td><td>&quot;https://assets.nhle.com/logos/…</td><td>&quot;https://assets.nhle.com/logos/…</td><td>8476932</td><td>&quot;A.&quot;</td><td>&quot;Stolarz&quot;</td><td>8481582</td><td>&quot;N.&quot;</td><td>&quot;Robertson&quot;</td><td>2025-03-20 06:39:38.996575</td></tr><tr><td>2024010055</td><td>20242025</td><td>1</td><td>2024-09-28</td><td>&quot;Centre Bell&quot;</td><td>false</td><td>&quot;2024-09-28T23:00:00Z&quot;</td><td>&quot;-04:00&quot;</td><td>&quot;-04:00&quot;</td><td>&quot;America/Montreal&quot;</td><td>&quot;FINAL&quot;</td><td>&quot;OK&quot;</td><td>&quot;REG&quot;</td><td>&quot;MTL&quot;</td><td>20242025</td><td>10</td><td>8</td><td>2</td><td>1</td><td>&quot;Maple Leafs&quot;</td><td>&quot;Canadiens&quot;</td><td>&quot;Toronto&quot;</td><td>&quot;Montréal&quot;</td><td>&quot;TOR&quot;</td><td>&quot;MTL&quot;</td><td>&quot;https://assets.nhle.com/logos/…</td><td>&quot;https://assets.nhle.com/logos/…</td><td>&quot;https://assets.nhle.com/logos/…</td><td>&quot;https://assets.nhle.com/logos/…</td><td>8483710</td><td>&quot;D.&quot;</td><td>&quot;Hildeby&quot;</td><td>8481582</td><td>&quot;N.&quot;</td><td>&quot;Robertson&quot;</td><td>2025-03-20 06:39:38.996575</td></tr><tr><td>2024010073</td><td>20242025</td><td>1</td><td>2024-10-01</td><td>&quot;Centre Bell&quot;</td><td>false</td><td>&quot;2024-10-01T23:00:00Z&quot;</td><td>&quot;-04:00&quot;</td><td>&quot;-04:00&quot;</td><td>&quot;America/Montreal&quot;</td><td>&quot;FINAL&quot;</td><td>&quot;OK&quot;</td><td>&quot;REG&quot;</td><td>&quot;MTL&quot;</td><td>20242025</td><td>9</td><td>8</td><td>4</td><td>3</td><td>&quot;Senators&quot;</td><td>&quot;Canadiens&quot;</td><td>&quot;Ottawa&quot;</td><td>&quot;Montréal&quot;</td><td>&quot;OTT&quot;</td><td>&quot;MTL&quot;</td><td>&quot;https://assets.nhle.com/logos/…</td><td>&quot;https://assets.nhle.com/logos/…</td><td>&quot;https://assets.nhle.com/logos/…</td><td>&quot;https://assets.nhle.com/logos/…</td><td>8476999</td><td>&quot;L.&quot;</td><td>&quot;Ullmark&quot;</td><td>8484759</td><td>&quot;C.&quot;</td><td>&quot;Yakemchuk&quot;</td><td>2025-03-20 06:39:38.996575</td></tr><tr><td>&hellip;</td><td>&hellip;</td><td>&hellip;</td><td>&hellip;</td><td>&hellip;</td><td>&hellip;</td><td>&hellip;</td><td>&hellip;</td><td>&hellip;</td><td>&hellip;</td><td>&hellip;</td><td>&hellip;</td><td>&hellip;</td><td>&hellip;</td><td>&hellip;</td><td>&hellip;</td><td>&hellip;</td><td>&hellip;</td><td>&hellip;</td><td>&hellip;</td><td>&hellip;</td><td>&hellip;</td><td>&hellip;</td><td>&hellip;</td><td>&hellip;</td><td>&hellip;</td><td>&hellip;</td><td>&hellip;</td><td>&hellip;</td><td>&hellip;</td><td>&hellip;</td><td>&hellip;</td><td>&hellip;</td><td>&hellip;</td><td>&hellip;</td><td>&hellip;</td></tr><tr><td>2024021236</td><td>20242025</td><td>2</td><td>2025-04-08</td><td>&quot;Centre Bell&quot;</td><td>false</td><td>&quot;2025-04-08T23:00:00Z&quot;</td><td>&quot;-04:00&quot;</td><td>&quot;-04:00&quot;</td><td>&quot;America/Montreal&quot;</td><td>&quot;FUT&quot;</td><td>&quot;OK&quot;</td><td>null</td><td>&quot;MTL&quot;</td><td>20242025</td><td>17</td><td>8</td><td>null</td><td>null</td><td>&quot;Red Wings&quot;</td><td>&quot;Canadiens&quot;</td><td>&quot;Detroit&quot;</td><td>&quot;Montréal&quot;</td><td>&quot;DET&quot;</td><td>&quot;MTL&quot;</td><td>&quot;https://assets.nhle.com/logos/…</td><td>&quot;https://assets.nhle.com/logos/…</td><td>&quot;https://assets.nhle.com/logos/…</td><td>&quot;https://assets.nhle.com/logos/…</td><td>null</td><td>null</td><td>null</td><td>null</td><td>null</td><td>null</td><td>2025-03-20 06:39:38.996575</td></tr><tr><td>2024021260</td><td>20242025</td><td>2</td><td>2025-04-11</td><td>&quot;Canadian Tire Centre&quot;</td><td>false</td><td>&quot;2025-04-11T23:00:00Z&quot;</td><td>&quot;-04:00&quot;</td><td>&quot;-04:00&quot;</td><td>&quot;US/Eastern&quot;</td><td>&quot;FUT&quot;</td><td>&quot;OK&quot;</td><td>null</td><td>&quot;MTL&quot;</td><td>20242025</td><td>8</td><td>9</td><td>null</td><td>null</td><td>&quot;Canadiens&quot;</td><td>&quot;Senators&quot;</td><td>&quot;Montréal&quot;</td><td>&quot;Ottawa&quot;</td><td>&quot;MTL&quot;</td><td>&quot;OTT&quot;</td><td>&quot;https://assets.nhle.com/logos/…</td><td>&quot;https://assets.nhle.com/logos/…</td><td>&quot;https://assets.nhle.com/logos/…</td><td>&quot;https://assets.nhle.com/logos/…</td><td>null</td><td>null</td><td>null</td><td>null</td><td>null</td><td>null</td><td>2025-03-20 06:39:38.996575</td></tr><tr><td>2024021269</td><td>20242025</td><td>2</td><td>2025-04-12</td><td>&quot;Scotiabank Arena&quot;</td><td>false</td><td>&quot;2025-04-12T23:00:00Z&quot;</td><td>&quot;-04:00&quot;</td><td>&quot;-04:00&quot;</td><td>&quot;America/Toronto&quot;</td><td>&quot;FUT&quot;</td><td>&quot;OK&quot;</td><td>null</td><td>&quot;MTL&quot;</td><td>20242025</td><td>8</td><td>10</td><td>null</td><td>null</td><td>&quot;Canadiens&quot;</td><td>&quot;Maple Leafs&quot;</td><td>&quot;Montréal&quot;</td><td>&quot;Toronto&quot;</td><td>&quot;MTL&quot;</td><td>&quot;TOR&quot;</td><td>&quot;https://assets.nhle.com/logos/…</td><td>&quot;https://assets.nhle.com/logos/…</td><td>&quot;https://assets.nhle.com/logos/…</td><td>&quot;https://assets.nhle.com/logos/…</td><td>null</td><td>null</td><td>null</td><td>null</td><td>null</td><td>null</td><td>2025-03-20 06:39:38.996575</td></tr><tr><td>2024021285</td><td>20242025</td><td>2</td><td>2025-04-14</td><td>&quot;Centre Bell&quot;</td><td>false</td><td>&quot;2025-04-14T23:00:00Z&quot;</td><td>&quot;-04:00&quot;</td><td>&quot;-04:00&quot;</td><td>&quot;America/Montreal&quot;</td><td>&quot;FUT&quot;</td><td>&quot;OK&quot;</td><td>null</td><td>&quot;MTL&quot;</td><td>20242025</td><td>16</td><td>8</td><td>null</td><td>null</td><td>&quot;Blackhawks&quot;</td><td>&quot;Canadiens&quot;</td><td>&quot;Chicago&quot;</td><td>&quot;Montréal&quot;</td><td>&quot;CHI&quot;</td><td>&quot;MTL&quot;</td><td>&quot;https://assets.nhle.com/logos/…</td><td>&quot;https://assets.nhle.com/logos/…</td><td>&quot;https://assets.nhle.com/logos/…</td><td>&quot;https://assets.nhle.com/logos/…</td><td>null</td><td>null</td><td>null</td><td>null</td><td>null</td><td>null</td><td>2025-03-20 06:39:38.996575</td></tr><tr><td>2024021301</td><td>20242025</td><td>2</td><td>2025-04-16</td><td>&quot;Centre Bell&quot;</td><td>false</td><td>&quot;2025-04-16T23:00:00Z&quot;</td><td>&quot;-04:00&quot;</td><td>&quot;-04:00&quot;</td><td>&quot;America/Montreal&quot;</td><td>&quot;FUT&quot;</td><td>&quot;OK&quot;</td><td>null</td><td>&quot;MTL&quot;</td><td>20242025</td><td>12</td><td>8</td><td>null</td><td>null</td><td>&quot;Hurricanes&quot;</td><td>&quot;Canadiens&quot;</td><td>&quot;Carolina&quot;</td><td>&quot;Montréal&quot;</td><td>&quot;CAR&quot;</td><td>&quot;MTL&quot;</td><td>&quot;https://assets.nhle.com/logos/…</td><td>&quot;https://assets.nhle.com/logos/…</td><td>&quot;https://assets.nhle.com/logos/…</td><td>&quot;https://assets.nhle.com/logos/…</td><td>null</td><td>null</td><td>null</td><td>null</td><td>null</td><td>null</td><td>2025-03-20 06:39:38.996575</td></tr></tbody></table></div>"
      ],
      "text/plain": [
       "shape: (88, 36)\n",
       "┌────────────┬──────────┬──────────┬───────────┬───┬───────────┬───────────┬───────────┬───────────┐\n",
       "│ id         ┆ season   ┆ gameType ┆ gameDate  ┆ … ┆ winningGo ┆ winningGo ┆ winningGo ┆ meta_date │\n",
       "│ ---        ┆ ---      ┆ ---      ┆ ---       ┆   ┆ alScorerI ┆ alScorerF ┆ alScorerL ┆ time      │\n",
       "│ i64        ┆ i64      ┆ i64      ┆ date      ┆   ┆ d         ┆ irstIniti ┆ astName   ┆ ---       │\n",
       "│            ┆          ┆          ┆           ┆   ┆ ---       ┆ al        ┆ ---       ┆ datetime[ │\n",
       "│            ┆          ┆          ┆           ┆   ┆ i64       ┆ ---       ┆ str       ┆ μs]       │\n",
       "│            ┆          ┆          ┆           ┆   ┆           ┆ str       ┆           ┆           │\n",
       "╞════════════╪══════════╪══════════╪═══════════╪═══╪═══════════╪═══════════╪═══════════╪═══════════╡\n",
       "│ 2024010015 ┆ 20242025 ┆ 1        ┆ 2024-09-2 ┆ … ┆ 8482134   ┆ L.        ┆ Tuch      ┆ 2025-03-2 │\n",
       "│            ┆          ┆          ┆ 3         ┆   ┆           ┆           ┆           ┆ 0 06:39:3 │\n",
       "│            ┆          ┆          ┆           ┆   ┆           ┆           ┆           ┆ 8.996575  │\n",
       "│ 2024010022 ┆ 20242025 ┆ 1        ┆ 2024-09-2 ┆ … ┆ 8479543   ┆ M.        ┆ Pezzetta  ┆ 2025-03-2 │\n",
       "│            ┆          ┆          ┆ 4         ┆   ┆           ┆           ┆           ┆ 0 06:39:3 │\n",
       "│            ┆          ┆          ┆           ┆   ┆           ┆           ┆           ┆ 8.996575  │\n",
       "│ 2024010038 ┆ 20242025 ┆ 1        ┆ 2024-09-2 ┆ … ┆ 8481582   ┆ N.        ┆ Robertson ┆ 2025-03-2 │\n",
       "│            ┆          ┆          ┆ 6         ┆   ┆           ┆           ┆           ┆ 0 06:39:3 │\n",
       "│            ┆          ┆          ┆           ┆   ┆           ┆           ┆           ┆ 8.996575  │\n",
       "│ 2024010055 ┆ 20242025 ┆ 1        ┆ 2024-09-2 ┆ … ┆ 8481582   ┆ N.        ┆ Robertson ┆ 2025-03-2 │\n",
       "│            ┆          ┆          ┆ 8         ┆   ┆           ┆           ┆           ┆ 0 06:39:3 │\n",
       "│            ┆          ┆          ┆           ┆   ┆           ┆           ┆           ┆ 8.996575  │\n",
       "│ 2024010073 ┆ 20242025 ┆ 1        ┆ 2024-10-0 ┆ … ┆ 8484759   ┆ C.        ┆ Yakemchuk ┆ 2025-03-2 │\n",
       "│            ┆          ┆          ┆ 1         ┆   ┆           ┆           ┆           ┆ 0 06:39:3 │\n",
       "│            ┆          ┆          ┆           ┆   ┆           ┆           ┆           ┆ 8.996575  │\n",
       "│ …          ┆ …        ┆ …        ┆ …         ┆ … ┆ …         ┆ …         ┆ …         ┆ …         │\n",
       "│ 2024021236 ┆ 20242025 ┆ 2        ┆ 2025-04-0 ┆ … ┆ null      ┆ null      ┆ null      ┆ 2025-03-2 │\n",
       "│            ┆          ┆          ┆ 8         ┆   ┆           ┆           ┆           ┆ 0 06:39:3 │\n",
       "│            ┆          ┆          ┆           ┆   ┆           ┆           ┆           ┆ 8.996575  │\n",
       "│ 2024021260 ┆ 20242025 ┆ 2        ┆ 2025-04-1 ┆ … ┆ null      ┆ null      ┆ null      ┆ 2025-03-2 │\n",
       "│            ┆          ┆          ┆ 1         ┆   ┆           ┆           ┆           ┆ 0 06:39:3 │\n",
       "│            ┆          ┆          ┆           ┆   ┆           ┆           ┆           ┆ 8.996575  │\n",
       "│ 2024021269 ┆ 20242025 ┆ 2        ┆ 2025-04-1 ┆ … ┆ null      ┆ null      ┆ null      ┆ 2025-03-2 │\n",
       "│            ┆          ┆          ┆ 2         ┆   ┆           ┆           ┆           ┆ 0 06:39:3 │\n",
       "│            ┆          ┆          ┆           ┆   ┆           ┆           ┆           ┆ 8.996575  │\n",
       "│ 2024021285 ┆ 20242025 ┆ 2        ┆ 2025-04-1 ┆ … ┆ null      ┆ null      ┆ null      ┆ 2025-03-2 │\n",
       "│            ┆          ┆          ┆ 4         ┆   ┆           ┆           ┆           ┆ 0 06:39:3 │\n",
       "│            ┆          ┆          ┆           ┆   ┆           ┆           ┆           ┆ 8.996575  │\n",
       "│ 2024021301 ┆ 20242025 ┆ 2        ┆ 2025-04-1 ┆ … ┆ null      ┆ null      ┆ null      ┆ 2025-03-2 │\n",
       "│            ┆          ┆          ┆ 6         ┆   ┆           ┆           ┆           ┆ 0 06:39:3 │\n",
       "│            ┆          ┆          ┆           ┆   ┆           ┆           ┆           ┆ 8.996575  │\n",
       "└────────────┴──────────┴──────────┴───────────┴───┴───────────┴───────────┴───────────┴───────────┘"
      ]
     },
     "execution_count": 62,
     "metadata": {},
     "output_type": "execute_result"
    }
   ],
   "source": [
    "df = await scraper.scrape_team_schedule(team=\"MTL\", season=20242025)\n",
    "\n",
    "df"
   ]
  },
  {
   "cell_type": "code",
   "execution_count": 82,
   "metadata": {},
   "outputs": [
    {
     "name": "stderr",
     "output_type": "stream",
     "text": [
      "Scraping NHL Schedule: 100%|██████████| 2/2 [00:00<00:00,  3.73it/s]\n"
     ]
    },
    {
     "data": {
      "text/html": [
       "<div><style>\n",
       ".dataframe > thead > tr,\n",
       ".dataframe > tbody > tr {\n",
       "  text-align: right;\n",
       "  white-space: pre-wrap;\n",
       "}\n",
       "</style>\n",
       "<small>shape: (176, 37)</small><table border=\"1\" class=\"dataframe\"><thead><tr><th>id</th><th>season</th><th>gameType</th><th>gameDate</th><th>venue</th><th>neutralSite</th><th>startTimeUTC</th><th>easternUTCOffset</th><th>venueUTCOffset</th><th>venueTimezone</th><th>gameState</th><th>gameScheduleState</th><th>gameOutcome</th><th>team_key</th><th>season_key</th><th>awayTeamId</th><th>homeTeamId</th><th>awayTeamScore</th><th>homeTeamScore</th><th>awayTeamCommonName</th><th>homeTeamCommonName</th><th>placeNameHome</th><th>placeNameAway</th><th>awayTeamAbbrev</th><th>homeTeamAbbrev</th><th>awayTeamLogo</th><th>homeTeamLogo</th><th>awayTeamDarkLogo</th><th>homeTeamDarkLogo</th><th>winningGoalieId</th><th>winningGoalieFirstInitial</th><th>winningGoalieLastName</th><th>winningGoalScorerId</th><th>winningGoalScorerFirstInitial</th><th>winningGoalScorerLastName</th><th>_gameType</th><th>meta_datetime</th></tr><tr><td>i64</td><td>i64</td><td>i64</td><td>date</td><td>str</td><td>bool</td><td>str</td><td>str</td><td>str</td><td>str</td><td>str</td><td>str</td><td>str</td><td>str</td><td>i64</td><td>i64</td><td>i64</td><td>i64</td><td>i64</td><td>str</td><td>str</td><td>str</td><td>str</td><td>str</td><td>str</td><td>str</td><td>str</td><td>str</td><td>str</td><td>i64</td><td>str</td><td>str</td><td>i64</td><td>str</td><td>str</td><td>str</td><td>datetime[μs]</td></tr></thead><tbody><tr><td>2024010015</td><td>20242025</td><td>1</td><td>2024-09-23</td><td>&quot;Centre Bell&quot;</td><td>false</td><td>&quot;2024-09-23T23:00:00Z&quot;</td><td>&quot;-04:00&quot;</td><td>&quot;-04:00&quot;</td><td>&quot;America/Montreal&quot;</td><td>&quot;FINAL&quot;</td><td>&quot;OK&quot;</td><td>&quot;REG&quot;</td><td>&quot;MTL&quot;</td><td>20242025</td><td>4</td><td>8</td><td>0</td><td>5</td><td>&quot;Flyers&quot;</td><td>&quot;Canadiens&quot;</td><td>&quot;Philadelphia&quot;</td><td>&quot;Montréal&quot;</td><td>&quot;PHI&quot;</td><td>&quot;MTL&quot;</td><td>&quot;https://assets.nhle.com/logos/…</td><td>&quot;https://assets.nhle.com/logos/…</td><td>&quot;https://assets.nhle.com/logos/…</td><td>&quot;https://assets.nhle.com/logos/…</td><td>8480051</td><td>&quot;C.&quot;</td><td>&quot;Primeau&quot;</td><td>8482134</td><td>&quot;L.&quot;</td><td>&quot;Tuch&quot;</td><td>&quot;preseason&quot;</td><td>2025-03-20 12:56:41.619277</td></tr><tr><td>2024010022</td><td>20242025</td><td>1</td><td>2024-09-24</td><td>&quot;Centre Bell&quot;</td><td>false</td><td>&quot;2024-09-24T23:00:00Z&quot;</td><td>&quot;-04:00&quot;</td><td>&quot;-04:00&quot;</td><td>&quot;America/Montreal&quot;</td><td>&quot;FINAL&quot;</td><td>&quot;OK&quot;</td><td>&quot;REG&quot;</td><td>&quot;MTL&quot;</td><td>20242025</td><td>1</td><td>8</td><td>0</td><td>3</td><td>&quot;Devils&quot;</td><td>&quot;Canadiens&quot;</td><td>&quot;New Jersey&quot;</td><td>&quot;Montréal&quot;</td><td>&quot;NJD&quot;</td><td>&quot;MTL&quot;</td><td>&quot;https://assets.nhle.com/logos/…</td><td>&quot;https://assets.nhle.com/logos/…</td><td>&quot;https://assets.nhle.com/logos/…</td><td>&quot;https://assets.nhle.com/logos/…</td><td>8478470</td><td>&quot;S.&quot;</td><td>&quot;Montembeault&quot;</td><td>8479543</td><td>&quot;M.&quot;</td><td>&quot;Pezzetta&quot;</td><td>&quot;preseason&quot;</td><td>2025-03-20 12:56:41.619277</td></tr><tr><td>2024010038</td><td>20242025</td><td>1</td><td>2024-09-26</td><td>&quot;Scotiabank Arena&quot;</td><td>false</td><td>&quot;2024-09-26T23:00:00Z&quot;</td><td>&quot;-04:00&quot;</td><td>&quot;-04:00&quot;</td><td>&quot;America/Toronto&quot;</td><td>&quot;FINAL&quot;</td><td>&quot;OK&quot;</td><td>&quot;REG&quot;</td><td>&quot;MTL&quot;</td><td>20242025</td><td>8</td><td>10</td><td>1</td><td>2</td><td>&quot;Canadiens&quot;</td><td>&quot;Maple Leafs&quot;</td><td>&quot;Montréal&quot;</td><td>&quot;Toronto&quot;</td><td>&quot;MTL&quot;</td><td>&quot;TOR&quot;</td><td>&quot;https://assets.nhle.com/logos/…</td><td>&quot;https://assets.nhle.com/logos/…</td><td>&quot;https://assets.nhle.com/logos/…</td><td>&quot;https://assets.nhle.com/logos/…</td><td>8476932</td><td>&quot;A.&quot;</td><td>&quot;Stolarz&quot;</td><td>8481582</td><td>&quot;N.&quot;</td><td>&quot;Robertson&quot;</td><td>&quot;preseason&quot;</td><td>2025-03-20 12:56:41.619277</td></tr><tr><td>2024010055</td><td>20242025</td><td>1</td><td>2024-09-28</td><td>&quot;Centre Bell&quot;</td><td>false</td><td>&quot;2024-09-28T23:00:00Z&quot;</td><td>&quot;-04:00&quot;</td><td>&quot;-04:00&quot;</td><td>&quot;America/Montreal&quot;</td><td>&quot;FINAL&quot;</td><td>&quot;OK&quot;</td><td>&quot;REG&quot;</td><td>&quot;MTL&quot;</td><td>20242025</td><td>10</td><td>8</td><td>2</td><td>1</td><td>&quot;Maple Leafs&quot;</td><td>&quot;Canadiens&quot;</td><td>&quot;Toronto&quot;</td><td>&quot;Montréal&quot;</td><td>&quot;TOR&quot;</td><td>&quot;MTL&quot;</td><td>&quot;https://assets.nhle.com/logos/…</td><td>&quot;https://assets.nhle.com/logos/…</td><td>&quot;https://assets.nhle.com/logos/…</td><td>&quot;https://assets.nhle.com/logos/…</td><td>8483710</td><td>&quot;D.&quot;</td><td>&quot;Hildeby&quot;</td><td>8481582</td><td>&quot;N.&quot;</td><td>&quot;Robertson&quot;</td><td>&quot;preseason&quot;</td><td>2025-03-20 12:56:41.619277</td></tr><tr><td>2024010073</td><td>20242025</td><td>1</td><td>2024-10-01</td><td>&quot;Centre Bell&quot;</td><td>false</td><td>&quot;2024-10-01T23:00:00Z&quot;</td><td>&quot;-04:00&quot;</td><td>&quot;-04:00&quot;</td><td>&quot;America/Montreal&quot;</td><td>&quot;FINAL&quot;</td><td>&quot;OK&quot;</td><td>&quot;REG&quot;</td><td>&quot;MTL&quot;</td><td>20242025</td><td>9</td><td>8</td><td>4</td><td>3</td><td>&quot;Senators&quot;</td><td>&quot;Canadiens&quot;</td><td>&quot;Ottawa&quot;</td><td>&quot;Montréal&quot;</td><td>&quot;OTT&quot;</td><td>&quot;MTL&quot;</td><td>&quot;https://assets.nhle.com/logos/…</td><td>&quot;https://assets.nhle.com/logos/…</td><td>&quot;https://assets.nhle.com/logos/…</td><td>&quot;https://assets.nhle.com/logos/…</td><td>8476999</td><td>&quot;L.&quot;</td><td>&quot;Ullmark&quot;</td><td>8484759</td><td>&quot;C.&quot;</td><td>&quot;Yakemchuk&quot;</td><td>&quot;preseason&quot;</td><td>2025-03-20 12:56:41.619277</td></tr><tr><td>&hellip;</td><td>&hellip;</td><td>&hellip;</td><td>&hellip;</td><td>&hellip;</td><td>&hellip;</td><td>&hellip;</td><td>&hellip;</td><td>&hellip;</td><td>&hellip;</td><td>&hellip;</td><td>&hellip;</td><td>&hellip;</td><td>&hellip;</td><td>&hellip;</td><td>&hellip;</td><td>&hellip;</td><td>&hellip;</td><td>&hellip;</td><td>&hellip;</td><td>&hellip;</td><td>&hellip;</td><td>&hellip;</td><td>&hellip;</td><td>&hellip;</td><td>&hellip;</td><td>&hellip;</td><td>&hellip;</td><td>&hellip;</td><td>&hellip;</td><td>&hellip;</td><td>&hellip;</td><td>&hellip;</td><td>&hellip;</td><td>&hellip;</td><td>&hellip;</td><td>&hellip;</td></tr><tr><td>2024021245</td><td>20242025</td><td>2</td><td>2025-04-09</td><td>&quot;Amalie Arena&quot;</td><td>false</td><td>&quot;2025-04-09T23:00:00Z&quot;</td><td>&quot;-04:00&quot;</td><td>&quot;-04:00&quot;</td><td>&quot;US/Eastern&quot;</td><td>&quot;FUT&quot;</td><td>&quot;OK&quot;</td><td>null</td><td>&quot;TOR&quot;</td><td>20242025</td><td>10</td><td>14</td><td>null</td><td>null</td><td>&quot;Maple Leafs&quot;</td><td>&quot;Lightning&quot;</td><td>&quot;Toronto&quot;</td><td>&quot;Tampa Bay&quot;</td><td>&quot;TOR&quot;</td><td>&quot;TBL&quot;</td><td>&quot;https://assets.nhle.com/logos/…</td><td>&quot;https://assets.nhle.com/logos/…</td><td>&quot;https://assets.nhle.com/logos/…</td><td>&quot;https://assets.nhle.com/logos/…</td><td>null</td><td>null</td><td>null</td><td>null</td><td>null</td><td>null</td><td>&quot;regular&quot;</td><td>2025-03-20 12:56:41.619277</td></tr><tr><td>2024021269</td><td>20242025</td><td>2</td><td>2025-04-12</td><td>&quot;Scotiabank Arena&quot;</td><td>false</td><td>&quot;2025-04-12T23:00:00Z&quot;</td><td>&quot;-04:00&quot;</td><td>&quot;-04:00&quot;</td><td>&quot;America/Toronto&quot;</td><td>&quot;FUT&quot;</td><td>&quot;OK&quot;</td><td>null</td><td>&quot;TOR&quot;</td><td>20242025</td><td>8</td><td>10</td><td>null</td><td>null</td><td>&quot;Canadiens&quot;</td><td>&quot;Maple Leafs&quot;</td><td>&quot;Montréal&quot;</td><td>&quot;Toronto&quot;</td><td>&quot;MTL&quot;</td><td>&quot;TOR&quot;</td><td>&quot;https://assets.nhle.com/logos/…</td><td>&quot;https://assets.nhle.com/logos/…</td><td>&quot;https://assets.nhle.com/logos/…</td><td>&quot;https://assets.nhle.com/logos/…</td><td>null</td><td>null</td><td>null</td><td>null</td><td>null</td><td>null</td><td>&quot;regular&quot;</td><td>2025-03-20 12:56:41.619277</td></tr><tr><td>2024021279</td><td>20242025</td><td>2</td><td>2025-04-13</td><td>&quot;Lenovo Center&quot;</td><td>false</td><td>&quot;2025-04-13T21:00:00Z&quot;</td><td>&quot;-04:00&quot;</td><td>&quot;-04:00&quot;</td><td>&quot;US/Eastern&quot;</td><td>&quot;FUT&quot;</td><td>&quot;OK&quot;</td><td>null</td><td>&quot;TOR&quot;</td><td>20242025</td><td>10</td><td>12</td><td>null</td><td>null</td><td>&quot;Maple Leafs&quot;</td><td>&quot;Hurricanes&quot;</td><td>&quot;Toronto&quot;</td><td>&quot;Carolina&quot;</td><td>&quot;TOR&quot;</td><td>&quot;CAR&quot;</td><td>&quot;https://assets.nhle.com/logos/…</td><td>&quot;https://assets.nhle.com/logos/…</td><td>&quot;https://assets.nhle.com/logos/…</td><td>&quot;https://assets.nhle.com/logos/…</td><td>null</td><td>null</td><td>null</td><td>null</td><td>null</td><td>null</td><td>&quot;regular&quot;</td><td>2025-03-20 12:56:41.619277</td></tr><tr><td>2024021292</td><td>20242025</td><td>2</td><td>2025-04-15</td><td>&quot;KeyBank Center&quot;</td><td>false</td><td>&quot;2025-04-15T23:00:00Z&quot;</td><td>&quot;-04:00&quot;</td><td>&quot;-04:00&quot;</td><td>&quot;America/New_York&quot;</td><td>&quot;FUT&quot;</td><td>&quot;OK&quot;</td><td>null</td><td>&quot;TOR&quot;</td><td>20242025</td><td>10</td><td>7</td><td>null</td><td>null</td><td>&quot;Maple Leafs&quot;</td><td>&quot;Sabres&quot;</td><td>&quot;Toronto&quot;</td><td>&quot;Buffalo&quot;</td><td>&quot;TOR&quot;</td><td>&quot;BUF&quot;</td><td>&quot;https://assets.nhle.com/logos/…</td><td>&quot;https://assets.nhle.com/logos/…</td><td>&quot;https://assets.nhle.com/logos/…</td><td>&quot;https://assets.nhle.com/logos/…</td><td>null</td><td>null</td><td>null</td><td>null</td><td>null</td><td>null</td><td>&quot;regular&quot;</td><td>2025-03-20 12:56:41.619277</td></tr><tr><td>2024021308</td><td>20242025</td><td>2</td><td>2025-04-17</td><td>&quot;Scotiabank Arena&quot;</td><td>false</td><td>&quot;2025-04-17T23:00:00Z&quot;</td><td>&quot;-04:00&quot;</td><td>&quot;-04:00&quot;</td><td>&quot;America/Toronto&quot;</td><td>&quot;FUT&quot;</td><td>&quot;OK&quot;</td><td>null</td><td>&quot;TOR&quot;</td><td>20242025</td><td>17</td><td>10</td><td>null</td><td>null</td><td>&quot;Red Wings&quot;</td><td>&quot;Maple Leafs&quot;</td><td>&quot;Detroit&quot;</td><td>&quot;Toronto&quot;</td><td>&quot;DET&quot;</td><td>&quot;TOR&quot;</td><td>&quot;https://assets.nhle.com/logos/…</td><td>&quot;https://assets.nhle.com/logos/…</td><td>&quot;https://assets.nhle.com/logos/…</td><td>&quot;https://assets.nhle.com/logos/…</td><td>null</td><td>null</td><td>null</td><td>null</td><td>null</td><td>null</td><td>&quot;regular&quot;</td><td>2025-03-20 12:56:41.619277</td></tr></tbody></table></div>"
      ],
      "text/plain": [
       "shape: (176, 37)\n",
       "┌────────────┬──────────┬──────────┬───────────┬───┬───────────┬───────────┬───────────┬───────────┐\n",
       "│ id         ┆ season   ┆ gameType ┆ gameDate  ┆ … ┆ winningGo ┆ winningGo ┆ _gameType ┆ meta_date │\n",
       "│ ---        ┆ ---      ┆ ---      ┆ ---       ┆   ┆ alScorerF ┆ alScorerL ┆ ---       ┆ time      │\n",
       "│ i64        ┆ i64      ┆ i64      ┆ date      ┆   ┆ irstIniti ┆ astName   ┆ str       ┆ ---       │\n",
       "│            ┆          ┆          ┆           ┆   ┆ al        ┆ ---       ┆           ┆ datetime[ │\n",
       "│            ┆          ┆          ┆           ┆   ┆ ---       ┆ str       ┆           ┆ μs]       │\n",
       "│            ┆          ┆          ┆           ┆   ┆ str       ┆           ┆           ┆           │\n",
       "╞════════════╪══════════╪══════════╪═══════════╪═══╪═══════════╪═══════════╪═══════════╪═══════════╡\n",
       "│ 2024010015 ┆ 20242025 ┆ 1        ┆ 2024-09-2 ┆ … ┆ L.        ┆ Tuch      ┆ preseason ┆ 2025-03-2 │\n",
       "│            ┆          ┆          ┆ 3         ┆   ┆           ┆           ┆           ┆ 0 12:56:4 │\n",
       "│            ┆          ┆          ┆           ┆   ┆           ┆           ┆           ┆ 1.619277  │\n",
       "│ 2024010022 ┆ 20242025 ┆ 1        ┆ 2024-09-2 ┆ … ┆ M.        ┆ Pezzetta  ┆ preseason ┆ 2025-03-2 │\n",
       "│            ┆          ┆          ┆ 4         ┆   ┆           ┆           ┆           ┆ 0 12:56:4 │\n",
       "│            ┆          ┆          ┆           ┆   ┆           ┆           ┆           ┆ 1.619277  │\n",
       "│ 2024010038 ┆ 20242025 ┆ 1        ┆ 2024-09-2 ┆ … ┆ N.        ┆ Robertson ┆ preseason ┆ 2025-03-2 │\n",
       "│            ┆          ┆          ┆ 6         ┆   ┆           ┆           ┆           ┆ 0 12:56:4 │\n",
       "│            ┆          ┆          ┆           ┆   ┆           ┆           ┆           ┆ 1.619277  │\n",
       "│ 2024010055 ┆ 20242025 ┆ 1        ┆ 2024-09-2 ┆ … ┆ N.        ┆ Robertson ┆ preseason ┆ 2025-03-2 │\n",
       "│            ┆          ┆          ┆ 8         ┆   ┆           ┆           ┆           ┆ 0 12:56:4 │\n",
       "│            ┆          ┆          ┆           ┆   ┆           ┆           ┆           ┆ 1.619277  │\n",
       "│ 2024010073 ┆ 20242025 ┆ 1        ┆ 2024-10-0 ┆ … ┆ C.        ┆ Yakemchuk ┆ preseason ┆ 2025-03-2 │\n",
       "│            ┆          ┆          ┆ 1         ┆   ┆           ┆           ┆           ┆ 0 12:56:4 │\n",
       "│            ┆          ┆          ┆           ┆   ┆           ┆           ┆           ┆ 1.619277  │\n",
       "│ …          ┆ …        ┆ …        ┆ …         ┆ … ┆ …         ┆ …         ┆ …         ┆ …         │\n",
       "│ 2024021245 ┆ 20242025 ┆ 2        ┆ 2025-04-0 ┆ … ┆ null      ┆ null      ┆ regular   ┆ 2025-03-2 │\n",
       "│            ┆          ┆          ┆ 9         ┆   ┆           ┆           ┆           ┆ 0 12:56:4 │\n",
       "│            ┆          ┆          ┆           ┆   ┆           ┆           ┆           ┆ 1.619277  │\n",
       "│ 2024021269 ┆ 20242025 ┆ 2        ┆ 2025-04-1 ┆ … ┆ null      ┆ null      ┆ regular   ┆ 2025-03-2 │\n",
       "│            ┆          ┆          ┆ 2         ┆   ┆           ┆           ┆           ┆ 0 12:56:4 │\n",
       "│            ┆          ┆          ┆           ┆   ┆           ┆           ┆           ┆ 1.619277  │\n",
       "│ 2024021279 ┆ 20242025 ┆ 2        ┆ 2025-04-1 ┆ … ┆ null      ┆ null      ┆ regular   ┆ 2025-03-2 │\n",
       "│            ┆          ┆          ┆ 3         ┆   ┆           ┆           ┆           ┆ 0 12:56:4 │\n",
       "│            ┆          ┆          ┆           ┆   ┆           ┆           ┆           ┆ 1.619277  │\n",
       "│ 2024021292 ┆ 20242025 ┆ 2        ┆ 2025-04-1 ┆ … ┆ null      ┆ null      ┆ regular   ┆ 2025-03-2 │\n",
       "│            ┆          ┆          ┆ 5         ┆   ┆           ┆           ┆           ┆ 0 12:56:4 │\n",
       "│            ┆          ┆          ┆           ┆   ┆           ┆           ┆           ┆ 1.619277  │\n",
       "│ 2024021308 ┆ 20242025 ┆ 2        ┆ 2025-04-1 ┆ … ┆ null      ┆ null      ┆ regular   ┆ 2025-03-2 │\n",
       "│            ┆          ┆          ┆ 7         ┆   ┆           ┆           ┆           ┆ 0 12:56:4 │\n",
       "│            ┆          ┆          ┆           ┆   ┆           ┆           ┆           ┆ 1.619277  │\n",
       "└────────────┴──────────┴──────────┴───────────┴───┴───────────┴───────────┴───────────┴───────────┘"
      ]
     },
     "execution_count": 82,
     "metadata": {},
     "output_type": "execute_result"
    }
   ],
   "source": [
    "await scraper.scrape_schedule(teams=[\"MTL\", \"TOR\"], seasons=[20242025])"
   ]
  },
  {
   "cell_type": "code",
   "execution_count": 118,
   "metadata": {},
   "outputs": [
    {
     "name": "stderr",
     "output_type": "stream",
     "text": [
      "Scraping NHL Teams: 100%|██████████| 1/1 [00:00<00:00,  2.76it/s]\n"
     ]
    },
    {
     "data": {
      "text/html": [
       "<div><style>\n",
       ".dataframe > thead > tr,\n",
       ".dataframe > tbody > tr {\n",
       "  text-align: right;\n",
       "  white-space: pre-wrap;\n",
       "}\n",
       "</style>\n",
       "<small>shape: (32, 1)</small><table border=\"1\" class=\"dataframe\"><thead><tr><th>abbrev</th></tr><tr><td>str</td></tr></thead><tbody><tr><td>&quot;NJD&quot;</td></tr><tr><td>&quot;NYI&quot;</td></tr><tr><td>&quot;NYR&quot;</td></tr><tr><td>&quot;PHI&quot;</td></tr><tr><td>&quot;PIT&quot;</td></tr><tr><td>&hellip;</td></tr><tr><td>&quot;MIN&quot;</td></tr><tr><td>&quot;WPG&quot;</td></tr><tr><td>&quot;VGK&quot;</td></tr><tr><td>&quot;SEA&quot;</td></tr><tr><td>&quot;UTA&quot;</td></tr></tbody></table></div>"
      ],
      "text/plain": [
       "shape: (32, 1)\n",
       "┌────────┐\n",
       "│ abbrev │\n",
       "│ ---    │\n",
       "│ str    │\n",
       "╞════════╡\n",
       "│ NJD    │\n",
       "│ NYI    │\n",
       "│ NYR    │\n",
       "│ PHI    │\n",
       "│ PIT    │\n",
       "│ …      │\n",
       "│ MIN    │\n",
       "│ WPG    │\n",
       "│ VGK    │\n",
       "│ SEA    │\n",
       "│ UTA    │\n",
       "└────────┘"
      ]
     },
     "execution_count": 118,
     "metadata": {},
     "output_type": "execute_result"
    }
   ],
   "source": [
    "scraper = scraper.Scraper()\n",
    "df = await scraper.scrape_teams(\"active\")\n",
    "\n",
    "df.select([\"abbrev\"])"
   ]
  },
  {
   "cell_type": "code",
   "execution_count": 136,
   "metadata": {},
   "outputs": [
    {
     "name": "stdout",
     "output_type": "stream",
     "text": [
      "\n",
      "Welcome to the NHL Scraper!\n",
      "\n",
      "My name is Max and I'm the developer of this project and hockey fan. I hope you enjoy using this tool!\n",
      "\n",
      "This is a work in progress and not all functionalities are available yet.\n",
      "\n",
      "*** IMPORTANT ***\n",
      "\n",
      "Make sure to run the following command in the terminal (it might take a while, but it will ensure that the playwright browser is installed):\n",
      "\n",
      "$ playwright install\n",
      "or\n",
      "$ playwright install chromium\n",
      "\n",
      "***\n",
      "\n",
      "If you have any questions, please contact me on X: @woumaxx[https://x.com/woumaxx]\n",
      "\n",
      "Thank you for using the NHL Scraper!\n",
      "\n",
      "\n",
      "\n"
     ]
    },
    {
     "name": "stderr",
     "output_type": "stream",
     "text": [
      "Scraping NHL PBP Data: 100%|██████████| 1/1 [00:01<00:00,  1.93s/it]\n"
     ]
    },
    {
     "data": {
      "text/html": [
       "<div><style>\n",
       ".dataframe > thead > tr,\n",
       ".dataframe > tbody > tr {\n",
       "  text-align: right;\n",
       "  white-space: pre-wrap;\n",
       "}\n",
       "</style>\n",
       "<small>shape: (338, 89)</small><table border=\"1\" class=\"dataframe\"><thead><tr><th>#</th><th>Per</th><th>Str</th><th>Event</th><th>Description</th><th>homeGName</th><th>awayGName</th><th>homeGId</th><th>awayGId</th><th>index</th><th>event</th><th>timeInPeriod</th><th>timeRemaining</th><th>homeTeamDefendingSide</th><th>api_event</th><th>periodNumber</th><th>periodType</th><th>eventOwnerTeamId</th><th>xCoord</th><th>yCoord</th><th>zoneCode</th><th>details_playerId</th><th>reason</th><th>shotType</th><th>goalieInNetId</th><th>awaySOG</th><th>homeSOG</th><th>details_typeCode</th><th>details_descKey</th><th>details_duration</th><th>details_secondaryReason</th><th>details_scoringPlayerTotal</th><th>details_assist1PlayerTotal</th><th>details_assist2PlayerTotal</th><th>awayScore</th><th>homeScore</th><th>playerId_1</th><th>&hellip;</th><th>away_skater_id5</th><th>home_skater_fullName1</th><th>home_skater_fullName2</th><th>home_skater_fullName3</th><th>home_skater_fullName4</th><th>home_skater_fullName5</th><th>away_skater_fullName1</th><th>away_skater_fullName2</th><th>away_skater_fullName3</th><th>away_skater_fullName4</th><th>away_skater_fullName5</th><th>homeSktrs</th><th>awaySktrs</th><th>eventOwnerTeam</th><th>awayTeam</th><th>homeTeam</th><th>awayTeamId</th><th>homeTeamId</th><th>season</th><th>gameType</th><th>limitedScoring</th><th>gameDate</th><th>venue</th><th>venueLocation</th><th>startTimeUTC</th><th>easternUTCOffset</th><th>venueUTCOffset</th><th>gameState</th><th>gameScheduleState</th><th>gameOutcome</th><th>x</th><th>y</th><th>timeInPeriod_s</th><th>elapsedTime</th><th>strength</th><th>gameId</th><th>meta_datetime</th></tr><tr><td>str</td><td>str</td><td>str</td><td>str</td><td>str</td><td>str</td><td>str</td><td>i64</td><td>i64</td><td>i64</td><td>str</td><td>str</td><td>str</td><td>str</td><td>str</td><td>i64</td><td>str</td><td>str</td><td>f64</td><td>f64</td><td>str</td><td>i64</td><td>str</td><td>str</td><td>i64</td><td>i64</td><td>i64</td><td>str</td><td>str</td><td>i64</td><td>str</td><td>i64</td><td>i64</td><td>i64</td><td>i64</td><td>i64</td><td>i64</td><td>&hellip;</td><td>i64</td><td>str</td><td>str</td><td>str</td><td>str</td><td>str</td><td>str</td><td>str</td><td>str</td><td>str</td><td>str</td><td>u32</td><td>u32</td><td>str</td><td>str</td><td>str</td><td>str</td><td>str</td><td>i32</td><td>i32</td><td>bool</td><td>datetime[μs]</td><td>str</td><td>str</td><td>datetime[μs]</td><td>str</td><td>str</td><td>str</td><td>str</td><td>str</td><td>f64</td><td>f64</td><td>i64</td><td>i64</td><td>str</td><td>str</td><td>datetime[μs]</td></tr></thead><tbody><tr><td>&quot;4&quot;</td><td>&quot;1&quot;</td><td>&quot;&quot;</td><td>&quot;PSTR&quot;</td><td>&quot;Period Start- Local time: 7:08…</td><td>&quot;Samuel Ersson&quot;</td><td>&quot;Jonas Johansson&quot;</td><td>8481035</td><td>8477992</td><td>0</td><td>&quot;period-start&quot;</td><td>&quot;00:00&quot;</td><td>&quot;20:00&quot;</td><td>&quot;right&quot;</td><td>&quot;period-start&quot;</td><td>1</td><td>&quot;REG&quot;</td><td>null</td><td>null</td><td>null</td><td>null</td><td>null</td><td>null</td><td>null</td><td>null</td><td>0</td><td>0</td><td>null</td><td>null</td><td>null</td><td>null</td><td>null</td><td>null</td><td>null</td><td>0</td><td>0</td><td>null</td><td>&hellip;</td><td>8478416</td><td>&quot;Sean Couturier&quot;</td><td>&quot;Matvei Michkov&quot;</td><td>&quot;Owen Tippett&quot;</td><td>&quot;Jamie Drysdale&quot;</td><td>&quot;Nick Seeler&quot;</td><td>&quot;Anthony Cirelli&quot;</td><td>&quot;Cam Atkinson&quot;</td><td>&quot;Brandon Hagel&quot;</td><td>&quot;Ryan McDonagh&quot;</td><td>&quot;Erik Cernak&quot;</td><td>5</td><td>5</td><td>null</td><td>&quot;TBL&quot;</td><td>&quot;PHI&quot;</td><td>&quot;14&quot;</td><td>&quot;4&quot;</td><td>20242025</td><td>2</td><td>false</td><td>2025-03-13 00:00:00</td><td>&quot;Wells Fargo Center&quot;</td><td>&quot;Philadelphia&quot;</td><td>2025-03-13 23:00:00</td><td>&quot;-04:00&quot;</td><td>&quot;-04:00&quot;</td><td>&quot;OFF&quot;</td><td>&quot;OK&quot;</td><td>&quot;SO&quot;</td><td>null</td><td>null</td><td>0</td><td>0</td><td>null</td><td>&quot;2024021043&quot;</td><td>2025-03-21 07:58:24.130341</td></tr><tr><td>&quot;5&quot;</td><td>&quot;1&quot;</td><td>&quot;EV&quot;</td><td>&quot;FAC&quot;</td><td>&quot;PHI won Neu. Zone - TBL #71 CI…</td><td>&quot;Samuel Ersson&quot;</td><td>&quot;Jonas Johansson&quot;</td><td>8481035</td><td>8477992</td><td>1</td><td>&quot;faceoff&quot;</td><td>&quot;00:00&quot;</td><td>&quot;20:00&quot;</td><td>&quot;right&quot;</td><td>&quot;faceoff&quot;</td><td>1</td><td>&quot;REG&quot;</td><td>&quot;4&quot;</td><td>0.0</td><td>0.0</td><td>&quot;N&quot;</td><td>null</td><td>null</td><td>null</td><td>null</td><td>0</td><td>0</td><td>null</td><td>null</td><td>null</td><td>null</td><td>null</td><td>null</td><td>null</td><td>0</td><td>0</td><td>8476461</td><td>&hellip;</td><td>8478416</td><td>&quot;Sean Couturier&quot;</td><td>&quot;Matvei Michkov&quot;</td><td>&quot;Owen Tippett&quot;</td><td>&quot;Jamie Drysdale&quot;</td><td>&quot;Nick Seeler&quot;</td><td>&quot;Anthony Cirelli&quot;</td><td>&quot;Cam Atkinson&quot;</td><td>&quot;Brandon Hagel&quot;</td><td>&quot;Ryan McDonagh&quot;</td><td>&quot;Erik Cernak&quot;</td><td>5</td><td>5</td><td>&quot;PHI&quot;</td><td>&quot;TBL&quot;</td><td>&quot;PHI&quot;</td><td>&quot;14&quot;</td><td>&quot;4&quot;</td><td>20242025</td><td>2</td><td>false</td><td>2025-03-13 00:00:00</td><td>&quot;Wells Fargo Center&quot;</td><td>&quot;Philadelphia&quot;</td><td>2025-03-13 23:00:00</td><td>&quot;-04:00&quot;</td><td>&quot;-04:00&quot;</td><td>&quot;OFF&quot;</td><td>&quot;OK&quot;</td><td>&quot;SO&quot;</td><td>-0.0</td><td>-0.0</td><td>0</td><td>0</td><td>&quot;5v5&quot;</td><td>&quot;2024021043&quot;</td><td>2025-03-21 07:58:24.130341</td></tr><tr><td>&quot;6&quot;</td><td>&quot;1&quot;</td><td>&quot;EV&quot;</td><td>&quot;GIVE&quot;</td><td>&quot;TBL GIVEAWAY - #71 CIRELLI, Of…</td><td>&quot;Samuel Ersson&quot;</td><td>&quot;Jonas Johansson&quot;</td><td>8481035</td><td>8477992</td><td>2</td><td>&quot;giveaway&quot;</td><td>&quot;00:18&quot;</td><td>&quot;19:42&quot;</td><td>&quot;right&quot;</td><td>&quot;giveaway&quot;</td><td>1</td><td>&quot;REG&quot;</td><td>&quot;14&quot;</td><td>48.0</td><td>-37.0</td><td>&quot;O&quot;</td><td>8478519</td><td>null</td><td>null</td><td>null</td><td>0</td><td>0</td><td>null</td><td>null</td><td>null</td><td>null</td><td>null</td><td>null</td><td>null</td><td>0</td><td>0</td><td>8478519</td><td>&hellip;</td><td>8478416</td><td>&quot;Sean Couturier&quot;</td><td>&quot;Matvei Michkov&quot;</td><td>&quot;Owen Tippett&quot;</td><td>&quot;Jamie Drysdale&quot;</td><td>&quot;Nick Seeler&quot;</td><td>&quot;Anthony Cirelli&quot;</td><td>&quot;Cam Atkinson&quot;</td><td>&quot;Brandon Hagel&quot;</td><td>&quot;Ryan McDonagh&quot;</td><td>&quot;Erik Cernak&quot;</td><td>5</td><td>5</td><td>&quot;TBL&quot;</td><td>&quot;TBL&quot;</td><td>&quot;PHI&quot;</td><td>&quot;14&quot;</td><td>&quot;4&quot;</td><td>20242025</td><td>2</td><td>false</td><td>2025-03-13 00:00:00</td><td>&quot;Wells Fargo Center&quot;</td><td>&quot;Philadelphia&quot;</td><td>2025-03-13 23:00:00</td><td>&quot;-04:00&quot;</td><td>&quot;-04:00&quot;</td><td>&quot;OFF&quot;</td><td>&quot;OK&quot;</td><td>&quot;SO&quot;</td><td>-48.0</td><td>37.0</td><td>18</td><td>18</td><td>&quot;5v5&quot;</td><td>&quot;2024021043&quot;</td><td>2025-03-21 07:58:24.130341</td></tr><tr><td>&quot;7&quot;</td><td>&quot;1&quot;</td><td>&quot;&quot;</td><td>&quot;STOP&quot;</td><td>&quot;PUCK FROZEN - GOALIE&quot;</td><td>&quot;Samuel Ersson&quot;</td><td>&quot;Jonas Johansson&quot;</td><td>8481035</td><td>8477992</td><td>3</td><td>&quot;stoppage&quot;</td><td>&quot;00:24&quot;</td><td>&quot;19:36&quot;</td><td>&quot;right&quot;</td><td>&quot;stoppage&quot;</td><td>1</td><td>&quot;REG&quot;</td><td>null</td><td>null</td><td>null</td><td>null</td><td>null</td><td>&quot;puck-frozen&quot;</td><td>null</td><td>null</td><td>0</td><td>0</td><td>null</td><td>null</td><td>null</td><td>null</td><td>null</td><td>null</td><td>null</td><td>0</td><td>0</td><td>null</td><td>&hellip;</td><td>8478416</td><td>&quot;Sean Couturier&quot;</td><td>&quot;Matvei Michkov&quot;</td><td>&quot;Owen Tippett&quot;</td><td>&quot;Travis Sanheim&quot;</td><td>&quot;Cam York&quot;</td><td>&quot;Anthony Cirelli&quot;</td><td>&quot;Cam Atkinson&quot;</td><td>&quot;Brandon Hagel&quot;</td><td>&quot;Ryan McDonagh&quot;</td><td>&quot;Erik Cernak&quot;</td><td>5</td><td>5</td><td>null</td><td>&quot;TBL&quot;</td><td>&quot;PHI&quot;</td><td>&quot;14&quot;</td><td>&quot;4&quot;</td><td>20242025</td><td>2</td><td>false</td><td>2025-03-13 00:00:00</td><td>&quot;Wells Fargo Center&quot;</td><td>&quot;Philadelphia&quot;</td><td>2025-03-13 23:00:00</td><td>&quot;-04:00&quot;</td><td>&quot;-04:00&quot;</td><td>&quot;OFF&quot;</td><td>&quot;OK&quot;</td><td>&quot;SO&quot;</td><td>null</td><td>null</td><td>24</td><td>24</td><td>null</td><td>&quot;2024021043&quot;</td><td>2025-03-21 07:58:24.130341</td></tr><tr><td>&quot;8&quot;</td><td>&quot;1&quot;</td><td>&quot;EV&quot;</td><td>&quot;FAC&quot;</td><td>&quot;TBL won Def. Zone - TBL #71 CI…</td><td>&quot;Samuel Ersson&quot;</td><td>&quot;Jonas Johansson&quot;</td><td>8481035</td><td>8477992</td><td>4</td><td>&quot;faceoff&quot;</td><td>&quot;00:24&quot;</td><td>&quot;19:36&quot;</td><td>&quot;right&quot;</td><td>&quot;faceoff&quot;</td><td>1</td><td>&quot;REG&quot;</td><td>&quot;14&quot;</td><td>-69.0</td><td>-22.0</td><td>&quot;D&quot;</td><td>null</td><td>null</td><td>null</td><td>null</td><td>0</td><td>0</td><td>null</td><td>null</td><td>null</td><td>null</td><td>null</td><td>null</td><td>null</td><td>0</td><td>0</td><td>8478519</td><td>&hellip;</td><td>8478416</td><td>&quot;Travis Konecny&quot;</td><td>&quot;Tyson Foerster&quot;</td><td>&quot;Noah Cates&quot;</td><td>&quot;Travis Sanheim&quot;</td><td>&quot;Cam York&quot;</td><td>&quot;Anthony Cirelli&quot;</td><td>&quot;Cam Atkinson&quot;</td><td>&quot;Brandon Hagel&quot;</td><td>&quot;Ryan McDonagh&quot;</td><td>&quot;Erik Cernak&quot;</td><td>5</td><td>5</td><td>&quot;TBL&quot;</td><td>&quot;TBL&quot;</td><td>&quot;PHI&quot;</td><td>&quot;14&quot;</td><td>&quot;4&quot;</td><td>20242025</td><td>2</td><td>false</td><td>2025-03-13 00:00:00</td><td>&quot;Wells Fargo Center&quot;</td><td>&quot;Philadelphia&quot;</td><td>2025-03-13 23:00:00</td><td>&quot;-04:00&quot;</td><td>&quot;-04:00&quot;</td><td>&quot;OFF&quot;</td><td>&quot;OK&quot;</td><td>&quot;SO&quot;</td><td>69.0</td><td>22.0</td><td>24</td><td>24</td><td>&quot;5v5&quot;</td><td>&quot;2024021043&quot;</td><td>2025-03-21 07:58:24.130341</td></tr><tr><td>&hellip;</td><td>&hellip;</td><td>&hellip;</td><td>&hellip;</td><td>&hellip;</td><td>&hellip;</td><td>&hellip;</td><td>&hellip;</td><td>&hellip;</td><td>&hellip;</td><td>&hellip;</td><td>&hellip;</td><td>&hellip;</td><td>&hellip;</td><td>&hellip;</td><td>&hellip;</td><td>&hellip;</td><td>&hellip;</td><td>&hellip;</td><td>&hellip;</td><td>&hellip;</td><td>&hellip;</td><td>&hellip;</td><td>&hellip;</td><td>&hellip;</td><td>&hellip;</td><td>&hellip;</td><td>&hellip;</td><td>&hellip;</td><td>&hellip;</td><td>&hellip;</td><td>&hellip;</td><td>&hellip;</td><td>&hellip;</td><td>&hellip;</td><td>&hellip;</td><td>&hellip;</td><td>&hellip;</td><td>&hellip;</td><td>&hellip;</td><td>&hellip;</td><td>&hellip;</td><td>&hellip;</td><td>&hellip;</td><td>&hellip;</td><td>&hellip;</td><td>&hellip;</td><td>&hellip;</td><td>&hellip;</td><td>&hellip;</td><td>&hellip;</td><td>&hellip;</td><td>&hellip;</td><td>&hellip;</td><td>&hellip;</td><td>&hellip;</td><td>&hellip;</td><td>&hellip;</td><td>&hellip;</td><td>&hellip;</td><td>&hellip;</td><td>&hellip;</td><td>&hellip;</td><td>&hellip;</td><td>&hellip;</td><td>&hellip;</td><td>&hellip;</td><td>&hellip;</td><td>&hellip;</td><td>&hellip;</td><td>&hellip;</td><td>&hellip;</td><td>&hellip;</td><td>&hellip;</td><td>&hellip;</td></tr><tr><td>&quot;337&quot;</td><td>&quot;5&quot;</td><td>&quot;EV&quot;</td><td>&quot;GOAL&quot;</td><td>&quot;PHI #74 TIPPETT, Wrist , Off. …</td><td>null</td><td>null</td><td>null</td><td>null</td><td>333</td><td>&quot;goal&quot;</td><td>&quot;00:00&quot;</td><td>&quot;00:00&quot;</td><td>&quot;right&quot;</td><td>&quot;goal&quot;</td><td>5</td><td>&quot;SO&quot;</td><td>&quot;4&quot;</td><td>-79.0</td><td>6.0</td><td>&quot;O&quot;</td><td>null</td><td>null</td><td>&quot;wrist&quot;</td><td>8477992</td><td>20</td><td>27</td><td>null</td><td>null</td><td>null</td><td>null</td><td>20</td><td>null</td><td>null</td><td>3</td><td>3</td><td>8480015</td><td>&hellip;</td><td>null</td><td>null</td><td>null</td><td>null</td><td>null</td><td>null</td><td>null</td><td>null</td><td>null</td><td>null</td><td>null</td><td>null</td><td>null</td><td>&quot;PHI&quot;</td><td>&quot;TBL&quot;</td><td>&quot;PHI&quot;</td><td>&quot;14&quot;</td><td>&quot;4&quot;</td><td>20242025</td><td>2</td><td>false</td><td>2025-03-13 00:00:00</td><td>&quot;Wells Fargo Center&quot;</td><td>&quot;Philadelphia&quot;</td><td>2025-03-13 23:00:00</td><td>&quot;-04:00&quot;</td><td>&quot;-04:00&quot;</td><td>&quot;OFF&quot;</td><td>&quot;OK&quot;</td><td>&quot;SO&quot;</td><td>79.0</td><td>-6.0</td><td>0</td><td>3900</td><td>null</td><td>&quot;2024021043&quot;</td><td>2025-03-21 07:58:24.130341</td></tr><tr><td>&quot;338&quot;</td><td>&quot;5&quot;</td><td>&quot;EV&quot;</td><td>&quot;SHOT&quot;</td><td>&quot;TBL ONGOAL - #22 BJORKSTRAND, …</td><td>null</td><td>null</td><td>null</td><td>null</td><td>334</td><td>&quot;shot-on-goal&quot;</td><td>&quot;00:00&quot;</td><td>&quot;00:00&quot;</td><td>&quot;right&quot;</td><td>&quot;shot-on-goal&quot;</td><td>5</td><td>&quot;SO&quot;</td><td>&quot;14&quot;</td><td>83.0</td><td>-8.0</td><td>&quot;O&quot;</td><td>null</td><td>null</td><td>&quot;wrist&quot;</td><td>8481035</td><td>21</td><td>27</td><td>null</td><td>null</td><td>null</td><td>null</td><td>null</td><td>null</td><td>null</td><td>3</td><td>3</td><td>8477416</td><td>&hellip;</td><td>null</td><td>null</td><td>null</td><td>null</td><td>null</td><td>null</td><td>null</td><td>null</td><td>null</td><td>null</td><td>null</td><td>null</td><td>null</td><td>&quot;TBL&quot;</td><td>&quot;TBL&quot;</td><td>&quot;PHI&quot;</td><td>&quot;14&quot;</td><td>&quot;4&quot;</td><td>20242025</td><td>2</td><td>false</td><td>2025-03-13 00:00:00</td><td>&quot;Wells Fargo Center&quot;</td><td>&quot;Philadelphia&quot;</td><td>2025-03-13 23:00:00</td><td>&quot;-04:00&quot;</td><td>&quot;-04:00&quot;</td><td>&quot;OFF&quot;</td><td>&quot;OK&quot;</td><td>&quot;SO&quot;</td><td>-83.0</td><td>8.0</td><td>0</td><td>3900</td><td>null</td><td>&quot;2024021043&quot;</td><td>2025-03-21 07:58:24.130341</td></tr><tr><td>&quot;339&quot;</td><td>&quot;5&quot;</td><td>&quot;&quot;</td><td>&quot;SOC&quot;</td><td>&quot;Shootout Completed- Local time…</td><td>null</td><td>null</td><td>null</td><td>null</td><td>335</td><td>&quot;shootout-completed&quot;</td><td>null</td><td>null</td><td>null</td><td>null</td><td>null</td><td>null</td><td>null</td><td>null</td><td>null</td><td>null</td><td>null</td><td>null</td><td>null</td><td>null</td><td>21</td><td>27</td><td>null</td><td>null</td><td>null</td><td>null</td><td>null</td><td>null</td><td>null</td><td>3</td><td>3</td><td>null</td><td>&hellip;</td><td>null</td><td>null</td><td>null</td><td>null</td><td>null</td><td>null</td><td>null</td><td>null</td><td>null</td><td>null</td><td>null</td><td>null</td><td>null</td><td>null</td><td>&quot;TBL&quot;</td><td>&quot;PHI&quot;</td><td>&quot;14&quot;</td><td>&quot;4&quot;</td><td>20242025</td><td>2</td><td>false</td><td>2025-03-13 00:00:00</td><td>&quot;Wells Fargo Center&quot;</td><td>&quot;Philadelphia&quot;</td><td>2025-03-13 23:00:00</td><td>&quot;-04:00&quot;</td><td>&quot;-04:00&quot;</td><td>&quot;OFF&quot;</td><td>&quot;OK&quot;</td><td>&quot;SO&quot;</td><td>null</td><td>null</td><td>null</td><td>null</td><td>null</td><td>&quot;2024021043&quot;</td><td>2025-03-21 07:58:24.130341</td></tr><tr><td>&quot;340&quot;</td><td>&quot;5&quot;</td><td>&quot;&quot;</td><td>&quot;PEND&quot;</td><td>&quot;Period End- Local time: 9:48 E…</td><td>null</td><td>null</td><td>null</td><td>null</td><td>336</td><td>&quot;period-end&quot;</td><td>&quot;00:00&quot;</td><td>&quot;00:00&quot;</td><td>&quot;right&quot;</td><td>&quot;period-end&quot;</td><td>5</td><td>&quot;SO&quot;</td><td>null</td><td>null</td><td>null</td><td>null</td><td>null</td><td>null</td><td>null</td><td>null</td><td>21</td><td>27</td><td>null</td><td>null</td><td>null</td><td>null</td><td>null</td><td>null</td><td>null</td><td>3</td><td>3</td><td>null</td><td>&hellip;</td><td>null</td><td>null</td><td>null</td><td>null</td><td>null</td><td>null</td><td>null</td><td>null</td><td>null</td><td>null</td><td>null</td><td>null</td><td>null</td><td>null</td><td>&quot;TBL&quot;</td><td>&quot;PHI&quot;</td><td>&quot;14&quot;</td><td>&quot;4&quot;</td><td>20242025</td><td>2</td><td>false</td><td>2025-03-13 00:00:00</td><td>&quot;Wells Fargo Center&quot;</td><td>&quot;Philadelphia&quot;</td><td>2025-03-13 23:00:00</td><td>&quot;-04:00&quot;</td><td>&quot;-04:00&quot;</td><td>&quot;OFF&quot;</td><td>&quot;OK&quot;</td><td>&quot;SO&quot;</td><td>null</td><td>null</td><td>0</td><td>3900</td><td>null</td><td>&quot;2024021043&quot;</td><td>2025-03-21 07:58:24.130341</td></tr><tr><td>&quot;341&quot;</td><td>&quot;5&quot;</td><td>&quot;&quot;</td><td>&quot;GEND&quot;</td><td>&quot;Game End- Local time: 9:49 EDT&quot;</td><td>null</td><td>null</td><td>null</td><td>null</td><td>337</td><td>&quot;game-end&quot;</td><td>&quot;00:00&quot;</td><td>&quot;00:00&quot;</td><td>&quot;right&quot;</td><td>&quot;game-end&quot;</td><td>5</td><td>&quot;SO&quot;</td><td>null</td><td>null</td><td>null</td><td>null</td><td>null</td><td>null</td><td>null</td><td>null</td><td>21</td><td>27</td><td>null</td><td>null</td><td>null</td><td>null</td><td>null</td><td>null</td><td>null</td><td>3</td><td>3</td><td>null</td><td>&hellip;</td><td>null</td><td>null</td><td>null</td><td>null</td><td>null</td><td>null</td><td>null</td><td>null</td><td>null</td><td>null</td><td>null</td><td>null</td><td>null</td><td>null</td><td>&quot;TBL&quot;</td><td>&quot;PHI&quot;</td><td>&quot;14&quot;</td><td>&quot;4&quot;</td><td>20242025</td><td>2</td><td>false</td><td>2025-03-13 00:00:00</td><td>&quot;Wells Fargo Center&quot;</td><td>&quot;Philadelphia&quot;</td><td>2025-03-13 23:00:00</td><td>&quot;-04:00&quot;</td><td>&quot;-04:00&quot;</td><td>&quot;OFF&quot;</td><td>&quot;OK&quot;</td><td>&quot;SO&quot;</td><td>null</td><td>null</td><td>0</td><td>3900</td><td>null</td><td>&quot;2024021043&quot;</td><td>2025-03-21 07:58:24.130341</td></tr></tbody></table></div>"
      ],
      "text/plain": [
       "shape: (338, 89)\n",
       "┌─────┬─────┬─────┬───────┬───┬─────────────┬──────────┬────────────┬────────────────────────────┐\n",
       "│ #   ┆ Per ┆ Str ┆ Event ┆ … ┆ elapsedTime ┆ strength ┆ gameId     ┆ meta_datetime              │\n",
       "│ --- ┆ --- ┆ --- ┆ ---   ┆   ┆ ---         ┆ ---      ┆ ---        ┆ ---                        │\n",
       "│ str ┆ str ┆ str ┆ str   ┆   ┆ i64         ┆ str      ┆ str        ┆ datetime[μs]               │\n",
       "╞═════╪═════╪═════╪═══════╪═══╪═════════════╪══════════╪════════════╪════════════════════════════╡\n",
       "│ 4   ┆ 1   ┆     ┆ PSTR  ┆ … ┆ 0           ┆ null     ┆ 2024021043 ┆ 2025-03-21 07:58:24.130341 │\n",
       "│ 5   ┆ 1   ┆ EV  ┆ FAC   ┆ … ┆ 0           ┆ 5v5      ┆ 2024021043 ┆ 2025-03-21 07:58:24.130341 │\n",
       "│ 6   ┆ 1   ┆ EV  ┆ GIVE  ┆ … ┆ 18          ┆ 5v5      ┆ 2024021043 ┆ 2025-03-21 07:58:24.130341 │\n",
       "│ 7   ┆ 1   ┆     ┆ STOP  ┆ … ┆ 24          ┆ null     ┆ 2024021043 ┆ 2025-03-21 07:58:24.130341 │\n",
       "│ 8   ┆ 1   ┆ EV  ┆ FAC   ┆ … ┆ 24          ┆ 5v5      ┆ 2024021043 ┆ 2025-03-21 07:58:24.130341 │\n",
       "│ …   ┆ …   ┆ …   ┆ …     ┆ … ┆ …           ┆ …        ┆ …          ┆ …                          │\n",
       "│ 337 ┆ 5   ┆ EV  ┆ GOAL  ┆ … ┆ 3900        ┆ null     ┆ 2024021043 ┆ 2025-03-21 07:58:24.130341 │\n",
       "│ 338 ┆ 5   ┆ EV  ┆ SHOT  ┆ … ┆ 3900        ┆ null     ┆ 2024021043 ┆ 2025-03-21 07:58:24.130341 │\n",
       "│ 339 ┆ 5   ┆     ┆ SOC   ┆ … ┆ null        ┆ null     ┆ 2024021043 ┆ 2025-03-21 07:58:24.130341 │\n",
       "│ 340 ┆ 5   ┆     ┆ PEND  ┆ … ┆ 3900        ┆ null     ┆ 2024021043 ┆ 2025-03-21 07:58:24.130341 │\n",
       "│ 341 ┆ 5   ┆     ┆ GEND  ┆ … ┆ 3900        ┆ null     ┆ 2024021043 ┆ 2025-03-21 07:58:24.130341 │\n",
       "└─────┴─────┴─────┴───────┴───┴─────────────┴──────────┴────────────┴────────────────────────────┘"
      ]
     },
     "execution_count": 136,
     "metadata": {},
     "output_type": "execute_result"
    }
   ],
   "source": [
    "await scraper.scrape_pbp([2024021043])"
   ]
  },
  {
   "cell_type": "code",
   "execution_count": 140,
   "metadata": {},
   "outputs": [
    {
     "name": "stderr",
     "output_type": "stream",
     "text": [
      "Scraping NHL Teams: 100%|██████████| 1/1 [00:00<00:00,  2.34it/s]\n"
     ]
    },
    {
     "data": {
      "text/html": [
       "<div><style>\n",
       ".dataframe > thead > tr,\n",
       ".dataframe > tbody > tr {\n",
       "  text-align: right;\n",
       "  white-space: pre-wrap;\n",
       "}\n",
       "</style>\n",
       "<small>shape: (32, 10)</small><table border=\"1\" class=\"dataframe\"><thead><tr><th>id</th><th>seasonId</th><th>commonName</th><th>abbrev</th><th>name</th><th>placeNameWithPreposition</th><th>placeName</th><th>logo</th><th>darkLogo</th><th>french</th></tr><tr><td>i64</td><td>i64</td><td>str</td><td>str</td><td>str</td><td>str</td><td>struct[2]</td><td>str</td><td>str</td><td>bool</td></tr></thead><tbody><tr><td>1</td><td>20242025</td><td>&quot;Devils&quot;</td><td>&quot;NJD&quot;</td><td>&quot;New Jersey Devils&quot;</td><td>&quot;New Jersey&quot;</td><td>{&quot;New Jersey&quot;,null}</td><td>&quot;https://assets.nhle.com/logos/…</td><td>&quot;https://assets.nhle.com/logos/…</td><td>false</td></tr><tr><td>2</td><td>20242025</td><td>&quot;Islanders&quot;</td><td>&quot;NYI&quot;</td><td>&quot;New York Islanders&quot;</td><td>&quot;New York&quot;</td><td>{&quot;NY Islanders&quot;,null}</td><td>&quot;https://assets.nhle.com/logos/…</td><td>&quot;https://assets.nhle.com/logos/…</td><td>false</td></tr><tr><td>3</td><td>20242025</td><td>&quot;Rangers&quot;</td><td>&quot;NYR&quot;</td><td>&quot;New York Rangers&quot;</td><td>&quot;New York&quot;</td><td>{&quot;NY Rangers&quot;,null}</td><td>&quot;https://assets.nhle.com/logos/…</td><td>&quot;https://assets.nhle.com/logos/…</td><td>false</td></tr><tr><td>4</td><td>20242025</td><td>&quot;Flyers&quot;</td><td>&quot;PHI&quot;</td><td>&quot;Philadelphia Flyers&quot;</td><td>&quot;Philadelphia&quot;</td><td>{&quot;Philadelphia&quot;,&quot;Philadelphie&quot;}</td><td>&quot;https://assets.nhle.com/logos/…</td><td>&quot;https://assets.nhle.com/logos/…</td><td>false</td></tr><tr><td>5</td><td>20242025</td><td>&quot;Penguins&quot;</td><td>&quot;PIT&quot;</td><td>&quot;Pittsburgh Penguins&quot;</td><td>&quot;Pittsburgh&quot;</td><td>{&quot;Pittsburgh&quot;,null}</td><td>&quot;https://assets.nhle.com/logos/…</td><td>&quot;https://assets.nhle.com/logos/…</td><td>false</td></tr><tr><td>&hellip;</td><td>&hellip;</td><td>&hellip;</td><td>&hellip;</td><td>&hellip;</td><td>&hellip;</td><td>&hellip;</td><td>&hellip;</td><td>&hellip;</td><td>&hellip;</td></tr><tr><td>30</td><td>20242025</td><td>&quot;Wild&quot;</td><td>&quot;MIN&quot;</td><td>&quot;Minnesota Wild&quot;</td><td>&quot;Minnesota&quot;</td><td>{&quot;Minnesota&quot;,null}</td><td>&quot;https://assets.nhle.com/logos/…</td><td>&quot;https://assets.nhle.com/logos/…</td><td>false</td></tr><tr><td>52</td><td>20242025</td><td>&quot;Jets&quot;</td><td>&quot;WPG&quot;</td><td>&quot;Winnipeg Jets&quot;</td><td>&quot;Winnipeg&quot;</td><td>{&quot;Winnipeg&quot;,null}</td><td>&quot;https://assets.nhle.com/logos/…</td><td>&quot;https://assets.nhle.com/logos/…</td><td>false</td></tr><tr><td>54</td><td>20242025</td><td>&quot;Golden Knights&quot;</td><td>&quot;VGK&quot;</td><td>&quot;Vegas Golden Knights&quot;</td><td>&quot;Vegas&quot;</td><td>{&quot;Vegas&quot;,null}</td><td>&quot;https://assets.nhle.com/logos/…</td><td>&quot;https://assets.nhle.com/logos/…</td><td>false</td></tr><tr><td>55</td><td>20242025</td><td>&quot;Kraken&quot;</td><td>&quot;SEA&quot;</td><td>&quot;Seattle Kraken&quot;</td><td>&quot;Seattle&quot;</td><td>{&quot;Seattle&quot;,null}</td><td>&quot;https://assets.nhle.com/logos/…</td><td>&quot;https://assets.nhle.com/logos/…</td><td>false</td></tr><tr><td>59</td><td>20242025</td><td>&quot;Utah Hockey Club&quot;</td><td>&quot;UTA&quot;</td><td>&quot;Utah Hockey Club&quot;</td><td>&quot;Utah&quot;</td><td>{&quot;Utah&quot;,null}</td><td>&quot;https://assets.nhle.com/logos/…</td><td>&quot;https://assets.nhle.com/logos/…</td><td>false</td></tr></tbody></table></div>"
      ],
      "text/plain": [
       "shape: (32, 10)\n",
       "┌─────┬──────────┬──────────────┬────────┬───┬──────────────┬──────────────┬──────────────┬────────┐\n",
       "│ id  ┆ seasonId ┆ commonName   ┆ abbrev ┆ … ┆ placeName    ┆ logo         ┆ darkLogo     ┆ french │\n",
       "│ --- ┆ ---      ┆ ---          ┆ ---    ┆   ┆ ---          ┆ ---          ┆ ---          ┆ ---    │\n",
       "│ i64 ┆ i64      ┆ str          ┆ str    ┆   ┆ struct[2]    ┆ str          ┆ str          ┆ bool   │\n",
       "╞═════╪══════════╪══════════════╪════════╪═══╪══════════════╪══════════════╪══════════════╪════════╡\n",
       "│ 1   ┆ 20242025 ┆ Devils       ┆ NJD    ┆ … ┆ {\"New Jersey ┆ https://asse ┆ https://asse ┆ false  │\n",
       "│     ┆          ┆              ┆        ┆   ┆ \",null}      ┆ ts.nhle.com/ ┆ ts.nhle.com/ ┆        │\n",
       "│     ┆          ┆              ┆        ┆   ┆              ┆ logos/…      ┆ logos/…      ┆        │\n",
       "│ 2   ┆ 20242025 ┆ Islanders    ┆ NYI    ┆ … ┆ {\"NY Islande ┆ https://asse ┆ https://asse ┆ false  │\n",
       "│     ┆          ┆              ┆        ┆   ┆ rs\",null}    ┆ ts.nhle.com/ ┆ ts.nhle.com/ ┆        │\n",
       "│     ┆          ┆              ┆        ┆   ┆              ┆ logos/…      ┆ logos/…      ┆        │\n",
       "│ 3   ┆ 20242025 ┆ Rangers      ┆ NYR    ┆ … ┆ {\"NY Rangers ┆ https://asse ┆ https://asse ┆ false  │\n",
       "│     ┆          ┆              ┆        ┆   ┆ \",null}      ┆ ts.nhle.com/ ┆ ts.nhle.com/ ┆        │\n",
       "│     ┆          ┆              ┆        ┆   ┆              ┆ logos/…      ┆ logos/…      ┆        │\n",
       "│ 4   ┆ 20242025 ┆ Flyers       ┆ PHI    ┆ … ┆ {\"Philadelph ┆ https://asse ┆ https://asse ┆ false  │\n",
       "│     ┆          ┆              ┆        ┆   ┆ ia\",\"Philade ┆ ts.nhle.com/ ┆ ts.nhle.com/ ┆        │\n",
       "│     ┆          ┆              ┆        ┆   ┆ lphie\"…      ┆ logos/…      ┆ logos/…      ┆        │\n",
       "│ 5   ┆ 20242025 ┆ Penguins     ┆ PIT    ┆ … ┆ {\"Pittsburgh ┆ https://asse ┆ https://asse ┆ false  │\n",
       "│     ┆          ┆              ┆        ┆   ┆ \",null}      ┆ ts.nhle.com/ ┆ ts.nhle.com/ ┆        │\n",
       "│     ┆          ┆              ┆        ┆   ┆              ┆ logos/…      ┆ logos/…      ┆        │\n",
       "│ …   ┆ …        ┆ …            ┆ …      ┆ … ┆ …            ┆ …            ┆ …            ┆ …      │\n",
       "│ 30  ┆ 20242025 ┆ Wild         ┆ MIN    ┆ … ┆ {\"Minnesota\" ┆ https://asse ┆ https://asse ┆ false  │\n",
       "│     ┆          ┆              ┆        ┆   ┆ ,null}       ┆ ts.nhle.com/ ┆ ts.nhle.com/ ┆        │\n",
       "│     ┆          ┆              ┆        ┆   ┆              ┆ logos/…      ┆ logos/…      ┆        │\n",
       "│ 52  ┆ 20242025 ┆ Jets         ┆ WPG    ┆ … ┆ {\"Winnipeg\", ┆ https://asse ┆ https://asse ┆ false  │\n",
       "│     ┆          ┆              ┆        ┆   ┆ null}        ┆ ts.nhle.com/ ┆ ts.nhle.com/ ┆        │\n",
       "│     ┆          ┆              ┆        ┆   ┆              ┆ logos/…      ┆ logos/…      ┆        │\n",
       "│ 54  ┆ 20242025 ┆ Golden       ┆ VGK    ┆ … ┆ {\"Vegas\",nul ┆ https://asse ┆ https://asse ┆ false  │\n",
       "│     ┆          ┆ Knights      ┆        ┆   ┆ l}           ┆ ts.nhle.com/ ┆ ts.nhle.com/ ┆        │\n",
       "│     ┆          ┆              ┆        ┆   ┆              ┆ logos/…      ┆ logos/…      ┆        │\n",
       "│ 55  ┆ 20242025 ┆ Kraken       ┆ SEA    ┆ … ┆ {\"Seattle\",n ┆ https://asse ┆ https://asse ┆ false  │\n",
       "│     ┆          ┆              ┆        ┆   ┆ ull}         ┆ ts.nhle.com/ ┆ ts.nhle.com/ ┆        │\n",
       "│     ┆          ┆              ┆        ┆   ┆              ┆ logos/…      ┆ logos/…      ┆        │\n",
       "│ 59  ┆ 20242025 ┆ Utah Hockey  ┆ UTA    ┆ … ┆ {\"Utah\",null ┆ https://asse ┆ https://asse ┆ false  │\n",
       "│     ┆          ┆ Club         ┆        ┆   ┆ }            ┆ ts.nhle.com/ ┆ ts.nhle.com/ ┆        │\n",
       "│     ┆          ┆              ┆        ┆   ┆              ┆ logos/…      ┆ logos/…      ┆        │\n",
       "└─────┴──────────┴──────────────┴────────┴───┴──────────────┴──────────────┴──────────────┴────────┘"
      ]
     },
     "execution_count": 140,
     "metadata": {},
     "output_type": "execute_result"
    }
   ],
   "source": [
    "teams = await scraper.scrape_teams(source=\"active\")\n",
    "\n",
    "teams"
   ]
  },
  {
   "cell_type": "code",
   "execution_count": 142,
   "metadata": {},
   "outputs": [
    {
     "name": "stderr",
     "output_type": "stream",
     "text": [
      "Scraping NHL Schedule:   0%|          | 0/32 [00:00<?, ?it/s]"
     ]
    },
    {
     "name": "stderr",
     "output_type": "stream",
     "text": [
      "Scraping NHL Schedule: 100%|██████████| 32/32 [00:00<00:00, 50.11it/s]\n"
     ]
    },
    {
     "data": {
      "text/html": [
       "<div><style>\n",
       ".dataframe > thead > tr,\n",
       ".dataframe > tbody > tr {\n",
       "  text-align: right;\n",
       "  white-space: pre-wrap;\n",
       "}\n",
       "</style>\n",
       "<small>shape: (5, 38)</small><table border=\"1\" class=\"dataframe\"><thead><tr><th>id</th><th>season</th><th>gameType</th><th>gameDate</th><th>venue</th><th>neutralSite</th><th>startTimeUTC</th><th>easternUTCOffset</th><th>venueUTCOffset</th><th>venueTimezone</th><th>gameState</th><th>gameScheduleState</th><th>gameOutcome</th><th>team_key</th><th>season_key</th><th>alternateBroadcasts</th><th>awayTeamId</th><th>homeTeamId</th><th>awayTeamScore</th><th>homeTeamScore</th><th>awayTeamCommonName</th><th>homeTeamCommonName</th><th>placeNameHome</th><th>placeNameAway</th><th>awayTeamAbbrev</th><th>homeTeamAbbrev</th><th>awayTeamLogo</th><th>homeTeamLogo</th><th>awayTeamDarkLogo</th><th>homeTeamDarkLogo</th><th>winningGoalieId</th><th>winningGoalieFirstInitial</th><th>winningGoalieLastName</th><th>winningGoalScorerId</th><th>winningGoalScorerFirstInitial</th><th>winningGoalScorerLastName</th><th>_gameType</th><th>meta_datetime</th></tr><tr><td>i64</td><td>i64</td><td>i64</td><td>date</td><td>str</td><td>bool</td><td>str</td><td>str</td><td>str</td><td>str</td><td>str</td><td>str</td><td>str</td><td>str</td><td>i64</td><td>list[struct[2]]</td><td>i64</td><td>i64</td><td>i64</td><td>i64</td><td>str</td><td>str</td><td>str</td><td>str</td><td>str</td><td>str</td><td>str</td><td>str</td><td>str</td><td>str</td><td>i64</td><td>str</td><td>str</td><td>i64</td><td>str</td><td>str</td><td>str</td><td>datetime[μs]</td></tr></thead><tbody><tr><td>2024010017</td><td>20242025</td><td>1</td><td>2024-09-23</td><td>&quot;Ball Arena&quot;</td><td>false</td><td>&quot;2024-09-24T01:00:00Z&quot;</td><td>&quot;-04:00&quot;</td><td>&quot;-06:00&quot;</td><td>&quot;America/Denver&quot;</td><td>&quot;FINAL&quot;</td><td>&quot;OK&quot;</td><td>&quot;REG&quot;</td><td>&quot;COL&quot;</td><td>20242025</td><td>null</td><td>25</td><td>21</td><td>3</td><td>2</td><td>&quot;Stars&quot;</td><td>&quot;Avalanche&quot;</td><td>&quot;Dallas&quot;</td><td>&quot;Colorado&quot;</td><td>&quot;DAL&quot;</td><td>&quot;COL&quot;</td><td>&quot;https://assets.nhle.com/logos/…</td><td>&quot;https://assets.nhle.com/logos/…</td><td>&quot;https://assets.nhle.com/logos/…</td><td>&quot;https://assets.nhle.com/logos/…</td><td>8482465</td><td>&quot;R.&quot;</td><td>&quot;Poirier&quot;</td><td>8483425</td><td>&quot;L.&quot;</td><td>&quot;Bichsel&quot;</td><td>&quot;preseason&quot;</td><td>2025-03-21 08:05:23.364376</td></tr><tr><td>2024010046</td><td>20242025</td><td>1</td><td>2024-09-27</td><td>&quot;American Airlines Center&quot;</td><td>false</td><td>&quot;2024-09-28T00:00:00Z&quot;</td><td>&quot;-04:00&quot;</td><td>&quot;-05:00&quot;</td><td>&quot;US/Central&quot;</td><td>&quot;FINAL&quot;</td><td>&quot;OK&quot;</td><td>&quot;REG&quot;</td><td>&quot;COL&quot;</td><td>20242025</td><td>null</td><td>21</td><td>25</td><td>2</td><td>4</td><td>&quot;Avalanche&quot;</td><td>&quot;Stars&quot;</td><td>&quot;Colorado&quot;</td><td>&quot;Dallas&quot;</td><td>&quot;COL&quot;</td><td>&quot;DAL&quot;</td><td>&quot;https://assets.nhle.com/logos/…</td><td>&quot;https://assets.nhle.com/logos/…</td><td>&quot;https://assets.nhle.com/logos/…</td><td>&quot;https://assets.nhle.com/logos/…</td><td>8484835</td><td>&quot;B.&quot;</td><td>&quot;Kraws&quot;</td><td>8475168</td><td>&quot;M.&quot;</td><td>&quot;Duchene&quot;</td><td>&quot;preseason&quot;</td><td>2025-03-21 08:05:23.364376</td></tr><tr><td>2024010062</td><td>20242025</td><td>1</td><td>2024-09-29</td><td>&quot;Ball Arena&quot;</td><td>false</td><td>&quot;2024-09-29T23:00:00Z&quot;</td><td>&quot;-04:00&quot;</td><td>&quot;-06:00&quot;</td><td>&quot;America/Denver&quot;</td><td>&quot;FINAL&quot;</td><td>&quot;OK&quot;</td><td>&quot;REG&quot;</td><td>&quot;COL&quot;</td><td>20242025</td><td>null</td><td>59</td><td>21</td><td>6</td><td>3</td><td>&quot;Utah Hockey Club&quot;</td><td>&quot;Avalanche&quot;</td><td>&quot;Utah&quot;</td><td>&quot;Colorado&quot;</td><td>&quot;UTA&quot;</td><td>&quot;COL&quot;</td><td>&quot;https://assets.nhle.com/logos/…</td><td>&quot;https://assets.nhle.com/logos/…</td><td>&quot;https://assets.nhle.com/logos/…</td><td>&quot;https://assets.nhle.com/logos/…</td><td>8478872</td><td>&quot;K.&quot;</td><td>&quot;Vejmelka&quot;</td><td>8482659</td><td>&quot;J.&quot;</td><td>&quot;Doan&quot;</td><td>&quot;preseason&quot;</td><td>2025-03-21 08:05:23.364376</td></tr><tr><td>2024010077</td><td>20242025</td><td>1</td><td>2024-10-01</td><td>&quot;Ball Arena&quot;</td><td>false</td><td>&quot;2024-10-02T01:30:00Z&quot;</td><td>&quot;-04:00&quot;</td><td>&quot;-06:00&quot;</td><td>&quot;America/Denver&quot;</td><td>&quot;FINAL&quot;</td><td>&quot;OK&quot;</td><td>&quot;REG&quot;</td><td>&quot;COL&quot;</td><td>20242025</td><td>null</td><td>54</td><td>21</td><td>6</td><td>1</td><td>&quot;Golden Knights&quot;</td><td>&quot;Avalanche&quot;</td><td>&quot;Vegas&quot;</td><td>&quot;Colorado&quot;</td><td>&quot;VGK&quot;</td><td>&quot;COL&quot;</td><td>&quot;https://assets.nhle.com/logos/…</td><td>&quot;https://assets.nhle.com/logos/…</td><td>&quot;https://assets.nhle.com/logos/…</td><td>&quot;https://assets.nhle.com/logos/…</td><td>8481033</td><td>&quot;A.&quot;</td><td>&quot;Schmid&quot;</td><td>8482153</td><td>&quot;B.&quot;</td><td>&quot;Brisson&quot;</td><td>&quot;preseason&quot;</td><td>2025-03-21 08:05:23.364376</td></tr><tr><td>2024010089</td><td>20242025</td><td>1</td><td>2024-10-03</td><td>&quot;T-Mobile Arena&quot;</td><td>false</td><td>&quot;2024-10-04T02:00:00Z&quot;</td><td>&quot;-04:00&quot;</td><td>&quot;-07:00&quot;</td><td>&quot;US/Pacific&quot;</td><td>&quot;FINAL&quot;</td><td>&quot;OK&quot;</td><td>&quot;REG&quot;</td><td>&quot;COL&quot;</td><td>20242025</td><td>null</td><td>21</td><td>54</td><td>3</td><td>1</td><td>&quot;Avalanche&quot;</td><td>&quot;Golden Knights&quot;</td><td>&quot;Colorado&quot;</td><td>&quot;Vegas&quot;</td><td>&quot;COL&quot;</td><td>&quot;VGK&quot;</td><td>&quot;https://assets.nhle.com/logos/…</td><td>&quot;https://assets.nhle.com/logos/…</td><td>&quot;https://assets.nhle.com/logos/…</td><td>&quot;https://assets.nhle.com/logos/…</td><td>8481020</td><td>&quot;J.&quot;</td><td>&quot;Annunen&quot;</td><td>8484258</td><td>&quot;S.&quot;</td><td>&quot;Malinski&quot;</td><td>&quot;preseason&quot;</td><td>2025-03-21 08:05:23.364376</td></tr></tbody></table></div>"
      ],
      "text/plain": [
       "shape: (5, 38)\n",
       "┌────────────┬──────────┬──────────┬───────────┬───┬───────────┬───────────┬───────────┬───────────┐\n",
       "│ id         ┆ season   ┆ gameType ┆ gameDate  ┆ … ┆ winningGo ┆ winningGo ┆ _gameType ┆ meta_date │\n",
       "│ ---        ┆ ---      ┆ ---      ┆ ---       ┆   ┆ alScorerF ┆ alScorerL ┆ ---       ┆ time      │\n",
       "│ i64        ┆ i64      ┆ i64      ┆ date      ┆   ┆ irstIniti ┆ astName   ┆ str       ┆ ---       │\n",
       "│            ┆          ┆          ┆           ┆   ┆ al        ┆ ---       ┆           ┆ datetime[ │\n",
       "│            ┆          ┆          ┆           ┆   ┆ ---       ┆ str       ┆           ┆ μs]       │\n",
       "│            ┆          ┆          ┆           ┆   ┆ str       ┆           ┆           ┆           │\n",
       "╞════════════╪══════════╪══════════╪═══════════╪═══╪═══════════╪═══════════╪═══════════╪═══════════╡\n",
       "│ 2024010017 ┆ 20242025 ┆ 1        ┆ 2024-09-2 ┆ … ┆ L.        ┆ Bichsel   ┆ preseason ┆ 2025-03-2 │\n",
       "│            ┆          ┆          ┆ 3         ┆   ┆           ┆           ┆           ┆ 1 08:05:2 │\n",
       "│            ┆          ┆          ┆           ┆   ┆           ┆           ┆           ┆ 3.364376  │\n",
       "│ 2024010046 ┆ 20242025 ┆ 1        ┆ 2024-09-2 ┆ … ┆ M.        ┆ Duchene   ┆ preseason ┆ 2025-03-2 │\n",
       "│            ┆          ┆          ┆ 7         ┆   ┆           ┆           ┆           ┆ 1 08:05:2 │\n",
       "│            ┆          ┆          ┆           ┆   ┆           ┆           ┆           ┆ 3.364376  │\n",
       "│ 2024010062 ┆ 20242025 ┆ 1        ┆ 2024-09-2 ┆ … ┆ J.        ┆ Doan      ┆ preseason ┆ 2025-03-2 │\n",
       "│            ┆          ┆          ┆ 9         ┆   ┆           ┆           ┆           ┆ 1 08:05:2 │\n",
       "│            ┆          ┆          ┆           ┆   ┆           ┆           ┆           ┆ 3.364376  │\n",
       "│ 2024010077 ┆ 20242025 ┆ 1        ┆ 2024-10-0 ┆ … ┆ B.        ┆ Brisson   ┆ preseason ┆ 2025-03-2 │\n",
       "│            ┆          ┆          ┆ 1         ┆   ┆           ┆           ┆           ┆ 1 08:05:2 │\n",
       "│            ┆          ┆          ┆           ┆   ┆           ┆           ┆           ┆ 3.364376  │\n",
       "│ 2024010089 ┆ 20242025 ┆ 1        ┆ 2024-10-0 ┆ … ┆ S.        ┆ Malinski  ┆ preseason ┆ 2025-03-2 │\n",
       "│            ┆          ┆          ┆ 3         ┆   ┆           ┆           ┆           ┆ 1 08:05:2 │\n",
       "│            ┆          ┆          ┆           ┆   ┆           ┆           ┆           ┆ 3.364376  │\n",
       "└────────────┴──────────┴──────────┴───────────┴───┴───────────┴───────────┴───────────┴───────────┘"
      ]
     },
     "execution_count": 142,
     "metadata": {},
     "output_type": "execute_result"
    }
   ],
   "source": [
    "schedule = await scraper.scrape_schedule(teams=teams['abbrev'].to_list(), seasons=[20242025])\n",
    "\n",
    "schedule.head()"
   ]
  },
  {
   "cell_type": "code",
   "execution_count": 146,
   "metadata": {},
   "outputs": [
    {
     "name": "stdout",
     "output_type": "stream",
     "text": [
      "\n",
      "Welcome to the NHL Scraper!\n",
      "\n",
      "My name is Max and I'm the developer of this project and hockey fan. I hope you enjoy using this tool!\n",
      "\n",
      "This is a work in progress and not all functionalities are available yet.\n",
      "\n",
      "*** IMPORTANT ***\n",
      "\n",
      "Make sure to run the following command in the terminal (it might take a while, but it will ensure that the playwright browser is installed):\n",
      "\n",
      "$ playwright install\n",
      "or\n",
      "$ playwright install chromium\n",
      "\n",
      "***\n",
      "\n",
      "If you have any questions, please contact me on X: @woumaxx[https://x.com/woumaxx]\n",
      "\n",
      "Thank you for using the NHL Scraper!\n",
      "\n",
      "\n",
      "\n"
     ]
    },
    {
     "name": "stderr",
     "output_type": "stream",
     "text": [
      "Scraping NHL PBP Data: 100%|██████████| 2/2 [00:02<00:00,  1.16s/it]\n"
     ]
    },
    {
     "ename": "SchemaError",
     "evalue": "type Int64 is incompatible with expected type Null",
     "output_type": "error",
     "traceback": [
      "\u001b[0;31m---------------------------------------------------------------------------\u001b[0m",
      "\u001b[0;31mSchemaError\u001b[0m                               Traceback (most recent call last)",
      "Cell \u001b[0;32mIn[146], line 3\u001b[0m\n\u001b[1;32m      1\u001b[0m games \u001b[38;5;241m=\u001b[39m schedule\u001b[38;5;241m.\u001b[39mfilter((pl\u001b[38;5;241m.\u001b[39mcol(\u001b[38;5;124m\"\u001b[39m\u001b[38;5;124mgameType\u001b[39m\u001b[38;5;124m\"\u001b[39m) \u001b[38;5;241m==\u001b[39m \u001b[38;5;241m2\u001b[39m) \u001b[38;5;241m&\u001b[39m (pl\u001b[38;5;241m.\u001b[39mcol(\u001b[38;5;124m\"\u001b[39m\u001b[38;5;124mgameState\u001b[39m\u001b[38;5;124m\"\u001b[39m) \u001b[38;5;241m==\u001b[39m \u001b[38;5;124m\"\u001b[39m\u001b[38;5;124mOFF\u001b[39m\u001b[38;5;124m\"\u001b[39m))[\u001b[38;5;124m\"\u001b[39m\u001b[38;5;124mid\u001b[39m\u001b[38;5;124m\"\u001b[39m]\u001b[38;5;241m.\u001b[39munique()\u001b[38;5;241m.\u001b[39mto_list()\n\u001b[0;32m----> 3\u001b[0m df \u001b[38;5;241m=\u001b[39m \u001b[38;5;28;01mawait\u001b[39;00m scraper\u001b[38;5;241m.\u001b[39mscrape_pbp(game_ids\u001b[38;5;241m=\u001b[39mgames[:\u001b[38;5;241m2\u001b[39m])\n\u001b[1;32m      4\u001b[0m df\u001b[38;5;241m.\u001b[39mhead()\n",
      "File \u001b[0;32m~/Documents/nhl_scraper/nhl_scraper/scraper.py:1600\u001b[0m, in \u001b[0;36mScraper.scrape_pbp\u001b[0;34m(self, game_ids, progress)\u001b[0m\n\u001b[1;32m   1598\u001b[0m \u001b[38;5;250m\u001b[39m\u001b[38;5;124;03m\"\"\"Scrape play-by-play data.\"\"\"\u001b[39;00m\n\u001b[1;32m   1599\u001b[0m \u001b[38;5;28mself\u001b[39m\u001b[38;5;241m.\u001b[39mpbp_processor \u001b[38;5;241m=\u001b[39m NHLPBPProcessor(game_ids)\n\u001b[0;32m-> 1600\u001b[0m \u001b[38;5;28;01mreturn\u001b[39;00m \u001b[38;5;28;01mawait\u001b[39;00m \u001b[38;5;28mself\u001b[39m\u001b[38;5;241m.\u001b[39mpbp_processor\u001b[38;5;241m.\u001b[39mfetch_and_process_multiple(progress\u001b[38;5;241m=\u001b[39mprogress)\n",
      "File \u001b[0;32m~/Documents/nhl_scraper/nhl_scraper/scraper.py:1534\u001b[0m, in \u001b[0;36mNHLPBPProcessor.fetch_and_process_multiple\u001b[0;34m(self, progress)\u001b[0m\n\u001b[1;32m   1532\u001b[0m valid_dfs \u001b[38;5;241m=\u001b[39m [df \u001b[38;5;28;01mfor\u001b[39;00m df \u001b[38;5;129;01min\u001b[39;00m results \u001b[38;5;28;01mif\u001b[39;00m \u001b[38;5;28misinstance\u001b[39m(df, pl\u001b[38;5;241m.\u001b[39mDataFrame) \u001b[38;5;129;01mand\u001b[39;00m \u001b[38;5;129;01mnot\u001b[39;00m df\u001b[38;5;241m.\u001b[39mis_empty()]\n\u001b[1;32m   1533\u001b[0m \u001b[38;5;28;01mif\u001b[39;00m valid_dfs:\n\u001b[0;32m-> 1534\u001b[0m     \u001b[38;5;28;01mreturn\u001b[39;00m \u001b[43mpl\u001b[49m\u001b[38;5;241;43m.\u001b[39;49m\u001b[43mconcat\u001b[49m\u001b[43m(\u001b[49m\u001b[43mvalid_dfs\u001b[49m\u001b[43m,\u001b[49m\u001b[43m \u001b[49m\u001b[43mhow\u001b[49m\u001b[38;5;241;43m=\u001b[39;49m\u001b[38;5;124;43m\"\u001b[39;49m\u001b[38;5;124;43mdiagonal\u001b[39;49m\u001b[38;5;124;43m\"\u001b[39;49m\u001b[43m)\u001b[49m\n\u001b[1;32m   1535\u001b[0m \u001b[38;5;28;01melse\u001b[39;00m:\n\u001b[1;32m   1536\u001b[0m     \u001b[38;5;28mprint\u001b[39m(\u001b[38;5;124m\"\u001b[39m\u001b[38;5;124mNo valid data retrieved from any games.\u001b[39m\u001b[38;5;124m\"\u001b[39m)\n",
      "File \u001b[0;32m~/Documents/nhl_scraper/.venv/lib/python3.13/site-packages/polars/functions/eager.py:241\u001b[0m, in \u001b[0;36mconcat\u001b[0;34m(items, how, rechunk, parallel)\u001b[0m\n\u001b[1;32m    231\u001b[0m     out \u001b[38;5;241m=\u001b[39m wrap_ldf(\n\u001b[1;32m    232\u001b[0m         plr\u001b[38;5;241m.\u001b[39mconcat_lf(\n\u001b[1;32m    233\u001b[0m             [df\u001b[38;5;241m.\u001b[39mlazy() \u001b[38;5;28;01mfor\u001b[39;00m df \u001b[38;5;129;01min\u001b[39;00m elems],\n\u001b[0;32m   (...)\u001b[0m\n\u001b[1;32m    237\u001b[0m         )\n\u001b[1;32m    238\u001b[0m     )\u001b[38;5;241m.\u001b[39mcollect(no_optimization\u001b[38;5;241m=\u001b[39m\u001b[38;5;28;01mTrue\u001b[39;00m)\n\u001b[1;32m    240\u001b[0m \u001b[38;5;28;01melif\u001b[39;00m how \u001b[38;5;241m==\u001b[39m \u001b[38;5;124m\"\u001b[39m\u001b[38;5;124mdiagonal\u001b[39m\u001b[38;5;124m\"\u001b[39m:\n\u001b[0;32m--> 241\u001b[0m     out \u001b[38;5;241m=\u001b[39m wrap_df(\u001b[43mplr\u001b[49m\u001b[38;5;241;43m.\u001b[39;49m\u001b[43mconcat_df_diagonal\u001b[49m\u001b[43m(\u001b[49m\u001b[43melems\u001b[49m\u001b[43m)\u001b[49m)\n\u001b[1;32m    242\u001b[0m \u001b[38;5;28;01melif\u001b[39;00m how \u001b[38;5;241m==\u001b[39m \u001b[38;5;124m\"\u001b[39m\u001b[38;5;124mdiagonal_relaxed\u001b[39m\u001b[38;5;124m\"\u001b[39m:\n\u001b[1;32m    243\u001b[0m     out \u001b[38;5;241m=\u001b[39m wrap_ldf(\n\u001b[1;32m    244\u001b[0m         plr\u001b[38;5;241m.\u001b[39mconcat_lf_diagonal(\n\u001b[1;32m    245\u001b[0m             [df\u001b[38;5;241m.\u001b[39mlazy() \u001b[38;5;28;01mfor\u001b[39;00m df \u001b[38;5;129;01min\u001b[39;00m elems],\n\u001b[0;32m   (...)\u001b[0m\n\u001b[1;32m    249\u001b[0m         )\n\u001b[1;32m    250\u001b[0m     )\u001b[38;5;241m.\u001b[39mcollect(no_optimization\u001b[38;5;241m=\u001b[39m\u001b[38;5;28;01mTrue\u001b[39;00m)\n",
      "\u001b[0;31mSchemaError\u001b[0m: type Int64 is incompatible with expected type Null"
     ]
    }
   ],
   "source": [
    "games = schedule.filter((pl.col(\"gameType\") == 2) & (pl.col(\"gameState\") == \"OFF\"))[\"id\"].unique().to_list()\n",
    "\n",
    "df = await scraper.scrape_pbp(game_ids=games[:2])\n",
    "df.head()"
   ]
  },
  {
   "cell_type": "code",
   "execution_count": 148,
   "metadata": {},
   "outputs": [
    {
     "data": {
      "text/plain": [
       "[2024020001, 2024020002]"
      ]
     },
     "execution_count": 148,
     "metadata": {},
     "output_type": "execute_result"
    }
   ],
   "source": [
    "games[:2]"
   ]
  },
  {
   "cell_type": "code",
   "execution_count": 166,
   "metadata": {},
   "outputs": [
    {
     "name": "stderr",
     "output_type": "stream",
     "text": [
      "100%|██████████| 1101/1101 [22:01<00:00,  1.20s/it]\n"
     ]
    },
    {
     "ename": "ShapeError",
     "evalue": "unable to append to a DataFrame of width 94 with a DataFrame of width 90",
     "output_type": "error",
     "traceback": [
      "\u001b[0;31m---------------------------------------------------------------------------\u001b[0m",
      "\u001b[0;31mShapeError\u001b[0m                                Traceback (most recent call last)",
      "Cell \u001b[0;32mIn[166], line 8\u001b[0m\n\u001b[1;32m      4\u001b[0m     games_list\u001b[38;5;241m.\u001b[39mappend(pbps)\n\u001b[1;32m      6\u001b[0m games_list\n\u001b[0;32m----> 8\u001b[0m df \u001b[38;5;241m=\u001b[39m \u001b[43mpl\u001b[49m\u001b[38;5;241;43m.\u001b[39;49m\u001b[43mconcat\u001b[49m\u001b[43m(\u001b[49m\u001b[43mgames_list\u001b[49m\u001b[43m)\u001b[49m\n\u001b[1;32m      9\u001b[0m df\u001b[38;5;241m.\u001b[39mhead()\n",
      "File \u001b[0;32m~/Documents/nhl_scraper/.venv/lib/python3.13/site-packages/polars/functions/eager.py:229\u001b[0m, in \u001b[0;36mconcat\u001b[0;34m(items, how, rechunk, parallel)\u001b[0m\n\u001b[1;32m    227\u001b[0m \u001b[38;5;28;01mif\u001b[39;00m \u001b[38;5;28misinstance\u001b[39m(first, pl\u001b[38;5;241m.\u001b[39mDataFrame):\n\u001b[1;32m    228\u001b[0m     \u001b[38;5;28;01mif\u001b[39;00m how \u001b[38;5;241m==\u001b[39m \u001b[38;5;124m\"\u001b[39m\u001b[38;5;124mvertical\u001b[39m\u001b[38;5;124m\"\u001b[39m:\n\u001b[0;32m--> 229\u001b[0m         out \u001b[38;5;241m=\u001b[39m wrap_df(\u001b[43mplr\u001b[49m\u001b[38;5;241;43m.\u001b[39;49m\u001b[43mconcat_df\u001b[49m\u001b[43m(\u001b[49m\u001b[43melems\u001b[49m\u001b[43m)\u001b[49m)\n\u001b[1;32m    230\u001b[0m     \u001b[38;5;28;01melif\u001b[39;00m how \u001b[38;5;241m==\u001b[39m \u001b[38;5;124m\"\u001b[39m\u001b[38;5;124mvertical_relaxed\u001b[39m\u001b[38;5;124m\"\u001b[39m:\n\u001b[1;32m    231\u001b[0m         out \u001b[38;5;241m=\u001b[39m wrap_ldf(\n\u001b[1;32m    232\u001b[0m             plr\u001b[38;5;241m.\u001b[39mconcat_lf(\n\u001b[1;32m    233\u001b[0m                 [df\u001b[38;5;241m.\u001b[39mlazy() \u001b[38;5;28;01mfor\u001b[39;00m df \u001b[38;5;129;01min\u001b[39;00m elems],\n\u001b[0;32m   (...)\u001b[0m\n\u001b[1;32m    237\u001b[0m             )\n\u001b[1;32m    238\u001b[0m         )\u001b[38;5;241m.\u001b[39mcollect(no_optimization\u001b[38;5;241m=\u001b[39m\u001b[38;5;28;01mTrue\u001b[39;00m)\n",
      "\u001b[0;31mShapeError\u001b[0m: unable to append to a DataFrame of width 94 with a DataFrame of width 90"
     ]
    }
   ],
   "source": [
    "games_list = []\n",
    "for game in tqdm(games):\n",
    "    pbps = await scraper.scrape_pbp(game_ids=[game], progress=False)\n",
    "    games_list.append(pbps)\n",
    "\n",
    "games_list\n",
    "\n",
    "\n",
    "df = pl.concat(games_list, how=\"diagonal\", rechunk=True)\n",
    "df.head()"
   ]
  },
  {
   "cell_type": "code",
   "execution_count": 173,
   "metadata": {},
   "outputs": [
    {
     "ename": "SchemaError",
     "evalue": "type String is incompatible with expected type Null",
     "output_type": "error",
     "traceback": [
      "\u001b[0;31m---------------------------------------------------------------------------\u001b[0m",
      "\u001b[0;31mSchemaError\u001b[0m                               Traceback (most recent call last)",
      "Cell \u001b[0;32mIn[173], line 25\u001b[0m\n\u001b[1;32m     22\u001b[0m     games_list_normalized\u001b[38;5;241m.\u001b[39mappend(pbps)\n\u001b[1;32m     24\u001b[0m \u001b[38;5;66;03m# Concatenate\u001b[39;00m\n\u001b[0;32m---> 25\u001b[0m df \u001b[38;5;241m=\u001b[39m \u001b[43mpl\u001b[49m\u001b[38;5;241;43m.\u001b[39;49m\u001b[43mconcat\u001b[49m\u001b[43m(\u001b[49m\u001b[43mgames_list_normalized\u001b[49m\u001b[43m,\u001b[49m\u001b[43m \u001b[49m\u001b[43mhow\u001b[49m\u001b[38;5;241;43m=\u001b[39;49m\u001b[38;5;124;43m\"\u001b[39;49m\u001b[38;5;124;43mdiagonal\u001b[39;49m\u001b[38;5;124;43m\"\u001b[39;49m\u001b[43m,\u001b[49m\u001b[43m \u001b[49m\u001b[43mrechunk\u001b[49m\u001b[38;5;241;43m=\u001b[39;49m\u001b[38;5;28;43;01mTrue\u001b[39;49;00m\u001b[43m)\u001b[49m\n\u001b[1;32m     26\u001b[0m \u001b[38;5;28mprint\u001b[39m(df\u001b[38;5;241m.\u001b[39mhead())\n",
      "File \u001b[0;32m~/Documents/nhl_scraper/.venv/lib/python3.13/site-packages/polars/functions/eager.py:241\u001b[0m, in \u001b[0;36mconcat\u001b[0;34m(items, how, rechunk, parallel)\u001b[0m\n\u001b[1;32m    231\u001b[0m     out \u001b[38;5;241m=\u001b[39m wrap_ldf(\n\u001b[1;32m    232\u001b[0m         plr\u001b[38;5;241m.\u001b[39mconcat_lf(\n\u001b[1;32m    233\u001b[0m             [df\u001b[38;5;241m.\u001b[39mlazy() \u001b[38;5;28;01mfor\u001b[39;00m df \u001b[38;5;129;01min\u001b[39;00m elems],\n\u001b[0;32m   (...)\u001b[0m\n\u001b[1;32m    237\u001b[0m         )\n\u001b[1;32m    238\u001b[0m     )\u001b[38;5;241m.\u001b[39mcollect(no_optimization\u001b[38;5;241m=\u001b[39m\u001b[38;5;28;01mTrue\u001b[39;00m)\n\u001b[1;32m    240\u001b[0m \u001b[38;5;28;01melif\u001b[39;00m how \u001b[38;5;241m==\u001b[39m \u001b[38;5;124m\"\u001b[39m\u001b[38;5;124mdiagonal\u001b[39m\u001b[38;5;124m\"\u001b[39m:\n\u001b[0;32m--> 241\u001b[0m     out \u001b[38;5;241m=\u001b[39m wrap_df(\u001b[43mplr\u001b[49m\u001b[38;5;241;43m.\u001b[39;49m\u001b[43mconcat_df_diagonal\u001b[49m\u001b[43m(\u001b[49m\u001b[43melems\u001b[49m\u001b[43m)\u001b[49m)\n\u001b[1;32m    242\u001b[0m \u001b[38;5;28;01melif\u001b[39;00m how \u001b[38;5;241m==\u001b[39m \u001b[38;5;124m\"\u001b[39m\u001b[38;5;124mdiagonal_relaxed\u001b[39m\u001b[38;5;124m\"\u001b[39m:\n\u001b[1;32m    243\u001b[0m     out \u001b[38;5;241m=\u001b[39m wrap_ldf(\n\u001b[1;32m    244\u001b[0m         plr\u001b[38;5;241m.\u001b[39mconcat_lf_diagonal(\n\u001b[1;32m    245\u001b[0m             [df\u001b[38;5;241m.\u001b[39mlazy() \u001b[38;5;28;01mfor\u001b[39;00m df \u001b[38;5;129;01min\u001b[39;00m elems],\n\u001b[0;32m   (...)\u001b[0m\n\u001b[1;32m    249\u001b[0m         )\n\u001b[1;32m    250\u001b[0m     )\u001b[38;5;241m.\u001b[39mcollect(no_optimization\u001b[38;5;241m=\u001b[39m\u001b[38;5;28;01mTrue\u001b[39;00m)\n",
      "\u001b[0;31mSchemaError\u001b[0m: type String is incompatible with expected type Null"
     ]
    }
   ],
   "source": [
    "# Determine data types for each column\n",
    "column_dtypes = {}\n",
    "for pbps in games_list:\n",
    "    for col in pbps.columns:\n",
    "        if col not in column_dtypes:\n",
    "            column_dtypes[col] = pbps[col].dtype  # Store the first encountered dtype\n",
    "\n",
    "# Second pass: normalize by adding missing columns with matching dtypes\n",
    "all_columns = sorted(all_columns)  # For consistency\n",
    "games_list_normalized = []\n",
    "for pbps in games_list:\n",
    "    missing_cols = [col for col in all_columns if col not in pbps.columns]\n",
    "    if missing_cols:\n",
    "        # Add missing columns with nulls and correct dtypes\n",
    "        new_cols = [\n",
    "            pl.lit(None).cast(column_dtypes[col]).alias(col)\n",
    "            for col in missing_cols\n",
    "        ]\n",
    "        pbps = pbps.with_columns(new_cols)\n",
    "    # Reorder columns to match `all_columns`\n",
    "    pbps = pbps.select(all_columns)\n",
    "    games_list_normalized.append(pbps)\n",
    "\n",
    "# Concatenate\n",
    "df = pl.concat(games_list_normalized, how=\"diagonal\", rechunk=True)\n",
    "print(df.head())"
   ]
  },
  {
   "cell_type": "code",
   "execution_count": 169,
   "metadata": {},
   "outputs": [
    {
     "data": {
      "text/html": [
       "<div><style>\n",
       ".dataframe > thead > tr,\n",
       ".dataframe > tbody > tr {\n",
       "  text-align: right;\n",
       "  white-space: pre-wrap;\n",
       "}\n",
       "</style>\n",
       "<small>shape: (5, 94)</small><table border=\"1\" class=\"dataframe\"><thead><tr><th>#</th><th>Per</th><th>Str</th><th>Event</th><th>Description</th><th>homeGName</th><th>awayGName</th><th>homeGId</th><th>awayGId</th><th>index</th><th>event</th><th>timeInPeriod</th><th>timeRemaining</th><th>homeTeamDefendingSide</th><th>api_event</th><th>periodNumber</th><th>periodType</th><th>eventOwnerTeamId</th><th>xCoord</th><th>yCoord</th><th>zoneCode</th><th>shotType</th><th>goalieInNetId</th><th>awaySOG</th><th>homeSOG</th><th>details_playerId</th><th>reason</th><th>details_typeCode</th><th>details_descKey</th><th>details_duration</th><th>details_drawnByPlayerId</th><th>details_secondaryReason</th><th>details_scoringPlayerTotal</th><th>details_assist1PlayerTotal</th><th>awayScore</th><th>homeScore</th><th>details_assist2PlayerTotal</th><th>&hellip;</th><th>home_skater_fullName2</th><th>home_skater_fullName3</th><th>home_skater_fullName4</th><th>home_skater_fullName5</th><th>home_skater_fullName6</th><th>away_skater_fullName1</th><th>away_skater_fullName2</th><th>away_skater_fullName3</th><th>away_skater_fullName4</th><th>away_skater_fullName5</th><th>away_skater_fullName6</th><th>homeSktrs</th><th>awaySktrs</th><th>eventOwnerTeam</th><th>awayTeam</th><th>homeTeam</th><th>awayTeamId</th><th>homeTeamId</th><th>season</th><th>gameType</th><th>limitedScoring</th><th>gameDate</th><th>venue</th><th>venueLocation</th><th>startTimeUTC</th><th>easternUTCOffset</th><th>venueUTCOffset</th><th>gameState</th><th>gameScheduleState</th><th>gameOutcome</th><th>x</th><th>y</th><th>timeInPeriod_s</th><th>elapsedTime</th><th>strength</th><th>gameId</th><th>meta_datetime</th></tr><tr><td>str</td><td>str</td><td>str</td><td>str</td><td>str</td><td>str</td><td>str</td><td>i64</td><td>i64</td><td>i64</td><td>str</td><td>str</td><td>str</td><td>str</td><td>str</td><td>i64</td><td>str</td><td>str</td><td>f64</td><td>f64</td><td>str</td><td>str</td><td>i64</td><td>i64</td><td>i64</td><td>i64</td><td>str</td><td>str</td><td>str</td><td>i64</td><td>i64</td><td>str</td><td>i64</td><td>i64</td><td>i64</td><td>i64</td><td>i64</td><td>&hellip;</td><td>str</td><td>str</td><td>str</td><td>str</td><td>str</td><td>str</td><td>str</td><td>str</td><td>str</td><td>str</td><td>str</td><td>u32</td><td>u32</td><td>str</td><td>str</td><td>str</td><td>str</td><td>str</td><td>i32</td><td>i32</td><td>bool</td><td>datetime[μs]</td><td>str</td><td>str</td><td>datetime[μs]</td><td>str</td><td>str</td><td>str</td><td>str</td><td>str</td><td>f64</td><td>f64</td><td>i64</td><td>i64</td><td>str</td><td>str</td><td>datetime[μs]</td></tr></thead><tbody><tr><td>&quot;4&quot;</td><td>&quot;1&quot;</td><td>&quot;&quot;</td><td>&quot;PSTR&quot;</td><td>&quot;Period Start- Local time: 7:14…</td><td>&quot;Ukko-Pekka Luukkonen&quot;</td><td>&quot;Jacob Markstrom&quot;</td><td>8480045</td><td>8474593</td><td>0</td><td>&quot;period-start&quot;</td><td>&quot;00:00&quot;</td><td>&quot;20:00&quot;</td><td>&quot;right&quot;</td><td>&quot;period-start&quot;</td><td>1</td><td>&quot;REG&quot;</td><td>null</td><td>null</td><td>null</td><td>null</td><td>null</td><td>null</td><td>0</td><td>0</td><td>null</td><td>null</td><td>null</td><td>null</td><td>null</td><td>null</td><td>null</td><td>null</td><td>null</td><td>0</td><td>0</td><td>null</td><td>&hellip;</td><td>&quot;Nicolas Aube-Kubel&quot;</td><td>&quot;Beck Malenstyn&quot;</td><td>&quot;Henri Jokiharju&quot;</td><td>&quot;Rasmus Dahlin&quot;</td><td>null</td><td>&quot;Nico Hischier&quot;</td><td>&quot;Ondrej Palat&quot;</td><td>&quot;Tomas Tatar&quot;</td><td>&quot;Simon Nemec&quot;</td><td>&quot;Jonas Siegenthaler&quot;</td><td>null</td><td>5</td><td>5</td><td>null</td><td>&quot;NJD&quot;</td><td>&quot;BUF&quot;</td><td>&quot;1&quot;</td><td>&quot;7&quot;</td><td>20242025</td><td>2</td><td>false</td><td>2024-10-04 00:00:00</td><td>&quot;O2 Czech Republic&quot;</td><td>&quot;Prague&quot;</td><td>2024-10-04 17:00:00</td><td>&quot;-04:00&quot;</td><td>&quot;+02:00&quot;</td><td>&quot;OFF&quot;</td><td>&quot;OK&quot;</td><td>&quot;REG&quot;</td><td>null</td><td>null</td><td>0</td><td>0</td><td>null</td><td>&quot;2024020001&quot;</td><td>2025-03-21 08:14:08.670442</td></tr><tr><td>&quot;5&quot;</td><td>&quot;1&quot;</td><td>&quot;EV&quot;</td><td>&quot;FAC&quot;</td><td>&quot;NJD won Neu. Zone - NJD #13 HI…</td><td>&quot;Ukko-Pekka Luukkonen&quot;</td><td>&quot;Jacob Markstrom&quot;</td><td>8480045</td><td>8474593</td><td>1</td><td>&quot;faceoff&quot;</td><td>&quot;00:00&quot;</td><td>&quot;20:00&quot;</td><td>&quot;right&quot;</td><td>&quot;faceoff&quot;</td><td>1</td><td>&quot;REG&quot;</td><td>&quot;1&quot;</td><td>0.0</td><td>0.0</td><td>&quot;N&quot;</td><td>null</td><td>null</td><td>0</td><td>0</td><td>null</td><td>null</td><td>null</td><td>null</td><td>null</td><td>null</td><td>null</td><td>null</td><td>null</td><td>0</td><td>0</td><td>null</td><td>&hellip;</td><td>&quot;Nicolas Aube-Kubel&quot;</td><td>&quot;Beck Malenstyn&quot;</td><td>&quot;Henri Jokiharju&quot;</td><td>&quot;Rasmus Dahlin&quot;</td><td>null</td><td>&quot;Nico Hischier&quot;</td><td>&quot;Ondrej Palat&quot;</td><td>&quot;Tomas Tatar&quot;</td><td>&quot;Simon Nemec&quot;</td><td>&quot;Jonas Siegenthaler&quot;</td><td>null</td><td>5</td><td>5</td><td>&quot;NJD&quot;</td><td>&quot;NJD&quot;</td><td>&quot;BUF&quot;</td><td>&quot;1&quot;</td><td>&quot;7&quot;</td><td>20242025</td><td>2</td><td>false</td><td>2024-10-04 00:00:00</td><td>&quot;O2 Czech Republic&quot;</td><td>&quot;Prague&quot;</td><td>2024-10-04 17:00:00</td><td>&quot;-04:00&quot;</td><td>&quot;+02:00&quot;</td><td>&quot;OFF&quot;</td><td>&quot;OK&quot;</td><td>&quot;REG&quot;</td><td>-0.0</td><td>-0.0</td><td>0</td><td>0</td><td>&quot;5v5&quot;</td><td>&quot;2024020001&quot;</td><td>2025-03-21 08:14:08.670442</td></tr><tr><td>&quot;6&quot;</td><td>&quot;1&quot;</td><td>&quot;EV&quot;</td><td>&quot;HIT&quot;</td><td>&quot;BUF #29 MALENSTYN HIT NJD #90 …</td><td>&quot;Ukko-Pekka Luukkonen&quot;</td><td>&quot;Jacob Markstrom&quot;</td><td>8480045</td><td>8474593</td><td>2</td><td>&quot;hit&quot;</td><td>&quot;00:05&quot;</td><td>&quot;19:55&quot;</td><td>&quot;right&quot;</td><td>&quot;hit&quot;</td><td>1</td><td>&quot;REG&quot;</td><td>&quot;7&quot;</td><td>69.0</td><td>-40.0</td><td>&quot;N&quot;</td><td>null</td><td>null</td><td>0</td><td>0</td><td>null</td><td>null</td><td>null</td><td>null</td><td>null</td><td>null</td><td>null</td><td>null</td><td>null</td><td>0</td><td>0</td><td>null</td><td>&hellip;</td><td>&quot;Nicolas Aube-Kubel&quot;</td><td>&quot;Beck Malenstyn&quot;</td><td>&quot;Henri Jokiharju&quot;</td><td>&quot;Rasmus Dahlin&quot;</td><td>null</td><td>&quot;Nico Hischier&quot;</td><td>&quot;Ondrej Palat&quot;</td><td>&quot;Tomas Tatar&quot;</td><td>&quot;Simon Nemec&quot;</td><td>&quot;Jonas Siegenthaler&quot;</td><td>null</td><td>5</td><td>5</td><td>&quot;BUF&quot;</td><td>&quot;NJD&quot;</td><td>&quot;BUF&quot;</td><td>&quot;1&quot;</td><td>&quot;7&quot;</td><td>20242025</td><td>2</td><td>false</td><td>2024-10-04 00:00:00</td><td>&quot;O2 Czech Republic&quot;</td><td>&quot;Prague&quot;</td><td>2024-10-04 17:00:00</td><td>&quot;-04:00&quot;</td><td>&quot;+02:00&quot;</td><td>&quot;OFF&quot;</td><td>&quot;OK&quot;</td><td>&quot;REG&quot;</td><td>-69.0</td><td>40.0</td><td>5</td><td>5</td><td>&quot;5v5&quot;</td><td>&quot;2024020001&quot;</td><td>2025-03-21 08:14:08.670442</td></tr><tr><td>&quot;7&quot;</td><td>&quot;1&quot;</td><td>&quot;EV&quot;</td><td>&quot;SHOT&quot;</td><td>&quot;NJD ONGOAL - #17 NEMEC, Wrist …</td><td>&quot;Ukko-Pekka Luukkonen&quot;</td><td>&quot;Jacob Markstrom&quot;</td><td>8480045</td><td>8474593</td><td>3</td><td>&quot;shot-on-goal&quot;</td><td>&quot;00:08&quot;</td><td>&quot;19:52&quot;</td><td>&quot;right&quot;</td><td>&quot;shot-on-goal&quot;</td><td>1</td><td>&quot;REG&quot;</td><td>&quot;1&quot;</td><td>57.0</td><td>-40.0</td><td>&quot;O&quot;</td><td>&quot;wrist&quot;</td><td>8480045</td><td>1</td><td>0</td><td>null</td><td>null</td><td>null</td><td>null</td><td>null</td><td>null</td><td>null</td><td>null</td><td>null</td><td>0</td><td>0</td><td>null</td><td>&hellip;</td><td>&quot;Nicolas Aube-Kubel&quot;</td><td>&quot;Beck Malenstyn&quot;</td><td>&quot;Henri Jokiharju&quot;</td><td>&quot;Rasmus Dahlin&quot;</td><td>null</td><td>&quot;Nico Hischier&quot;</td><td>&quot;Ondrej Palat&quot;</td><td>&quot;Tomas Tatar&quot;</td><td>&quot;Simon Nemec&quot;</td><td>&quot;Jonas Siegenthaler&quot;</td><td>null</td><td>5</td><td>5</td><td>&quot;NJD&quot;</td><td>&quot;NJD&quot;</td><td>&quot;BUF&quot;</td><td>&quot;1&quot;</td><td>&quot;7&quot;</td><td>20242025</td><td>2</td><td>false</td><td>2024-10-04 00:00:00</td><td>&quot;O2 Czech Republic&quot;</td><td>&quot;Prague&quot;</td><td>2024-10-04 17:00:00</td><td>&quot;-04:00&quot;</td><td>&quot;+02:00&quot;</td><td>&quot;OFF&quot;</td><td>&quot;OK&quot;</td><td>&quot;REG&quot;</td><td>-57.0</td><td>40.0</td><td>8</td><td>8</td><td>&quot;5v5&quot;</td><td>&quot;2024020001&quot;</td><td>2025-03-21 08:14:08.670442</td></tr><tr><td>&quot;8&quot;</td><td>&quot;1&quot;</td><td>&quot;EV&quot;</td><td>&quot;GIVE&quot;</td><td>&quot;NJD GIVEAWAY - #25 MARKSTROM, …</td><td>&quot;Ukko-Pekka Luukkonen&quot;</td><td>&quot;Jacob Markstrom&quot;</td><td>8480045</td><td>8474593</td><td>4</td><td>&quot;giveaway&quot;</td><td>&quot;00:19&quot;</td><td>&quot;19:41&quot;</td><td>&quot;right&quot;</td><td>&quot;giveaway&quot;</td><td>1</td><td>&quot;REG&quot;</td><td>&quot;1&quot;</td><td>-73.0</td><td>9.0</td><td>&quot;D&quot;</td><td>null</td><td>null</td><td>1</td><td>0</td><td>8474593</td><td>null</td><td>null</td><td>null</td><td>null</td><td>null</td><td>null</td><td>null</td><td>null</td><td>0</td><td>0</td><td>null</td><td>&hellip;</td><td>&quot;Nicolas Aube-Kubel&quot;</td><td>&quot;Beck Malenstyn&quot;</td><td>&quot;Henri Jokiharju&quot;</td><td>&quot;Rasmus Dahlin&quot;</td><td>null</td><td>&quot;Nico Hischier&quot;</td><td>&quot;Ondrej Palat&quot;</td><td>&quot;Tomas Tatar&quot;</td><td>&quot;Simon Nemec&quot;</td><td>&quot;Jonas Siegenthaler&quot;</td><td>null</td><td>5</td><td>5</td><td>&quot;NJD&quot;</td><td>&quot;NJD&quot;</td><td>&quot;BUF&quot;</td><td>&quot;1&quot;</td><td>&quot;7&quot;</td><td>20242025</td><td>2</td><td>false</td><td>2024-10-04 00:00:00</td><td>&quot;O2 Czech Republic&quot;</td><td>&quot;Prague&quot;</td><td>2024-10-04 17:00:00</td><td>&quot;-04:00&quot;</td><td>&quot;+02:00&quot;</td><td>&quot;OFF&quot;</td><td>&quot;OK&quot;</td><td>&quot;REG&quot;</td><td>73.0</td><td>-9.0</td><td>19</td><td>19</td><td>&quot;5v5&quot;</td><td>&quot;2024020001&quot;</td><td>2025-03-21 08:14:08.670442</td></tr></tbody></table></div>"
      ],
      "text/plain": [
       "shape: (5, 94)\n",
       "┌─────┬─────┬─────┬───────┬───┬─────────────┬──────────┬────────────┬────────────────────────────┐\n",
       "│ #   ┆ Per ┆ Str ┆ Event ┆ … ┆ elapsedTime ┆ strength ┆ gameId     ┆ meta_datetime              │\n",
       "│ --- ┆ --- ┆ --- ┆ ---   ┆   ┆ ---         ┆ ---      ┆ ---        ┆ ---                        │\n",
       "│ str ┆ str ┆ str ┆ str   ┆   ┆ i64         ┆ str      ┆ str        ┆ datetime[μs]               │\n",
       "╞═════╪═════╪═════╪═══════╪═══╪═════════════╪══════════╪════════════╪════════════════════════════╡\n",
       "│ 4   ┆ 1   ┆     ┆ PSTR  ┆ … ┆ 0           ┆ null     ┆ 2024020001 ┆ 2025-03-21 08:14:08.670442 │\n",
       "│ 5   ┆ 1   ┆ EV  ┆ FAC   ┆ … ┆ 0           ┆ 5v5      ┆ 2024020001 ┆ 2025-03-21 08:14:08.670442 │\n",
       "│ 6   ┆ 1   ┆ EV  ┆ HIT   ┆ … ┆ 5           ┆ 5v5      ┆ 2024020001 ┆ 2025-03-21 08:14:08.670442 │\n",
       "│ 7   ┆ 1   ┆ EV  ┆ SHOT  ┆ … ┆ 8           ┆ 5v5      ┆ 2024020001 ┆ 2025-03-21 08:14:08.670442 │\n",
       "│ 8   ┆ 1   ┆ EV  ┆ GIVE  ┆ … ┆ 19          ┆ 5v5      ┆ 2024020001 ┆ 2025-03-21 08:14:08.670442 │\n",
       "└─────┴─────┴─────┴───────┴───┴─────────────┴──────────┴────────────┴────────────────────────────┘"
      ]
     },
     "execution_count": 169,
     "metadata": {},
     "output_type": "execute_result"
    }
   ],
   "source": [
    "games_list[0].head()"
   ]
  },
  {
   "cell_type": "code",
   "execution_count": 174,
   "metadata": {},
   "outputs": [
    {
     "name": "stderr",
     "output_type": "stream",
     "text": [
      "Normalizing DataFrames: 100%|██████████| 1101/1101 [00:00<00:00, 1652.62it/s]\n"
     ]
    },
    {
     "name": "stdout",
     "output_type": "stream",
     "text": [
      "Strict diagonal failed: type String is incompatible with expected type Null. Trying relaxed diagonal...\n",
      "Concatenation successful with relaxed diagonal!\n",
      "shape: (5, 139)\n",
      "┌─────┬─────────────────────────────────┬───────┬─────┬───┬────────┬──────┬────────┬──────────┐\n",
      "│ #   ┆ Description                     ┆ Event ┆ Per ┆ … ┆ xCoord ┆ y    ┆ yCoord ┆ zoneCode │\n",
      "│ --- ┆ ---                             ┆ ---   ┆ --- ┆   ┆ ---    ┆ ---  ┆ ---    ┆ ---      │\n",
      "│ str ┆ str                             ┆ str   ┆ str ┆   ┆ f64    ┆ f64  ┆ f64    ┆ str      │\n",
      "╞═════╪═════════════════════════════════╪═══════╪═════╪═══╪════════╪══════╪════════╪══════════╡\n",
      "│ 4   ┆ Period Start- Local time: 7:14… ┆ PSTR  ┆ 1   ┆ … ┆ null   ┆ null ┆ null   ┆ null     │\n",
      "│ 5   ┆ NJD won Neu. Zone - NJD #13 HI… ┆ FAC   ┆ 1   ┆ … ┆ 0.0    ┆ -0.0 ┆ 0.0    ┆ N        │\n",
      "│ 6   ┆ BUF #29 MALENSTYN HIT NJD #90 … ┆ HIT   ┆ 1   ┆ … ┆ 69.0   ┆ 40.0 ┆ -40.0  ┆ N        │\n",
      "│ 7   ┆ NJD ONGOAL - #17 NEMEC, Wrist … ┆ SHOT  ┆ 1   ┆ … ┆ 57.0   ┆ 40.0 ┆ -40.0  ┆ O        │\n",
      "│ 8   ┆ NJD GIVEAWAY - #25 MARKSTROM, … ┆ GIVE  ┆ 1   ┆ … ┆ -73.0  ┆ -9.0 ┆ 9.0    ┆ D        │\n",
      "└─────┴─────────────────────────────────┴───────┴─────┴───┴────────┴──────┴────────┴──────────┘\n"
     ]
    }
   ],
   "source": [
    "import polars as pl\n",
    "from tqdm import tqdm\n",
    "\n",
    "# Assuming games_list is already populated from your earlier code\n",
    "# games_list = [...]  # Your scraped DataFrames are here\n",
    "\n",
    "# Step 1: Identify all unique columns across all DataFrames\n",
    "all_columns = set()\n",
    "for pbps in games_list:\n",
    "    all_columns.update(pbps.columns)\n",
    "all_columns = sorted(all_columns)  # For consistent ordering\n",
    "\n",
    "# Step 2: Determine data types for each column\n",
    "column_dtypes = {}\n",
    "for pbps in games_list:\n",
    "    for col in pbps.columns:\n",
    "        if col not in column_dtypes:\n",
    "            column_dtypes[col] = pbps[col].dtype  # Take the first encountered dtype\n",
    "\n",
    "# Step 3: Normalize each DataFrame by adding missing columns with correct dtypes\n",
    "games_list_normalized = []\n",
    "for pbps in tqdm(games_list, desc=\"Normalizing DataFrames\"):\n",
    "    missing_cols = [col for col in all_columns if col not in pbps.columns]\n",
    "    if missing_cols:\n",
    "        # Add missing columns with nulls, matching the dtype\n",
    "        new_cols = [\n",
    "            pl.lit(None, dtype=column_dtypes[col]).alias(col)\n",
    "            for col in missing_cols\n",
    "        ]\n",
    "        pbps = pbps.with_columns(new_cols)\n",
    "    # Reorder columns to match all_columns\n",
    "    pbps = pbps.select(all_columns)\n",
    "    games_list_normalized.append(pbps)\n",
    "\n",
    "# Step 4: Concatenate with a fallback to relaxed mode if needed\n",
    "try:\n",
    "    df = pl.concat(games_list_normalized, how=\"diagonal\", rechunk=True)\n",
    "    print(\"Concatenation successful with strict diagonal!\")\n",
    "except pl.exceptions.SchemaError as e:\n",
    "    print(f\"Strict diagonal failed: {e}. Trying relaxed diagonal...\")\n",
    "    df = pl.concat(games_list_normalized, how=\"diagonal_relaxed\", rechunk=True)\n",
    "    print(\"Concatenation successful with relaxed diagonal!\")\n",
    "\n",
    "# Check the result\n",
    "print(df.head())"
   ]
  },
  {
   "cell_type": "code",
   "execution_count": 180,
   "metadata": {},
   "outputs": [
    {
     "data": {
      "text/html": [
       "<div><style>\n",
       ".dataframe > thead > tr,\n",
       ".dataframe > tbody > tr {\n",
       "  text-align: right;\n",
       "  white-space: pre-wrap;\n",
       "}\n",
       "</style>\n",
       "<small>shape: (5, 119)</small><table border=\"1\" class=\"dataframe\"><thead><tr><th>#</th><th>Description</th><th>Event</th><th>Per</th><th>Str</th><th>api_event</th><th>awayGId</th><th>awayGName</th><th>awaySOG</th><th>awayScore</th><th>awaySktrs</th><th>awayTeam</th><th>awayTeamId</th><th>away_skater_fullName1</th><th>away_skater_fullName2</th><th>away_skater_fullName3</th><th>away_skater_fullName4</th><th>away_skater_fullName5</th><th>away_skater_fullName6</th><th>away_skater_fullName7</th><th>away_skater_id1</th><th>away_skater_id2</th><th>away_skater_id3</th><th>away_skater_id4</th><th>away_skater_id5</th><th>away_skater_id6</th><th>away_skater_id7</th><th>details_assist1PlayerTotal</th><th>details_assist2PlayerTotal</th><th>details_descKey</th><th>details_drawnByPlayerId</th><th>details_duration</th><th>details_playerId</th><th>details_scoringPlayerTotal</th><th>details_secondaryReason</th><th>details_servedByPlayerId</th><th>details_typeCode</th><th>&hellip;</th><th>home_skater_id16</th><th>home_skater_id17</th><th>home_skater_id2</th><th>home_skater_id3</th><th>home_skater_id4</th><th>home_skater_id5</th><th>home_skater_id6</th><th>home_skater_id7</th><th>home_skater_id8</th><th>home_skater_id9</th><th>index</th><th>limitedScoring</th><th>meta_datetime</th><th>periodNumber</th><th>periodType</th><th>playerId_1</th><th>playerId_2</th><th>playerId_3</th><th>playerName_1</th><th>playerName_2</th><th>playerName_3</th><th>reason</th><th>season</th><th>shotType</th><th>startTimeUTC</th><th>strength</th><th>timeInPeriod</th><th>timeInPeriod_s</th><th>timeRemaining</th><th>venue</th><th>venueLocation</th><th>venueUTCOffset</th><th>x</th><th>xCoord</th><th>y</th><th>yCoord</th><th>zoneCode</th></tr><tr><td>str</td><td>str</td><td>str</td><td>str</td><td>str</td><td>str</td><td>i64</td><td>str</td><td>i64</td><td>i64</td><td>u32</td><td>str</td><td>str</td><td>str</td><td>str</td><td>str</td><td>str</td><td>str</td><td>str</td><td>str</td><td>i64</td><td>i64</td><td>i64</td><td>i64</td><td>i64</td><td>i64</td><td>i64</td><td>i64</td><td>i64</td><td>str</td><td>i64</td><td>i64</td><td>i64</td><td>i64</td><td>str</td><td>i64</td><td>str</td><td>&hellip;</td><td>i64</td><td>i64</td><td>i64</td><td>i64</td><td>i64</td><td>i64</td><td>i64</td><td>i64</td><td>i64</td><td>i64</td><td>i64</td><td>bool</td><td>datetime[μs]</td><td>i64</td><td>str</td><td>i64</td><td>i64</td><td>i64</td><td>str</td><td>str</td><td>str</td><td>str</td><td>i32</td><td>str</td><td>datetime[μs]</td><td>str</td><td>str</td><td>i64</td><td>str</td><td>str</td><td>str</td><td>str</td><td>f64</td><td>f64</td><td>f64</td><td>f64</td><td>str</td></tr></thead><tbody><tr><td>&quot;4&quot;</td><td>&quot;Period Start- Local time: 7:14…</td><td>&quot;PSTR&quot;</td><td>&quot;1&quot;</td><td>&quot;&quot;</td><td>&quot;period-start&quot;</td><td>8474593</td><td>&quot;Jacob Markstrom&quot;</td><td>0</td><td>0</td><td>5</td><td>&quot;NJD&quot;</td><td>&quot;1&quot;</td><td>&quot;Nico Hischier&quot;</td><td>&quot;Ondrej Palat&quot;</td><td>&quot;Tomas Tatar&quot;</td><td>&quot;Simon Nemec&quot;</td><td>&quot;Jonas Siegenthaler&quot;</td><td>null</td><td>null</td><td>8480002</td><td>8476292</td><td>8475193</td><td>8483495</td><td>8478399</td><td>null</td><td>null</td><td>null</td><td>null</td><td>null</td><td>null</td><td>null</td><td>null</td><td>null</td><td>null</td><td>null</td><td>null</td><td>&hellip;</td><td>null</td><td>null</td><td>8477979</td><td>8479359</td><td>8480035</td><td>8480839</td><td>null</td><td>null</td><td>null</td><td>null</td><td>0</td><td>false</td><td>2025-03-21 08:14:08.670442</td><td>1</td><td>&quot;REG&quot;</td><td>null</td><td>null</td><td>null</td><td>null</td><td>null</td><td>null</td><td>null</td><td>20242025</td><td>null</td><td>2024-10-04 17:00:00</td><td>null</td><td>&quot;00:00&quot;</td><td>0</td><td>&quot;20:00&quot;</td><td>&quot;O2 Czech Republic&quot;</td><td>&quot;Prague&quot;</td><td>&quot;+02:00&quot;</td><td>null</td><td>null</td><td>null</td><td>null</td><td>null</td></tr><tr><td>&quot;5&quot;</td><td>&quot;NJD won Neu. Zone - NJD #13 HI…</td><td>&quot;FAC&quot;</td><td>&quot;1&quot;</td><td>&quot;EV&quot;</td><td>&quot;faceoff&quot;</td><td>8474593</td><td>&quot;Jacob Markstrom&quot;</td><td>0</td><td>0</td><td>5</td><td>&quot;NJD&quot;</td><td>&quot;1&quot;</td><td>&quot;Nico Hischier&quot;</td><td>&quot;Ondrej Palat&quot;</td><td>&quot;Tomas Tatar&quot;</td><td>&quot;Simon Nemec&quot;</td><td>&quot;Jonas Siegenthaler&quot;</td><td>null</td><td>null</td><td>8480002</td><td>8476292</td><td>8475193</td><td>8483495</td><td>8478399</td><td>null</td><td>null</td><td>null</td><td>null</td><td>null</td><td>null</td><td>null</td><td>null</td><td>null</td><td>null</td><td>null</td><td>null</td><td>&hellip;</td><td>null</td><td>null</td><td>8477979</td><td>8479359</td><td>8480035</td><td>8480839</td><td>null</td><td>null</td><td>null</td><td>null</td><td>1</td><td>false</td><td>2025-03-21 08:14:08.670442</td><td>1</td><td>&quot;REG&quot;</td><td>8480002</td><td>8478043</td><td>null</td><td>&quot;Nico Hischier&quot;</td><td>&quot;Sam Lafferty&quot;</td><td>null</td><td>null</td><td>20242025</td><td>null</td><td>2024-10-04 17:00:00</td><td>&quot;5v5&quot;</td><td>&quot;00:00&quot;</td><td>0</td><td>&quot;20:00&quot;</td><td>&quot;O2 Czech Republic&quot;</td><td>&quot;Prague&quot;</td><td>&quot;+02:00&quot;</td><td>-0.0</td><td>0.0</td><td>-0.0</td><td>0.0</td><td>&quot;N&quot;</td></tr><tr><td>&quot;6&quot;</td><td>&quot;BUF #29 MALENSTYN HIT NJD #90 …</td><td>&quot;HIT&quot;</td><td>&quot;1&quot;</td><td>&quot;EV&quot;</td><td>&quot;hit&quot;</td><td>8474593</td><td>&quot;Jacob Markstrom&quot;</td><td>0</td><td>0</td><td>5</td><td>&quot;NJD&quot;</td><td>&quot;1&quot;</td><td>&quot;Nico Hischier&quot;</td><td>&quot;Ondrej Palat&quot;</td><td>&quot;Tomas Tatar&quot;</td><td>&quot;Simon Nemec&quot;</td><td>&quot;Jonas Siegenthaler&quot;</td><td>null</td><td>null</td><td>8480002</td><td>8476292</td><td>8475193</td><td>8483495</td><td>8478399</td><td>null</td><td>null</td><td>null</td><td>null</td><td>null</td><td>null</td><td>null</td><td>null</td><td>null</td><td>null</td><td>null</td><td>null</td><td>&hellip;</td><td>null</td><td>null</td><td>8477979</td><td>8479359</td><td>8480035</td><td>8480839</td><td>null</td><td>null</td><td>null</td><td>null</td><td>2</td><td>false</td><td>2025-03-21 08:14:08.670442</td><td>1</td><td>&quot;REG&quot;</td><td>8479359</td><td>8475193</td><td>null</td><td>&quot;Beck Malenstyn&quot;</td><td>&quot;Tomas Tatar&quot;</td><td>null</td><td>null</td><td>20242025</td><td>null</td><td>2024-10-04 17:00:00</td><td>&quot;5v5&quot;</td><td>&quot;00:05&quot;</td><td>5</td><td>&quot;19:55&quot;</td><td>&quot;O2 Czech Republic&quot;</td><td>&quot;Prague&quot;</td><td>&quot;+02:00&quot;</td><td>-69.0</td><td>69.0</td><td>40.0</td><td>-40.0</td><td>&quot;N&quot;</td></tr><tr><td>&quot;7&quot;</td><td>&quot;NJD ONGOAL - #17 NEMEC, Wrist …</td><td>&quot;SHOT&quot;</td><td>&quot;1&quot;</td><td>&quot;EV&quot;</td><td>&quot;shot-on-goal&quot;</td><td>8474593</td><td>&quot;Jacob Markstrom&quot;</td><td>1</td><td>0</td><td>5</td><td>&quot;NJD&quot;</td><td>&quot;1&quot;</td><td>&quot;Nico Hischier&quot;</td><td>&quot;Ondrej Palat&quot;</td><td>&quot;Tomas Tatar&quot;</td><td>&quot;Simon Nemec&quot;</td><td>&quot;Jonas Siegenthaler&quot;</td><td>null</td><td>null</td><td>8480002</td><td>8476292</td><td>8475193</td><td>8483495</td><td>8478399</td><td>null</td><td>null</td><td>null</td><td>null</td><td>null</td><td>null</td><td>null</td><td>null</td><td>null</td><td>null</td><td>null</td><td>null</td><td>&hellip;</td><td>null</td><td>null</td><td>8477979</td><td>8479359</td><td>8480035</td><td>8480839</td><td>null</td><td>null</td><td>null</td><td>null</td><td>3</td><td>false</td><td>2025-03-21 08:14:08.670442</td><td>1</td><td>&quot;REG&quot;</td><td>8483495</td><td>null</td><td>null</td><td>&quot;Simon Nemec&quot;</td><td>null</td><td>null</td><td>null</td><td>20242025</td><td>&quot;wrist&quot;</td><td>2024-10-04 17:00:00</td><td>&quot;5v5&quot;</td><td>&quot;00:08&quot;</td><td>8</td><td>&quot;19:52&quot;</td><td>&quot;O2 Czech Republic&quot;</td><td>&quot;Prague&quot;</td><td>&quot;+02:00&quot;</td><td>-57.0</td><td>57.0</td><td>40.0</td><td>-40.0</td><td>&quot;O&quot;</td></tr><tr><td>&quot;8&quot;</td><td>&quot;NJD GIVEAWAY - #25 MARKSTROM, …</td><td>&quot;GIVE&quot;</td><td>&quot;1&quot;</td><td>&quot;EV&quot;</td><td>&quot;giveaway&quot;</td><td>8474593</td><td>&quot;Jacob Markstrom&quot;</td><td>1</td><td>0</td><td>5</td><td>&quot;NJD&quot;</td><td>&quot;1&quot;</td><td>&quot;Nico Hischier&quot;</td><td>&quot;Ondrej Palat&quot;</td><td>&quot;Tomas Tatar&quot;</td><td>&quot;Simon Nemec&quot;</td><td>&quot;Jonas Siegenthaler&quot;</td><td>null</td><td>null</td><td>8480002</td><td>8476292</td><td>8475193</td><td>8483495</td><td>8478399</td><td>null</td><td>null</td><td>null</td><td>null</td><td>null</td><td>null</td><td>null</td><td>8474593</td><td>null</td><td>null</td><td>null</td><td>null</td><td>&hellip;</td><td>null</td><td>null</td><td>8477979</td><td>8479359</td><td>8480035</td><td>8480839</td><td>null</td><td>null</td><td>null</td><td>null</td><td>4</td><td>false</td><td>2025-03-21 08:14:08.670442</td><td>1</td><td>&quot;REG&quot;</td><td>8474593</td><td>null</td><td>null</td><td>&quot;Jacob Markstrom&quot;</td><td>null</td><td>null</td><td>null</td><td>20242025</td><td>null</td><td>2024-10-04 17:00:00</td><td>&quot;5v5&quot;</td><td>&quot;00:19&quot;</td><td>19</td><td>&quot;19:41&quot;</td><td>&quot;O2 Czech Republic&quot;</td><td>&quot;Prague&quot;</td><td>&quot;+02:00&quot;</td><td>73.0</td><td>-73.0</td><td>-9.0</td><td>9.0</td><td>&quot;D&quot;</td></tr></tbody></table></div>"
      ],
      "text/plain": [
       "shape: (5, 119)\n",
       "┌─────┬─────────────────────────────────┬───────┬─────┬───┬────────┬──────┬────────┬──────────┐\n",
       "│ #   ┆ Description                     ┆ Event ┆ Per ┆ … ┆ xCoord ┆ y    ┆ yCoord ┆ zoneCode │\n",
       "│ --- ┆ ---                             ┆ ---   ┆ --- ┆   ┆ ---    ┆ ---  ┆ ---    ┆ ---      │\n",
       "│ str ┆ str                             ┆ str   ┆ str ┆   ┆ f64    ┆ f64  ┆ f64    ┆ str      │\n",
       "╞═════╪═════════════════════════════════╪═══════╪═════╪═══╪════════╪══════╪════════╪══════════╡\n",
       "│ 4   ┆ Period Start- Local time: 7:14… ┆ PSTR  ┆ 1   ┆ … ┆ null   ┆ null ┆ null   ┆ null     │\n",
       "│ 5   ┆ NJD won Neu. Zone - NJD #13 HI… ┆ FAC   ┆ 1   ┆ … ┆ 0.0    ┆ -0.0 ┆ 0.0    ┆ N        │\n",
       "│ 6   ┆ BUF #29 MALENSTYN HIT NJD #90 … ┆ HIT   ┆ 1   ┆ … ┆ 69.0   ┆ 40.0 ┆ -40.0  ┆ N        │\n",
       "│ 7   ┆ NJD ONGOAL - #17 NEMEC, Wrist … ┆ SHOT  ┆ 1   ┆ … ┆ 57.0   ┆ 40.0 ┆ -40.0  ┆ O        │\n",
       "│ 8   ┆ NJD GIVEAWAY - #25 MARKSTROM, … ┆ GIVE  ┆ 1   ┆ … ┆ -73.0  ┆ -9.0 ┆ 9.0    ┆ D        │\n",
       "└─────┴─────────────────────────────────┴───────┴─────┴───┴────────┴──────┴────────┴──────────┘"
      ]
     },
     "execution_count": 180,
     "metadata": {},
     "output_type": "execute_result"
    }
   ],
   "source": [
    "# Filter out null columns\n",
    "# Identify columns where all values are null\n",
    "null_columns = [col for col in df.columns if df[col].is_null().all()]\n",
    "\n",
    "# Drop those columns\n",
    "df = df.drop(null_columns)\n",
    "\n",
    "df.head()"
   ]
  },
  {
   "cell_type": "code",
   "execution_count": 198,
   "metadata": {},
   "outputs": [
    {
     "data": {
      "text/html": [
       "<div><style>\n",
       ".dataframe > thead > tr,\n",
       ".dataframe > tbody > tr {\n",
       "  text-align: right;\n",
       "  white-space: pre-wrap;\n",
       "}\n",
       "</style>\n",
       "<small>shape: (2, 2)</small><table border=\"1\" class=\"dataframe\"><thead><tr><th>Str</th><th>count</th></tr><tr><td>str</td><td>u32</td></tr></thead><tbody><tr><td>&quot;PP&quot;</td><td>11</td></tr><tr><td>&quot;EV&quot;</td><td>3</td></tr></tbody></table></div>"
      ],
      "text/plain": [
       "shape: (2, 2)\n",
       "┌─────┬───────┐\n",
       "│ Str ┆ count │\n",
       "│ --- ┆ ---   │\n",
       "│ str ┆ u32   │\n",
       "╞═════╪═══════╡\n",
       "│ PP  ┆ 11    │\n",
       "│ EV  ┆ 3     │\n",
       "└─────┴───────┘"
      ]
     },
     "execution_count": 198,
     "metadata": {},
     "output_type": "execute_result"
    }
   ],
   "source": [
    "df.filter((pl.col(\"Event\") == \"GOAL\") \n",
    "          & (pl.col(\"periodNumber\") < 5)\n",
    "        #   & (pl.col(\"Str\") == \"PP\")\n",
    "          & (pl.col(\"playerName_1\") == \"Patrik Laine\")\n",
    "          )[\"Str\"].value_counts()\n",
    "\n"
   ]
  },
  {
   "cell_type": "code",
   "execution_count": 196,
   "metadata": {},
   "outputs": [
    {
     "name": "stdout",
     "output_type": "stream",
     "text": [
      "Parquet file saved to /Users/max/Documents/nhl_scraper/data\n"
     ]
    }
   ],
   "source": [
    "import os\n",
    "\n",
    "# Create data directory if it doesn't exist\n",
    "data_dir = os.path.join(os.path.dirname(os.path.dirname(os.path.abspath(\"pbp.parquet\"))), \"data\")\n",
    "os.makedirs(data_dir, exist_ok=True)\n",
    "\n",
    "# Save the parquet file to the data directory\n",
    "df.write_parquet(os.path.join(data_dir, \"pbp.parquet\"))\n",
    "\n",
    "print(f\"Parquet file saved to {data_dir}\")"
   ]
  },
  {
   "cell_type": "code",
   "execution_count": 197,
   "metadata": {},
   "outputs": [
    {
     "data": {
      "text/html": [
       "<div><style>\n",
       ".dataframe > thead > tr,\n",
       ".dataframe > tbody > tr {\n",
       "  text-align: right;\n",
       "  white-space: pre-wrap;\n",
       "}\n",
       "</style>\n",
       "<small>shape: (5, 119)</small><table border=\"1\" class=\"dataframe\"><thead><tr><th>#</th><th>Description</th><th>Event</th><th>Per</th><th>Str</th><th>api_event</th><th>awayGId</th><th>awayGName</th><th>awaySOG</th><th>awayScore</th><th>awaySktrs</th><th>awayTeam</th><th>awayTeamId</th><th>away_skater_fullName1</th><th>away_skater_fullName2</th><th>away_skater_fullName3</th><th>away_skater_fullName4</th><th>away_skater_fullName5</th><th>away_skater_fullName6</th><th>away_skater_fullName7</th><th>away_skater_id1</th><th>away_skater_id2</th><th>away_skater_id3</th><th>away_skater_id4</th><th>away_skater_id5</th><th>away_skater_id6</th><th>away_skater_id7</th><th>details_assist1PlayerTotal</th><th>details_assist2PlayerTotal</th><th>details_descKey</th><th>details_drawnByPlayerId</th><th>details_duration</th><th>details_playerId</th><th>details_scoringPlayerTotal</th><th>details_secondaryReason</th><th>details_servedByPlayerId</th><th>details_typeCode</th><th>&hellip;</th><th>home_skater_id16</th><th>home_skater_id17</th><th>home_skater_id2</th><th>home_skater_id3</th><th>home_skater_id4</th><th>home_skater_id5</th><th>home_skater_id6</th><th>home_skater_id7</th><th>home_skater_id8</th><th>home_skater_id9</th><th>index</th><th>limitedScoring</th><th>meta_datetime</th><th>periodNumber</th><th>periodType</th><th>playerId_1</th><th>playerId_2</th><th>playerId_3</th><th>playerName_1</th><th>playerName_2</th><th>playerName_3</th><th>reason</th><th>season</th><th>shotType</th><th>startTimeUTC</th><th>strength</th><th>timeInPeriod</th><th>timeInPeriod_s</th><th>timeRemaining</th><th>venue</th><th>venueLocation</th><th>venueUTCOffset</th><th>x</th><th>xCoord</th><th>y</th><th>yCoord</th><th>zoneCode</th></tr><tr><td>str</td><td>str</td><td>str</td><td>str</td><td>str</td><td>str</td><td>i64</td><td>str</td><td>i64</td><td>i64</td><td>u32</td><td>str</td><td>str</td><td>str</td><td>str</td><td>str</td><td>str</td><td>str</td><td>str</td><td>str</td><td>i64</td><td>i64</td><td>i64</td><td>i64</td><td>i64</td><td>i64</td><td>i64</td><td>i64</td><td>i64</td><td>str</td><td>i64</td><td>i64</td><td>i64</td><td>i64</td><td>str</td><td>i64</td><td>str</td><td>&hellip;</td><td>i64</td><td>i64</td><td>i64</td><td>i64</td><td>i64</td><td>i64</td><td>i64</td><td>i64</td><td>i64</td><td>i64</td><td>i64</td><td>bool</td><td>datetime[μs]</td><td>i64</td><td>str</td><td>i64</td><td>i64</td><td>i64</td><td>str</td><td>str</td><td>str</td><td>str</td><td>i32</td><td>str</td><td>datetime[μs]</td><td>str</td><td>str</td><td>i64</td><td>str</td><td>str</td><td>str</td><td>str</td><td>f64</td><td>f64</td><td>f64</td><td>f64</td><td>str</td></tr></thead><tbody><tr><td>&quot;4&quot;</td><td>&quot;Period Start- Local time: 7:14…</td><td>&quot;PSTR&quot;</td><td>&quot;1&quot;</td><td>&quot;&quot;</td><td>&quot;period-start&quot;</td><td>8474593</td><td>&quot;Jacob Markstrom&quot;</td><td>0</td><td>0</td><td>5</td><td>&quot;NJD&quot;</td><td>&quot;1&quot;</td><td>&quot;Nico Hischier&quot;</td><td>&quot;Ondrej Palat&quot;</td><td>&quot;Tomas Tatar&quot;</td><td>&quot;Simon Nemec&quot;</td><td>&quot;Jonas Siegenthaler&quot;</td><td>null</td><td>null</td><td>8480002</td><td>8476292</td><td>8475193</td><td>8483495</td><td>8478399</td><td>null</td><td>null</td><td>null</td><td>null</td><td>null</td><td>null</td><td>null</td><td>null</td><td>null</td><td>null</td><td>null</td><td>null</td><td>&hellip;</td><td>null</td><td>null</td><td>8477979</td><td>8479359</td><td>8480035</td><td>8480839</td><td>null</td><td>null</td><td>null</td><td>null</td><td>0</td><td>false</td><td>2025-03-21 08:14:08.670442</td><td>1</td><td>&quot;REG&quot;</td><td>null</td><td>null</td><td>null</td><td>null</td><td>null</td><td>null</td><td>null</td><td>20242025</td><td>null</td><td>2024-10-04 17:00:00</td><td>null</td><td>&quot;00:00&quot;</td><td>0</td><td>&quot;20:00&quot;</td><td>&quot;O2 Czech Republic&quot;</td><td>&quot;Prague&quot;</td><td>&quot;+02:00&quot;</td><td>null</td><td>null</td><td>null</td><td>null</td><td>null</td></tr><tr><td>&quot;5&quot;</td><td>&quot;NJD won Neu. Zone - NJD #13 HI…</td><td>&quot;FAC&quot;</td><td>&quot;1&quot;</td><td>&quot;EV&quot;</td><td>&quot;faceoff&quot;</td><td>8474593</td><td>&quot;Jacob Markstrom&quot;</td><td>0</td><td>0</td><td>5</td><td>&quot;NJD&quot;</td><td>&quot;1&quot;</td><td>&quot;Nico Hischier&quot;</td><td>&quot;Ondrej Palat&quot;</td><td>&quot;Tomas Tatar&quot;</td><td>&quot;Simon Nemec&quot;</td><td>&quot;Jonas Siegenthaler&quot;</td><td>null</td><td>null</td><td>8480002</td><td>8476292</td><td>8475193</td><td>8483495</td><td>8478399</td><td>null</td><td>null</td><td>null</td><td>null</td><td>null</td><td>null</td><td>null</td><td>null</td><td>null</td><td>null</td><td>null</td><td>null</td><td>&hellip;</td><td>null</td><td>null</td><td>8477979</td><td>8479359</td><td>8480035</td><td>8480839</td><td>null</td><td>null</td><td>null</td><td>null</td><td>1</td><td>false</td><td>2025-03-21 08:14:08.670442</td><td>1</td><td>&quot;REG&quot;</td><td>8480002</td><td>8478043</td><td>null</td><td>&quot;Nico Hischier&quot;</td><td>&quot;Sam Lafferty&quot;</td><td>null</td><td>null</td><td>20242025</td><td>null</td><td>2024-10-04 17:00:00</td><td>&quot;5v5&quot;</td><td>&quot;00:00&quot;</td><td>0</td><td>&quot;20:00&quot;</td><td>&quot;O2 Czech Republic&quot;</td><td>&quot;Prague&quot;</td><td>&quot;+02:00&quot;</td><td>-0.0</td><td>0.0</td><td>-0.0</td><td>0.0</td><td>&quot;N&quot;</td></tr><tr><td>&quot;6&quot;</td><td>&quot;BUF #29 MALENSTYN HIT NJD #90 …</td><td>&quot;HIT&quot;</td><td>&quot;1&quot;</td><td>&quot;EV&quot;</td><td>&quot;hit&quot;</td><td>8474593</td><td>&quot;Jacob Markstrom&quot;</td><td>0</td><td>0</td><td>5</td><td>&quot;NJD&quot;</td><td>&quot;1&quot;</td><td>&quot;Nico Hischier&quot;</td><td>&quot;Ondrej Palat&quot;</td><td>&quot;Tomas Tatar&quot;</td><td>&quot;Simon Nemec&quot;</td><td>&quot;Jonas Siegenthaler&quot;</td><td>null</td><td>null</td><td>8480002</td><td>8476292</td><td>8475193</td><td>8483495</td><td>8478399</td><td>null</td><td>null</td><td>null</td><td>null</td><td>null</td><td>null</td><td>null</td><td>null</td><td>null</td><td>null</td><td>null</td><td>null</td><td>&hellip;</td><td>null</td><td>null</td><td>8477979</td><td>8479359</td><td>8480035</td><td>8480839</td><td>null</td><td>null</td><td>null</td><td>null</td><td>2</td><td>false</td><td>2025-03-21 08:14:08.670442</td><td>1</td><td>&quot;REG&quot;</td><td>8479359</td><td>8475193</td><td>null</td><td>&quot;Beck Malenstyn&quot;</td><td>&quot;Tomas Tatar&quot;</td><td>null</td><td>null</td><td>20242025</td><td>null</td><td>2024-10-04 17:00:00</td><td>&quot;5v5&quot;</td><td>&quot;00:05&quot;</td><td>5</td><td>&quot;19:55&quot;</td><td>&quot;O2 Czech Republic&quot;</td><td>&quot;Prague&quot;</td><td>&quot;+02:00&quot;</td><td>-69.0</td><td>69.0</td><td>40.0</td><td>-40.0</td><td>&quot;N&quot;</td></tr><tr><td>&quot;7&quot;</td><td>&quot;NJD ONGOAL - #17 NEMEC, Wrist …</td><td>&quot;SHOT&quot;</td><td>&quot;1&quot;</td><td>&quot;EV&quot;</td><td>&quot;shot-on-goal&quot;</td><td>8474593</td><td>&quot;Jacob Markstrom&quot;</td><td>1</td><td>0</td><td>5</td><td>&quot;NJD&quot;</td><td>&quot;1&quot;</td><td>&quot;Nico Hischier&quot;</td><td>&quot;Ondrej Palat&quot;</td><td>&quot;Tomas Tatar&quot;</td><td>&quot;Simon Nemec&quot;</td><td>&quot;Jonas Siegenthaler&quot;</td><td>null</td><td>null</td><td>8480002</td><td>8476292</td><td>8475193</td><td>8483495</td><td>8478399</td><td>null</td><td>null</td><td>null</td><td>null</td><td>null</td><td>null</td><td>null</td><td>null</td><td>null</td><td>null</td><td>null</td><td>null</td><td>&hellip;</td><td>null</td><td>null</td><td>8477979</td><td>8479359</td><td>8480035</td><td>8480839</td><td>null</td><td>null</td><td>null</td><td>null</td><td>3</td><td>false</td><td>2025-03-21 08:14:08.670442</td><td>1</td><td>&quot;REG&quot;</td><td>8483495</td><td>null</td><td>null</td><td>&quot;Simon Nemec&quot;</td><td>null</td><td>null</td><td>null</td><td>20242025</td><td>&quot;wrist&quot;</td><td>2024-10-04 17:00:00</td><td>&quot;5v5&quot;</td><td>&quot;00:08&quot;</td><td>8</td><td>&quot;19:52&quot;</td><td>&quot;O2 Czech Republic&quot;</td><td>&quot;Prague&quot;</td><td>&quot;+02:00&quot;</td><td>-57.0</td><td>57.0</td><td>40.0</td><td>-40.0</td><td>&quot;O&quot;</td></tr><tr><td>&quot;8&quot;</td><td>&quot;NJD GIVEAWAY - #25 MARKSTROM, …</td><td>&quot;GIVE&quot;</td><td>&quot;1&quot;</td><td>&quot;EV&quot;</td><td>&quot;giveaway&quot;</td><td>8474593</td><td>&quot;Jacob Markstrom&quot;</td><td>1</td><td>0</td><td>5</td><td>&quot;NJD&quot;</td><td>&quot;1&quot;</td><td>&quot;Nico Hischier&quot;</td><td>&quot;Ondrej Palat&quot;</td><td>&quot;Tomas Tatar&quot;</td><td>&quot;Simon Nemec&quot;</td><td>&quot;Jonas Siegenthaler&quot;</td><td>null</td><td>null</td><td>8480002</td><td>8476292</td><td>8475193</td><td>8483495</td><td>8478399</td><td>null</td><td>null</td><td>null</td><td>null</td><td>null</td><td>null</td><td>null</td><td>8474593</td><td>null</td><td>null</td><td>null</td><td>null</td><td>&hellip;</td><td>null</td><td>null</td><td>8477979</td><td>8479359</td><td>8480035</td><td>8480839</td><td>null</td><td>null</td><td>null</td><td>null</td><td>4</td><td>false</td><td>2025-03-21 08:14:08.670442</td><td>1</td><td>&quot;REG&quot;</td><td>8474593</td><td>null</td><td>null</td><td>&quot;Jacob Markstrom&quot;</td><td>null</td><td>null</td><td>null</td><td>20242025</td><td>null</td><td>2024-10-04 17:00:00</td><td>&quot;5v5&quot;</td><td>&quot;00:19&quot;</td><td>19</td><td>&quot;19:41&quot;</td><td>&quot;O2 Czech Republic&quot;</td><td>&quot;Prague&quot;</td><td>&quot;+02:00&quot;</td><td>73.0</td><td>-73.0</td><td>-9.0</td><td>9.0</td><td>&quot;D&quot;</td></tr></tbody></table></div>"
      ],
      "text/plain": [
       "shape: (5, 119)\n",
       "┌─────┬─────────────────────────────────┬───────┬─────┬───┬────────┬──────┬────────┬──────────┐\n",
       "│ #   ┆ Description                     ┆ Event ┆ Per ┆ … ┆ xCoord ┆ y    ┆ yCoord ┆ zoneCode │\n",
       "│ --- ┆ ---                             ┆ ---   ┆ --- ┆   ┆ ---    ┆ ---  ┆ ---    ┆ ---      │\n",
       "│ str ┆ str                             ┆ str   ┆ str ┆   ┆ f64    ┆ f64  ┆ f64    ┆ str      │\n",
       "╞═════╪═════════════════════════════════╪═══════╪═════╪═══╪════════╪══════╪════════╪══════════╡\n",
       "│ 4   ┆ Period Start- Local time: 7:14… ┆ PSTR  ┆ 1   ┆ … ┆ null   ┆ null ┆ null   ┆ null     │\n",
       "│ 5   ┆ NJD won Neu. Zone - NJD #13 HI… ┆ FAC   ┆ 1   ┆ … ┆ 0.0    ┆ -0.0 ┆ 0.0    ┆ N        │\n",
       "│ 6   ┆ BUF #29 MALENSTYN HIT NJD #90 … ┆ HIT   ┆ 1   ┆ … ┆ 69.0   ┆ 40.0 ┆ -40.0  ┆ N        │\n",
       "│ 7   ┆ NJD ONGOAL - #17 NEMEC, Wrist … ┆ SHOT  ┆ 1   ┆ … ┆ 57.0   ┆ 40.0 ┆ -40.0  ┆ O        │\n",
       "│ 8   ┆ NJD GIVEAWAY - #25 MARKSTROM, … ┆ GIVE  ┆ 1   ┆ … ┆ -73.0  ┆ -9.0 ┆ 9.0    ┆ D        │\n",
       "└─────┴─────────────────────────────────┴───────┴─────┴───┴────────┴──────┴────────┴──────────┘"
      ]
     },
     "execution_count": 197,
     "metadata": {},
     "output_type": "execute_result"
    }
   ],
   "source": [
    "df = pl.read_parquet(os.path.join(data_dir, \"pbp.parquet\"))\n",
    "df.head()"
   ]
  },
  {
   "cell_type": "code",
   "execution_count": 200,
   "metadata": {},
   "outputs": [
    {
     "data": {
      "text/html": [
       "<div><style>\n",
       ".dataframe > thead > tr,\n",
       ".dataframe > tbody > tr {\n",
       "  text-align: right;\n",
       "  white-space: pre-wrap;\n",
       "}\n",
       "</style>\n",
       "<small>shape: (2, 2)</small><table border=\"1\" class=\"dataframe\"><thead><tr><th>Str</th><th>count</th></tr><tr><td>str</td><td>u32</td></tr></thead><tbody><tr><td>&quot;EV&quot;</td><td>18</td></tr><tr><td>&quot;PP&quot;</td><td>17</td></tr></tbody></table></div>"
      ],
      "text/plain": [
       "shape: (2, 2)\n",
       "┌─────┬───────┐\n",
       "│ Str ┆ count │\n",
       "│ --- ┆ ---   │\n",
       "│ str ┆ u32   │\n",
       "╞═════╪═══════╡\n",
       "│ EV  ┆ 18    │\n",
       "│ PP  ┆ 17    │\n",
       "└─────┴───────┘"
      ]
     },
     "execution_count": 200,
     "metadata": {},
     "output_type": "execute_result"
    }
   ],
   "source": [
    "df.filter((pl.col(\"Event\") == \"GOAL\") \n",
    "          & (pl.col(\"periodNumber\") < 5)\n",
    "          & ((pl.col(\"playerName_2\") == \"Lane Hutson\") | (pl.col(\"playerName_3\") == \"Lane Hutson\"))\n",
    "          )[\"Str\"].value_counts()\n",
    "\n"
   ]
  },
  {
   "cell_type": "code",
   "execution_count": null,
   "metadata": {},
   "outputs": [],
   "source": []
  }
 ],
 "metadata": {
  "kernelspec": {
   "display_name": ".venv",
   "language": "python",
   "name": "python3"
  },
  "language_info": {
   "codemirror_mode": {
    "name": "ipython",
    "version": 3
   },
   "file_extension": ".py",
   "mimetype": "text/x-python",
   "name": "python",
   "nbconvert_exporter": "python",
   "pygments_lexer": "ipython3",
   "version": "3.13.1"
  }
 },
 "nbformat": 4,
 "nbformat_minor": 2
}
