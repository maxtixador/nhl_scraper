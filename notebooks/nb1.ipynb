{
 "cells": [
  {
   "cell_type": "code",
   "execution_count": 85,
   "metadata": {},
   "outputs": [
    {
     "name": "stdout",
     "output_type": "stream",
     "text": [
      "The autoreload extension is already loaded. To reload it, use:\n",
      "  %reload_ext autoreload\n"
     ]
    }
   ],
   "source": [
    "# Enable auto-reloading of modules\n",
    "%load_ext autoreload\n",
    "%autoreload 2"
   ]
  },
  {
   "cell_type": "code",
   "execution_count": 119,
   "metadata": {},
   "outputs": [
    {
     "name": "stdout",
     "output_type": "stream",
     "text": [
      "\n",
      "Welcome to the NHL Scraper!\n",
      "\n",
      "My name is Max and I'm the developer of this project and hockey fan. I hope you enjoy using this tool!\n",
      "\n",
      "This is a work in progress and not all functionalities are available yet.\n",
      "\n",
      "*** IMPORTANT ***\n",
      "\n",
      "Make sure to run the following command in the terminal (it might take a while, but it will ensure that the playwright browser is installed):\n",
      "\n",
      "$ playwright install\n",
      "or\n",
      "$ playwright install chromium\n",
      "\n",
      "***\n",
      "\n",
      "If you have any questions, please contact me on X: @woumaxx[https://x.com/woumaxx]\n",
      "\n",
      "Thank you for using the NHL Scraper!\n",
      "\n",
      "\n",
      "\n"
     ]
    }
   ],
   "source": [
    "from nhl_scraper import scraper\n",
    "!playwright install\n",
    "\n",
    "scraper = scraper.Scraper()\n"
   ]
  },
  {
   "cell_type": "code",
   "execution_count": 67,
   "metadata": {},
   "outputs": [
    {
     "name": "stderr",
     "output_type": "stream",
     "text": [
      "Scraping NHL TOI Data:   0%|          | 0/2 [00:00<?, ?it/s]"
     ]
    },
    {
     "name": "stderr",
     "output_type": "stream",
     "text": [
      "Scraping NHL TOI Data: 100%|██████████| 2/2 [00:02<00:00,  1.21s/it]\n"
     ]
    },
    {
     "data": {
      "text/plain": [
       "{'TOI_combined': shape: (1_604, 14)\n",
       " ┌─────────┬──────┬──────────┬───────┬───┬───────────┬─────────────────────┬─────┬────────────┐\n",
       " │ Shift # ┆ Per  ┆ Duration ┆ Event ┆ … ┆ Duration  ┆ Team                ┆ H/V ┆ gameId     │\n",
       " │ ---     ┆ ---  ┆ ---      ┆ ---   ┆   ┆ (Seconds) ┆ ---                 ┆ --- ┆ ---        │\n",
       " │ i32     ┆ i32  ┆ str      ┆ str   ┆   ┆ ---       ┆ str                 ┆ str ┆ str        │\n",
       " │         ┆      ┆          ┆       ┆   ┆ i32       ┆                     ┆     ┆            │\n",
       " ╞═════════╪══════╪══════════╪═══════╪═══╪═══════════╪═════════════════════╪═════╪════════════╡\n",
       " │ 1       ┆ 1    ┆ 00:47    ┆       ┆ … ┆ 47        ┆ ST. LOUIS BLUES     ┆ V   ┆ 2024021044 │\n",
       " │ 2       ┆ 1    ┆ 00:32    ┆       ┆ … ┆ 32        ┆ ST. LOUIS BLUES     ┆ V   ┆ 2024021044 │\n",
       " │ 3       ┆ 1    ┆ 00:56    ┆       ┆ … ┆ 56        ┆ ST. LOUIS BLUES     ┆ V   ┆ 2024021044 │\n",
       " │ 4       ┆ 1    ┆ 00:40    ┆       ┆ … ┆ 40        ┆ ST. LOUIS BLUES     ┆ V   ┆ 2024021044 │\n",
       " │ 5       ┆ 1    ┆ 01:21    ┆       ┆ … ┆ 81        ┆ ST. LOUIS BLUES     ┆ V   ┆ 2024021044 │\n",
       " │ …       ┆ …    ┆ …        ┆ …     ┆ … ┆ …         ┆ …                   ┆ …   ┆ …          │\n",
       " │ 19      ┆ 3    ┆ 00:14    ┆ P     ┆ … ┆ 14        ┆ PHILADELPHIA FLYERS ┆ H   ┆ 2024021043 │\n",
       " │ 20      ┆ 3    ┆ 00:41    ┆       ┆ … ┆ 41        ┆ PHILADELPHIA FLYERS ┆ H   ┆ 2024021043 │\n",
       " │ 21      ┆ 3    ┆ 00:44    ┆       ┆ … ┆ 44        ┆ PHILADELPHIA FLYERS ┆ H   ┆ 2024021043 │\n",
       " │ 22      ┆ 3    ┆ 00:42    ┆       ┆ … ┆ 42        ┆ PHILADELPHIA FLYERS ┆ H   ┆ 2024021043 │\n",
       " │ 23      ┆ null ┆ 01:13    ┆       ┆ … ┆ 73        ┆ PHILADELPHIA FLYERS ┆ H   ┆ 2024021043 │\n",
       " └─────────┴──────┴──────────┴───────┴───┴───────────┴─────────────────────┴─────┴────────────┘,\n",
       " 'Summary_combined': shape: (251, 17)\n",
       " ┌──────┬─────┬───────┬───────┬───┬──────────────────┬─────────────────────┬─────┬────────────┐\n",
       " │ Per  ┆ SHF ┆ AVG   ┆ TOI   ┆ … ┆ SH TOT (Seconds) ┆ Team                ┆ H/V ┆ gameId     │\n",
       " │ ---  ┆ --- ┆ ---   ┆ ---   ┆   ┆ ---              ┆ ---                 ┆ --- ┆ ---        │\n",
       " │ i32  ┆ i32 ┆ str   ┆ str   ┆   ┆ i32              ┆ str                 ┆ str ┆ str        │\n",
       " ╞══════╪═════╪═══════╪═══════╪═══╪══════════════════╪═════════════════════╪═════╪════════════╡\n",
       " │ 1    ┆ 8   ┆ 00:42 ┆ 05:43 ┆ … ┆ 0                ┆ ST. LOUIS BLUES     ┆ V   ┆ 2024021044 │\n",
       " │ 2    ┆ 7   ┆ 01:01 ┆ 07:12 ┆ … ┆ 0                ┆ ST. LOUIS BLUES     ┆ V   ┆ 2024021044 │\n",
       " │ 3    ┆ 7   ┆ 00:51 ┆ 05:58 ┆ … ┆ 0                ┆ ST. LOUIS BLUES     ┆ V   ┆ 2024021044 │\n",
       " │ 1    ┆ 7   ┆ 01:08 ┆ 08:01 ┆ … ┆ 0                ┆ ST. LOUIS BLUES     ┆ V   ┆ 2024021044 │\n",
       " │ 2    ┆ 9   ┆ 00:44 ┆ 06:38 ┆ … ┆ 0                ┆ ST. LOUIS BLUES     ┆ V   ┆ 2024021044 │\n",
       " │ …    ┆ …   ┆ …     ┆ …     ┆ … ┆ …                ┆ …                   ┆ …   ┆ …          │\n",
       " │ null ┆ 1   ┆ 00:46 ┆ 00:46 ┆ … ┆ 0                ┆ PHILADELPHIA FLYERS ┆ H   ┆ 2024021043 │\n",
       " │ 1    ┆ 7   ┆ 00:47 ┆ 05:31 ┆ … ┆ 0                ┆ PHILADELPHIA FLYERS ┆ H   ┆ 2024021043 │\n",
       " │ 2    ┆ 7   ┆ 01:00 ┆ 07:01 ┆ … ┆ 0                ┆ PHILADELPHIA FLYERS ┆ H   ┆ 2024021043 │\n",
       " │ 3    ┆ 8   ┆ 00:44 ┆ 05:53 ┆ … ┆ 0                ┆ PHILADELPHIA FLYERS ┆ H   ┆ 2024021043 │\n",
       " │ null ┆ 1   ┆ 01:13 ┆ 01:13 ┆ … ┆ 0                ┆ PHILADELPHIA FLYERS ┆ H   ┆ 2024021043 │\n",
       " └──────┴─────┴───────┴───────┴───┴──────────────────┴─────────────────────┴─────┴────────────┘,\n",
       " 'game_details': {'2024021044': {'GameId': '2024021044',\n",
       "   'FirstYear': '2024',\n",
       "   'SecondYear': '2025',\n",
       "   'ShortId': '021044',\n",
       "   'season': '2024-2025',\n",
       "   'Away': 'ST. LOUIS BLUES',\n",
       "   'Home': 'PITTSBURGH PENGUINS',\n",
       "   'homeTOI': shape: (384, 13)\n",
       "   ┌─────────┬─────┬──────────┬───────┬───┬────────────────────────┬───────────┬────────────┬─────┐\n",
       "   │ Shift # ┆ Per ┆ Duration ┆ Event ┆ … ┆ End Game Time - Legacy ┆ Duration  ┆ Team       ┆ H/V │\n",
       "   │ ---     ┆ --- ┆ ---      ┆ ---   ┆   ┆ ---                    ┆ (Seconds) ┆ ---        ┆ --- │\n",
       "   │ i32     ┆ i32 ┆ str      ┆ str   ┆   ┆ str                    ┆ ---       ┆ str        ┆ str │\n",
       "   │         ┆     ┆          ┆       ┆   ┆                        ┆ i32       ┆            ┆     │\n",
       "   ╞═════════╪═════╪══════════╪═══════╪═══╪════════════════════════╪═══════════╪════════════╪═════╡\n",
       "   │ 1       ┆ 1   ┆ 00:46    ┆       ┆ … ┆ 16:57                  ┆ 46        ┆ PITTSBURGH ┆ H   │\n",
       "   │         ┆     ┆          ┆       ┆   ┆                        ┆           ┆ PENGUINS   ┆     │\n",
       "   │ 2       ┆ 1   ┆ 00:46    ┆       ┆ … ┆ 12:48                  ┆ 46        ┆ PITTSBURGH ┆ H   │\n",
       "   │         ┆     ┆          ┆       ┆   ┆                        ┆           ┆ PENGUINS   ┆     │\n",
       "   │ 3       ┆ 1   ┆ 00:41    ┆       ┆ … ┆ 5:11                   ┆ 41        ┆ PITTSBURGH ┆ H   │\n",
       "   │         ┆     ┆          ┆       ┆   ┆                        ┆           ┆ PENGUINS   ┆     │\n",
       "   │ 4       ┆ 1   ┆ 00:17    ┆       ┆ … ┆ 2:24                   ┆ 17        ┆ PITTSBURGH ┆ H   │\n",
       "   │         ┆     ┆          ┆       ┆   ┆                        ┆           ┆ PENGUINS   ┆     │\n",
       "   │ 5       ┆ 2   ┆ 00:36    ┆       ┆ … ┆ 17:04                  ┆ 36        ┆ PITTSBURGH ┆ H   │\n",
       "   │         ┆     ┆          ┆       ┆   ┆                        ┆           ┆ PENGUINS   ┆     │\n",
       "   │ …       ┆ …   ┆ …        ┆ …     ┆ … ┆ …                      ┆ …         ┆ …          ┆ …   │\n",
       "   │ 19      ┆ 3   ┆ 00:43    ┆       ┆ … ┆ 8:46                   ┆ 43        ┆ PITTSBURGH ┆ H   │\n",
       "   │         ┆     ┆          ┆       ┆   ┆                        ┆           ┆ PENGUINS   ┆     │\n",
       "   │ 20      ┆ 3   ┆ 00:21    ┆       ┆ … ┆ 7:55                   ┆ 21        ┆ PITTSBURGH ┆ H   │\n",
       "   │         ┆     ┆          ┆       ┆   ┆                        ┆           ┆ PENGUINS   ┆     │\n",
       "   │ 21      ┆ 3   ┆ 00:56    ┆       ┆ … ┆ 6:13                   ┆ 56        ┆ PITTSBURGH ┆ H   │\n",
       "   │         ┆     ┆          ┆       ┆   ┆                        ┆           ┆ PENGUINS   ┆     │\n",
       "   │ 22      ┆ 3   ┆ 00:58    ┆       ┆ … ┆ 3:57                   ┆ 58        ┆ PITTSBURGH ┆ H   │\n",
       "   │         ┆     ┆          ┆       ┆   ┆                        ┆           ┆ PENGUINS   ┆     │\n",
       "   │ 23      ┆ 3   ┆ 00:55    ┆ G     ┆ … ┆ 0:08                   ┆ 55        ┆ PITTSBURGH ┆ H   │\n",
       "   │         ┆     ┆          ┆       ┆   ┆                        ┆           ┆ PENGUINS   ┆     │\n",
       "   └─────────┴─────┴──────────┴───────┴───┴────────────────────────┴───────────┴────────────┴─────┘,\n",
       "   'awayTOI': shape: (396, 13)\n",
       "   ┌─────────┬─────┬──────────┬───────┬───┬─────────────────┬───────────┬─────────────────┬─────┐\n",
       "   │ Shift # ┆ Per ┆ Duration ┆ Event ┆ … ┆ End Game Time - ┆ Duration  ┆ Team            ┆ H/V │\n",
       "   │ ---     ┆ --- ┆ ---      ┆ ---   ┆   ┆ Legacy          ┆ (Seconds) ┆ ---             ┆ --- │\n",
       "   │ i32     ┆ i32 ┆ str      ┆ str   ┆   ┆ ---             ┆ ---       ┆ str             ┆ str │\n",
       "   │         ┆     ┆          ┆       ┆   ┆ str             ┆ i32       ┆                 ┆     │\n",
       "   ╞═════════╪═════╪══════════╪═══════╪═══╪═════════════════╪═══════════╪═════════════════╪═════╡\n",
       "   │ 1       ┆ 1   ┆ 00:47    ┆       ┆ … ┆ 18:19           ┆ 47        ┆ ST. LOUIS BLUES ┆ V   │\n",
       "   │ 2       ┆ 1   ┆ 00:32    ┆       ┆ … ┆ 17:11           ┆ 32        ┆ ST. LOUIS BLUES ┆ V   │\n",
       "   │ 3       ┆ 1   ┆ 00:56    ┆       ┆ … ┆ 13:35           ┆ 56        ┆ ST. LOUIS BLUES ┆ V   │\n",
       "   │ 4       ┆ 1   ┆ 00:40    ┆       ┆ … ┆ 11:17           ┆ 40        ┆ ST. LOUIS BLUES ┆ V   │\n",
       "   │ 5       ┆ 1   ┆ 01:21    ┆       ┆ … ┆ 7:06            ┆ 81        ┆ ST. LOUIS BLUES ┆ V   │\n",
       "   │ …       ┆ …   ┆ …        ┆ …     ┆ … ┆ …               ┆ …         ┆ …               ┆ …   │\n",
       "   │ 22      ┆ 3   ┆ 00:50    ┆       ┆ … ┆ 9:27            ┆ 50        ┆ ST. LOUIS BLUES ┆ V   │\n",
       "   │ 23      ┆ 3   ┆ 01:08    ┆       ┆ … ┆ 7:08            ┆ 68        ┆ ST. LOUIS BLUES ┆ V   │\n",
       "   │ 24      ┆ 3   ┆ 00:39    ┆       ┆ … ┆ 4:51            ┆ 39        ┆ ST. LOUIS BLUES ┆ V   │\n",
       "   │ 25      ┆ 3   ┆ 02:13    ┆       ┆ … ┆ 0:56            ┆ 133       ┆ ST. LOUIS BLUES ┆ V   │\n",
       "   │ 26      ┆ 3   ┆ 00:15    ┆ G     ┆ … ┆ 0:08            ┆ 15        ┆ ST. LOUIS BLUES ┆ V   │\n",
       "   └─────────┴─────┴──────────┴───────┴───┴─────────────────┴───────────┴─────────────────┴─────┘,\n",
       "   'homeSummary': shape: (57, 16)\n",
       "   ┌─────┬─────┬───────┬───────┬───┬──────────────────┬──────────────────┬─────────────────────┬─────┐\n",
       "   │ Per ┆ SHF ┆ AVG   ┆ TOI   ┆ … ┆ PP TOT (Seconds) ┆ SH TOT (Seconds) ┆ Team                ┆ H/V │\n",
       "   │ --- ┆ --- ┆ ---   ┆ ---   ┆   ┆ ---              ┆ ---              ┆ ---                 ┆ --- │\n",
       "   │ i32 ┆ i32 ┆ str   ┆ str   ┆   ┆ i32              ┆ i32              ┆ str                 ┆ str │\n",
       "   ╞═════╪═════╪═══════╪═══════╪═══╪══════════════════╪══════════════════╪═════════════════════╪═════╡\n",
       "   │ 1   ┆ 4   ┆ 00:37 ┆ 02:30 ┆ … ┆ 0                ┆ 0                ┆ PITTSBURGH PENGUINS ┆ H   │\n",
       "   │ 2   ┆ 5   ┆ 00:39 ┆ 03:17 ┆ … ┆ 0                ┆ 28               ┆ PITTSBURGH PENGUINS ┆ H   │\n",
       "   │ 3   ┆ 2   ┆ 00:43 ┆ 01:27 ┆ … ┆ 0                ┆ 0                ┆ PITTSBURGH PENGUINS ┆ H   │\n",
       "   │ 1   ┆ 4   ┆ 00:44 ┆ 02:58 ┆ … ┆ 0                ┆ 0                ┆ PITTSBURGH PENGUINS ┆ H   │\n",
       "   │ 2   ┆ 5   ┆ 00:45 ┆ 03:47 ┆ … ┆ 0                ┆ 0                ┆ PITTSBURGH PENGUINS ┆ H   │\n",
       "   │ …   ┆ …   ┆ …     ┆ …     ┆ … ┆ …                ┆ …                ┆ …                   ┆ …   │\n",
       "   │ 2   ┆ 7   ┆ 00:57 ┆ 06:40 ┆ … ┆ 0                ┆ 0                ┆ PITTSBURGH PENGUINS ┆ H   │\n",
       "   │ 3   ┆ 6   ┆ 00:48 ┆ 04:51 ┆ … ┆ 0                ┆ 0                ┆ PITTSBURGH PENGUINS ┆ H   │\n",
       "   │ 1   ┆ 7   ┆ 00:55 ┆ 06:28 ┆ … ┆ 0                ┆ 0                ┆ PITTSBURGH PENGUINS ┆ H   │\n",
       "   │ 2   ┆ 8   ┆ 00:41 ┆ 05:34 ┆ … ┆ 0                ┆ 0                ┆ PITTSBURGH PENGUINS ┆ H   │\n",
       "   │ 3   ┆ 8   ┆ 00:47 ┆ 06:23 ┆ … ┆ 0                ┆ 0                ┆ PITTSBURGH PENGUINS ┆ H   │\n",
       "   └─────┴─────┴───────┴───────┴───┴──────────────────┴──────────────────┴─────────────────────┴─────┘,\n",
       "   'awaySummary': shape: (58, 16)\n",
       "   ┌─────┬─────┬───────┬───────┬───┬──────────────────┬──────────────────┬─────────────────┬─────┐\n",
       "   │ Per ┆ SHF ┆ AVG   ┆ TOI   ┆ … ┆ PP TOT (Seconds) ┆ SH TOT (Seconds) ┆ Team            ┆ H/V │\n",
       "   │ --- ┆ --- ┆ ---   ┆ ---   ┆   ┆ ---              ┆ ---              ┆ ---             ┆ --- │\n",
       "   │ i32 ┆ i32 ┆ str   ┆ str   ┆   ┆ i32              ┆ i32              ┆ str             ┆ str │\n",
       "   ╞═════╪═════╪═══════╪═══════╪═══╪══════════════════╪══════════════════╪═════════════════╪═════╡\n",
       "   │ 1   ┆ 8   ┆ 00:42 ┆ 05:43 ┆ … ┆ 0                ┆ 0                ┆ ST. LOUIS BLUES ┆ V   │\n",
       "   │ 2   ┆ 7   ┆ 01:01 ┆ 07:12 ┆ … ┆ 0                ┆ 0                ┆ ST. LOUIS BLUES ┆ V   │\n",
       "   │ 3   ┆ 7   ┆ 00:51 ┆ 05:58 ┆ … ┆ 0                ┆ 0                ┆ ST. LOUIS BLUES ┆ V   │\n",
       "   │ 1   ┆ 7   ┆ 01:08 ┆ 08:01 ┆ … ┆ 0                ┆ 0                ┆ ST. LOUIS BLUES ┆ V   │\n",
       "   │ 2   ┆ 9   ┆ 00:44 ┆ 06:38 ┆ … ┆ 0                ┆ 0                ┆ ST. LOUIS BLUES ┆ V   │\n",
       "   │ …   ┆ …   ┆ …     ┆ …     ┆ … ┆ …                ┆ …                ┆ …               ┆ …   │\n",
       "   │ 2   ┆ 8   ┆ 00:44 ┆ 05:56 ┆ … ┆ 0                ┆ 0                ┆ ST. LOUIS BLUES ┆ V   │\n",
       "   │ 3   ┆ 8   ┆ 00:47 ┆ 06:19 ┆ … ┆ 45               ┆ 0                ┆ ST. LOUIS BLUES ┆ V   │\n",
       "   │ 1   ┆ 7   ┆ 00:50 ┆ 05:51 ┆ … ┆ 0                ┆ 0                ┆ ST. LOUIS BLUES ┆ V   │\n",
       "   │ 2   ┆ 10  ┆ 00:41 ┆ 06:50 ┆ … ┆ 36               ┆ 0                ┆ ST. LOUIS BLUES ┆ V   │\n",
       "   │ 3   ┆ 9   ┆ 00:54 ┆ 08:11 ┆ … ┆ 41               ┆ 0                ┆ ST. LOUIS BLUES ┆ V   │\n",
       "   └─────┴─────┴───────┴───────┴───┴──────────────────┴──────────────────┴─────────────────┴─────┘},\n",
       "  '2024021043': {'GameId': '2024021043',\n",
       "   'FirstYear': '2024',\n",
       "   'SecondYear': '2025',\n",
       "   'ShortId': '021043',\n",
       "   'season': '2024-2025',\n",
       "   'Away': 'TAMPA BAY LIGHTNING',\n",
       "   'Home': 'PHILADELPHIA FLYERS',\n",
       "   'homeTOI': shape: (412, 13)\n",
       "   ┌─────────┬──────┬──────────┬───────┬───┬─────────────────────────┬───────────┬──────────────┬─────┐\n",
       "   │ Shift # ┆ Per  ┆ Duration ┆ Event ┆ … ┆ End Game Time - Legacy  ┆ Duration  ┆ Team         ┆ H/V │\n",
       "   │ ---     ┆ ---  ┆ ---      ┆ ---   ┆   ┆ ---                     ┆ (Seconds) ┆ ---          ┆ --- │\n",
       "   │ i32     ┆ i32  ┆ str      ┆ str   ┆   ┆ str                     ┆ ---       ┆ str          ┆ str │\n",
       "   │         ┆      ┆          ┆       ┆   ┆                         ┆ i32       ┆              ┆     │\n",
       "   ╞═════════╪══════╪══════════╪═══════╪═══╪═════════════════════════╪═══════════╪══════════════╪═════╡\n",
       "   │ 1       ┆ 1    ┆ 00:39    ┆       ┆ … ┆ 18:26                   ┆ 39        ┆ PHILADELPHIA ┆ H   │\n",
       "   │         ┆      ┆          ┆       ┆   ┆                         ┆           ┆ FLYERS       ┆     │\n",
       "   │ 2       ┆ 1    ┆ 01:02    ┆       ┆ … ┆ 15:14                   ┆ 62        ┆ PHILADELPHIA ┆ H   │\n",
       "   │         ┆      ┆          ┆       ┆   ┆                         ┆           ┆ FLYERS       ┆     │\n",
       "   │ 3       ┆ 1    ┆ 00:36    ┆ P     ┆ … ┆ 13:13                   ┆ 36        ┆ PHILADELPHIA ┆ H   │\n",
       "   │         ┆      ┆          ┆       ┆   ┆                         ┆           ┆ FLYERS       ┆     │\n",
       "   │ 4       ┆ 1    ┆ 00:42    ┆       ┆ … ┆ 11:48                   ┆ 42        ┆ PHILADELPHIA ┆ H   │\n",
       "   │         ┆      ┆          ┆       ┆   ┆                         ┆           ┆ FLYERS       ┆     │\n",
       "   │ 5       ┆ 1    ┆ 01:09    ┆       ┆ … ┆ 9:52                    ┆ 69        ┆ PHILADELPHIA ┆ H   │\n",
       "   │         ┆      ┆          ┆       ┆   ┆                         ┆           ┆ FLYERS       ┆     │\n",
       "   │ …       ┆ …    ┆ …        ┆ …     ┆ … ┆ …                       ┆ …         ┆ …            ┆ …   │\n",
       "   │ 19      ┆ 3    ┆ 00:14    ┆ P     ┆ … ┆ 9:06                    ┆ 14        ┆ PHILADELPHIA ┆ H   │\n",
       "   │         ┆      ┆          ┆       ┆   ┆                         ┆           ┆ FLYERS       ┆     │\n",
       "   │ 20      ┆ 3    ┆ 00:41    ┆       ┆ … ┆ 6:16                    ┆ 41        ┆ PHILADELPHIA ┆ H   │\n",
       "   │         ┆      ┆          ┆       ┆   ┆                         ┆           ┆ FLYERS       ┆     │\n",
       "   │ 21      ┆ 3    ┆ 00:44    ┆       ┆ … ┆ 3:12                    ┆ 44        ┆ PHILADELPHIA ┆ H   │\n",
       "   │         ┆      ┆          ┆       ┆   ┆                         ┆           ┆ FLYERS       ┆     │\n",
       "   │ 22      ┆ 3    ┆ 00:42    ┆       ┆ … ┆ 1:04                    ┆ 42        ┆ PHILADELPHIA ┆ H   │\n",
       "   │         ┆      ┆          ┆       ┆   ┆                         ┆           ┆ FLYERS       ┆     │\n",
       "   │ 23      ┆ null ┆ 01:13    ┆       ┆ … ┆ 0:00                    ┆ 73        ┆ PHILADELPHIA ┆ H   │\n",
       "   │         ┆      ┆          ┆       ┆   ┆                         ┆           ┆ FLYERS       ┆     │\n",
       "   └─────────┴──────┴──────────┴───────┴───┴─────────────────────────┴───────────┴──────────────┴─────┘,\n",
       "   'awayTOI': shape: (412, 13)\n",
       "   ┌─────────┬──────┬──────────┬───────┬───┬────────────────────────┬───────────┬───────────┬─────┐\n",
       "   │ Shift # ┆ Per  ┆ Duration ┆ Event ┆ … ┆ End Game Time - Legacy ┆ Duration  ┆ Team      ┆ H/V │\n",
       "   │ ---     ┆ ---  ┆ ---      ┆ ---   ┆   ┆ ---                    ┆ (Seconds) ┆ ---       ┆ --- │\n",
       "   │ i32     ┆ i32  ┆ str      ┆ str   ┆   ┆ str                    ┆ ---       ┆ str       ┆ str │\n",
       "   │         ┆      ┆          ┆       ┆   ┆                        ┆ i32       ┆           ┆     │\n",
       "   ╞═════════╪══════╪══════════╪═══════╪═══╪════════════════════════╪═══════════╪═══════════╪═════╡\n",
       "   │ 1       ┆ 1    ┆ 00:08    ┆       ┆ … ┆ 18:06                  ┆ 8         ┆ TAMPA BAY ┆ V   │\n",
       "   │         ┆      ┆          ┆       ┆   ┆                        ┆           ┆ LIGHTNING ┆     │\n",
       "   │ 2       ┆ 1    ┆ 01:05    ┆       ┆ … ┆ 16:13                  ┆ 65        ┆ TAMPA BAY ┆ V   │\n",
       "   │         ┆      ┆          ┆       ┆   ┆                        ┆           ┆ LIGHTNING ┆     │\n",
       "   │ 3       ┆ 1    ┆ 00:23    ┆ P     ┆ … ┆ 13:13                  ┆ 23        ┆ TAMPA BAY ┆ V   │\n",
       "   │         ┆      ┆          ┆       ┆   ┆                        ┆           ┆ LIGHTNING ┆     │\n",
       "   │ 4       ┆ 1    ┆ 01:00    ┆       ┆ … ┆ 8:51                   ┆ 60        ┆ TAMPA BAY ┆ V   │\n",
       "   │         ┆      ┆          ┆       ┆   ┆                        ┆           ┆ LIGHTNING ┆     │\n",
       "   │ 5       ┆ 1    ┆ 00:23    ┆       ┆ … ┆ 8:00                   ┆ 23        ┆ TAMPA BAY ┆ V   │\n",
       "   │         ┆      ┆          ┆       ┆   ┆                        ┆           ┆ LIGHTNING ┆     │\n",
       "   │ …       ┆ …    ┆ …        ┆ …     ┆ … ┆ …                      ┆ …         ┆ …         ┆ …   │\n",
       "   │ 15      ┆ 3    ┆ 01:03    ┆       ┆ … ┆ 13:06                  ┆ 63        ┆ TAMPA BAY ┆ V   │\n",
       "   │         ┆      ┆          ┆       ┆   ┆                        ┆           ┆ LIGHTNING ┆     │\n",
       "   │ 16      ┆ 3    ┆ 00:11    ┆       ┆ … ┆ 11:11                  ┆ 11        ┆ TAMPA BAY ┆ V   │\n",
       "   │         ┆      ┆          ┆       ┆   ┆                        ┆           ┆ LIGHTNING ┆     │\n",
       "   │ 17      ┆ 3    ┆ 00:38    ┆       ┆ … ┆ 5:08                   ┆ 38        ┆ TAMPA BAY ┆ V   │\n",
       "   │         ┆      ┆          ┆       ┆   ┆                        ┆           ┆ LIGHTNING ┆     │\n",
       "   │ 18      ┆ 3    ┆ 00:40    ┆       ┆ … ┆ 2:32                   ┆ 40        ┆ TAMPA BAY ┆ V   │\n",
       "   │         ┆      ┆          ┆       ┆   ┆                        ┆           ┆ LIGHTNING ┆     │\n",
       "   │ 19      ┆ null ┆ 00:44    ┆       ┆ … ┆ 1:55                   ┆ 44        ┆ TAMPA BAY ┆ V   │\n",
       "   │         ┆      ┆          ┆       ┆   ┆                        ┆           ┆ LIGHTNING ┆     │\n",
       "   └─────────┴──────┴──────────┴───────┴───┴────────────────────────┴───────────┴───────────┴─────┘,\n",
       "   'homeSummary': shape: (68, 16)\n",
       "   ┌──────┬─────┬───────┬───────┬───┬──────────────────┬──────────────────┬─────────────────────┬─────┐\n",
       "   │ Per  ┆ SHF ┆ AVG   ┆ TOI   ┆ … ┆ PP TOT (Seconds) ┆ SH TOT (Seconds) ┆ Team                ┆ H/V │\n",
       "   │ ---  ┆ --- ┆ ---   ┆ ---   ┆   ┆ ---              ┆ ---              ┆ ---                 ┆ --- │\n",
       "   │ i32  ┆ i32 ┆ str   ┆ str   ┆   ┆ i32              ┆ i32              ┆ str                 ┆ str │\n",
       "   ╞══════╪═════╪═══════╪═══════╪═══╪══════════════════╪══════════════════╪═════════════════════╪═════╡\n",
       "   │ 1    ┆ 9   ┆ 00:47 ┆ 07:06 ┆ … ┆ 0                ┆ 42               ┆ PHILADELPHIA FLYERS ┆ H   │\n",
       "   │ 2    ┆ 6   ┆ 00:53 ┆ 05:21 ┆ … ┆ 0                ┆ 39               ┆ PHILADELPHIA FLYERS ┆ H   │\n",
       "   │ 3    ┆ 7   ┆ 00:39 ┆ 04:36 ┆ … ┆ 0                ┆ 0                ┆ PHILADELPHIA FLYERS ┆ H   │\n",
       "   │ 1    ┆ 10  ┆ 00:49 ┆ 08:15 ┆ … ┆ 0                ┆ 58               ┆ PHILADELPHIA FLYERS ┆ H   │\n",
       "   │ 2    ┆ 9   ┆ 01:08 ┆ 10:12 ┆ … ┆ 56               ┆ 196              ┆ PHILADELPHIA FLYERS ┆ H   │\n",
       "   │ …    ┆ …   ┆ …     ┆ …     ┆ … ┆ …                ┆ …                ┆ …                   ┆ …   │\n",
       "   │ null ┆ 1   ┆ 00:46 ┆ 00:46 ┆ … ┆ 0                ┆ 0                ┆ PHILADELPHIA FLYERS ┆ H   │\n",
       "   │ 1    ┆ 7   ┆ 00:47 ┆ 05:31 ┆ … ┆ 0                ┆ 0                ┆ PHILADELPHIA FLYERS ┆ H   │\n",
       "   │ 2    ┆ 7   ┆ 01:00 ┆ 07:01 ┆ … ┆ 36               ┆ 0                ┆ PHILADELPHIA FLYERS ┆ H   │\n",
       "   │ 3    ┆ 8   ┆ 00:44 ┆ 05:53 ┆ … ┆ 0                ┆ 0                ┆ PHILADELPHIA FLYERS ┆ H   │\n",
       "   │ null ┆ 1   ┆ 01:13 ┆ 01:13 ┆ … ┆ 0                ┆ 0                ┆ PHILADELPHIA FLYERS ┆ H   │\n",
       "   └──────┴─────┴───────┴───────┴───┴──────────────────┴──────────────────┴─────────────────────┴─────┘,\n",
       "   'awaySummary': shape: (68, 16)\n",
       "   ┌──────┬─────┬───────┬───────┬───┬──────────────────┬──────────────────┬─────────────────────┬─────┐\n",
       "   │ Per  ┆ SHF ┆ AVG   ┆ TOI   ┆ … ┆ PP TOT (Seconds) ┆ SH TOT (Seconds) ┆ Team                ┆ H/V │\n",
       "   │ ---  ┆ --- ┆ ---   ┆ ---   ┆   ┆ ---              ┆ ---              ┆ ---                 ┆ --- │\n",
       "   │ i32  ┆ i32 ┆ str   ┆ str   ┆   ┆ i32              ┆ i32              ┆ str                 ┆ str │\n",
       "   ╞══════╪═════╪═══════╪═══════╪═══╪══════════════════╪══════════════════╪═════════════════════╪═════╡\n",
       "   │ 1    ┆ 8   ┆ 00:31 ┆ 04:08 ┆ … ┆ 0                ┆ 0                ┆ TAMPA BAY LIGHTNING ┆ V   │\n",
       "   │ 2    ┆ 5   ┆ 00:43 ┆ 03:35 ┆ … ┆ 0                ┆ 66               ┆ TAMPA BAY LIGHTNING ┆ V   │\n",
       "   │ 3    ┆ 6   ┆ 00:31 ┆ 03:07 ┆ … ┆ 0                ┆ 79               ┆ TAMPA BAY LIGHTNING ┆ V   │\n",
       "   │ 1    ┆ 7   ┆ 00:27 ┆ 03:12 ┆ … ┆ 0                ┆ 0                ┆ TAMPA BAY LIGHTNING ┆ V   │\n",
       "   │ 2    ┆ 4   ┆ 00:30 ┆ 02:00 ┆ … ┆ 0                ┆ 0                ┆ TAMPA BAY LIGHTNING ┆ V   │\n",
       "   │ …    ┆ …   ┆ …     ┆ …     ┆ … ┆ …                ┆ …                ┆ …                   ┆ …   │\n",
       "   │ 3    ┆ 8   ┆ 00:34 ┆ 04:37 ┆ … ┆ 0                ┆ 20               ┆ TAMPA BAY LIGHTNING ┆ V   │\n",
       "   │ 1    ┆ 6   ┆ 00:32 ┆ 03:16 ┆ … ┆ 16               ┆ 0                ┆ TAMPA BAY LIGHTNING ┆ V   │\n",
       "   │ 2    ┆ 7   ┆ 00:46 ┆ 05:27 ┆ … ┆ 108              ┆ 0                ┆ TAMPA BAY LIGHTNING ┆ V   │\n",
       "   │ 3    ┆ 5   ┆ 00:41 ┆ 03:27 ┆ … ┆ 0                ┆ 0                ┆ TAMPA BAY LIGHTNING ┆ V   │\n",
       "   │ null ┆ 1   ┆ 00:44 ┆ 00:44 ┆ … ┆ 0                ┆ 0                ┆ TAMPA BAY LIGHTNING ┆ V   │\n",
       "   └──────┴─────┴───────┴───────┴───┴──────────────────┴──────────────────┴─────────────────────┴─────┘}}}"
      ]
     },
     "execution_count": 67,
     "metadata": {},
     "output_type": "execute_result"
    }
   ],
   "source": [
    "data = await scraper.scrape_toi(game_ids=[2024021043, 2024021044],)\n",
    "data"
   ]
  },
  {
   "cell_type": "code",
   "execution_count": 68,
   "metadata": {},
   "outputs": [
    {
     "data": {
      "text/html": [
       "<div><style>\n",
       ".dataframe > thead > tr,\n",
       ".dataframe > tbody > tr {\n",
       "  text-align: right;\n",
       "  white-space: pre-wrap;\n",
       "}\n",
       "</style>\n",
       "<small>shape: (1_604, 14)</small><table border=\"1\" class=\"dataframe\"><thead><tr><th>Shift #</th><th>Per</th><th>Duration</th><th>Event</th><th>Player</th><th>#</th><th>Start Elapsed Time - Legacy</th><th>Start Game Time - Legacy</th><th>End Elapsed Time - Legacy</th><th>End Game Time - Legacy</th><th>Duration (Seconds)</th><th>Team</th><th>H/V</th><th>gameId</th></tr><tr><td>i32</td><td>i32</td><td>str</td><td>str</td><td>str</td><td>i32</td><td>str</td><td>str</td><td>str</td><td>str</td><td>i32</td><td>str</td><td>str</td><td>str</td></tr></thead><tbody><tr><td>1</td><td>1</td><td>&quot;00:47&quot;</td><td>&quot;&quot;</td><td>&quot;4 LEDDY, NICK&quot;</td><td>4</td><td>&quot;0:54&quot;</td><td>&quot;19:06&quot;</td><td>&quot;1:41&quot;</td><td>&quot;18:19&quot;</td><td>47</td><td>&quot;ST. LOUIS BLUES&quot;</td><td>&quot;V&quot;</td><td>&quot;2024021044&quot;</td></tr><tr><td>2</td><td>1</td><td>&quot;00:32&quot;</td><td>&quot;&quot;</td><td>&quot;4 LEDDY, NICK&quot;</td><td>4</td><td>&quot;2:17&quot;</td><td>&quot;17:43&quot;</td><td>&quot;2:49&quot;</td><td>&quot;17:11&quot;</td><td>32</td><td>&quot;ST. LOUIS BLUES&quot;</td><td>&quot;V&quot;</td><td>&quot;2024021044&quot;</td></tr><tr><td>3</td><td>1</td><td>&quot;00:56&quot;</td><td>&quot;&quot;</td><td>&quot;4 LEDDY, NICK&quot;</td><td>4</td><td>&quot;5:29&quot;</td><td>&quot;14:31&quot;</td><td>&quot;6:25&quot;</td><td>&quot;13:35&quot;</td><td>56</td><td>&quot;ST. LOUIS BLUES&quot;</td><td>&quot;V&quot;</td><td>&quot;2024021044&quot;</td></tr><tr><td>4</td><td>1</td><td>&quot;00:40&quot;</td><td>&quot;&quot;</td><td>&quot;4 LEDDY, NICK&quot;</td><td>4</td><td>&quot;8:03&quot;</td><td>&quot;11:57&quot;</td><td>&quot;8:43&quot;</td><td>&quot;11:17&quot;</td><td>40</td><td>&quot;ST. LOUIS BLUES&quot;</td><td>&quot;V&quot;</td><td>&quot;2024021044&quot;</td></tr><tr><td>5</td><td>1</td><td>&quot;01:21&quot;</td><td>&quot;&quot;</td><td>&quot;4 LEDDY, NICK&quot;</td><td>4</td><td>&quot;11:33&quot;</td><td>&quot;8:27&quot;</td><td>&quot;12:54&quot;</td><td>&quot;7:06&quot;</td><td>81</td><td>&quot;ST. LOUIS BLUES&quot;</td><td>&quot;V&quot;</td><td>&quot;2024021044&quot;</td></tr><tr><td>&hellip;</td><td>&hellip;</td><td>&hellip;</td><td>&hellip;</td><td>&hellip;</td><td>&hellip;</td><td>&hellip;</td><td>&hellip;</td><td>&hellip;</td><td>&hellip;</td><td>&hellip;</td><td>&hellip;</td><td>&hellip;</td><td>&hellip;</td></tr><tr><td>19</td><td>3</td><td>&quot;00:14&quot;</td><td>&quot;P&quot;</td><td>&quot;74 TIPPETT, OWEN&quot;</td><td>74</td><td>&quot;10:40&quot;</td><td>&quot;9:20&quot;</td><td>&quot;10:54&quot;</td><td>&quot;9:06&quot;</td><td>14</td><td>&quot;PHILADELPHIA FLYERS&quot;</td><td>&quot;H&quot;</td><td>&quot;2024021043&quot;</td></tr><tr><td>20</td><td>3</td><td>&quot;00:41&quot;</td><td>&quot;&quot;</td><td>&quot;74 TIPPETT, OWEN&quot;</td><td>74</td><td>&quot;13:03&quot;</td><td>&quot;6:57&quot;</td><td>&quot;13:44&quot;</td><td>&quot;6:16&quot;</td><td>41</td><td>&quot;PHILADELPHIA FLYERS&quot;</td><td>&quot;H&quot;</td><td>&quot;2024021043&quot;</td></tr><tr><td>21</td><td>3</td><td>&quot;00:44&quot;</td><td>&quot;&quot;</td><td>&quot;74 TIPPETT, OWEN&quot;</td><td>74</td><td>&quot;16:04&quot;</td><td>&quot;3:56&quot;</td><td>&quot;16:48&quot;</td><td>&quot;3:12&quot;</td><td>44</td><td>&quot;PHILADELPHIA FLYERS&quot;</td><td>&quot;H&quot;</td><td>&quot;2024021043&quot;</td></tr><tr><td>22</td><td>3</td><td>&quot;00:42&quot;</td><td>&quot;&quot;</td><td>&quot;74 TIPPETT, OWEN&quot;</td><td>74</td><td>&quot;18:14&quot;</td><td>&quot;1:46&quot;</td><td>&quot;18:56&quot;</td><td>&quot;1:04&quot;</td><td>42</td><td>&quot;PHILADELPHIA FLYERS&quot;</td><td>&quot;H&quot;</td><td>&quot;2024021043&quot;</td></tr><tr><td>23</td><td>null</td><td>&quot;01:13&quot;</td><td>&quot;&quot;</td><td>&quot;74 TIPPETT, OWEN&quot;</td><td>74</td><td>&quot;3:47&quot;</td><td>&quot;1:13&quot;</td><td>&quot;5:00&quot;</td><td>&quot;0:00&quot;</td><td>73</td><td>&quot;PHILADELPHIA FLYERS&quot;</td><td>&quot;H&quot;</td><td>&quot;2024021043&quot;</td></tr></tbody></table></div>"
      ],
      "text/plain": [
       "shape: (1_604, 14)\n",
       "┌─────────┬──────┬──────────┬───────┬───┬───────────┬─────────────────────┬─────┬────────────┐\n",
       "│ Shift # ┆ Per  ┆ Duration ┆ Event ┆ … ┆ Duration  ┆ Team                ┆ H/V ┆ gameId     │\n",
       "│ ---     ┆ ---  ┆ ---      ┆ ---   ┆   ┆ (Seconds) ┆ ---                 ┆ --- ┆ ---        │\n",
       "│ i32     ┆ i32  ┆ str      ┆ str   ┆   ┆ ---       ┆ str                 ┆ str ┆ str        │\n",
       "│         ┆      ┆          ┆       ┆   ┆ i32       ┆                     ┆     ┆            │\n",
       "╞═════════╪══════╪══════════╪═══════╪═══╪═══════════╪═════════════════════╪═════╪════════════╡\n",
       "│ 1       ┆ 1    ┆ 00:47    ┆       ┆ … ┆ 47        ┆ ST. LOUIS BLUES     ┆ V   ┆ 2024021044 │\n",
       "│ 2       ┆ 1    ┆ 00:32    ┆       ┆ … ┆ 32        ┆ ST. LOUIS BLUES     ┆ V   ┆ 2024021044 │\n",
       "│ 3       ┆ 1    ┆ 00:56    ┆       ┆ … ┆ 56        ┆ ST. LOUIS BLUES     ┆ V   ┆ 2024021044 │\n",
       "│ 4       ┆ 1    ┆ 00:40    ┆       ┆ … ┆ 40        ┆ ST. LOUIS BLUES     ┆ V   ┆ 2024021044 │\n",
       "│ 5       ┆ 1    ┆ 01:21    ┆       ┆ … ┆ 81        ┆ ST. LOUIS BLUES     ┆ V   ┆ 2024021044 │\n",
       "│ …       ┆ …    ┆ …        ┆ …     ┆ … ┆ …         ┆ …                   ┆ …   ┆ …          │\n",
       "│ 19      ┆ 3    ┆ 00:14    ┆ P     ┆ … ┆ 14        ┆ PHILADELPHIA FLYERS ┆ H   ┆ 2024021043 │\n",
       "│ 20      ┆ 3    ┆ 00:41    ┆       ┆ … ┆ 41        ┆ PHILADELPHIA FLYERS ┆ H   ┆ 2024021043 │\n",
       "│ 21      ┆ 3    ┆ 00:44    ┆       ┆ … ┆ 44        ┆ PHILADELPHIA FLYERS ┆ H   ┆ 2024021043 │\n",
       "│ 22      ┆ 3    ┆ 00:42    ┆       ┆ … ┆ 42        ┆ PHILADELPHIA FLYERS ┆ H   ┆ 2024021043 │\n",
       "│ 23      ┆ null ┆ 01:13    ┆       ┆ … ┆ 73        ┆ PHILADELPHIA FLYERS ┆ H   ┆ 2024021043 │\n",
       "└─────────┴──────┴──────────┴───────┴───┴───────────┴─────────────────────┴─────┴────────────┘"
      ]
     },
     "execution_count": 68,
     "metadata": {},
     "output_type": "execute_result"
    }
   ],
   "source": [
    "data['TOI_combined']"
   ]
  },
  {
   "cell_type": "code",
   "execution_count": 64,
   "metadata": {},
   "outputs": [
    {
     "data": {
      "text/html": [
       "<div><style>\n",
       ".dataframe > thead > tr,\n",
       ".dataframe > tbody > tr {\n",
       "  text-align: right;\n",
       "  white-space: pre-wrap;\n",
       "}\n",
       "</style>\n",
       "<small>shape: (47, 20)</small><table border=\"1\" class=\"dataframe\"><thead><tr><th>id</th><th>headshot</th><th>firstName</th><th>lastName</th><th>sweaterNumber</th><th>positionCode</th><th>shootsCatches</th><th>heightInInches</th><th>weightInPounds</th><th>heightInCentimeters</th><th>weightInKilograms</th><th>birthDate</th><th>birthCity</th><th>birthCountry</th><th>birthStateProvince</th><th>team</th><th>season</th><th>fullName</th><th>position</th><th>meta_datetime</th></tr><tr><td>i64</td><td>str</td><td>str</td><td>str</td><td>i64</td><td>str</td><td>str</td><td>i64</td><td>i64</td><td>i64</td><td>i64</td><td>str</td><td>str</td><td>str</td><td>str</td><td>str</td><td>i64</td><td>str</td><td>str</td><td>datetime[μs]</td></tr></thead><tbody><tr><td>8476981</td><td>&quot;https://assets.nhle.com/mugs/n…</td><td>&quot;Josh&quot;</td><td>&quot;Anderson&quot;</td><td>17</td><td>&quot;R&quot;</td><td>&quot;R&quot;</td><td>75</td><td>226</td><td>191</td><td>103</td><td>&quot;1994-05-07&quot;</td><td>&quot;Burlington&quot;</td><td>&quot;CAN&quot;</td><td>&quot;ON&quot;</td><td>&quot;MTL&quot;</td><td>20242025</td><td>&quot;Josh Anderson&quot;</td><td>&quot;F&quot;</td><td>2025-03-20 06:42:23.140496</td></tr><tr><td>8476469</td><td>&quot;https://assets.nhle.com/mugs/n…</td><td>&quot;Joel&quot;</td><td>&quot;Armia&quot;</td><td>40</td><td>&quot;R&quot;</td><td>&quot;R&quot;</td><td>75</td><td>216</td><td>191</td><td>98</td><td>&quot;1993-05-31&quot;</td><td>&quot;Pori&quot;</td><td>&quot;FIN&quot;</td><td>null</td><td>&quot;MTL&quot;</td><td>20242025</td><td>&quot;Joel Armia&quot;</td><td>&quot;F&quot;</td><td>2025-03-20 06:42:23.140496</td></tr><tr><td>8481540</td><td>&quot;https://assets.nhle.com/mugs/n…</td><td>&quot;Cole&quot;</td><td>&quot;Caufield&quot;</td><td>13</td><td>&quot;R&quot;</td><td>&quot;R&quot;</td><td>68</td><td>175</td><td>173</td><td>79</td><td>&quot;2001-01-02&quot;</td><td>&quot;Mosinee&quot;</td><td>&quot;USA&quot;</td><td>&quot;WI&quot;</td><td>&quot;MTL&quot;</td><td>20242025</td><td>&quot;Cole Caufield&quot;</td><td>&quot;F&quot;</td><td>2025-03-20 06:42:23.140496</td></tr><tr><td>8481523</td><td>&quot;https://assets.nhle.com/mugs/n…</td><td>&quot;Kirby&quot;</td><td>&quot;Dach&quot;</td><td>77</td><td>&quot;C&quot;</td><td>&quot;R&quot;</td><td>76</td><td>221</td><td>193</td><td>100</td><td>&quot;2001-01-21&quot;</td><td>&quot;Fort Saskatchewan&quot;</td><td>&quot;CAN&quot;</td><td>&quot;AB&quot;</td><td>&quot;MTL&quot;</td><td>20242025</td><td>&quot;Kirby Dach&quot;</td><td>&quot;F&quot;</td><td>2025-03-20 06:42:23.140496</td></tr><tr><td>8477989</td><td>&quot;https://assets.nhle.com/mugs/n…</td><td>&quot;Christian&quot;</td><td>&quot;Dvorak&quot;</td><td>28</td><td>&quot;C&quot;</td><td>&quot;L&quot;</td><td>73</td><td>190</td><td>185</td><td>86</td><td>&quot;1996-02-02&quot;</td><td>&quot;Palos&quot;</td><td>&quot;USA&quot;</td><td>&quot;IL&quot;</td><td>&quot;MTL&quot;</td><td>20242025</td><td>&quot;Christian Dvorak&quot;</td><td>&quot;F&quot;</td><td>2025-03-20 06:42:23.140496</td></tr><tr><td>&hellip;</td><td>&hellip;</td><td>&hellip;</td><td>&hellip;</td><td>&hellip;</td><td>&hellip;</td><td>&hellip;</td><td>&hellip;</td><td>&hellip;</td><td>&hellip;</td><td>&hellip;</td><td>&hellip;</td><td>&hellip;</td><td>&hellip;</td><td>&hellip;</td><td>&hellip;</td><td>&hellip;</td><td>&hellip;</td><td>&hellip;</td><td>&hellip;</td></tr><tr><td>8479026</td><td>&quot;https://assets.nhle.com/mugs/n…</td><td>&quot;Philippe&quot;</td><td>&quot;Myers&quot;</td><td>51</td><td>&quot;D&quot;</td><td>&quot;R&quot;</td><td>77</td><td>219</td><td>196</td><td>99</td><td>&quot;1997-01-25&quot;</td><td>&quot;Moncton&quot;</td><td>&quot;CAN&quot;</td><td>&quot;NB&quot;</td><td>&quot;TOR&quot;</td><td>20242025</td><td>&quot;Philippe Myers&quot;</td><td>&quot;D&quot;</td><td>2025-03-20 06:42:23.140496</td></tr><tr><td>8476853</td><td>&quot;https://assets.nhle.com/mugs/n…</td><td>&quot;Morgan&quot;</td><td>&quot;Rielly&quot;</td><td>44</td><td>&quot;D&quot;</td><td>&quot;L&quot;</td><td>73</td><td>225</td><td>185</td><td>102</td><td>&quot;1994-03-09&quot;</td><td>&quot;Vancouver&quot;</td><td>&quot;CAN&quot;</td><td>&quot;BC&quot;</td><td>&quot;TOR&quot;</td><td>20242025</td><td>&quot;Morgan Rielly&quot;</td><td>&quot;D&quot;</td><td>2025-03-20 06:42:23.140496</td></tr><tr><td>8475690</td><td>&quot;https://assets.nhle.com/mugs/n…</td><td>&quot;Chris&quot;</td><td>&quot;Tanev&quot;</td><td>8</td><td>&quot;D&quot;</td><td>&quot;R&quot;</td><td>75</td><td>199</td><td>191</td><td>90</td><td>&quot;1989-12-20&quot;</td><td>&quot;Toronto&quot;</td><td>&quot;CAN&quot;</td><td>&quot;ON&quot;</td><td>&quot;TOR&quot;</td><td>20242025</td><td>&quot;Chris Tanev&quot;</td><td>&quot;D&quot;</td><td>2025-03-20 06:42:23.140496</td></tr><tr><td>8476932</td><td>&quot;https://assets.nhle.com/mugs/n…</td><td>&quot;Anthony&quot;</td><td>&quot;Stolarz&quot;</td><td>41</td><td>&quot;G&quot;</td><td>&quot;L&quot;</td><td>78</td><td>243</td><td>198</td><td>110</td><td>&quot;1994-01-20&quot;</td><td>&quot;Edison&quot;</td><td>&quot;USA&quot;</td><td>&quot;NJ&quot;</td><td>&quot;TOR&quot;</td><td>20242025</td><td>&quot;Anthony Stolarz&quot;</td><td>&quot;G&quot;</td><td>2025-03-20 06:42:23.140496</td></tr><tr><td>8479361</td><td>&quot;https://assets.nhle.com/mugs/n…</td><td>&quot;Joseph&quot;</td><td>&quot;Woll&quot;</td><td>60</td><td>&quot;G&quot;</td><td>&quot;L&quot;</td><td>75</td><td>206</td><td>191</td><td>93</td><td>&quot;1998-07-12&quot;</td><td>&quot;Dardenne Prairie&quot;</td><td>&quot;USA&quot;</td><td>&quot;MO&quot;</td><td>&quot;TOR&quot;</td><td>20242025</td><td>&quot;Joseph Woll&quot;</td><td>&quot;G&quot;</td><td>2025-03-20 06:42:23.140496</td></tr></tbody></table></div>"
      ],
      "text/plain": [
       "shape: (47, 20)\n",
       "┌─────────┬─────────────┬───────────┬──────────┬───┬──────────┬────────────┬──────────┬────────────┐\n",
       "│ id      ┆ headshot    ┆ firstName ┆ lastName ┆ … ┆ season   ┆ fullName   ┆ position ┆ meta_datet │\n",
       "│ ---     ┆ ---         ┆ ---       ┆ ---      ┆   ┆ ---      ┆ ---        ┆ ---      ┆ ime        │\n",
       "│ i64     ┆ str         ┆ str       ┆ str      ┆   ┆ i64      ┆ str        ┆ str      ┆ ---        │\n",
       "│         ┆             ┆           ┆          ┆   ┆          ┆            ┆          ┆ datetime[μ │\n",
       "│         ┆             ┆           ┆          ┆   ┆          ┆            ┆          ┆ s]         │\n",
       "╞═════════╪═════════════╪═══════════╪══════════╪═══╪══════════╪════════════╪══════════╪════════════╡\n",
       "│ 8476981 ┆ https://ass ┆ Josh      ┆ Anderson ┆ … ┆ 20242025 ┆ Josh       ┆ F        ┆ 2025-03-20 │\n",
       "│         ┆ ets.nhle.co ┆           ┆          ┆   ┆          ┆ Anderson   ┆          ┆ 06:42:23.1 │\n",
       "│         ┆ m/mugs/n…   ┆           ┆          ┆   ┆          ┆            ┆          ┆ 40496      │\n",
       "│ 8476469 ┆ https://ass ┆ Joel      ┆ Armia    ┆ … ┆ 20242025 ┆ Joel Armia ┆ F        ┆ 2025-03-20 │\n",
       "│         ┆ ets.nhle.co ┆           ┆          ┆   ┆          ┆            ┆          ┆ 06:42:23.1 │\n",
       "│         ┆ m/mugs/n…   ┆           ┆          ┆   ┆          ┆            ┆          ┆ 40496      │\n",
       "│ 8481540 ┆ https://ass ┆ Cole      ┆ Caufield ┆ … ┆ 20242025 ┆ Cole       ┆ F        ┆ 2025-03-20 │\n",
       "│         ┆ ets.nhle.co ┆           ┆          ┆   ┆          ┆ Caufield   ┆          ┆ 06:42:23.1 │\n",
       "│         ┆ m/mugs/n…   ┆           ┆          ┆   ┆          ┆            ┆          ┆ 40496      │\n",
       "│ 8481523 ┆ https://ass ┆ Kirby     ┆ Dach     ┆ … ┆ 20242025 ┆ Kirby Dach ┆ F        ┆ 2025-03-20 │\n",
       "│         ┆ ets.nhle.co ┆           ┆          ┆   ┆          ┆            ┆          ┆ 06:42:23.1 │\n",
       "│         ┆ m/mugs/n…   ┆           ┆          ┆   ┆          ┆            ┆          ┆ 40496      │\n",
       "│ 8477989 ┆ https://ass ┆ Christian ┆ Dvorak   ┆ … ┆ 20242025 ┆ Christian  ┆ F        ┆ 2025-03-20 │\n",
       "│         ┆ ets.nhle.co ┆           ┆          ┆   ┆          ┆ Dvorak     ┆          ┆ 06:42:23.1 │\n",
       "│         ┆ m/mugs/n…   ┆           ┆          ┆   ┆          ┆            ┆          ┆ 40496      │\n",
       "│ …       ┆ …           ┆ …         ┆ …        ┆ … ┆ …        ┆ …          ┆ …        ┆ …          │\n",
       "│ 8479026 ┆ https://ass ┆ Philippe  ┆ Myers    ┆ … ┆ 20242025 ┆ Philippe   ┆ D        ┆ 2025-03-20 │\n",
       "│         ┆ ets.nhle.co ┆           ┆          ┆   ┆          ┆ Myers      ┆          ┆ 06:42:23.1 │\n",
       "│         ┆ m/mugs/n…   ┆           ┆          ┆   ┆          ┆            ┆          ┆ 40496      │\n",
       "│ 8476853 ┆ https://ass ┆ Morgan    ┆ Rielly   ┆ … ┆ 20242025 ┆ Morgan     ┆ D        ┆ 2025-03-20 │\n",
       "│         ┆ ets.nhle.co ┆           ┆          ┆   ┆          ┆ Rielly     ┆          ┆ 06:42:23.1 │\n",
       "│         ┆ m/mugs/n…   ┆           ┆          ┆   ┆          ┆            ┆          ┆ 40496      │\n",
       "│ 8475690 ┆ https://ass ┆ Chris     ┆ Tanev    ┆ … ┆ 20242025 ┆ Chris      ┆ D        ┆ 2025-03-20 │\n",
       "│         ┆ ets.nhle.co ┆           ┆          ┆   ┆          ┆ Tanev      ┆          ┆ 06:42:23.1 │\n",
       "│         ┆ m/mugs/n…   ┆           ┆          ┆   ┆          ┆            ┆          ┆ 40496      │\n",
       "│ 8476932 ┆ https://ass ┆ Anthony   ┆ Stolarz  ┆ … ┆ 20242025 ┆ Anthony    ┆ G        ┆ 2025-03-20 │\n",
       "│         ┆ ets.nhle.co ┆           ┆          ┆   ┆          ┆ Stolarz    ┆          ┆ 06:42:23.1 │\n",
       "│         ┆ m/mugs/n…   ┆           ┆          ┆   ┆          ┆            ┆          ┆ 40496      │\n",
       "│ 8479361 ┆ https://ass ┆ Joseph    ┆ Woll     ┆ … ┆ 20242025 ┆ Joseph     ┆ G        ┆ 2025-03-20 │\n",
       "│         ┆ ets.nhle.co ┆           ┆          ┆   ┆          ┆ Woll       ┆          ┆ 06:42:23.1 │\n",
       "│         ┆ m/mugs/n…   ┆           ┆          ┆   ┆          ┆            ┆          ┆ 40496      │\n",
       "└─────────┴─────────────┴───────────┴──────────┴───┴──────────┴────────────┴──────────┴────────────┘"
      ]
     },
     "execution_count": 64,
     "metadata": {},
     "output_type": "execute_result"
    }
   ],
   "source": [
    "await scraper.scrape_team_rosters(teams=[\"MTL\", \"TOR\"], seasons=[20242025], progress=False)"
   ]
  },
  {
   "cell_type": "code",
   "execution_count": 69,
   "metadata": {},
   "outputs": [
    {
     "data": {
      "text/html": [
       "<div><style>\n",
       ".dataframe > thead > tr,\n",
       ".dataframe > tbody > tr {\n",
       "  text-align: right;\n",
       "  white-space: pre-wrap;\n",
       "}\n",
       "</style>\n",
       "<small>shape: (55, 26)</small><table border=\"1\" class=\"dataframe\"><thead><tr><th>playerId</th><th>headshot</th><th>firstName</th><th>lastName</th><th>positionCode</th><th>gamesPlayed</th><th>goals</th><th>assists</th><th>points</th><th>plusMinus</th><th>penaltyMinutes</th><th>powerPlayGoals</th><th>shorthandedGoals</th><th>gameWinningGoals</th><th>overtimeGoals</th><th>shots</th><th>shootingPctg</th><th>avgTimeOnIcePerGame</th><th>avgShiftsPerGame</th><th>faceoffWinPctg</th><th>team</th><th>season</th><th>session</th><th>fullName</th><th>position</th><th>meta_datetime</th></tr><tr><td>i64</td><td>str</td><td>str</td><td>str</td><td>str</td><td>i64</td><td>i64</td><td>i64</td><td>i64</td><td>i64</td><td>i64</td><td>i64</td><td>i64</td><td>i64</td><td>i64</td><td>i64</td><td>f64</td><td>f64</td><td>f64</td><td>f64</td><td>str</td><td>i64</td><td>i64</td><td>str</td><td>str</td><td>datetime[μs]</td></tr></thead><tbody><tr><td>8475233</td><td>&quot;https://assets.nhle.com/mugs/n…</td><td>&quot;David&quot;</td><td>&quot;Savard&quot;</td><td>&quot;D&quot;</td><td>61</td><td>1</td><td>13</td><td>14</td><td>-5</td><td>30</td><td>0</td><td>0</td><td>0</td><td>0</td><td>40</td><td>0.025</td><td>1053.9836</td><td>20.623</td><td>0.0</td><td>&quot;MTL&quot;</td><td>20242025</td><td>2</td><td>&quot;David Savard&quot;</td><td>&quot;D&quot;</td><td>2025-03-20 12:10:04.222546</td></tr><tr><td>8475848</td><td>&quot;https://assets.nhle.com/mugs/n…</td><td>&quot;Brendan&quot;</td><td>&quot;Gallagher&quot;</td><td>&quot;R&quot;</td><td>67</td><td>16</td><td>12</td><td>28</td><td>-10</td><td>27</td><td>5</td><td>0</td><td>1</td><td>0</td><td>123</td><td>0.130081</td><td>826.806</td><td>17.7463</td><td>0.0</td><td>&quot;MTL&quot;</td><td>20242025</td><td>2</td><td>&quot;Brendan Gallagher&quot;</td><td>&quot;F&quot;</td><td>2025-03-20 12:10:04.222546</td></tr><tr><td>8476469</td><td>&quot;https://assets.nhle.com/mugs/n…</td><td>&quot;Joel&quot;</td><td>&quot;Armia&quot;</td><td>&quot;R&quot;</td><td>66</td><td>11</td><td>14</td><td>25</td><td>-2</td><td>16</td><td>0</td><td>3</td><td>1</td><td>0</td><td>96</td><td>0.114583</td><td>879.8333</td><td>18.0152</td><td>0.214286</td><td>&quot;MTL&quot;</td><td>20242025</td><td>2</td><td>&quot;Joel Armia&quot;</td><td>&quot;F&quot;</td><td>2025-03-20 12:10:04.222546</td></tr><tr><td>8476875</td><td>&quot;https://assets.nhle.com/mugs/n…</td><td>&quot;Mike&quot;</td><td>&quot;Matheson&quot;</td><td>&quot;D&quot;</td><td>65</td><td>6</td><td>23</td><td>29</td><td>-6</td><td>43</td><td>1</td><td>0</td><td>1</td><td>1</td><td>125</td><td>0.048</td><td>1499.0769</td><td>25.5077</td><td>0.0</td><td>&quot;MTL&quot;</td><td>20242025</td><td>2</td><td>&quot;Mike Matheson&quot;</td><td>&quot;D&quot;</td><td>2025-03-20 12:10:04.222546</td></tr><tr><td>8476981</td><td>&quot;https://assets.nhle.com/mugs/n…</td><td>&quot;Josh&quot;</td><td>&quot;Anderson&quot;</td><td>&quot;R&quot;</td><td>67</td><td>12</td><td>10</td><td>22</td><td>-3</td><td>60</td><td>0</td><td>1</td><td>0</td><td>0</td><td>92</td><td>0.130435</td><td>847.8657</td><td>18.7463</td><td>0.634146</td><td>&quot;MTL&quot;</td><td>20242025</td><td>2</td><td>&quot;Josh Anderson&quot;</td><td>&quot;F&quot;</td><td>2025-03-20 12:10:04.222546</td></tr><tr><td>&hellip;</td><td>&hellip;</td><td>&hellip;</td><td>&hellip;</td><td>&hellip;</td><td>&hellip;</td><td>&hellip;</td><td>&hellip;</td><td>&hellip;</td><td>&hellip;</td><td>&hellip;</td><td>&hellip;</td><td>&hellip;</td><td>&hellip;</td><td>&hellip;</td><td>&hellip;</td><td>&hellip;</td><td>&hellip;</td><td>&hellip;</td><td>&hellip;</td><td>&hellip;</td><td>&hellip;</td><td>&hellip;</td><td>&hellip;</td><td>&hellip;</td><td>&hellip;</td></tr><tr><td>8481582</td><td>&quot;https://assets.nhle.com/mugs/n…</td><td>&quot;Nicholas&quot;</td><td>&quot;Robertson&quot;</td><td>&quot;L&quot;</td><td>58</td><td>12</td><td>7</td><td>19</td><td>-3</td><td>10</td><td>2</td><td>0</td><td>2</td><td>0</td><td>92</td><td>0.130435</td><td>721.3621</td><td>16.569</td><td>0.4</td><td>&quot;TOR&quot;</td><td>20242025</td><td>2</td><td>&quot;Nicholas Robertson&quot;</td><td>&quot;F&quot;</td><td>2025-03-20 12:10:04.222546</td></tr><tr><td>8482259</td><td>&quot;https://assets.nhle.com/mugs/n…</td><td>&quot;Bobby&quot;</td><td>&quot;McMann&quot;</td><td>&quot;C&quot;</td><td>60</td><td>18</td><td>11</td><td>29</td><td>6</td><td>18</td><td>3</td><td>0</td><td>4</td><td>0</td><td>132</td><td>0.136364</td><td>868.8</td><td>18.35</td><td>0.190476</td><td>&quot;TOR&quot;</td><td>20242025</td><td>2</td><td>&quot;Bobby McMann&quot;</td><td>&quot;F&quot;</td><td>2025-03-20 12:10:04.222546</td></tr><tr><td>8482634</td><td>&quot;https://assets.nhle.com/mugs/n…</td><td>&quot;Alex&quot;</td><td>&quot;Steeves&quot;</td><td>&quot;C&quot;</td><td>7</td><td>1</td><td>1</td><td>2</td><td>3</td><td>0</td><td>0</td><td>0</td><td>0</td><td>0</td><td>7</td><td>0.142857</td><td>593.4286</td><td>14.1429</td><td>0.0</td><td>&quot;TOR&quot;</td><td>20242025</td><td>2</td><td>&quot;Alex Steeves&quot;</td><td>&quot;F&quot;</td><td>2025-03-20 12:10:04.222546</td></tr><tr><td>8482720</td><td>&quot;https://assets.nhle.com/mugs/n…</td><td>&quot;Matthew&quot;</td><td>&quot;Knies&quot;</td><td>&quot;L&quot;</td><td>64</td><td>24</td><td>20</td><td>44</td><td>-2</td><td>33</td><td>4</td><td>0</td><td>3</td><td>0</td><td>115</td><td>0.208696</td><td>1112.7344</td><td>23.0625</td><td>0.0</td><td>&quot;TOR&quot;</td><td>20242025</td><td>2</td><td>&quot;Matthew Knies&quot;</td><td>&quot;F&quot;</td><td>2025-03-20 12:10:04.222546</td></tr><tr><td>8484901</td><td>&quot;https://assets.nhle.com/mugs/n…</td><td>&quot;Jacob&quot;</td><td>&quot;Quillan&quot;</td><td>&quot;C&quot;</td><td>1</td><td>0</td><td>0</td><td>0</td><td>0</td><td>0</td><td>0</td><td>0</td><td>0</td><td>0</td><td>0</td><td>0.0</td><td>321.0</td><td>7.0</td><td>0.0</td><td>&quot;TOR&quot;</td><td>20242025</td><td>2</td><td>&quot;Jacob Quillan&quot;</td><td>&quot;F&quot;</td><td>2025-03-20 12:10:04.222546</td></tr></tbody></table></div>"
      ],
      "text/plain": [
       "shape: (55, 26)\n",
       "┌──────────┬────────────┬───────────┬───────────┬───┬─────────┬────────────┬──────────┬────────────┐\n",
       "│ playerId ┆ headshot   ┆ firstName ┆ lastName  ┆ … ┆ session ┆ fullName   ┆ position ┆ meta_datet │\n",
       "│ ---      ┆ ---        ┆ ---       ┆ ---       ┆   ┆ ---     ┆ ---        ┆ ---      ┆ ime        │\n",
       "│ i64      ┆ str        ┆ str       ┆ str       ┆   ┆ i64     ┆ str        ┆ str      ┆ ---        │\n",
       "│          ┆            ┆           ┆           ┆   ┆         ┆            ┆          ┆ datetime[μ │\n",
       "│          ┆            ┆           ┆           ┆   ┆         ┆            ┆          ┆ s]         │\n",
       "╞══════════╪════════════╪═══════════╪═══════════╪═══╪═════════╪════════════╪══════════╪════════════╡\n",
       "│ 8475233  ┆ https://as ┆ David     ┆ Savard    ┆ … ┆ 2       ┆ David      ┆ D        ┆ 2025-03-20 │\n",
       "│          ┆ sets.nhle. ┆           ┆           ┆   ┆         ┆ Savard     ┆          ┆ 12:10:04.2 │\n",
       "│          ┆ com/mugs/n ┆           ┆           ┆   ┆         ┆            ┆          ┆ 22546      │\n",
       "│          ┆ …          ┆           ┆           ┆   ┆         ┆            ┆          ┆            │\n",
       "│ 8475848  ┆ https://as ┆ Brendan   ┆ Gallagher ┆ … ┆ 2       ┆ Brendan    ┆ F        ┆ 2025-03-20 │\n",
       "│          ┆ sets.nhle. ┆           ┆           ┆   ┆         ┆ Gallagher  ┆          ┆ 12:10:04.2 │\n",
       "│          ┆ com/mugs/n ┆           ┆           ┆   ┆         ┆            ┆          ┆ 22546      │\n",
       "│          ┆ …          ┆           ┆           ┆   ┆         ┆            ┆          ┆            │\n",
       "│ 8476469  ┆ https://as ┆ Joel      ┆ Armia     ┆ … ┆ 2       ┆ Joel Armia ┆ F        ┆ 2025-03-20 │\n",
       "│          ┆ sets.nhle. ┆           ┆           ┆   ┆         ┆            ┆          ┆ 12:10:04.2 │\n",
       "│          ┆ com/mugs/n ┆           ┆           ┆   ┆         ┆            ┆          ┆ 22546      │\n",
       "│          ┆ …          ┆           ┆           ┆   ┆         ┆            ┆          ┆            │\n",
       "│ 8476875  ┆ https://as ┆ Mike      ┆ Matheson  ┆ … ┆ 2       ┆ Mike       ┆ D        ┆ 2025-03-20 │\n",
       "│          ┆ sets.nhle. ┆           ┆           ┆   ┆         ┆ Matheson   ┆          ┆ 12:10:04.2 │\n",
       "│          ┆ com/mugs/n ┆           ┆           ┆   ┆         ┆            ┆          ┆ 22546      │\n",
       "│          ┆ …          ┆           ┆           ┆   ┆         ┆            ┆          ┆            │\n",
       "│ 8476981  ┆ https://as ┆ Josh      ┆ Anderson  ┆ … ┆ 2       ┆ Josh       ┆ F        ┆ 2025-03-20 │\n",
       "│          ┆ sets.nhle. ┆           ┆           ┆   ┆         ┆ Anderson   ┆          ┆ 12:10:04.2 │\n",
       "│          ┆ com/mugs/n ┆           ┆           ┆   ┆         ┆            ┆          ┆ 22546      │\n",
       "│          ┆ …          ┆           ┆           ┆   ┆         ┆            ┆          ┆            │\n",
       "│ …        ┆ …          ┆ …         ┆ …         ┆ … ┆ …       ┆ …          ┆ …        ┆ …          │\n",
       "│ 8481582  ┆ https://as ┆ Nicholas  ┆ Robertson ┆ … ┆ 2       ┆ Nicholas   ┆ F        ┆ 2025-03-20 │\n",
       "│          ┆ sets.nhle. ┆           ┆           ┆   ┆         ┆ Robertson  ┆          ┆ 12:10:04.2 │\n",
       "│          ┆ com/mugs/n ┆           ┆           ┆   ┆         ┆            ┆          ┆ 22546      │\n",
       "│          ┆ …          ┆           ┆           ┆   ┆         ┆            ┆          ┆            │\n",
       "│ 8482259  ┆ https://as ┆ Bobby     ┆ McMann    ┆ … ┆ 2       ┆ Bobby      ┆ F        ┆ 2025-03-20 │\n",
       "│          ┆ sets.nhle. ┆           ┆           ┆   ┆         ┆ McMann     ┆          ┆ 12:10:04.2 │\n",
       "│          ┆ com/mugs/n ┆           ┆           ┆   ┆         ┆            ┆          ┆ 22546      │\n",
       "│          ┆ …          ┆           ┆           ┆   ┆         ┆            ┆          ┆            │\n",
       "│ 8482634  ┆ https://as ┆ Alex      ┆ Steeves   ┆ … ┆ 2       ┆ Alex       ┆ F        ┆ 2025-03-20 │\n",
       "│          ┆ sets.nhle. ┆           ┆           ┆   ┆         ┆ Steeves    ┆          ┆ 12:10:04.2 │\n",
       "│          ┆ com/mugs/n ┆           ┆           ┆   ┆         ┆            ┆          ┆ 22546      │\n",
       "│          ┆ …          ┆           ┆           ┆   ┆         ┆            ┆          ┆            │\n",
       "│ 8482720  ┆ https://as ┆ Matthew   ┆ Knies     ┆ … ┆ 2       ┆ Matthew    ┆ F        ┆ 2025-03-20 │\n",
       "│          ┆ sets.nhle. ┆           ┆           ┆   ┆         ┆ Knies      ┆          ┆ 12:10:04.2 │\n",
       "│          ┆ com/mugs/n ┆           ┆           ┆   ┆         ┆            ┆          ┆ 22546      │\n",
       "│          ┆ …          ┆           ┆           ┆   ┆         ┆            ┆          ┆            │\n",
       "│ 8484901  ┆ https://as ┆ Jacob     ┆ Quillan   ┆ … ┆ 2       ┆ Jacob      ┆ F        ┆ 2025-03-20 │\n",
       "│          ┆ sets.nhle. ┆           ┆           ┆   ┆         ┆ Quillan    ┆          ┆ 12:10:04.2 │\n",
       "│          ┆ com/mugs/n ┆           ┆           ┆   ┆         ┆            ┆          ┆ 22546      │\n",
       "│          ┆ …          ┆           ┆           ┆   ┆         ┆            ┆          ┆            │\n",
       "└──────────┴────────────┴───────────┴───────────┴───┴─────────┴────────────┴──────────┴────────────┘"
      ]
     },
     "execution_count": 69,
     "metadata": {},
     "output_type": "execute_result"
    }
   ],
   "source": [
    "await scraper.scrape_team_stats(teams=[\"MTL\", \"TOR\"], seasons=[20242025], sessions=[2], progress=False)"
   ]
  },
  {
   "cell_type": "code",
   "execution_count": 70,
   "metadata": {},
   "outputs": [
    {
     "name": "stderr",
     "output_type": "stream",
     "text": [
      "Scraping NHL Standings:   0%|          | 0/1 [00:00<?, ?it/s]"
     ]
    },
    {
     "name": "stderr",
     "output_type": "stream",
     "text": [
      "Scraping NHL Standings: 100%|██████████| 1/1 [00:00<00:00,  2.46it/s]\n"
     ]
    },
    {
     "data": {
      "text/html": [
       "<div><style>\n",
       ".dataframe > thead > tr,\n",
       ".dataframe > tbody > tr {\n",
       "  text-align: right;\n",
       "  white-space: pre-wrap;\n",
       "}\n",
       "</style>\n",
       "<small>shape: (32, 83)</small><table border=\"1\" class=\"dataframe\"><thead><tr><th>conferenceAbbrev</th><th>conferenceHomeSequence</th><th>conferenceL10Sequence</th><th>conferenceName</th><th>conferenceRoadSequence</th><th>conferenceSequence</th><th>date</th><th>divisionAbbrev</th><th>divisionHomeSequence</th><th>divisionL10Sequence</th><th>divisionName</th><th>divisionRoadSequence</th><th>divisionSequence</th><th>gameTypeId</th><th>gamesPlayed</th><th>goalDifferential</th><th>goalDifferentialPctg</th><th>goalAgainst</th><th>goalFor</th><th>goalsForPctg</th><th>homeGamesPlayed</th><th>homeGoalDifferential</th><th>homeGoalsAgainst</th><th>homeGoalsFor</th><th>homeLosses</th><th>homeOtLosses</th><th>homePoints</th><th>homeRegulationPlusOtWins</th><th>homeRegulationWins</th><th>homeTies</th><th>homeWins</th><th>l10GamesPlayed</th><th>l10GoalDifferential</th><th>l10GoalsAgainst</th><th>l10GoalsFor</th><th>l10Losses</th><th>l10OtLosses</th><th>&hellip;</th><th>losses</th><th>otLosses</th><th>placeName</th><th>pointPctg</th><th>points</th><th>regulationPlusOtWinPctg</th><th>regulationPlusOtWins</th><th>regulationWinPctg</th><th>regulationWins</th><th>roadGamesPlayed</th><th>roadGoalDifferential</th><th>roadGoalsAgainst</th><th>roadGoalsFor</th><th>roadLosses</th><th>roadOtLosses</th><th>roadPoints</th><th>roadRegulationPlusOtWins</th><th>roadRegulationWins</th><th>roadTies</th><th>roadWins</th><th>seasonId</th><th>shootoutLosses</th><th>shootoutWins</th><th>streakCode</th><th>streakCount</th><th>teamName</th><th>teamCommonName</th><th>teamAbbrev</th><th>teamLogo</th><th>ties</th><th>waiversSequence</th><th>wildcardSequence</th><th>winPctg</th><th>wins</th><th>abbreviation</th><th>division</th><th>conference</th></tr><tr><td>str</td><td>i64</td><td>i64</td><td>str</td><td>i64</td><td>i64</td><td>str</td><td>str</td><td>i64</td><td>i64</td><td>str</td><td>i64</td><td>i64</td><td>i64</td><td>i32</td><td>i64</td><td>f64</td><td>i32</td><td>i32</td><td>f64</td><td>i64</td><td>i64</td><td>i64</td><td>i64</td><td>i64</td><td>i64</td><td>i64</td><td>i64</td><td>i64</td><td>i64</td><td>i64</td><td>i64</td><td>i64</td><td>i64</td><td>i64</td><td>i64</td><td>i64</td><td>&hellip;</td><td>i32</td><td>i32</td><td>struct[2]</td><td>f64</td><td>i32</td><td>f64</td><td>i64</td><td>f64</td><td>i64</td><td>i64</td><td>i64</td><td>i64</td><td>i64</td><td>i64</td><td>i64</td><td>i64</td><td>i64</td><td>i64</td><td>i64</td><td>i64</td><td>i64</td><td>i64</td><td>i64</td><td>str</td><td>i64</td><td>str</td><td>struct[2]</td><td>struct[1]</td><td>str</td><td>i64</td><td>i64</td><td>i64</td><td>f64</td><td>i32</td><td>str</td><td>str</td><td>str</td></tr></thead><tbody><tr><td>&quot;E&quot;</td><td>3</td><td>3</td><td>&quot;Eastern&quot;</td><td>1</td><td>1</td><td>&quot;2025-03-10&quot;</td><td>&quot;M&quot;</td><td>2</td><td>1</td><td>&quot;Metropolitan&quot;</td><td>1</td><td>1</td><td>2</td><td>64</td><td>65</td><td>1.015625</td><td>167</td><td>232</td><td>3.625</td><td>34</td><td>30</td><td>94</td><td>124</td><td>7</td><td>6</td><td>48</td><td>20</td><td>18</td><td>0</td><td>21</td><td>10</td><td>8</td><td>32</td><td>40</td><td>3</td><td>1</td><td>&hellip;</td><td>14</td><td>8</td><td>{&quot;Washington&quot;,null}</td><td>0.71875</td><td>92</td><td>0.640625</td><td>41</td><td>0.546875</td><td>35</td><td>30</td><td>35</td><td>73</td><td>108</td><td>7</td><td>2</td><td>44</td><td>21</td><td>17</td><td>0</td><td>21</td><td>20242025</td><td>3</td><td>1</td><td>&quot;W&quot;</td><td>4</td><td>&quot;Washington Capitals&quot;</td><td>{&quot;Capitals&quot;,null}</td><td>{&quot;WSH&quot;}</td><td>&quot;https://assets.nhle.com/logos/…</td><td>0</td><td>32</td><td>0</td><td>0.65625</td><td>42</td><td>&quot;WSH&quot;</td><td>&quot;Metropolitan&quot;</td><td>&quot;Eastern&quot;</td></tr><tr><td>&quot;W&quot;</td><td>2</td><td>5</td><td>&quot;Western&quot;</td><td>2</td><td>1</td><td>&quot;2025-03-10&quot;</td><td>&quot;C&quot;</td><td>1</td><td>4</td><td>&quot;Central&quot;</td><td>2</td><td>1</td><td>2</td><td>65</td><td>76</td><td>1.169231</td><td>152</td><td>228</td><td>3.507692</td><td>32</td><td>49</td><td>65</td><td>114</td><td>5</td><td>4</td><td>50</td><td>23</td><td>20</td><td>0</td><td>23</td><td>10</td><td>9</td><td>21</td><td>30</td><td>3</td><td>1</td><td>&hellip;</td><td>17</td><td>4</td><td>{&quot;Winnipeg&quot;,null}</td><td>0.707692</td><td>92</td><td>0.661538</td><td>43</td><td>0.553846</td><td>36</td><td>33</td><td>27</td><td>87</td><td>114</td><td>12</td><td>0</td><td>42</td><td>20</td><td>16</td><td>0</td><td>21</td><td>20242025</td><td>1</td><td>1</td><td>&quot;L&quot;</td><td>1</td><td>&quot;Winnipeg Jets&quot;</td><td>{&quot;Jets&quot;,null}</td><td>{&quot;WPG&quot;}</td><td>&quot;https://assets.nhle.com/logos/…</td><td>0</td><td>31</td><td>0</td><td>0.676923</td><td>44</td><td>&quot;WPG&quot;</td><td>&quot;Central&quot;</td><td>&quot;Western&quot;</td></tr><tr><td>&quot;W&quot;</td><td>3</td><td>2</td><td>&quot;Western&quot;</td><td>3</td><td>2</td><td>&quot;2025-03-10&quot;</td><td>&quot;C&quot;</td><td>2</td><td>2</td><td>&quot;Central&quot;</td><td>3</td><td>2</td><td>2</td><td>64</td><td>55</td><td>0.859375</td><td>166</td><td>221</td><td>3.453125</td><td>32</td><td>39</td><td>74</td><td>113</td><td>7</td><td>1</td><td>49</td><td>23</td><td>20</td><td>0</td><td>24</td><td>10</td><td>17</td><td>30</td><td>47</td><td>2</td><td>0</td><td>&hellip;</td><td>20</td><td>2</td><td>{&quot;Dallas&quot;,null}</td><td>0.671875</td><td>86</td><td>0.625</td><td>40</td><td>0.546875</td><td>35</td><td>32</td><td>16</td><td>92</td><td>108</td><td>13</td><td>1</td><td>37</td><td>17</td><td>15</td><td>0</td><td>18</td><td>20242025</td><td>1</td><td>2</td><td>&quot;W&quot;</td><td>1</td><td>&quot;Dallas Stars&quot;</td><td>{&quot;Stars&quot;,null}</td><td>{&quot;DAL&quot;}</td><td>&quot;https://assets.nhle.com/logos/…</td><td>0</td><td>30</td><td>0</td><td>0.65625</td><td>42</td><td>&quot;DAL&quot;</td><td>&quot;Central&quot;</td><td>&quot;Western&quot;</td></tr><tr><td>&quot;E&quot;</td><td>4</td><td>2</td><td>&quot;Eastern&quot;</td><td>4</td><td>2</td><td>&quot;2025-03-10&quot;</td><td>&quot;A&quot;</td><td>2</td><td>2</td><td>&quot;Atlantic&quot;</td><td>2</td><td>1</td><td>2</td><td>64</td><td>41</td><td>0.640625</td><td>172</td><td>213</td><td>3.328125</td><td>34</td><td>27</td><td>82</td><td>109</td><td>10</td><td>2</td><td>46</td><td>20</td><td>18</td><td>0</td><td>22</td><td>10</td><td>16</td><td>16</td><td>32</td><td>2</td><td>0</td><td>&hellip;</td><td>21</td><td>3</td><td>{&quot;Florida&quot;,&quot;Floride&quot;}</td><td>0.648438</td><td>83</td><td>0.5625</td><td>36</td><td>0.53125</td><td>34</td><td>30</td><td>14</td><td>90</td><td>104</td><td>11</td><td>1</td><td>37</td><td>16</td><td>16</td><td>0</td><td>18</td><td>20242025</td><td>0</td><td>4</td><td>&quot;W&quot;</td><td>6</td><td>&quot;Florida Panthers&quot;</td><td>{&quot;Panthers&quot;,null}</td><td>{&quot;FLA&quot;}</td><td>&quot;https://assets.nhle.com/logos/…</td><td>0</td><td>28</td><td>0</td><td>0.625</td><td>40</td><td>&quot;FLA&quot;</td><td>&quot;Atlantic&quot;</td><td>&quot;Eastern&quot;</td></tr><tr><td>&quot;W&quot;</td><td>1</td><td>4</td><td>&quot;Western&quot;</td><td>9</td><td>3</td><td>&quot;2025-03-10&quot;</td><td>&quot;P&quot;</td><td>1</td><td>1</td><td>&quot;Pacific&quot;</td><td>3</td><td>1</td><td>2</td><td>63</td><td>39</td><td>0.619048</td><td>174</td><td>213</td><td>3.380952</td><td>34</td><td>40</td><td>83</td><td>123</td><td>7</td><td>3</td><td>51</td><td>24</td><td>23</td><td>0</td><td>24</td><td>10</td><td>11</td><td>25</td><td>36</td><td>3</td><td>0</td><td>&hellip;</td><td>19</td><td>6</td><td>{&quot;Vegas&quot;,null}</td><td>0.650794</td><td>82</td><td>0.587302</td><td>37</td><td>0.555556</td><td>35</td><td>29</td><td>-1</td><td>91</td><td>90</td><td>12</td><td>3</td><td>31</td><td>13</td><td>12</td><td>0</td><td>14</td><td>20242025</td><td>2</td><td>1</td><td>&quot;L&quot;</td><td>1</td><td>&quot;Vegas Golden Knights&quot;</td><td>{&quot;Golden Knights&quot;,null}</td><td>{&quot;VGK&quot;}</td><td>&quot;https://assets.nhle.com/logos/…</td><td>0</td><td>29</td><td>0</td><td>0.603175</td><td>38</td><td>&quot;VGK&quot;</td><td>&quot;Pacific&quot;</td><td>&quot;Western&quot;</td></tr><tr><td>&hellip;</td><td>&hellip;</td><td>&hellip;</td><td>&hellip;</td><td>&hellip;</td><td>&hellip;</td><td>&hellip;</td><td>&hellip;</td><td>&hellip;</td><td>&hellip;</td><td>&hellip;</td><td>&hellip;</td><td>&hellip;</td><td>&hellip;</td><td>&hellip;</td><td>&hellip;</td><td>&hellip;</td><td>&hellip;</td><td>&hellip;</td><td>&hellip;</td><td>&hellip;</td><td>&hellip;</td><td>&hellip;</td><td>&hellip;</td><td>&hellip;</td><td>&hellip;</td><td>&hellip;</td><td>&hellip;</td><td>&hellip;</td><td>&hellip;</td><td>&hellip;</td><td>&hellip;</td><td>&hellip;</td><td>&hellip;</td><td>&hellip;</td><td>&hellip;</td><td>&hellip;</td><td>&hellip;</td><td>&hellip;</td><td>&hellip;</td><td>&hellip;</td><td>&hellip;</td><td>&hellip;</td><td>&hellip;</td><td>&hellip;</td><td>&hellip;</td><td>&hellip;</td><td>&hellip;</td><td>&hellip;</td><td>&hellip;</td><td>&hellip;</td><td>&hellip;</td><td>&hellip;</td><td>&hellip;</td><td>&hellip;</td><td>&hellip;</td><td>&hellip;</td><td>&hellip;</td><td>&hellip;</td><td>&hellip;</td><td>&hellip;</td><td>&hellip;</td><td>&hellip;</td><td>&hellip;</td><td>&hellip;</td><td>&hellip;</td><td>&hellip;</td><td>&hellip;</td><td>&hellip;</td><td>&hellip;</td><td>&hellip;</td><td>&hellip;</td><td>&hellip;</td><td>&hellip;</td><td>&hellip;</td></tr><tr><td>&quot;W&quot;</td><td>12</td><td>13</td><td>&quot;Western&quot;</td><td>13</td><td>13</td><td>&quot;2025-03-10&quot;</td><td>&quot;P&quot;</td><td>7</td><td>6</td><td>&quot;Pacific&quot;</td><td>7</td><td>7</td><td>2</td><td>65</td><td>-20</td><td>-0.307692</td><td>212</td><td>192</td><td>2.953846</td><td>33</td><td>-1</td><td>98</td><td>97</td><td>15</td><td>4</td><td>32</td><td>14</td><td>12</td><td>0</td><td>14</td><td>10</td><td>-7</td><td>34</td><td>27</td><td>6</td><td>0</td><td>&hellip;</td><td>34</td><td>4</td><td>{&quot;Seattle&quot;,null}</td><td>0.446154</td><td>58</td><td>0.4</td><td>26</td><td>0.338462</td><td>22</td><td>32</td><td>-19</td><td>114</td><td>95</td><td>19</td><td>0</td><td>26</td><td>12</td><td>10</td><td>0</td><td>13</td><td>20242025</td><td>3</td><td>1</td><td>&quot;L&quot;</td><td>1</td><td>&quot;Seattle Kraken&quot;</td><td>{&quot;Kraken&quot;,null}</td><td>{&quot;SEA&quot;}</td><td>&quot;https://assets.nhle.com/logos/…</td><td>0</td><td>5</td><td>7</td><td>0.415385</td><td>27</td><td>&quot;SEA&quot;</td><td>&quot;Pacific&quot;</td><td>&quot;Western&quot;</td></tr><tr><td>&quot;E&quot;</td><td>11</td><td>13</td><td>&quot;Eastern&quot;</td><td>16</td><td>16</td><td>&quot;2025-03-10&quot;</td><td>&quot;A&quot;</td><td>7</td><td>6</td><td>&quot;Atlantic&quot;</td><td>8</td><td>8</td><td>2</td><td>63</td><td>-21</td><td>-0.333333</td><td>220</td><td>199</td><td>3.15873</td><td>33</td><td>0</td><td>113</td><td>113</td><td>14</td><td>3</td><td>35</td><td>14</td><td>13</td><td>0</td><td>16</td><td>10</td><td>-9</td><td>41</td><td>32</td><td>6</td><td>1</td><td>&hellip;</td><td>32</td><td>6</td><td>{&quot;Buffalo&quot;,null}</td><td>0.444444</td><td>56</td><td>0.365079</td><td>23</td><td>0.333333</td><td>21</td><td>30</td><td>-21</td><td>107</td><td>86</td><td>18</td><td>3</td><td>21</td><td>9</td><td>8</td><td>0</td><td>9</td><td>20242025</td><td>1</td><td>2</td><td>&quot;W&quot;</td><td>1</td><td>&quot;Buffalo Sabres&quot;</td><td>{&quot;Sabres&quot;,null}</td><td>{&quot;BUF&quot;}</td><td>&quot;https://assets.nhle.com/logos/…</td><td>0</td><td>4</td><td>10</td><td>0.396825</td><td>25</td><td>&quot;BUF&quot;</td><td>&quot;Atlantic&quot;</td><td>&quot;Eastern&quot;</td></tr><tr><td>&quot;W&quot;</td><td>8</td><td>6</td><td>&quot;Western&quot;</td><td>16</td><td>14</td><td>&quot;2025-03-10&quot;</td><td>&quot;C&quot;</td><td>4</td><td>5</td><td>&quot;Central&quot;</td><td>8</td><td>7</td><td>2</td><td>63</td><td>-42</td><td>-0.666667</td><td>209</td><td>167</td><td>2.650794</td><td>32</td><td>0</td><td>97</td><td>97</td><td>12</td><td>3</td><td>37</td><td>16</td><td>13</td><td>0</td><td>17</td><td>10</td><td>-5</td><td>34</td><td>29</td><td>4</td><td>0</td><td>&hellip;</td><td>32</td><td>7</td><td>{&quot;Nashville&quot;,null}</td><td>0.436508</td><td>55</td><td>0.365079</td><td>23</td><td>0.31746</td><td>20</td><td>31</td><td>-42</td><td>112</td><td>70</td><td>20</td><td>4</td><td>18</td><td>7</td><td>7</td><td>0</td><td>7</td><td>20242025</td><td>0</td><td>1</td><td>&quot;W&quot;</td><td>3</td><td>&quot;Nashville Predators&quot;</td><td>{&quot;Predators&quot;,null}</td><td>{&quot;NSH&quot;}</td><td>&quot;https://assets.nhle.com/logos/…</td><td>0</td><td>3</td><td>8</td><td>0.380952</td><td>24</td><td>&quot;NSH&quot;</td><td>&quot;Central&quot;</td><td>&quot;Western&quot;</td></tr><tr><td>&quot;W&quot;</td><td>14</td><td>14</td><td>&quot;Western&quot;</td><td>15</td><td>15</td><td>&quot;2025-03-10&quot;</td><td>&quot;C&quot;</td><td>7</td><td>8</td><td>&quot;Central&quot;</td><td>7</td><td>8</td><td>2</td><td>65</td><td>-49</td><td>-0.753846</td><td>227</td><td>178</td><td>2.738462</td><td>32</td><td>-13</td><td>109</td><td>96</td><td>15</td><td>4</td><td>30</td><td>13</td><td>11</td><td>0</td><td>13</td><td>10</td><td>-7</td><td>36</td><td>29</td><td>5</td><td>2</td><td>&hellip;</td><td>36</td><td>9</td><td>{&quot;Chicago&quot;,null}</td><td>0.376923</td><td>49</td><td>0.292308</td><td>19</td><td>0.261538</td><td>17</td><td>33</td><td>-36</td><td>118</td><td>82</td><td>21</td><td>5</td><td>19</td><td>6</td><td>6</td><td>0</td><td>7</td><td>20242025</td><td>2</td><td>1</td><td>&quot;L&quot;</td><td>1</td><td>&quot;Chicago Blackhawks&quot;</td><td>{&quot;Blackhawks&quot;,null}</td><td>{&quot;CHI&quot;}</td><td>&quot;https://assets.nhle.com/logos/…</td><td>0</td><td>2</td><td>9</td><td>0.307692</td><td>20</td><td>&quot;CHI&quot;</td><td>&quot;Central&quot;</td><td>&quot;Western&quot;</td></tr><tr><td>&quot;W&quot;</td><td>16</td><td>15</td><td>&quot;Western&quot;</td><td>14</td><td>16</td><td>&quot;2025-03-10&quot;</td><td>&quot;P&quot;</td><td>8</td><td>7</td><td>&quot;Pacific&quot;</td><td>8</td><td>8</td><td>2</td><td>65</td><td>-74</td><td>-1.138462</td><td>245</td><td>171</td><td>2.630769</td><td>30</td><td>-29</td><td>110</td><td>81</td><td>19</td><td>2</td><td>20</td><td>9</td><td>7</td><td>0</td><td>9</td><td>10</td><td>-12</td><td>39</td><td>27</td><td>5</td><td>3</td><td>&hellip;</td><td>39</td><td>9</td><td>{&quot;San Jose&quot;,null}</td><td>0.330769</td><td>43</td><td>0.246154</td><td>16</td><td>0.184615</td><td>12</td><td>35</td><td>-45</td><td>135</td><td>90</td><td>20</td><td>7</td><td>23</td><td>7</td><td>5</td><td>0</td><td>8</td><td>20242025</td><td>4</td><td>1</td><td>&quot;L&quot;</td><td>2</td><td>&quot;San Jose Sharks&quot;</td><td>{&quot;Sharks&quot;,null}</td><td>{&quot;SJS&quot;}</td><td>&quot;https://assets.nhle.com/logos/…</td><td>0</td><td>1</td><td>10</td><td>0.261538</td><td>17</td><td>&quot;SJS&quot;</td><td>&quot;Pacific&quot;</td><td>&quot;Western&quot;</td></tr></tbody></table></div>"
      ],
      "text/plain": [
       "shape: (32, 83)\n",
       "┌────────────┬────────────┬────────────┬────────────┬───┬──────┬───────────┬───────────┬───────────┐\n",
       "│ conference ┆ conference ┆ conference ┆ conference ┆ … ┆ wins ┆ abbreviat ┆ division  ┆ conferenc │\n",
       "│ Abbrev     ┆ HomeSequen ┆ L10Sequenc ┆ Name       ┆   ┆ ---  ┆ ion       ┆ ---       ┆ e         │\n",
       "│ ---        ┆ ce         ┆ e          ┆ ---        ┆   ┆ i32  ┆ ---       ┆ str       ┆ ---       │\n",
       "│ str        ┆ ---        ┆ ---        ┆ str        ┆   ┆      ┆ str       ┆           ┆ str       │\n",
       "│            ┆ i64        ┆ i64        ┆            ┆   ┆      ┆           ┆           ┆           │\n",
       "╞════════════╪════════════╪════════════╪════════════╪═══╪══════╪═══════════╪═══════════╪═══════════╡\n",
       "│ E          ┆ 3          ┆ 3          ┆ Eastern    ┆ … ┆ 42   ┆ WSH       ┆ Metropoli ┆ Eastern   │\n",
       "│            ┆            ┆            ┆            ┆   ┆      ┆           ┆ tan       ┆           │\n",
       "│ W          ┆ 2          ┆ 5          ┆ Western    ┆ … ┆ 44   ┆ WPG       ┆ Central   ┆ Western   │\n",
       "│ W          ┆ 3          ┆ 2          ┆ Western    ┆ … ┆ 42   ┆ DAL       ┆ Central   ┆ Western   │\n",
       "│ E          ┆ 4          ┆ 2          ┆ Eastern    ┆ … ┆ 40   ┆ FLA       ┆ Atlantic  ┆ Eastern   │\n",
       "│ W          ┆ 1          ┆ 4          ┆ Western    ┆ … ┆ 38   ┆ VGK       ┆ Pacific   ┆ Western   │\n",
       "│ …          ┆ …          ┆ …          ┆ …          ┆ … ┆ …    ┆ …         ┆ …         ┆ …         │\n",
       "│ W          ┆ 12         ┆ 13         ┆ Western    ┆ … ┆ 27   ┆ SEA       ┆ Pacific   ┆ Western   │\n",
       "│ E          ┆ 11         ┆ 13         ┆ Eastern    ┆ … ┆ 25   ┆ BUF       ┆ Atlantic  ┆ Eastern   │\n",
       "│ W          ┆ 8          ┆ 6          ┆ Western    ┆ … ┆ 24   ┆ NSH       ┆ Central   ┆ Western   │\n",
       "│ W          ┆ 14         ┆ 14         ┆ Western    ┆ … ┆ 20   ┆ CHI       ┆ Central   ┆ Western   │\n",
       "│ W          ┆ 16         ┆ 15         ┆ Western    ┆ … ┆ 17   ┆ SJS       ┆ Pacific   ┆ Western   │\n",
       "└────────────┴────────────┴────────────┴────────────┴───┴──────┴───────────┴───────────┴───────────┘"
      ]
     },
     "execution_count": 70,
     "metadata": {},
     "output_type": "execute_result"
    }
   ],
   "source": [
    "await scraper.scrape_standings(date=\"2025-03-10\")"
   ]
  },
  {
   "cell_type": "code",
   "execution_count": 71,
   "metadata": {},
   "outputs": [
    {
     "name": "stderr",
     "output_type": "stream",
     "text": [
      "Scraping NHL Draft Data:   0%|          | 0/15 [00:00<?, ?it/s]"
     ]
    },
    {
     "name": "stderr",
     "output_type": "stream",
     "text": [
      "Scraping NHL Draft Data: 100%|██████████| 15/15 [00:00<00:00, 48.80it/s]\n"
     ]
    },
    {
     "data": {
      "text/html": [
       "<div><style>\n",
       ".dataframe > thead > tr,\n",
       ".dataframe > tbody > tr {\n",
       "  text-align: right;\n",
       "  white-space: pre-wrap;\n",
       "}\n",
       "</style>\n",
       "<small>shape: (3_235, 23)</small><table border=\"1\" class=\"dataframe\"><thead><tr><th>round</th><th>pickInRound</th><th>overallPick</th><th>teamId</th><th>teamAbbrev</th><th>teamName</th><th>teamCommonName</th><th>teamPlaceNameWithPreposition</th><th>displayAbbrev</th><th>teamLogoLight</th><th>teamLogoDark</th><th>teamPickHistory</th><th>firstName</th><th>lastName</th><th>positionCode</th><th>countryCode</th><th>height</th><th>weight</th><th>amateurLeague</th><th>amateurClubName</th><th>draftYear</th><th>fullName</th><th>meta_datetime</th></tr><tr><td>i64</td><td>i64</td><td>i64</td><td>i64</td><td>str</td><td>str</td><td>str</td><td>str</td><td>str</td><td>str</td><td>str</td><td>str</td><td>str</td><td>str</td><td>str</td><td>str</td><td>i64</td><td>i64</td><td>str</td><td>str</td><td>i64</td><td>str</td><td>datetime[μs]</td></tr></thead><tbody><tr><td>1</td><td>1</td><td>1</td><td>16</td><td>&quot;CHI&quot;</td><td>&quot;Chicago Blackhawks&quot;</td><td>&quot;Blackhawks&quot;</td><td>&quot;Chicago&quot;</td><td>&quot;CHI&quot;</td><td>&quot;https://assets.nhle.com/logos/…</td><td>&quot;https://assets.nhle.com/logos/…</td><td>&quot;CHI&quot;</td><td>&quot;Connor&quot;</td><td>&quot;Bedard&quot;</td><td>&quot;C&quot;</td><td>&quot;CAN&quot;</td><td>70</td><td>185</td><td>&quot;WHL&quot;</td><td>&quot;Regina&quot;</td><td>2023</td><td>&quot;Connor Bedard&quot;</td><td>2025-03-20 12:11:02.902382</td></tr><tr><td>1</td><td>2</td><td>2</td><td>24</td><td>&quot;ANA&quot;</td><td>&quot;Anaheim Ducks&quot;</td><td>&quot;Ducks&quot;</td><td>&quot;Anaheim&quot;</td><td>&quot;ANA&quot;</td><td>&quot;https://assets.nhle.com/logos/…</td><td>&quot;https://assets.nhle.com/logos/…</td><td>&quot;ANA&quot;</td><td>&quot;Leo&quot;</td><td>&quot;Carlsson&quot;</td><td>&quot;C&quot;</td><td>&quot;SWE&quot;</td><td>74</td><td>194</td><td>&quot;SWEDEN&quot;</td><td>&quot;Orebro&quot;</td><td>2023</td><td>&quot;Leo Carlsson&quot;</td><td>2025-03-20 12:11:02.902382</td></tr><tr><td>1</td><td>3</td><td>3</td><td>29</td><td>&quot;CBJ&quot;</td><td>&quot;Columbus Blue Jackets&quot;</td><td>&quot;Blue Jackets&quot;</td><td>&quot;Columbus&quot;</td><td>&quot;CBJ&quot;</td><td>&quot;https://assets.nhle.com/logos/…</td><td>&quot;https://assets.nhle.com/logos/…</td><td>&quot;CBJ&quot;</td><td>&quot;Adam&quot;</td><td>&quot;Fantilli&quot;</td><td>&quot;C&quot;</td><td>&quot;CAN&quot;</td><td>74</td><td>195</td><td>&quot;BIG10&quot;</td><td>&quot;Michigan&quot;</td><td>2023</td><td>&quot;Adam Fantilli&quot;</td><td>2025-03-20 12:11:02.902382</td></tr><tr><td>1</td><td>4</td><td>4</td><td>28</td><td>&quot;SJS&quot;</td><td>&quot;San Jose Sharks&quot;</td><td>&quot;Sharks&quot;</td><td>&quot;San Jose&quot;</td><td>&quot;SJS&quot;</td><td>&quot;https://assets.nhle.com/logos/…</td><td>&quot;https://assets.nhle.com/logos/…</td><td>&quot;SJS&quot;</td><td>&quot;Will&quot;</td><td>&quot;Smith&quot;</td><td>&quot;C&quot;</td><td>&quot;USA&quot;</td><td>72</td><td>180</td><td>&quot;NTDP&quot;</td><td>&quot;USA U-18&quot;</td><td>2023</td><td>&quot;Will Smith&quot;</td><td>2025-03-20 12:11:02.902382</td></tr><tr><td>1</td><td>5</td><td>5</td><td>8</td><td>&quot;MTL&quot;</td><td>&quot;Montréal Canadiens&quot;</td><td>&quot;Canadiens&quot;</td><td>&quot;Montréal&quot;</td><td>&quot;MTL&quot;</td><td>&quot;https://assets.nhle.com/logos/…</td><td>&quot;https://assets.nhle.com/logos/…</td><td>&quot;MTL&quot;</td><td>&quot;David&quot;</td><td>&quot;Reinbacher&quot;</td><td>&quot;D&quot;</td><td>&quot;AUT&quot;</td><td>74</td><td>194</td><td>&quot;SWISS&quot;</td><td>&quot;Kloten&quot;</td><td>2023</td><td>&quot;David Reinbacher&quot;</td><td>2025-03-20 12:11:02.902382</td></tr><tr><td>&hellip;</td><td>&hellip;</td><td>&hellip;</td><td>&hellip;</td><td>&hellip;</td><td>&hellip;</td><td>&hellip;</td><td>&hellip;</td><td>&hellip;</td><td>&hellip;</td><td>&hellip;</td><td>&hellip;</td><td>&hellip;</td><td>&hellip;</td><td>&hellip;</td><td>&hellip;</td><td>&hellip;</td><td>&hellip;</td><td>&hellip;</td><td>&hellip;</td><td>&hellip;</td><td>&hellip;</td><td>&hellip;</td></tr><tr><td>7</td><td>27</td><td>213</td><td>18</td><td>&quot;NSH&quot;</td><td>&quot;Nashville Predators&quot;</td><td>&quot;Predators&quot;</td><td>&quot;Nashville&quot;</td><td>&quot;NSH&quot;</td><td>&quot;https://assets.nhle.com/logos/…</td><td>&quot;https://assets.nhle.com/logos/…</td><td>&quot;NSH&quot;</td><td>&quot;Milan&quot;</td><td>&quot;Kloucek&quot;</td><td>&quot;G&quot;</td><td>&quot;CZE&quot;</td><td>75</td><td>196</td><td>&quot;CZREP&quot;</td><td>&quot;Pardubice&quot;</td><td>2018</td><td>&quot;Milan Kloucek&quot;</td><td>2025-03-20 12:11:02.902382</td></tr><tr><td>7</td><td>28</td><td>214</td><td>14</td><td>&quot;TBL&quot;</td><td>&quot;Tampa Bay Lightning&quot;</td><td>&quot;Lightning&quot;</td><td>&quot;Tampa Bay&quot;</td><td>&quot;TBL&quot;</td><td>&quot;https://assets.nhle.com/logos/…</td><td>&quot;https://assets.nhle.com/logos/…</td><td>&quot;TBL&quot;</td><td>&quot;Ty&quot;</td><td>&quot;Taylor&quot;</td><td>&quot;G&quot;</td><td>&quot;CAN&quot;</td><td>75</td><td>196</td><td>&quot;BCHL&quot;</td><td>&quot;Vernon&quot;</td><td>2018</td><td>&quot;Ty Taylor&quot;</td><td>2025-03-20 12:11:02.902382</td></tr><tr><td>7</td><td>29</td><td>215</td><td>52</td><td>&quot;WPG&quot;</td><td>&quot;Winnipeg Jets&quot;</td><td>&quot;Jets&quot;</td><td>&quot;Winnipeg&quot;</td><td>&quot;WPG&quot;</td><td>&quot;https://assets.nhle.com/logos/…</td><td>&quot;https://assets.nhle.com/logos/…</td><td>&quot;WPG&quot;</td><td>&quot;Austin&quot;</td><td>&quot;Wong&quot;</td><td>&quot;C&quot;</td><td>&quot;CAN&quot;</td><td>70</td><td>189</td><td>&quot;AJHL&quot;</td><td>&quot;Okotoks&quot;</td><td>2018</td><td>&quot;Austin Wong&quot;</td><td>2025-03-20 12:11:02.902382</td></tr><tr><td>7</td><td>30</td><td>216</td><td>3</td><td>&quot;NYR&quot;</td><td>&quot;New York Rangers&quot;</td><td>&quot;Rangers&quot;</td><td>&quot;New York&quot;</td><td>&quot;NYR&quot;</td><td>&quot;https://assets.nhle.com/logos/…</td><td>&quot;https://assets.nhle.com/logos/…</td><td>&quot;VGK-CAR-NYR&quot;</td><td>&quot;Riley&quot;</td><td>&quot;Hughes&quot;</td><td>&quot;RW&quot;</td><td>&quot;USA&quot;</td><td>73</td><td>174</td><td>&quot;HIGH-MA&quot;</td><td>&quot;St. Sebastian&#x27;s School&quot;</td><td>2018</td><td>&quot;Riley Hughes&quot;</td><td>2025-03-20 12:11:02.902382</td></tr><tr><td>7</td><td>31</td><td>217</td><td>15</td><td>&quot;WSH&quot;</td><td>&quot;Washington Capitals&quot;</td><td>&quot;Capitals&quot;</td><td>&quot;Washington&quot;</td><td>&quot;WSH&quot;</td><td>&quot;https://assets.nhle.com/logos/…</td><td>&quot;https://assets.nhle.com/logos/…</td><td>&quot;WSH&quot;</td><td>&quot;Eric&quot;</td><td>&quot;Florchuk&quot;</td><td>&quot;C&quot;</td><td>&quot;CAN&quot;</td><td>73</td><td>175</td><td>&quot;WHL&quot;</td><td>&quot;Saskatoon&quot;</td><td>2018</td><td>&quot;Eric Florchuk&quot;</td><td>2025-03-20 12:11:02.902382</td></tr></tbody></table></div>"
      ],
      "text/plain": [
       "shape: (3_235, 23)\n",
       "┌───────┬─────────────┬────────────┬────────┬───┬────────────┬───────────┬────────────┬────────────┐\n",
       "│ round ┆ pickInRound ┆ overallPic ┆ teamId ┆ … ┆ amateurClu ┆ draftYear ┆ fullName   ┆ meta_datet │\n",
       "│ ---   ┆ ---         ┆ k          ┆ ---    ┆   ┆ bName      ┆ ---       ┆ ---        ┆ ime        │\n",
       "│ i64   ┆ i64         ┆ ---        ┆ i64    ┆   ┆ ---        ┆ i64       ┆ str        ┆ ---        │\n",
       "│       ┆             ┆ i64        ┆        ┆   ┆ str        ┆           ┆            ┆ datetime[μ │\n",
       "│       ┆             ┆            ┆        ┆   ┆            ┆           ┆            ┆ s]         │\n",
       "╞═══════╪═════════════╪════════════╪════════╪═══╪════════════╪═══════════╪════════════╪════════════╡\n",
       "│ 1     ┆ 1           ┆ 1          ┆ 16     ┆ … ┆ Regina     ┆ 2023      ┆ Connor     ┆ 2025-03-20 │\n",
       "│       ┆             ┆            ┆        ┆   ┆            ┆           ┆ Bedard     ┆ 12:11:02.9 │\n",
       "│       ┆             ┆            ┆        ┆   ┆            ┆           ┆            ┆ 02382      │\n",
       "│ 1     ┆ 2           ┆ 2          ┆ 24     ┆ … ┆ Orebro     ┆ 2023      ┆ Leo        ┆ 2025-03-20 │\n",
       "│       ┆             ┆            ┆        ┆   ┆            ┆           ┆ Carlsson   ┆ 12:11:02.9 │\n",
       "│       ┆             ┆            ┆        ┆   ┆            ┆           ┆            ┆ 02382      │\n",
       "│ 1     ┆ 3           ┆ 3          ┆ 29     ┆ … ┆ Michigan   ┆ 2023      ┆ Adam       ┆ 2025-03-20 │\n",
       "│       ┆             ┆            ┆        ┆   ┆            ┆           ┆ Fantilli   ┆ 12:11:02.9 │\n",
       "│       ┆             ┆            ┆        ┆   ┆            ┆           ┆            ┆ 02382      │\n",
       "│ 1     ┆ 4           ┆ 4          ┆ 28     ┆ … ┆ USA U-18   ┆ 2023      ┆ Will Smith ┆ 2025-03-20 │\n",
       "│       ┆             ┆            ┆        ┆   ┆            ┆           ┆            ┆ 12:11:02.9 │\n",
       "│       ┆             ┆            ┆        ┆   ┆            ┆           ┆            ┆ 02382      │\n",
       "│ 1     ┆ 5           ┆ 5          ┆ 8      ┆ … ┆ Kloten     ┆ 2023      ┆ David      ┆ 2025-03-20 │\n",
       "│       ┆             ┆            ┆        ┆   ┆            ┆           ┆ Reinbacher ┆ 12:11:02.9 │\n",
       "│       ┆             ┆            ┆        ┆   ┆            ┆           ┆            ┆ 02382      │\n",
       "│ …     ┆ …           ┆ …          ┆ …      ┆ … ┆ …          ┆ …         ┆ …          ┆ …          │\n",
       "│ 7     ┆ 27          ┆ 213        ┆ 18     ┆ … ┆ Pardubice  ┆ 2018      ┆ Milan      ┆ 2025-03-20 │\n",
       "│       ┆             ┆            ┆        ┆   ┆            ┆           ┆ Kloucek    ┆ 12:11:02.9 │\n",
       "│       ┆             ┆            ┆        ┆   ┆            ┆           ┆            ┆ 02382      │\n",
       "│ 7     ┆ 28          ┆ 214        ┆ 14     ┆ … ┆ Vernon     ┆ 2018      ┆ Ty Taylor  ┆ 2025-03-20 │\n",
       "│       ┆             ┆            ┆        ┆   ┆            ┆           ┆            ┆ 12:11:02.9 │\n",
       "│       ┆             ┆            ┆        ┆   ┆            ┆           ┆            ┆ 02382      │\n",
       "│ 7     ┆ 29          ┆ 215        ┆ 52     ┆ … ┆ Okotoks    ┆ 2018      ┆ Austin     ┆ 2025-03-20 │\n",
       "│       ┆             ┆            ┆        ┆   ┆            ┆           ┆ Wong       ┆ 12:11:02.9 │\n",
       "│       ┆             ┆            ┆        ┆   ┆            ┆           ┆            ┆ 02382      │\n",
       "│ 7     ┆ 30          ┆ 216        ┆ 3      ┆ … ┆ St. Sebast ┆ 2018      ┆ Riley      ┆ 2025-03-20 │\n",
       "│       ┆             ┆            ┆        ┆   ┆ ian's      ┆           ┆ Hughes     ┆ 12:11:02.9 │\n",
       "│       ┆             ┆            ┆        ┆   ┆ School     ┆           ┆            ┆ 02382      │\n",
       "│ 7     ┆ 31          ┆ 217        ┆ 15     ┆ … ┆ Saskatoon  ┆ 2018      ┆ Eric       ┆ 2025-03-20 │\n",
       "│       ┆             ┆            ┆        ┆   ┆            ┆           ┆ Florchuk   ┆ 12:11:02.9 │\n",
       "│       ┆             ┆            ┆        ┆   ┆            ┆           ┆            ┆ 02382      │\n",
       "└───────┴─────────────┴────────────┴────────┴───┴────────────┴───────────┴────────────┴────────────┘"
      ]
     },
     "execution_count": 71,
     "metadata": {},
     "output_type": "execute_result"
    }
   ],
   "source": [
    "await scraper.scrape_draft(years=[i for i in range(2010, 2025)])"
   ]
  },
  {
   "cell_type": "code",
   "execution_count": 62,
   "metadata": {},
   "outputs": [
    {
     "name": "stderr",
     "output_type": "stream",
     "text": [
      "Scraping NHL Team Schedule: 100%|██████████| 1/1 [00:01<00:00,  1.44s/it]\n"
     ]
    },
    {
     "data": {
      "text/html": [
       "<div><style>\n",
       ".dataframe > thead > tr,\n",
       ".dataframe > tbody > tr {\n",
       "  text-align: right;\n",
       "  white-space: pre-wrap;\n",
       "}\n",
       "</style>\n",
       "<small>shape: (88, 36)</small><table border=\"1\" class=\"dataframe\"><thead><tr><th>id</th><th>season</th><th>gameType</th><th>gameDate</th><th>venue</th><th>neutralSite</th><th>startTimeUTC</th><th>easternUTCOffset</th><th>venueUTCOffset</th><th>venueTimezone</th><th>gameState</th><th>gameScheduleState</th><th>gameOutcome</th><th>team_key</th><th>season_key</th><th>awayTeamId</th><th>homeTeamId</th><th>awayTeamScore</th><th>homeTeamScore</th><th>awayTeamCommonName</th><th>homeTeamCommonName</th><th>placeNameHome</th><th>placeNameAway</th><th>awayTeamAbbrev</th><th>homeTeamAbbrev</th><th>awayTeamLogo</th><th>homeTeamLogo</th><th>awayTeamDarkLogo</th><th>homeTeamDarkLogo</th><th>winningGoalieId</th><th>winningGoalieFirstInitial</th><th>winningGoalieLastName</th><th>winningGoalScorerId</th><th>winningGoalScorerFirstInitial</th><th>winningGoalScorerLastName</th><th>meta_datetime</th></tr><tr><td>i64</td><td>i64</td><td>i64</td><td>date</td><td>str</td><td>bool</td><td>str</td><td>str</td><td>str</td><td>str</td><td>str</td><td>str</td><td>str</td><td>str</td><td>i64</td><td>i64</td><td>i64</td><td>i64</td><td>i64</td><td>str</td><td>str</td><td>str</td><td>str</td><td>str</td><td>str</td><td>str</td><td>str</td><td>str</td><td>str</td><td>i64</td><td>str</td><td>str</td><td>i64</td><td>str</td><td>str</td><td>datetime[μs]</td></tr></thead><tbody><tr><td>2024010015</td><td>20242025</td><td>1</td><td>2024-09-23</td><td>&quot;Centre Bell&quot;</td><td>false</td><td>&quot;2024-09-23T23:00:00Z&quot;</td><td>&quot;-04:00&quot;</td><td>&quot;-04:00&quot;</td><td>&quot;America/Montreal&quot;</td><td>&quot;FINAL&quot;</td><td>&quot;OK&quot;</td><td>&quot;REG&quot;</td><td>&quot;MTL&quot;</td><td>20242025</td><td>4</td><td>8</td><td>0</td><td>5</td><td>&quot;Flyers&quot;</td><td>&quot;Canadiens&quot;</td><td>&quot;Philadelphia&quot;</td><td>&quot;Montréal&quot;</td><td>&quot;PHI&quot;</td><td>&quot;MTL&quot;</td><td>&quot;https://assets.nhle.com/logos/…</td><td>&quot;https://assets.nhle.com/logos/…</td><td>&quot;https://assets.nhle.com/logos/…</td><td>&quot;https://assets.nhle.com/logos/…</td><td>8480051</td><td>&quot;C.&quot;</td><td>&quot;Primeau&quot;</td><td>8482134</td><td>&quot;L.&quot;</td><td>&quot;Tuch&quot;</td><td>2025-03-20 06:39:38.996575</td></tr><tr><td>2024010022</td><td>20242025</td><td>1</td><td>2024-09-24</td><td>&quot;Centre Bell&quot;</td><td>false</td><td>&quot;2024-09-24T23:00:00Z&quot;</td><td>&quot;-04:00&quot;</td><td>&quot;-04:00&quot;</td><td>&quot;America/Montreal&quot;</td><td>&quot;FINAL&quot;</td><td>&quot;OK&quot;</td><td>&quot;REG&quot;</td><td>&quot;MTL&quot;</td><td>20242025</td><td>1</td><td>8</td><td>0</td><td>3</td><td>&quot;Devils&quot;</td><td>&quot;Canadiens&quot;</td><td>&quot;New Jersey&quot;</td><td>&quot;Montréal&quot;</td><td>&quot;NJD&quot;</td><td>&quot;MTL&quot;</td><td>&quot;https://assets.nhle.com/logos/…</td><td>&quot;https://assets.nhle.com/logos/…</td><td>&quot;https://assets.nhle.com/logos/…</td><td>&quot;https://assets.nhle.com/logos/…</td><td>8478470</td><td>&quot;S.&quot;</td><td>&quot;Montembeault&quot;</td><td>8479543</td><td>&quot;M.&quot;</td><td>&quot;Pezzetta&quot;</td><td>2025-03-20 06:39:38.996575</td></tr><tr><td>2024010038</td><td>20242025</td><td>1</td><td>2024-09-26</td><td>&quot;Scotiabank Arena&quot;</td><td>false</td><td>&quot;2024-09-26T23:00:00Z&quot;</td><td>&quot;-04:00&quot;</td><td>&quot;-04:00&quot;</td><td>&quot;America/Toronto&quot;</td><td>&quot;FINAL&quot;</td><td>&quot;OK&quot;</td><td>&quot;REG&quot;</td><td>&quot;MTL&quot;</td><td>20242025</td><td>8</td><td>10</td><td>1</td><td>2</td><td>&quot;Canadiens&quot;</td><td>&quot;Maple Leafs&quot;</td><td>&quot;Montréal&quot;</td><td>&quot;Toronto&quot;</td><td>&quot;MTL&quot;</td><td>&quot;TOR&quot;</td><td>&quot;https://assets.nhle.com/logos/…</td><td>&quot;https://assets.nhle.com/logos/…</td><td>&quot;https://assets.nhle.com/logos/…</td><td>&quot;https://assets.nhle.com/logos/…</td><td>8476932</td><td>&quot;A.&quot;</td><td>&quot;Stolarz&quot;</td><td>8481582</td><td>&quot;N.&quot;</td><td>&quot;Robertson&quot;</td><td>2025-03-20 06:39:38.996575</td></tr><tr><td>2024010055</td><td>20242025</td><td>1</td><td>2024-09-28</td><td>&quot;Centre Bell&quot;</td><td>false</td><td>&quot;2024-09-28T23:00:00Z&quot;</td><td>&quot;-04:00&quot;</td><td>&quot;-04:00&quot;</td><td>&quot;America/Montreal&quot;</td><td>&quot;FINAL&quot;</td><td>&quot;OK&quot;</td><td>&quot;REG&quot;</td><td>&quot;MTL&quot;</td><td>20242025</td><td>10</td><td>8</td><td>2</td><td>1</td><td>&quot;Maple Leafs&quot;</td><td>&quot;Canadiens&quot;</td><td>&quot;Toronto&quot;</td><td>&quot;Montréal&quot;</td><td>&quot;TOR&quot;</td><td>&quot;MTL&quot;</td><td>&quot;https://assets.nhle.com/logos/…</td><td>&quot;https://assets.nhle.com/logos/…</td><td>&quot;https://assets.nhle.com/logos/…</td><td>&quot;https://assets.nhle.com/logos/…</td><td>8483710</td><td>&quot;D.&quot;</td><td>&quot;Hildeby&quot;</td><td>8481582</td><td>&quot;N.&quot;</td><td>&quot;Robertson&quot;</td><td>2025-03-20 06:39:38.996575</td></tr><tr><td>2024010073</td><td>20242025</td><td>1</td><td>2024-10-01</td><td>&quot;Centre Bell&quot;</td><td>false</td><td>&quot;2024-10-01T23:00:00Z&quot;</td><td>&quot;-04:00&quot;</td><td>&quot;-04:00&quot;</td><td>&quot;America/Montreal&quot;</td><td>&quot;FINAL&quot;</td><td>&quot;OK&quot;</td><td>&quot;REG&quot;</td><td>&quot;MTL&quot;</td><td>20242025</td><td>9</td><td>8</td><td>4</td><td>3</td><td>&quot;Senators&quot;</td><td>&quot;Canadiens&quot;</td><td>&quot;Ottawa&quot;</td><td>&quot;Montréal&quot;</td><td>&quot;OTT&quot;</td><td>&quot;MTL&quot;</td><td>&quot;https://assets.nhle.com/logos/…</td><td>&quot;https://assets.nhle.com/logos/…</td><td>&quot;https://assets.nhle.com/logos/…</td><td>&quot;https://assets.nhle.com/logos/…</td><td>8476999</td><td>&quot;L.&quot;</td><td>&quot;Ullmark&quot;</td><td>8484759</td><td>&quot;C.&quot;</td><td>&quot;Yakemchuk&quot;</td><td>2025-03-20 06:39:38.996575</td></tr><tr><td>&hellip;</td><td>&hellip;</td><td>&hellip;</td><td>&hellip;</td><td>&hellip;</td><td>&hellip;</td><td>&hellip;</td><td>&hellip;</td><td>&hellip;</td><td>&hellip;</td><td>&hellip;</td><td>&hellip;</td><td>&hellip;</td><td>&hellip;</td><td>&hellip;</td><td>&hellip;</td><td>&hellip;</td><td>&hellip;</td><td>&hellip;</td><td>&hellip;</td><td>&hellip;</td><td>&hellip;</td><td>&hellip;</td><td>&hellip;</td><td>&hellip;</td><td>&hellip;</td><td>&hellip;</td><td>&hellip;</td><td>&hellip;</td><td>&hellip;</td><td>&hellip;</td><td>&hellip;</td><td>&hellip;</td><td>&hellip;</td><td>&hellip;</td><td>&hellip;</td></tr><tr><td>2024021236</td><td>20242025</td><td>2</td><td>2025-04-08</td><td>&quot;Centre Bell&quot;</td><td>false</td><td>&quot;2025-04-08T23:00:00Z&quot;</td><td>&quot;-04:00&quot;</td><td>&quot;-04:00&quot;</td><td>&quot;America/Montreal&quot;</td><td>&quot;FUT&quot;</td><td>&quot;OK&quot;</td><td>null</td><td>&quot;MTL&quot;</td><td>20242025</td><td>17</td><td>8</td><td>null</td><td>null</td><td>&quot;Red Wings&quot;</td><td>&quot;Canadiens&quot;</td><td>&quot;Detroit&quot;</td><td>&quot;Montréal&quot;</td><td>&quot;DET&quot;</td><td>&quot;MTL&quot;</td><td>&quot;https://assets.nhle.com/logos/…</td><td>&quot;https://assets.nhle.com/logos/…</td><td>&quot;https://assets.nhle.com/logos/…</td><td>&quot;https://assets.nhle.com/logos/…</td><td>null</td><td>null</td><td>null</td><td>null</td><td>null</td><td>null</td><td>2025-03-20 06:39:38.996575</td></tr><tr><td>2024021260</td><td>20242025</td><td>2</td><td>2025-04-11</td><td>&quot;Canadian Tire Centre&quot;</td><td>false</td><td>&quot;2025-04-11T23:00:00Z&quot;</td><td>&quot;-04:00&quot;</td><td>&quot;-04:00&quot;</td><td>&quot;US/Eastern&quot;</td><td>&quot;FUT&quot;</td><td>&quot;OK&quot;</td><td>null</td><td>&quot;MTL&quot;</td><td>20242025</td><td>8</td><td>9</td><td>null</td><td>null</td><td>&quot;Canadiens&quot;</td><td>&quot;Senators&quot;</td><td>&quot;Montréal&quot;</td><td>&quot;Ottawa&quot;</td><td>&quot;MTL&quot;</td><td>&quot;OTT&quot;</td><td>&quot;https://assets.nhle.com/logos/…</td><td>&quot;https://assets.nhle.com/logos/…</td><td>&quot;https://assets.nhle.com/logos/…</td><td>&quot;https://assets.nhle.com/logos/…</td><td>null</td><td>null</td><td>null</td><td>null</td><td>null</td><td>null</td><td>2025-03-20 06:39:38.996575</td></tr><tr><td>2024021269</td><td>20242025</td><td>2</td><td>2025-04-12</td><td>&quot;Scotiabank Arena&quot;</td><td>false</td><td>&quot;2025-04-12T23:00:00Z&quot;</td><td>&quot;-04:00&quot;</td><td>&quot;-04:00&quot;</td><td>&quot;America/Toronto&quot;</td><td>&quot;FUT&quot;</td><td>&quot;OK&quot;</td><td>null</td><td>&quot;MTL&quot;</td><td>20242025</td><td>8</td><td>10</td><td>null</td><td>null</td><td>&quot;Canadiens&quot;</td><td>&quot;Maple Leafs&quot;</td><td>&quot;Montréal&quot;</td><td>&quot;Toronto&quot;</td><td>&quot;MTL&quot;</td><td>&quot;TOR&quot;</td><td>&quot;https://assets.nhle.com/logos/…</td><td>&quot;https://assets.nhle.com/logos/…</td><td>&quot;https://assets.nhle.com/logos/…</td><td>&quot;https://assets.nhle.com/logos/…</td><td>null</td><td>null</td><td>null</td><td>null</td><td>null</td><td>null</td><td>2025-03-20 06:39:38.996575</td></tr><tr><td>2024021285</td><td>20242025</td><td>2</td><td>2025-04-14</td><td>&quot;Centre Bell&quot;</td><td>false</td><td>&quot;2025-04-14T23:00:00Z&quot;</td><td>&quot;-04:00&quot;</td><td>&quot;-04:00&quot;</td><td>&quot;America/Montreal&quot;</td><td>&quot;FUT&quot;</td><td>&quot;OK&quot;</td><td>null</td><td>&quot;MTL&quot;</td><td>20242025</td><td>16</td><td>8</td><td>null</td><td>null</td><td>&quot;Blackhawks&quot;</td><td>&quot;Canadiens&quot;</td><td>&quot;Chicago&quot;</td><td>&quot;Montréal&quot;</td><td>&quot;CHI&quot;</td><td>&quot;MTL&quot;</td><td>&quot;https://assets.nhle.com/logos/…</td><td>&quot;https://assets.nhle.com/logos/…</td><td>&quot;https://assets.nhle.com/logos/…</td><td>&quot;https://assets.nhle.com/logos/…</td><td>null</td><td>null</td><td>null</td><td>null</td><td>null</td><td>null</td><td>2025-03-20 06:39:38.996575</td></tr><tr><td>2024021301</td><td>20242025</td><td>2</td><td>2025-04-16</td><td>&quot;Centre Bell&quot;</td><td>false</td><td>&quot;2025-04-16T23:00:00Z&quot;</td><td>&quot;-04:00&quot;</td><td>&quot;-04:00&quot;</td><td>&quot;America/Montreal&quot;</td><td>&quot;FUT&quot;</td><td>&quot;OK&quot;</td><td>null</td><td>&quot;MTL&quot;</td><td>20242025</td><td>12</td><td>8</td><td>null</td><td>null</td><td>&quot;Hurricanes&quot;</td><td>&quot;Canadiens&quot;</td><td>&quot;Carolina&quot;</td><td>&quot;Montréal&quot;</td><td>&quot;CAR&quot;</td><td>&quot;MTL&quot;</td><td>&quot;https://assets.nhle.com/logos/…</td><td>&quot;https://assets.nhle.com/logos/…</td><td>&quot;https://assets.nhle.com/logos/…</td><td>&quot;https://assets.nhle.com/logos/…</td><td>null</td><td>null</td><td>null</td><td>null</td><td>null</td><td>null</td><td>2025-03-20 06:39:38.996575</td></tr></tbody></table></div>"
      ],
      "text/plain": [
       "shape: (88, 36)\n",
       "┌────────────┬──────────┬──────────┬───────────┬───┬───────────┬───────────┬───────────┬───────────┐\n",
       "│ id         ┆ season   ┆ gameType ┆ gameDate  ┆ … ┆ winningGo ┆ winningGo ┆ winningGo ┆ meta_date │\n",
       "│ ---        ┆ ---      ┆ ---      ┆ ---       ┆   ┆ alScorerI ┆ alScorerF ┆ alScorerL ┆ time      │\n",
       "│ i64        ┆ i64      ┆ i64      ┆ date      ┆   ┆ d         ┆ irstIniti ┆ astName   ┆ ---       │\n",
       "│            ┆          ┆          ┆           ┆   ┆ ---       ┆ al        ┆ ---       ┆ datetime[ │\n",
       "│            ┆          ┆          ┆           ┆   ┆ i64       ┆ ---       ┆ str       ┆ μs]       │\n",
       "│            ┆          ┆          ┆           ┆   ┆           ┆ str       ┆           ┆           │\n",
       "╞════════════╪══════════╪══════════╪═══════════╪═══╪═══════════╪═══════════╪═══════════╪═══════════╡\n",
       "│ 2024010015 ┆ 20242025 ┆ 1        ┆ 2024-09-2 ┆ … ┆ 8482134   ┆ L.        ┆ Tuch      ┆ 2025-03-2 │\n",
       "│            ┆          ┆          ┆ 3         ┆   ┆           ┆           ┆           ┆ 0 06:39:3 │\n",
       "│            ┆          ┆          ┆           ┆   ┆           ┆           ┆           ┆ 8.996575  │\n",
       "│ 2024010022 ┆ 20242025 ┆ 1        ┆ 2024-09-2 ┆ … ┆ 8479543   ┆ M.        ┆ Pezzetta  ┆ 2025-03-2 │\n",
       "│            ┆          ┆          ┆ 4         ┆   ┆           ┆           ┆           ┆ 0 06:39:3 │\n",
       "│            ┆          ┆          ┆           ┆   ┆           ┆           ┆           ┆ 8.996575  │\n",
       "│ 2024010038 ┆ 20242025 ┆ 1        ┆ 2024-09-2 ┆ … ┆ 8481582   ┆ N.        ┆ Robertson ┆ 2025-03-2 │\n",
       "│            ┆          ┆          ┆ 6         ┆   ┆           ┆           ┆           ┆ 0 06:39:3 │\n",
       "│            ┆          ┆          ┆           ┆   ┆           ┆           ┆           ┆ 8.996575  │\n",
       "│ 2024010055 ┆ 20242025 ┆ 1        ┆ 2024-09-2 ┆ … ┆ 8481582   ┆ N.        ┆ Robertson ┆ 2025-03-2 │\n",
       "│            ┆          ┆          ┆ 8         ┆   ┆           ┆           ┆           ┆ 0 06:39:3 │\n",
       "│            ┆          ┆          ┆           ┆   ┆           ┆           ┆           ┆ 8.996575  │\n",
       "│ 2024010073 ┆ 20242025 ┆ 1        ┆ 2024-10-0 ┆ … ┆ 8484759   ┆ C.        ┆ Yakemchuk ┆ 2025-03-2 │\n",
       "│            ┆          ┆          ┆ 1         ┆   ┆           ┆           ┆           ┆ 0 06:39:3 │\n",
       "│            ┆          ┆          ┆           ┆   ┆           ┆           ┆           ┆ 8.996575  │\n",
       "│ …          ┆ …        ┆ …        ┆ …         ┆ … ┆ …         ┆ …         ┆ …         ┆ …         │\n",
       "│ 2024021236 ┆ 20242025 ┆ 2        ┆ 2025-04-0 ┆ … ┆ null      ┆ null      ┆ null      ┆ 2025-03-2 │\n",
       "│            ┆          ┆          ┆ 8         ┆   ┆           ┆           ┆           ┆ 0 06:39:3 │\n",
       "│            ┆          ┆          ┆           ┆   ┆           ┆           ┆           ┆ 8.996575  │\n",
       "│ 2024021260 ┆ 20242025 ┆ 2        ┆ 2025-04-1 ┆ … ┆ null      ┆ null      ┆ null      ┆ 2025-03-2 │\n",
       "│            ┆          ┆          ┆ 1         ┆   ┆           ┆           ┆           ┆ 0 06:39:3 │\n",
       "│            ┆          ┆          ┆           ┆   ┆           ┆           ┆           ┆ 8.996575  │\n",
       "│ 2024021269 ┆ 20242025 ┆ 2        ┆ 2025-04-1 ┆ … ┆ null      ┆ null      ┆ null      ┆ 2025-03-2 │\n",
       "│            ┆          ┆          ┆ 2         ┆   ┆           ┆           ┆           ┆ 0 06:39:3 │\n",
       "│            ┆          ┆          ┆           ┆   ┆           ┆           ┆           ┆ 8.996575  │\n",
       "│ 2024021285 ┆ 20242025 ┆ 2        ┆ 2025-04-1 ┆ … ┆ null      ┆ null      ┆ null      ┆ 2025-03-2 │\n",
       "│            ┆          ┆          ┆ 4         ┆   ┆           ┆           ┆           ┆ 0 06:39:3 │\n",
       "│            ┆          ┆          ┆           ┆   ┆           ┆           ┆           ┆ 8.996575  │\n",
       "│ 2024021301 ┆ 20242025 ┆ 2        ┆ 2025-04-1 ┆ … ┆ null      ┆ null      ┆ null      ┆ 2025-03-2 │\n",
       "│            ┆          ┆          ┆ 6         ┆   ┆           ┆           ┆           ┆ 0 06:39:3 │\n",
       "│            ┆          ┆          ┆           ┆   ┆           ┆           ┆           ┆ 8.996575  │\n",
       "└────────────┴──────────┴──────────┴───────────┴───┴───────────┴───────────┴───────────┴───────────┘"
      ]
     },
     "execution_count": 62,
     "metadata": {},
     "output_type": "execute_result"
    }
   ],
   "source": [
    "df = await scraper.scrape_team_schedule(team=\"MTL\", season=20242025)\n",
    "\n",
    "df"
   ]
  },
  {
   "cell_type": "code",
   "execution_count": 82,
   "metadata": {},
   "outputs": [
    {
     "name": "stderr",
     "output_type": "stream",
     "text": [
      "Scraping NHL Schedule: 100%|██████████| 2/2 [00:00<00:00,  3.73it/s]\n"
     ]
    },
    {
     "data": {
      "text/html": [
       "<div><style>\n",
       ".dataframe > thead > tr,\n",
       ".dataframe > tbody > tr {\n",
       "  text-align: right;\n",
       "  white-space: pre-wrap;\n",
       "}\n",
       "</style>\n",
       "<small>shape: (176, 37)</small><table border=\"1\" class=\"dataframe\"><thead><tr><th>id</th><th>season</th><th>gameType</th><th>gameDate</th><th>venue</th><th>neutralSite</th><th>startTimeUTC</th><th>easternUTCOffset</th><th>venueUTCOffset</th><th>venueTimezone</th><th>gameState</th><th>gameScheduleState</th><th>gameOutcome</th><th>team_key</th><th>season_key</th><th>awayTeamId</th><th>homeTeamId</th><th>awayTeamScore</th><th>homeTeamScore</th><th>awayTeamCommonName</th><th>homeTeamCommonName</th><th>placeNameHome</th><th>placeNameAway</th><th>awayTeamAbbrev</th><th>homeTeamAbbrev</th><th>awayTeamLogo</th><th>homeTeamLogo</th><th>awayTeamDarkLogo</th><th>homeTeamDarkLogo</th><th>winningGoalieId</th><th>winningGoalieFirstInitial</th><th>winningGoalieLastName</th><th>winningGoalScorerId</th><th>winningGoalScorerFirstInitial</th><th>winningGoalScorerLastName</th><th>_gameType</th><th>meta_datetime</th></tr><tr><td>i64</td><td>i64</td><td>i64</td><td>date</td><td>str</td><td>bool</td><td>str</td><td>str</td><td>str</td><td>str</td><td>str</td><td>str</td><td>str</td><td>str</td><td>i64</td><td>i64</td><td>i64</td><td>i64</td><td>i64</td><td>str</td><td>str</td><td>str</td><td>str</td><td>str</td><td>str</td><td>str</td><td>str</td><td>str</td><td>str</td><td>i64</td><td>str</td><td>str</td><td>i64</td><td>str</td><td>str</td><td>str</td><td>datetime[μs]</td></tr></thead><tbody><tr><td>2024010015</td><td>20242025</td><td>1</td><td>2024-09-23</td><td>&quot;Centre Bell&quot;</td><td>false</td><td>&quot;2024-09-23T23:00:00Z&quot;</td><td>&quot;-04:00&quot;</td><td>&quot;-04:00&quot;</td><td>&quot;America/Montreal&quot;</td><td>&quot;FINAL&quot;</td><td>&quot;OK&quot;</td><td>&quot;REG&quot;</td><td>&quot;MTL&quot;</td><td>20242025</td><td>4</td><td>8</td><td>0</td><td>5</td><td>&quot;Flyers&quot;</td><td>&quot;Canadiens&quot;</td><td>&quot;Philadelphia&quot;</td><td>&quot;Montréal&quot;</td><td>&quot;PHI&quot;</td><td>&quot;MTL&quot;</td><td>&quot;https://assets.nhle.com/logos/…</td><td>&quot;https://assets.nhle.com/logos/…</td><td>&quot;https://assets.nhle.com/logos/…</td><td>&quot;https://assets.nhle.com/logos/…</td><td>8480051</td><td>&quot;C.&quot;</td><td>&quot;Primeau&quot;</td><td>8482134</td><td>&quot;L.&quot;</td><td>&quot;Tuch&quot;</td><td>&quot;preseason&quot;</td><td>2025-03-20 12:56:41.619277</td></tr><tr><td>2024010022</td><td>20242025</td><td>1</td><td>2024-09-24</td><td>&quot;Centre Bell&quot;</td><td>false</td><td>&quot;2024-09-24T23:00:00Z&quot;</td><td>&quot;-04:00&quot;</td><td>&quot;-04:00&quot;</td><td>&quot;America/Montreal&quot;</td><td>&quot;FINAL&quot;</td><td>&quot;OK&quot;</td><td>&quot;REG&quot;</td><td>&quot;MTL&quot;</td><td>20242025</td><td>1</td><td>8</td><td>0</td><td>3</td><td>&quot;Devils&quot;</td><td>&quot;Canadiens&quot;</td><td>&quot;New Jersey&quot;</td><td>&quot;Montréal&quot;</td><td>&quot;NJD&quot;</td><td>&quot;MTL&quot;</td><td>&quot;https://assets.nhle.com/logos/…</td><td>&quot;https://assets.nhle.com/logos/…</td><td>&quot;https://assets.nhle.com/logos/…</td><td>&quot;https://assets.nhle.com/logos/…</td><td>8478470</td><td>&quot;S.&quot;</td><td>&quot;Montembeault&quot;</td><td>8479543</td><td>&quot;M.&quot;</td><td>&quot;Pezzetta&quot;</td><td>&quot;preseason&quot;</td><td>2025-03-20 12:56:41.619277</td></tr><tr><td>2024010038</td><td>20242025</td><td>1</td><td>2024-09-26</td><td>&quot;Scotiabank Arena&quot;</td><td>false</td><td>&quot;2024-09-26T23:00:00Z&quot;</td><td>&quot;-04:00&quot;</td><td>&quot;-04:00&quot;</td><td>&quot;America/Toronto&quot;</td><td>&quot;FINAL&quot;</td><td>&quot;OK&quot;</td><td>&quot;REG&quot;</td><td>&quot;MTL&quot;</td><td>20242025</td><td>8</td><td>10</td><td>1</td><td>2</td><td>&quot;Canadiens&quot;</td><td>&quot;Maple Leafs&quot;</td><td>&quot;Montréal&quot;</td><td>&quot;Toronto&quot;</td><td>&quot;MTL&quot;</td><td>&quot;TOR&quot;</td><td>&quot;https://assets.nhle.com/logos/…</td><td>&quot;https://assets.nhle.com/logos/…</td><td>&quot;https://assets.nhle.com/logos/…</td><td>&quot;https://assets.nhle.com/logos/…</td><td>8476932</td><td>&quot;A.&quot;</td><td>&quot;Stolarz&quot;</td><td>8481582</td><td>&quot;N.&quot;</td><td>&quot;Robertson&quot;</td><td>&quot;preseason&quot;</td><td>2025-03-20 12:56:41.619277</td></tr><tr><td>2024010055</td><td>20242025</td><td>1</td><td>2024-09-28</td><td>&quot;Centre Bell&quot;</td><td>false</td><td>&quot;2024-09-28T23:00:00Z&quot;</td><td>&quot;-04:00&quot;</td><td>&quot;-04:00&quot;</td><td>&quot;America/Montreal&quot;</td><td>&quot;FINAL&quot;</td><td>&quot;OK&quot;</td><td>&quot;REG&quot;</td><td>&quot;MTL&quot;</td><td>20242025</td><td>10</td><td>8</td><td>2</td><td>1</td><td>&quot;Maple Leafs&quot;</td><td>&quot;Canadiens&quot;</td><td>&quot;Toronto&quot;</td><td>&quot;Montréal&quot;</td><td>&quot;TOR&quot;</td><td>&quot;MTL&quot;</td><td>&quot;https://assets.nhle.com/logos/…</td><td>&quot;https://assets.nhle.com/logos/…</td><td>&quot;https://assets.nhle.com/logos/…</td><td>&quot;https://assets.nhle.com/logos/…</td><td>8483710</td><td>&quot;D.&quot;</td><td>&quot;Hildeby&quot;</td><td>8481582</td><td>&quot;N.&quot;</td><td>&quot;Robertson&quot;</td><td>&quot;preseason&quot;</td><td>2025-03-20 12:56:41.619277</td></tr><tr><td>2024010073</td><td>20242025</td><td>1</td><td>2024-10-01</td><td>&quot;Centre Bell&quot;</td><td>false</td><td>&quot;2024-10-01T23:00:00Z&quot;</td><td>&quot;-04:00&quot;</td><td>&quot;-04:00&quot;</td><td>&quot;America/Montreal&quot;</td><td>&quot;FINAL&quot;</td><td>&quot;OK&quot;</td><td>&quot;REG&quot;</td><td>&quot;MTL&quot;</td><td>20242025</td><td>9</td><td>8</td><td>4</td><td>3</td><td>&quot;Senators&quot;</td><td>&quot;Canadiens&quot;</td><td>&quot;Ottawa&quot;</td><td>&quot;Montréal&quot;</td><td>&quot;OTT&quot;</td><td>&quot;MTL&quot;</td><td>&quot;https://assets.nhle.com/logos/…</td><td>&quot;https://assets.nhle.com/logos/…</td><td>&quot;https://assets.nhle.com/logos/…</td><td>&quot;https://assets.nhle.com/logos/…</td><td>8476999</td><td>&quot;L.&quot;</td><td>&quot;Ullmark&quot;</td><td>8484759</td><td>&quot;C.&quot;</td><td>&quot;Yakemchuk&quot;</td><td>&quot;preseason&quot;</td><td>2025-03-20 12:56:41.619277</td></tr><tr><td>&hellip;</td><td>&hellip;</td><td>&hellip;</td><td>&hellip;</td><td>&hellip;</td><td>&hellip;</td><td>&hellip;</td><td>&hellip;</td><td>&hellip;</td><td>&hellip;</td><td>&hellip;</td><td>&hellip;</td><td>&hellip;</td><td>&hellip;</td><td>&hellip;</td><td>&hellip;</td><td>&hellip;</td><td>&hellip;</td><td>&hellip;</td><td>&hellip;</td><td>&hellip;</td><td>&hellip;</td><td>&hellip;</td><td>&hellip;</td><td>&hellip;</td><td>&hellip;</td><td>&hellip;</td><td>&hellip;</td><td>&hellip;</td><td>&hellip;</td><td>&hellip;</td><td>&hellip;</td><td>&hellip;</td><td>&hellip;</td><td>&hellip;</td><td>&hellip;</td><td>&hellip;</td></tr><tr><td>2024021245</td><td>20242025</td><td>2</td><td>2025-04-09</td><td>&quot;Amalie Arena&quot;</td><td>false</td><td>&quot;2025-04-09T23:00:00Z&quot;</td><td>&quot;-04:00&quot;</td><td>&quot;-04:00&quot;</td><td>&quot;US/Eastern&quot;</td><td>&quot;FUT&quot;</td><td>&quot;OK&quot;</td><td>null</td><td>&quot;TOR&quot;</td><td>20242025</td><td>10</td><td>14</td><td>null</td><td>null</td><td>&quot;Maple Leafs&quot;</td><td>&quot;Lightning&quot;</td><td>&quot;Toronto&quot;</td><td>&quot;Tampa Bay&quot;</td><td>&quot;TOR&quot;</td><td>&quot;TBL&quot;</td><td>&quot;https://assets.nhle.com/logos/…</td><td>&quot;https://assets.nhle.com/logos/…</td><td>&quot;https://assets.nhle.com/logos/…</td><td>&quot;https://assets.nhle.com/logos/…</td><td>null</td><td>null</td><td>null</td><td>null</td><td>null</td><td>null</td><td>&quot;regular&quot;</td><td>2025-03-20 12:56:41.619277</td></tr><tr><td>2024021269</td><td>20242025</td><td>2</td><td>2025-04-12</td><td>&quot;Scotiabank Arena&quot;</td><td>false</td><td>&quot;2025-04-12T23:00:00Z&quot;</td><td>&quot;-04:00&quot;</td><td>&quot;-04:00&quot;</td><td>&quot;America/Toronto&quot;</td><td>&quot;FUT&quot;</td><td>&quot;OK&quot;</td><td>null</td><td>&quot;TOR&quot;</td><td>20242025</td><td>8</td><td>10</td><td>null</td><td>null</td><td>&quot;Canadiens&quot;</td><td>&quot;Maple Leafs&quot;</td><td>&quot;Montréal&quot;</td><td>&quot;Toronto&quot;</td><td>&quot;MTL&quot;</td><td>&quot;TOR&quot;</td><td>&quot;https://assets.nhle.com/logos/…</td><td>&quot;https://assets.nhle.com/logos/…</td><td>&quot;https://assets.nhle.com/logos/…</td><td>&quot;https://assets.nhle.com/logos/…</td><td>null</td><td>null</td><td>null</td><td>null</td><td>null</td><td>null</td><td>&quot;regular&quot;</td><td>2025-03-20 12:56:41.619277</td></tr><tr><td>2024021279</td><td>20242025</td><td>2</td><td>2025-04-13</td><td>&quot;Lenovo Center&quot;</td><td>false</td><td>&quot;2025-04-13T21:00:00Z&quot;</td><td>&quot;-04:00&quot;</td><td>&quot;-04:00&quot;</td><td>&quot;US/Eastern&quot;</td><td>&quot;FUT&quot;</td><td>&quot;OK&quot;</td><td>null</td><td>&quot;TOR&quot;</td><td>20242025</td><td>10</td><td>12</td><td>null</td><td>null</td><td>&quot;Maple Leafs&quot;</td><td>&quot;Hurricanes&quot;</td><td>&quot;Toronto&quot;</td><td>&quot;Carolina&quot;</td><td>&quot;TOR&quot;</td><td>&quot;CAR&quot;</td><td>&quot;https://assets.nhle.com/logos/…</td><td>&quot;https://assets.nhle.com/logos/…</td><td>&quot;https://assets.nhle.com/logos/…</td><td>&quot;https://assets.nhle.com/logos/…</td><td>null</td><td>null</td><td>null</td><td>null</td><td>null</td><td>null</td><td>&quot;regular&quot;</td><td>2025-03-20 12:56:41.619277</td></tr><tr><td>2024021292</td><td>20242025</td><td>2</td><td>2025-04-15</td><td>&quot;KeyBank Center&quot;</td><td>false</td><td>&quot;2025-04-15T23:00:00Z&quot;</td><td>&quot;-04:00&quot;</td><td>&quot;-04:00&quot;</td><td>&quot;America/New_York&quot;</td><td>&quot;FUT&quot;</td><td>&quot;OK&quot;</td><td>null</td><td>&quot;TOR&quot;</td><td>20242025</td><td>10</td><td>7</td><td>null</td><td>null</td><td>&quot;Maple Leafs&quot;</td><td>&quot;Sabres&quot;</td><td>&quot;Toronto&quot;</td><td>&quot;Buffalo&quot;</td><td>&quot;TOR&quot;</td><td>&quot;BUF&quot;</td><td>&quot;https://assets.nhle.com/logos/…</td><td>&quot;https://assets.nhle.com/logos/…</td><td>&quot;https://assets.nhle.com/logos/…</td><td>&quot;https://assets.nhle.com/logos/…</td><td>null</td><td>null</td><td>null</td><td>null</td><td>null</td><td>null</td><td>&quot;regular&quot;</td><td>2025-03-20 12:56:41.619277</td></tr><tr><td>2024021308</td><td>20242025</td><td>2</td><td>2025-04-17</td><td>&quot;Scotiabank Arena&quot;</td><td>false</td><td>&quot;2025-04-17T23:00:00Z&quot;</td><td>&quot;-04:00&quot;</td><td>&quot;-04:00&quot;</td><td>&quot;America/Toronto&quot;</td><td>&quot;FUT&quot;</td><td>&quot;OK&quot;</td><td>null</td><td>&quot;TOR&quot;</td><td>20242025</td><td>17</td><td>10</td><td>null</td><td>null</td><td>&quot;Red Wings&quot;</td><td>&quot;Maple Leafs&quot;</td><td>&quot;Detroit&quot;</td><td>&quot;Toronto&quot;</td><td>&quot;DET&quot;</td><td>&quot;TOR&quot;</td><td>&quot;https://assets.nhle.com/logos/…</td><td>&quot;https://assets.nhle.com/logos/…</td><td>&quot;https://assets.nhle.com/logos/…</td><td>&quot;https://assets.nhle.com/logos/…</td><td>null</td><td>null</td><td>null</td><td>null</td><td>null</td><td>null</td><td>&quot;regular&quot;</td><td>2025-03-20 12:56:41.619277</td></tr></tbody></table></div>"
      ],
      "text/plain": [
       "shape: (176, 37)\n",
       "┌────────────┬──────────┬──────────┬───────────┬───┬───────────┬───────────┬───────────┬───────────┐\n",
       "│ id         ┆ season   ┆ gameType ┆ gameDate  ┆ … ┆ winningGo ┆ winningGo ┆ _gameType ┆ meta_date │\n",
       "│ ---        ┆ ---      ┆ ---      ┆ ---       ┆   ┆ alScorerF ┆ alScorerL ┆ ---       ┆ time      │\n",
       "│ i64        ┆ i64      ┆ i64      ┆ date      ┆   ┆ irstIniti ┆ astName   ┆ str       ┆ ---       │\n",
       "│            ┆          ┆          ┆           ┆   ┆ al        ┆ ---       ┆           ┆ datetime[ │\n",
       "│            ┆          ┆          ┆           ┆   ┆ ---       ┆ str       ┆           ┆ μs]       │\n",
       "│            ┆          ┆          ┆           ┆   ┆ str       ┆           ┆           ┆           │\n",
       "╞════════════╪══════════╪══════════╪═══════════╪═══╪═══════════╪═══════════╪═══════════╪═══════════╡\n",
       "│ 2024010015 ┆ 20242025 ┆ 1        ┆ 2024-09-2 ┆ … ┆ L.        ┆ Tuch      ┆ preseason ┆ 2025-03-2 │\n",
       "│            ┆          ┆          ┆ 3         ┆   ┆           ┆           ┆           ┆ 0 12:56:4 │\n",
       "│            ┆          ┆          ┆           ┆   ┆           ┆           ┆           ┆ 1.619277  │\n",
       "│ 2024010022 ┆ 20242025 ┆ 1        ┆ 2024-09-2 ┆ … ┆ M.        ┆ Pezzetta  ┆ preseason ┆ 2025-03-2 │\n",
       "│            ┆          ┆          ┆ 4         ┆   ┆           ┆           ┆           ┆ 0 12:56:4 │\n",
       "│            ┆          ┆          ┆           ┆   ┆           ┆           ┆           ┆ 1.619277  │\n",
       "│ 2024010038 ┆ 20242025 ┆ 1        ┆ 2024-09-2 ┆ … ┆ N.        ┆ Robertson ┆ preseason ┆ 2025-03-2 │\n",
       "│            ┆          ┆          ┆ 6         ┆   ┆           ┆           ┆           ┆ 0 12:56:4 │\n",
       "│            ┆          ┆          ┆           ┆   ┆           ┆           ┆           ┆ 1.619277  │\n",
       "│ 2024010055 ┆ 20242025 ┆ 1        ┆ 2024-09-2 ┆ … ┆ N.        ┆ Robertson ┆ preseason ┆ 2025-03-2 │\n",
       "│            ┆          ┆          ┆ 8         ┆   ┆           ┆           ┆           ┆ 0 12:56:4 │\n",
       "│            ┆          ┆          ┆           ┆   ┆           ┆           ┆           ┆ 1.619277  │\n",
       "│ 2024010073 ┆ 20242025 ┆ 1        ┆ 2024-10-0 ┆ … ┆ C.        ┆ Yakemchuk ┆ preseason ┆ 2025-03-2 │\n",
       "│            ┆          ┆          ┆ 1         ┆   ┆           ┆           ┆           ┆ 0 12:56:4 │\n",
       "│            ┆          ┆          ┆           ┆   ┆           ┆           ┆           ┆ 1.619277  │\n",
       "│ …          ┆ …        ┆ …        ┆ …         ┆ … ┆ …         ┆ …         ┆ …         ┆ …         │\n",
       "│ 2024021245 ┆ 20242025 ┆ 2        ┆ 2025-04-0 ┆ … ┆ null      ┆ null      ┆ regular   ┆ 2025-03-2 │\n",
       "│            ┆          ┆          ┆ 9         ┆   ┆           ┆           ┆           ┆ 0 12:56:4 │\n",
       "│            ┆          ┆          ┆           ┆   ┆           ┆           ┆           ┆ 1.619277  │\n",
       "│ 2024021269 ┆ 20242025 ┆ 2        ┆ 2025-04-1 ┆ … ┆ null      ┆ null      ┆ regular   ┆ 2025-03-2 │\n",
       "│            ┆          ┆          ┆ 2         ┆   ┆           ┆           ┆           ┆ 0 12:56:4 │\n",
       "│            ┆          ┆          ┆           ┆   ┆           ┆           ┆           ┆ 1.619277  │\n",
       "│ 2024021279 ┆ 20242025 ┆ 2        ┆ 2025-04-1 ┆ … ┆ null      ┆ null      ┆ regular   ┆ 2025-03-2 │\n",
       "│            ┆          ┆          ┆ 3         ┆   ┆           ┆           ┆           ┆ 0 12:56:4 │\n",
       "│            ┆          ┆          ┆           ┆   ┆           ┆           ┆           ┆ 1.619277  │\n",
       "│ 2024021292 ┆ 20242025 ┆ 2        ┆ 2025-04-1 ┆ … ┆ null      ┆ null      ┆ regular   ┆ 2025-03-2 │\n",
       "│            ┆          ┆          ┆ 5         ┆   ┆           ┆           ┆           ┆ 0 12:56:4 │\n",
       "│            ┆          ┆          ┆           ┆   ┆           ┆           ┆           ┆ 1.619277  │\n",
       "│ 2024021308 ┆ 20242025 ┆ 2        ┆ 2025-04-1 ┆ … ┆ null      ┆ null      ┆ regular   ┆ 2025-03-2 │\n",
       "│            ┆          ┆          ┆ 7         ┆   ┆           ┆           ┆           ┆ 0 12:56:4 │\n",
       "│            ┆          ┆          ┆           ┆   ┆           ┆           ┆           ┆ 1.619277  │\n",
       "└────────────┴──────────┴──────────┴───────────┴───┴───────────┴───────────┴───────────┴───────────┘"
      ]
     },
     "execution_count": 82,
     "metadata": {},
     "output_type": "execute_result"
    }
   ],
   "source": [
    "await scraper.scrape_schedule(teams=[\"MTL\", \"TOR\"], seasons=[20242025])"
   ]
  },
  {
   "cell_type": "code",
   "execution_count": 118,
   "metadata": {},
   "outputs": [
    {
     "name": "stderr",
     "output_type": "stream",
     "text": [
      "Scraping NHL Teams: 100%|██████████| 1/1 [00:00<00:00,  2.76it/s]\n"
     ]
    },
    {
     "data": {
      "text/html": [
       "<div><style>\n",
       ".dataframe > thead > tr,\n",
       ".dataframe > tbody > tr {\n",
       "  text-align: right;\n",
       "  white-space: pre-wrap;\n",
       "}\n",
       "</style>\n",
       "<small>shape: (32, 1)</small><table border=\"1\" class=\"dataframe\"><thead><tr><th>abbrev</th></tr><tr><td>str</td></tr></thead><tbody><tr><td>&quot;NJD&quot;</td></tr><tr><td>&quot;NYI&quot;</td></tr><tr><td>&quot;NYR&quot;</td></tr><tr><td>&quot;PHI&quot;</td></tr><tr><td>&quot;PIT&quot;</td></tr><tr><td>&hellip;</td></tr><tr><td>&quot;MIN&quot;</td></tr><tr><td>&quot;WPG&quot;</td></tr><tr><td>&quot;VGK&quot;</td></tr><tr><td>&quot;SEA&quot;</td></tr><tr><td>&quot;UTA&quot;</td></tr></tbody></table></div>"
      ],
      "text/plain": [
       "shape: (32, 1)\n",
       "┌────────┐\n",
       "│ abbrev │\n",
       "│ ---    │\n",
       "│ str    │\n",
       "╞════════╡\n",
       "│ NJD    │\n",
       "│ NYI    │\n",
       "│ NYR    │\n",
       "│ PHI    │\n",
       "│ PIT    │\n",
       "│ …      │\n",
       "│ MIN    │\n",
       "│ WPG    │\n",
       "│ VGK    │\n",
       "│ SEA    │\n",
       "│ UTA    │\n",
       "└────────┘"
      ]
     },
     "execution_count": 118,
     "metadata": {},
     "output_type": "execute_result"
    }
   ],
   "source": [
    "scraper = scraper.Scraper()\n",
    "df = await scraper.scrape_teams(\"active\")\n",
    "\n",
    "df.select([\"abbrev\"])"
   ]
  },
  {
   "cell_type": "code",
   "execution_count": null,
   "metadata": {},
   "outputs": [],
   "source": []
  },
  {
   "cell_type": "code",
   "execution_count": null,
   "metadata": {},
   "outputs": [],
   "source": []
  }
 ],
 "metadata": {
  "kernelspec": {
   "display_name": ".venv",
   "language": "python",
   "name": "python3"
  },
  "language_info": {
   "codemirror_mode": {
    "name": "ipython",
    "version": 3
   },
   "file_extension": ".py",
   "mimetype": "text/x-python",
   "name": "python",
   "nbconvert_exporter": "python",
   "pygments_lexer": "ipython3",
   "version": "3.13.1"
  }
 },
 "nbformat": 4,
 "nbformat_minor": 2
}
